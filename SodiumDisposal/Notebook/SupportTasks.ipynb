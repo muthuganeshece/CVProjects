{
 "cells": [
  {
   "cell_type": "code",
   "execution_count": 22,
   "id": "40d7ff33",
   "metadata": {},
   "outputs": [],
   "source": [
    "import os\n",
    "import shutil"
   ]
  },
  {
   "cell_type": "code",
   "execution_count": 8,
   "id": "8c638dbe",
   "metadata": {},
   "outputs": [],
   "source": [
    "root_dir = r\"F:\\Work\\SOCAAutomation\\Dataset\\Images\\Fullset_mod\""
   ]
  },
  {
   "cell_type": "code",
   "execution_count": 9,
   "id": "9132be15",
   "metadata": {},
   "outputs": [],
   "source": [
    "def fast_scandir(dirname):\n",
    "    subfolders= [f.path for f in os.scandir(dirname) if f.is_dir()]\n",
    "    for dirname in list(subfolders):\n",
    "        subfolders.extend(fast_scandir(dirname))\n",
    "    return subfolders"
   ]
  },
  {
   "cell_type": "code",
   "execution_count": 29,
   "id": "b32eacff",
   "metadata": {},
   "outputs": [],
   "source": [
    "subfolders = fast_scandir(root_dir)\n",
    "sub_dir = [folder for folder in subfolders if folder.count(\"\\\\\") == 8 and folder.lower().find(\"sputter\") == -1]"
   ]
  },
  {
   "cell_type": "code",
   "execution_count": 30,
   "id": "36d2da44",
   "metadata": {},
   "outputs": [],
   "source": [
    "dest = root_dir + \"\\\\All\" \n",
    "for folder in sub_dir:\n",
    "    prefix_name = folder.split(\"\\\\\")[-2] + \"_\" + folder.split(\"\\\\\")[-1]\n",
    "    files = os.listdir(folder)\n",
    "    for file in files:\n",
    "        old_dir = folder + \"\\\\\" + file\n",
    "        new_dir = folder + \"\\\\\" + prefix_name.replace(\"-\", \"_\") + \"_\" + file\n",
    "        os.rename(old_dir, new_dir)"
   ]
  },
  {
   "cell_type": "code",
   "execution_count": null,
   "id": "c4232918",
   "metadata": {},
   "outputs": [],
   "source": []
  }
 ],
 "metadata": {
  "kernelspec": {
   "display_name": "Python 3 (ipykernel)",
   "language": "python",
   "name": "python3"
  },
  "language_info": {
   "codemirror_mode": {
    "name": "ipython",
    "version": 3
   },
   "file_extension": ".py",
   "mimetype": "text/x-python",
   "name": "python",
   "nbconvert_exporter": "python",
   "pygments_lexer": "ipython3",
   "version": "3.11.5"
  }
 },
 "nbformat": 4,
 "nbformat_minor": 5
}
