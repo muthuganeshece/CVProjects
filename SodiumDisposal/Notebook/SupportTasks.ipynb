{
 "cells": [
  {
   "cell_type": "code",
   "execution_count": 22,
   "id": "40d7ff33",
   "metadata": {},
   "outputs": [],
   "source": [
    "import os\n",
    "import shutil"
   ]
  },
  {
   "cell_type": "code",
   "execution_count": 8,
   "id": "8c638dbe",
   "metadata": {},
   "outputs": [],
   "source": [
    "root_dir = r\"F:\\Work\\SOCAAutomation\\Dataset\\Images\\Fullset_mod\""
   ]
  },
  {
   "cell_type": "code",
   "execution_count": 9,
   "id": "9132be15",
   "metadata": {},
   "outputs": [],
   "source": [
    "def fast_scandir(dirname):\n",
    "    subfolders= [f.path for f in os.scandir(dirname) if f.is_dir()]\n",
    "    for dirname in list(subfolders):\n",
    "        subfolders.extend(fast_scandir(dirname))\n",
    "    return subfolders"
   ]
  },
  {
   "cell_type": "code",
   "execution_count": 29,
   "id": "b32eacff",
   "metadata": {},
   "outputs": [],
   "source": [
    "subfolders = fast_scandir(root_dir)\n",
    "sub_dir = [folder for folder in subfolders if folder.count(\"\\\\\") == 8 and folder.lower().find(\"sputter\") == -1]"
   ]
  },
  {
   "cell_type": "code",
   "execution_count": 30,
   "id": "36d2da44",
   "metadata": {},
   "outputs": [],
   "source": [
    "dest = root_dir + \"\\\\All\" \n",
    "for folder in sub_dir:\n",
    "    prefix_name = folder.split(\"\\\\\")[-2] + \"_\" + folder.split(\"\\\\\")[-1]\n",
    "    files = os.listdir(folder)\n",
    "    for file in files:\n",
    "        old_dir = folder + \"\\\\\" + file\n",
    "        new_dir = folder + \"\\\\\" + prefix_name.replace(\"-\", \"_\") + \"_\" + file\n",
    "        os.rename(old_dir, new_dir)"
   ]
  },
  {
   "cell_type": "code",
   "execution_count": 2,
   "id": "c4232918",
   "metadata": {},
   "outputs": [
    {
     "name": "stdout",
     "output_type": "stream",
     "text": [
      "Video saved as output_video.mp4\n"
     ]
    }
   ],
   "source": [
    "import cv2\n",
    "import os\n",
    "\n",
    "# Path to the directory containing images\n",
    "image_folder = r\"F:\\Work\\SOCAAutomation\\Dataset\\Images\\Fullset\\04_07_2024\\2024-07-04_11_51_08_772\\4\"\n",
    "output_video = 'output_video.mp4'\n",
    "\n",
    "# Get the list of image filenames (sorted)\n",
    "# images = [img for img in os.listdir(image_folder) if img.endswith(('.png', '.jpg', '.jpeg'))]\n",
    "# images.sort()  # Ensure images are in correct order\n",
    "images = [str(i)+\".jpg\" for i in range(65, 80)]\n",
    "# Read the first image to get dimensions\n",
    "first_image_path = os.path.join(image_folder, images[0])\n",
    "frame = cv2.imread(first_image_path)\n",
    "height, width, layers = frame.shape\n",
    "\n",
    "# Define video codec and create VideoWriter object\n",
    "fourcc = cv2.VideoWriter_fourcc(*'mp4v')  # or use 'mp4v' for .mp4\n",
    "fps = 2  # Set your desired frames per second\n",
    "video = cv2.VideoWriter(output_video, fourcc, fps, (width, height))\n",
    "\n",
    "# Write each image to the video\n",
    "\n",
    "for image in images:\n",
    "    img_path = os.path.join(image_folder, image)\n",
    "    frame = cv2.imread(img_path)\n",
    "    video.write(frame)\n",
    "\n",
    "# Release the video writer\n",
    "video.release()\n",
    "print(f\"Video saved as {output_video}\")"
   ]
  },
  {
   "cell_type": "code",
   "execution_count": null,
   "id": "7d294a2f",
   "metadata": {},
   "outputs": [],
   "source": []
  }
 ],
 "metadata": {
  "kernelspec": {
   "display_name": "Python 3 (ipykernel)",
   "language": "python",
   "name": "python3"
  },
  "language_info": {
   "codemirror_mode": {
    "name": "ipython",
    "version": 3
   },
   "file_extension": ".py",
   "mimetype": "text/x-python",
   "name": "python",
   "nbconvert_exporter": "python",
   "pygments_lexer": "ipython3",
   "version": "3.11.5"
  }
 },
 "nbformat": 4,
 "nbformat_minor": 5
}
