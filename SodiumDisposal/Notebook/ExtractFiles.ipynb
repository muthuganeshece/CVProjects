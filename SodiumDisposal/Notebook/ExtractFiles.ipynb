{
 "cells": [
  {
   "cell_type": "code",
   "execution_count": 1,
   "id": "d9e55455",
   "metadata": {},
   "outputs": [],
   "source": [
    "import os\n",
    "import shutil"
   ]
  },
  {
   "cell_type": "code",
   "execution_count": 2,
   "id": "5b38e916",
   "metadata": {},
   "outputs": [],
   "source": [
    "src = r\"D:\\Muthu\\SodiumDisposal\\NA_DISOPSAL_SOCA_2024\\Fullset\"\n",
    "dst = r\"D:\\Muthu\\SodiumDisposal\\NA_DISOPSAL_SOCA_2024\\Fullset_mod\""
   ]
  },
  {
   "cell_type": "code",
   "execution_count": 14,
   "id": "b6cab170",
   "metadata": {},
   "outputs": [],
   "source": [
    "for f1 in os.listdir(src):\n",
    "    f1_path = os.path.join(src, f1)\n",
    "    for f2 in os.listdir(f1_path):\n",
    "        f2_path = os.path.join(f1_path, f2)\n",
    "        for f3 in os.listdir(f2_path):\n",
    "            f3_path = os.path.join(f2_path, f3)\n",
    "            for f4 in os.listdir(f3_path):\n",
    "                f4_path = os.path.join(f3_path, f4)\n",
    "                if os.path.isdir(f4_path):                    \n",
    "                    dest_path = os.path.join(dst, f1, f2, f3)\n",
    "                    shutil.copytree(f4_path, dest_path) \n",
    "                    #print(f4_path, dest_path)"
   ]
  }
 ],
 "metadata": {
  "kernelspec": {
   "display_name": "Python 3 (ipykernel)",
   "language": "python",
   "name": "python3"
  },
  "language_info": {
   "codemirror_mode": {
    "name": "ipython",
    "version": 3
   },
   "file_extension": ".py",
   "mimetype": "text/x-python",
   "name": "python",
   "nbconvert_exporter": "python",
   "pygments_lexer": "ipython3",
   "version": "3.10.9"
  }
 },
 "nbformat": 4,
 "nbformat_minor": 5
}
