{
 "cells": [
  {
   "cell_type": "code",
   "execution_count": 1,
   "id": "547061c1",
   "metadata": {},
   "outputs": [
    {
     "name": "stdout",
     "output_type": "stream",
     "text": [
      "Creating new Ultralytics Settings v0.0.6 file  \n",
      "View Ultralytics Settings with 'yolo settings' or at 'C:\\Users\\ADMIN\\AppData\\Roaming\\Ultralytics\\settings.json'\n",
      "Update Settings with 'yolo settings key=value', i.e. 'yolo settings runs_dir=path/to/dir'. For help see https://docs.ultralytics.com/quickstart/#ultralytics-settings.\n"
     ]
    }
   ],
   "source": [
    "import numpy as np\n",
    "import cv2 as cv\n",
    "import matplotlib.pyplot as plt\n",
    "import seaborn as sns\n",
    "import os\n",
    "import pandas as pd\n",
    "import math\n",
    "from ultralytics import YOLO\n",
    "from ultralytics.utils.plotting import Annotator, colors"
   ]
  },
  {
   "cell_type": "code",
   "execution_count": null,
   "id": "b2339e9a",
   "metadata": {},
   "outputs": [],
   "source": [
    "Directory = r\"F:\\Work\\SOCAAutomation\\Dataset\\Images\\09072024_1_1\"\n",
    "FileName = \"2024_07_09_11_30_174.jpg\"\n",
    "raw_img = cv.imread(Directory + \"/\" + FileName)\n",
    "img = cv.cvtColor(raw_img, cv.COLOR_BGR2GRAY)\n",
    "img = raw_img"
   ]
  },
  {
   "cell_type": "code",
   "execution_count": 2,
   "id": "d908b358",
   "metadata": {},
   "outputs": [],
   "source": [
    "def resize(frame, width = 640, height = 640):\n",
    "    return cv.resize(frame, (width, height), interpolation = cv.INTER_LINEAR)\n",
    "def InferenceImage(model, frame):\n",
    "    results = model(resize(frame), conf=0.3, save=True, show_labels=False, retina_masks=True)\n",
    "    return results"
   ]
  },
  {
   "cell_type": "markdown",
   "id": "69c712a1",
   "metadata": {},
   "source": [
    "# Visibility Estimation"
   ]
  },
  {
   "cell_type": "code",
   "execution_count": 2,
   "id": "4ce7656a",
   "metadata": {},
   "outputs": [],
   "source": [
    "def edge_detection(img):    \n",
    "    gradx = cv.Sobel(img, cv.CV_64F, 1, 0, ksize=3)\n",
    "    grady = cv.Sobel(img, cv.CV_64F, 0, 1, ksize=3)\n",
    "    return gradx, grady\n",
    "\n",
    "def blurimage(img, kernelsize):\n",
    "    return cv.GaussianBlur(img, (kernelsize, kernelsize), 0)\n",
    "\n",
    "def convertgray(img):    \n",
    "    gray = cv.cvtColor(img, cv.COLOR_BGR2GRAY)\n",
    "    return gray\n",
    "\n",
    "def preprocess(img, kernelsize):\n",
    "    gray_img = convertgray(img)\n",
    "    img_blur = blurimage(gray_img, kernelsize)\n",
    "    gradx, grady = edge_detection(img_blur)\n",
    "    grad_mag = cv.magnitude(gradx, grady)\n",
    "    grad_mag_norm = cv.normalize(grad_mag, None, 0, 255, cv.NORM_MINMAX)\n",
    "    return grad_mag_norm\n",
    "\n",
    "def count_edges(target_img, kernelsize, multiplier):\n",
    "    preprocessed_img = preprocess(target_img, kernelsize)\n",
    "    _, thresh = cv.threshold(preprocessed_img, multiplier * np.median(preprocessed_img), 255, cv.THRESH_BINARY)             \n",
    "    total_edges = np.count_nonzero(thresh)\n",
    "    return total_edges\n",
    "\n",
    "def edge_strength_ratio(ref_edge, target_edge):\n",
    "    return np.round((target_edge / ref_edge),2)"
   ]
  },
  {
   "cell_type": "code",
   "execution_count": null,
   "id": "5954e691",
   "metadata": {},
   "outputs": [],
   "source": [
    "gaussian_kernel = 5\n",
    "multiplier = 5\n",
    "ref_edge = count_edges(ref_image, kernelsize, multiplier)\n",
    "curr_edge = count_edges(image, kernelsize, multiplier)\n",
    "edge_strength = np.round((curr_edge / ref_edge),2)"
   ]
  },
  {
   "cell_type": "code",
   "execution_count": 20,
   "id": "688f7bd0",
   "metadata": {},
   "outputs": [],
   "source": [
    "def calcFrames(start, end, fps, offset=200):\n",
    "    startFrame = (int(start[0]) * 60 + int(start[1])) * fps\n",
    "    endFrame = (int(end[0]) * 60 + int(end[1])) * fps \n",
    "    return startFrame-offset, endFrame+offset"
   ]
  },
  {
   "cell_type": "code",
   "execution_count": 2,
   "id": "eed05c7d",
   "metadata": {},
   "outputs": [
    {
     "ename": "NameError",
     "evalue": "name 'pd' is not defined",
     "output_type": "error",
     "traceback": [
      "\u001b[1;31m---------------------------------------------------------------------------\u001b[0m",
      "\u001b[1;31mNameError\u001b[0m                                 Traceback (most recent call last)",
      "Cell \u001b[1;32mIn[2], line 1\u001b[0m\n\u001b[1;32m----> 1\u001b[0m data \u001b[38;5;241m=\u001b[39m pd\u001b[38;5;241m.\u001b[39mread_csv(\u001b[38;5;124mr\u001b[39m\u001b[38;5;124m\"\u001b[39m\u001b[38;5;124mF:\u001b[39m\u001b[38;5;124m\\\u001b[39m\u001b[38;5;124mWork\u001b[39m\u001b[38;5;124m\\\u001b[39m\u001b[38;5;124mSOCAAutomation\u001b[39m\u001b[38;5;124m\\\u001b[39m\u001b[38;5;124mDataset\u001b[39m\u001b[38;5;124m\\\u001b[39m\u001b[38;5;124mBook1.csv\u001b[39m\u001b[38;5;124m\"\u001b[39m)\n\u001b[0;32m      2\u001b[0m data\u001b[38;5;241m.\u001b[39mhead()\n",
      "\u001b[1;31mNameError\u001b[0m: name 'pd' is not defined"
     ]
    }
   ],
   "source": [
    "data = pd.read_csv(r\"F:\\Work\\SOCAAutomation\\Dataset\\Book1.csv\")\n",
    "data.head()"
   ]
  },
  {
   "cell_type": "markdown",
   "id": "79e327a3",
   "metadata": {},
   "source": [
    "# Build Features"
   ]
  },
  {
   "cell_type": "code",
   "execution_count": 3,
   "id": "783fd915",
   "metadata": {},
   "outputs": [],
   "source": [
    "def MaskStrength(mask, img):\n",
    "    \"\"\"\n",
    "    Calculates Pixel Strength for mask\n",
    "    1. Apply mask on the original color image\n",
    "    2. Calculate average of non zero pixels\n",
    "    \"\"\"\n",
    "    mask_3d = np.expand_dims(mask, axis=-1)\n",
    "    masked_array = (img * mask_3d).flatten()\n",
    "    return masked_array[masked_array>0].mean().round(2)\n",
    "\n",
    "def MaskCentroid(mask):\n",
    "    \"\"\"\n",
    "    Calculates Centroid for mask\n",
    "    1. Extract indices of non zero pixels in a mask\n",
    "    2. Calculate average of x and y coordinates\n",
    "    3. Flip the array, since here x and y corresponds to row and column\n",
    "    \"\"\"\n",
    "    mask_indices = np.where(mask)\n",
    "    mask_centroid = np.round(np.mean(mask_indices, axis=1))\n",
    "    flip_centroid = list(np.flip(mask_centroid))\n",
    "    return flip_centroid\n"
   ]
  },
  {
   "cell_type": "code",
   "execution_count": null,
   "id": "f6f7a288",
   "metadata": {},
   "outputs": [],
   "source": [
    "# Define list of features to be extracted from the segmented image\n",
    "feature_list = ['n_masks', 'mask_area', 'mask_centroid', 'mask_conf', 'mask_strength', \n",
    "                'bbox_area', 'bbox_centroid', 'bbox_dim']\n",
    "\n",
    "features = {key: [] for key in feature_list}\n",
    "\n",
    "# Check if atleast one mask exist\n",
    "if results[0].masks is not None:\n",
    "    # Calculate number of masks in the segmented image\n",
    "    features['n_masks'] = len(results[0].masks)    \n",
    "    \n",
    "    # Bounding Box Parameters\n",
    "    bboxes = results[0].boxes\n",
    "    \n",
    "    # Extract confidence score of all the masks\n",
    "    features['mask_conf'] = list(np.array(bboxes.conf))\n",
    "    bbox_data = np.array(bboxes.data)\n",
    "    \n",
    "    for box in bbox_data:\n",
    "        # Extract Bounding box dimension [Width, Height] for each box\n",
    "        width = np.round(abs(box[0] - box[2]))\n",
    "        height = np.round(abs(box[1] - box[3]))            \n",
    "        features['bbox_dim'].append([width, height])\n",
    "        \n",
    "        # Extract Bounding box Centroid for each box\n",
    "        xcoord = np.round(np.mean([box[0], box[2]]))\n",
    "        ycoord = np.round(np.mean([box[1], box[3]]))\n",
    "        features['bbox_centroid'].append([xcoord, ycoord])\n",
    "        \n",
    "        # Calculate Bounding box Area for each box\n",
    "        features['bbox_area'].append(width * height)\n",
    "        \n",
    "    # Mask Parameters\n",
    "    masks = np.array(results[0].masks.data, dtype='uint8')\n",
    "    for mask in masks:\n",
    "        # Mask Area: Count number of non zero pixels in mask\n",
    "        features['mask_area'].append(np.count_nonzero(mask))\n",
    "        \n",
    "        # Mask Centroid: Calculate mean of non zero pixel x and y coordinates\n",
    "        features['mask_centroid'].append(MaskCentroid(mask))\n",
    "        \n",
    "        ## Mask Strength: \n",
    "        # Apply mask on the original image\n",
    "        # Measure average pixel strength excluding non zero pixels\n",
    "        features['mask_strength'].append(MaskStrength(mask, test_img_resized))\n"
   ]
  },
  {
   "cell_type": "markdown",
   "id": "342eb2e8",
   "metadata": {},
   "source": [
    "# Main"
   ]
  },
  {
   "cell_type": "code",
   "execution_count": 47,
   "id": "73d378da",
   "metadata": {},
   "outputs": [],
   "source": [
    "# Configurations\n",
    "model_file = r\"F:\\Work\\SOCAAutomation\\Models\\11_04_2025\\best.pt\"\n",
    "video_file = r\"F:\\Work\\SOCAAutomation\\Dataset\\Converted\\04_07_2024\\AXIS 213 - 10.1.5.173 2024-07-04_11_51_08_772.mp4\"\n",
    "data = pd.read_csv(r\"F:\\Work\\SOCAAutomation\\Dataset\\Book1.csv\")\n",
    "data_grp = data.groupby(['Folder', 'Video File'])[['Start Time', 'End Time']].agg(list)\n",
    "start_list = data_grp.iloc[0]['Start Time']\n",
    "end_list = data_grp.iloc[0]['End Time']\n",
    "fps = 30"
   ]
  },
  {
   "cell_type": "code",
   "execution_count": 25,
   "id": "feab873c",
   "metadata": {},
   "outputs": [
    {
     "name": "stdout",
     "output_type": "stream",
     "text": [
      "Start Frame: 5 and End Frame 10 is recalculated...\n"
     ]
    }
   ],
   "source": [
    "print(\"Start Frame: {} and End Frame {} is recalculated...\".format(5,  10))"
   ]
  },
  {
   "cell_type": "code",
   "execution_count": null,
   "id": "b0d2aacd",
   "metadata": {},
   "outputs": [],
   "source": [
    "# Load Model\n",
    "# REINSTALL ULTRALYTICS 8.2.103 #model = YOLO(model_file, task='segment')\n",
    "\n",
    "\n",
    "# Load video\n",
    "video = cv.VideoCapture(video_file)\n",
    "\n",
    "# Loop over frames\n",
    "\n",
    "count_frame = 0\n",
    "frame_referenced = False\n",
    "subseg_det = false\n",
    "subseg_ind = 0\n",
    "start_frame, end_frame = calcFrames(start_list[subseg_ind].split(\":\"), end_list[subseg_ind].split(\":\"), fps):\n",
    "while True:\n",
    "    ret, frame = video.read()\n",
    "    count_frame += 1 \n",
    "    if ret:               \n",
    "        if frame_referenced is False and count_frame > 10 and count_frame < 100:\n",
    "            # Build reference image\n",
    "            ref_image = resize(frame)\n",
    "            ref_edge = count_edges(ref_image, kernelsize, multiplier)\n",
    "            frame_referenced = True\n",
    "            print(\"Reference Frame detected and Reference edge is {}\".format(ref_edge))\n",
    "        if count_frame >= start_frame and count_frame <= end_frame:\n",
    "            subseg_det = True\n",
    "            print(\"Subsegment {} is detected...\".format(subseg_ind + 1))\n",
    "            \n",
    "        elif subseg_det is True:\n",
    "            subseg_det = False\n",
    "            ind += 1            \n",
    "            start_frame, end_frame = calcFrames(start_list[subseg_ind].split(\":\"), end_list[subseg_ind].split(\":\"), fps)\n",
    "            print(\"Start Frame: {} and End Frame {} is recalculated...\".format(start_frame,  end_frame))\n",
    "    else:\n",
    "        if subseg_det is True:\n",
    "            print(\"{} frame is missing\".format(count_frame))\n",
    "            \n",
    "        \n",
    "\n",
    "\n",
    "\n",
    "# Reference Images Visibility: Once for one experiment\n",
    "# Load Reference image\n",
    "# Estimate visibility\n",
    "\n",
    "# Loop over subsegments of video\n",
    "\n",
    "# Inference image\n",
    "\n",
    "# Build Features\n",
    "\n"
   ]
  },
  {
   "cell_type": "markdown",
   "id": "1f9f530b",
   "metadata": {},
   "source": [
    "# Testing"
   ]
  },
  {
   "cell_type": "code",
   "execution_count": 94,
   "id": "0121a47f",
   "metadata": {},
   "outputs": [],
   "source": [
    "test_img_path = r\"F:\\Work\\SOCAAutomation\\Dataset\\TestImages\\TwoFire.jpg\"\n",
    "model_file = r\"F:\\Work\\SOCAAutomation\\Models\\11_04_2025\\best.pt\"\n",
    "# model_file = r\"F:\\Work\\SOCAAutomation\\Models\\28_08_2024\\best_yolov8m_seg.pt\"\n",
    "model_file = r\"F:\\Work\\SOCAAutomation\\Models\\08_04_2025\\best_yolov8s_seg.pt\"\n",
    "model = YOLO(model_file)#, task='segment')\n",
    "test_img = cv.imread(test_img_path)\n",
    "test_img_resized = resize(test_img)"
   ]
  },
  {
   "cell_type": "code",
   "execution_count": 95,
   "id": "1136c862",
   "metadata": {},
   "outputs": [
    {
     "name": "stdout",
     "output_type": "stream",
     "text": [
      "\n",
      "0: 640x640 1 Fire-Smoke-Sodium-Tray, 5372.8ms\n",
      "Speed: 285.3ms preprocess, 5372.8ms inference, 649.6ms postprocess per image at shape (1, 3, 640, 640)\n",
      "Results saved to \u001b[1mruns\\segment\\predict16\u001b[0m\n"
     ]
    }
   ],
   "source": [
    "results = model(test_img_resized, conf=0.3, save=True, show_labels=False, retina_masks=True)"
   ]
  },
  {
   "cell_type": "code",
   "execution_count": 96,
   "id": "43234db7",
   "metadata": {},
   "outputs": [
    {
     "name": "stdout",
     "output_type": "stream",
     "text": [
      "\n",
      "\n",
      "WARNING  inference results will accumulate in RAM unless `stream=True` is passed, causing potential out-of-memory\n",
      "errors for large sources or long-running streams and videos. See https://docs.ultralytics.com/modes/predict/ for help.\n",
      "\n",
      "Example:\n",
      "    results = model(source=..., stream=True)  # generator of Results objects\n",
      "    for r in results:\n",
      "        boxes = r.boxes  # Boxes object for bbox outputs\n",
      "        masks = r.masks  # Masks object for segment masks outputs\n",
      "        probs = r.probs  # Class probabilities for classification outputs\n",
      "\n",
      "video 1/1 (frame 1/150) C:\\Users\\ADMIN\\Documents\\pyNotebooks\\SodiumDisposal\\combine_images.mp4: 640x640 2 Fire-Smoke-Sodium-Trays, 2279.1ms\n",
      "video 1/1 (frame 2/150) C:\\Users\\ADMIN\\Documents\\pyNotebooks\\SodiumDisposal\\combine_images.mp4: 640x640 2 Fire-Smoke-Sodium-Trays, 1724.6ms\n",
      "video 1/1 (frame 3/150) C:\\Users\\ADMIN\\Documents\\pyNotebooks\\SodiumDisposal\\combine_images.mp4: 640x640 2 Fire-Smoke-Sodium-Trays, 1691.5ms\n",
      "video 1/1 (frame 4/150) C:\\Users\\ADMIN\\Documents\\pyNotebooks\\SodiumDisposal\\combine_images.mp4: 640x640 2 Fire-Smoke-Sodium-Trays, 1733.6ms\n",
      "video 1/1 (frame 5/150) C:\\Users\\ADMIN\\Documents\\pyNotebooks\\SodiumDisposal\\combine_images.mp4: 640x640 2 Fire-Smoke-Sodium-Trays, 1696.5ms\n",
      "video 1/1 (frame 6/150) C:\\Users\\ADMIN\\Documents\\pyNotebooks\\SodiumDisposal\\combine_images.mp4: 640x640 2 Fire-Smoke-Sodium-Trays, 1684.5ms\n",
      "video 1/1 (frame 7/150) C:\\Users\\ADMIN\\Documents\\pyNotebooks\\SodiumDisposal\\combine_images.mp4: 640x640 3 Fire-Smoke-Sodium-Trays, 1686.5ms\n",
      "video 1/1 (frame 8/150) C:\\Users\\ADMIN\\Documents\\pyNotebooks\\SodiumDisposal\\combine_images.mp4: 640x640 3 Fire-Smoke-Sodium-Trays, 1734.6ms\n",
      "video 1/1 (frame 9/150) C:\\Users\\ADMIN\\Documents\\pyNotebooks\\SodiumDisposal\\combine_images.mp4: 640x640 3 Fire-Smoke-Sodium-Trays, 1696.5ms\n",
      "video 1/1 (frame 10/150) C:\\Users\\ADMIN\\Documents\\pyNotebooks\\SodiumDisposal\\combine_images.mp4: 640x640 2 Fire-Smoke-Sodium-Trays, 1931.7ms\n",
      "video 1/1 (frame 11/150) C:\\Users\\ADMIN\\Documents\\pyNotebooks\\SodiumDisposal\\combine_images.mp4: 640x640 2 Fire-Smoke-Sodium-Trays, 1760.6ms\n",
      "video 1/1 (frame 12/150) C:\\Users\\ADMIN\\Documents\\pyNotebooks\\SodiumDisposal\\combine_images.mp4: 640x640 2 Fire-Smoke-Sodium-Trays, 2119.9ms\n",
      "video 1/1 (frame 13/150) C:\\Users\\ADMIN\\Documents\\pyNotebooks\\SodiumDisposal\\combine_images.mp4: 640x640 3 Fire-Smoke-Sodium-Trays, 1666.5ms\n",
      "video 1/1 (frame 14/150) C:\\Users\\ADMIN\\Documents\\pyNotebooks\\SodiumDisposal\\combine_images.mp4: 640x640 3 Fire-Smoke-Sodium-Trays, 1813.6ms\n",
      "video 1/1 (frame 15/150) C:\\Users\\ADMIN\\Documents\\pyNotebooks\\SodiumDisposal\\combine_images.mp4: 640x640 3 Fire-Smoke-Sodium-Trays, 2142.9ms\n",
      "video 1/1 (frame 16/150) C:\\Users\\ADMIN\\Documents\\pyNotebooks\\SodiumDisposal\\combine_images.mp4: 640x640 2 Fire-Smoke-Sodium-Trays, 1704.5ms\n",
      "video 1/1 (frame 17/150) C:\\Users\\ADMIN\\Documents\\pyNotebooks\\SodiumDisposal\\combine_images.mp4: 640x640 3 Fire-Smoke-Sodium-Trays, 1705.5ms\n",
      "video 1/1 (frame 18/150) C:\\Users\\ADMIN\\Documents\\pyNotebooks\\SodiumDisposal\\combine_images.mp4: 640x640 3 Fire-Smoke-Sodium-Trays, 1717.5ms\n",
      "video 1/1 (frame 19/150) C:\\Users\\ADMIN\\Documents\\pyNotebooks\\SodiumDisposal\\combine_images.mp4: 640x640 2 Fire-Smoke-Sodium-Trays, 1949.8ms\n",
      "video 1/1 (frame 20/150) C:\\Users\\ADMIN\\Documents\\pyNotebooks\\SodiumDisposal\\combine_images.mp4: 640x640 3 Fire-Smoke-Sodium-Trays, 1661.5ms\n",
      "video 1/1 (frame 21/150) C:\\Users\\ADMIN\\Documents\\pyNotebooks\\SodiumDisposal\\combine_images.mp4: 640x640 3 Fire-Smoke-Sodium-Trays, 1695.5ms\n",
      "video 1/1 (frame 22/150) C:\\Users\\ADMIN\\Documents\\pyNotebooks\\SodiumDisposal\\combine_images.mp4: 640x640 3 Fire-Smoke-Sodium-Trays, 1705.5ms\n",
      "video 1/1 (frame 23/150) C:\\Users\\ADMIN\\Documents\\pyNotebooks\\SodiumDisposal\\combine_images.mp4: 640x640 3 Fire-Smoke-Sodium-Trays, 1660.5ms\n",
      "video 1/1 (frame 24/150) C:\\Users\\ADMIN\\Documents\\pyNotebooks\\SodiumDisposal\\combine_images.mp4: 640x640 3 Fire-Smoke-Sodium-Trays, 1938.7ms\n",
      "video 1/1 (frame 25/150) C:\\Users\\ADMIN\\Documents\\pyNotebooks\\SodiumDisposal\\combine_images.mp4: 640x640 3 Fire-Smoke-Sodium-Trays, 1737.6ms\n",
      "video 1/1 (frame 26/150) C:\\Users\\ADMIN\\Documents\\pyNotebooks\\SodiumDisposal\\combine_images.mp4: 640x640 2 Fire-Smoke-Sodium-Trays, 1723.6ms\n",
      "video 1/1 (frame 27/150) C:\\Users\\ADMIN\\Documents\\pyNotebooks\\SodiumDisposal\\combine_images.mp4: 640x640 3 Fire-Smoke-Sodium-Trays, 1734.6ms\n",
      "video 1/1 (frame 28/150) C:\\Users\\ADMIN\\Documents\\pyNotebooks\\SodiumDisposal\\combine_images.mp4: 640x640 3 Fire-Smoke-Sodium-Trays, 2036.8ms\n",
      "video 1/1 (frame 29/150) C:\\Users\\ADMIN\\Documents\\pyNotebooks\\SodiumDisposal\\combine_images.mp4: 640x640 2 Fire-Smoke-Sodium-Trays, 1716.5ms\n",
      "video 1/1 (frame 30/150) C:\\Users\\ADMIN\\Documents\\pyNotebooks\\SodiumDisposal\\combine_images.mp4: 640x640 3 Fire-Smoke-Sodium-Trays, 2242.0ms\n",
      "video 1/1 (frame 31/150) C:\\Users\\ADMIN\\Documents\\pyNotebooks\\SodiumDisposal\\combine_images.mp4: 640x640 2 Fire-Smoke-Sodium-Trays, 1703.5ms\n",
      "video 1/1 (frame 32/150) C:\\Users\\ADMIN\\Documents\\pyNotebooks\\SodiumDisposal\\combine_images.mp4: 640x640 2 Fire-Smoke-Sodium-Trays, 2089.9ms\n",
      "video 1/1 (frame 33/150) C:\\Users\\ADMIN\\Documents\\pyNotebooks\\SodiumDisposal\\combine_images.mp4: 640x640 2 Fire-Smoke-Sodium-Trays, 1791.6ms\n",
      "video 1/1 (frame 34/150) C:\\Users\\ADMIN\\Documents\\pyNotebooks\\SodiumDisposal\\combine_images.mp4: 640x640 2 Fire-Smoke-Sodium-Trays, 1697.5ms\n",
      "video 1/1 (frame 35/150) C:\\Users\\ADMIN\\Documents\\pyNotebooks\\SodiumDisposal\\combine_images.mp4: 640x640 3 Fire-Smoke-Sodium-Trays, 1798.6ms\n",
      "video 1/1 (frame 36/150) C:\\Users\\ADMIN\\Documents\\pyNotebooks\\SodiumDisposal\\combine_images.mp4: 640x640 2 Fire-Smoke-Sodium-Trays, 1757.6ms\n",
      "video 1/1 (frame 37/150) C:\\Users\\ADMIN\\Documents\\pyNotebooks\\SodiumDisposal\\combine_images.mp4: 640x640 3 Fire-Smoke-Sodium-Trays, 2194.0ms\n",
      "video 1/1 (frame 38/150) C:\\Users\\ADMIN\\Documents\\pyNotebooks\\SodiumDisposal\\combine_images.mp4: 640x640 3 Fire-Smoke-Sodium-Trays, 1681.5ms\n",
      "video 1/1 (frame 39/150) C:\\Users\\ADMIN\\Documents\\pyNotebooks\\SodiumDisposal\\combine_images.mp4: 640x640 3 Fire-Smoke-Sodium-Trays, 1727.6ms\n",
      "video 1/1 (frame 40/150) C:\\Users\\ADMIN\\Documents\\pyNotebooks\\SodiumDisposal\\combine_images.mp4: 640x640 3 Fire-Smoke-Sodium-Trays, 1839.7ms\n",
      "video 1/1 (frame 41/150) C:\\Users\\ADMIN\\Documents\\pyNotebooks\\SodiumDisposal\\combine_images.mp4: 640x640 3 Fire-Smoke-Sodium-Trays, 1646.5ms\n",
      "video 1/1 (frame 42/150) C:\\Users\\ADMIN\\Documents\\pyNotebooks\\SodiumDisposal\\combine_images.mp4: 640x640 2 Fire-Smoke-Sodium-Trays, 1771.6ms\n",
      "video 1/1 (frame 43/150) C:\\Users\\ADMIN\\Documents\\pyNotebooks\\SodiumDisposal\\combine_images.mp4: 640x640 3 Fire-Smoke-Sodium-Trays, 1872.7ms\n",
      "video 1/1 (frame 44/150) C:\\Users\\ADMIN\\Documents\\pyNotebooks\\SodiumDisposal\\combine_images.mp4: 640x640 2 Fire-Smoke-Sodium-Trays, 1963.8ms\n",
      "video 1/1 (frame 45/150) C:\\Users\\ADMIN\\Documents\\pyNotebooks\\SodiumDisposal\\combine_images.mp4: 640x640 3 Fire-Smoke-Sodium-Trays, 1750.6ms\n",
      "video 1/1 (frame 46/150) C:\\Users\\ADMIN\\Documents\\pyNotebooks\\SodiumDisposal\\combine_images.mp4: 640x640 3 Fire-Smoke-Sodium-Trays, 1890.7ms\n",
      "video 1/1 (frame 47/150) C:\\Users\\ADMIN\\Documents\\pyNotebooks\\SodiumDisposal\\combine_images.mp4: 640x640 3 Fire-Smoke-Sodium-Trays, 2176.0ms\n",
      "video 1/1 (frame 48/150) C:\\Users\\ADMIN\\Documents\\pyNotebooks\\SodiumDisposal\\combine_images.mp4: 640x640 3 Fire-Smoke-Sodium-Trays, 1691.5ms\n",
      "video 1/1 (frame 49/150) C:\\Users\\ADMIN\\Documents\\pyNotebooks\\SodiumDisposal\\combine_images.mp4: 640x640 3 Fire-Smoke-Sodium-Trays, 1694.5ms\n",
      "video 1/1 (frame 50/150) C:\\Users\\ADMIN\\Documents\\pyNotebooks\\SodiumDisposal\\combine_images.mp4: 640x640 3 Fire-Smoke-Sodium-Trays, 1709.5ms\n",
      "video 1/1 (frame 51/150) C:\\Users\\ADMIN\\Documents\\pyNotebooks\\SodiumDisposal\\combine_images.mp4: 640x640 3 Fire-Smoke-Sodium-Trays, 1667.5ms\n",
      "video 1/1 (frame 52/150) C:\\Users\\ADMIN\\Documents\\pyNotebooks\\SodiumDisposal\\combine_images.mp4: 640x640 2 Fire-Smoke-Sodium-Trays, 1685.5ms\n",
      "video 1/1 (frame 53/150) C:\\Users\\ADMIN\\Documents\\pyNotebooks\\SodiumDisposal\\combine_images.mp4: 640x640 3 Fire-Smoke-Sodium-Trays, 1682.5ms\n",
      "video 1/1 (frame 54/150) C:\\Users\\ADMIN\\Documents\\pyNotebooks\\SodiumDisposal\\combine_images.mp4: 640x640 3 Fire-Smoke-Sodium-Trays, 1676.5ms\n",
      "video 1/1 (frame 55/150) C:\\Users\\ADMIN\\Documents\\pyNotebooks\\SodiumDisposal\\combine_images.mp4: 640x640 3 Fire-Smoke-Sodium-Trays, 1666.5ms\n"
     ]
    },
    {
     "name": "stdout",
     "output_type": "stream",
     "text": [
      "video 1/1 (frame 56/150) C:\\Users\\ADMIN\\Documents\\pyNotebooks\\SodiumDisposal\\combine_images.mp4: 640x640 3 Fire-Smoke-Sodium-Trays, 1845.7ms\n",
      "video 1/1 (frame 57/150) C:\\Users\\ADMIN\\Documents\\pyNotebooks\\SodiumDisposal\\combine_images.mp4: 640x640 3 Fire-Smoke-Sodium-Trays, 1687.5ms\n",
      "video 1/1 (frame 58/150) C:\\Users\\ADMIN\\Documents\\pyNotebooks\\SodiumDisposal\\combine_images.mp4: 640x640 3 Fire-Smoke-Sodium-Trays, 2030.8ms\n",
      "video 1/1 (frame 59/150) C:\\Users\\ADMIN\\Documents\\pyNotebooks\\SodiumDisposal\\combine_images.mp4: 640x640 3 Fire-Smoke-Sodium-Trays, 2128.9ms\n",
      "video 1/1 (frame 60/150) C:\\Users\\ADMIN\\Documents\\pyNotebooks\\SodiumDisposal\\combine_images.mp4: 640x640 3 Fire-Smoke-Sodium-Trays, 1940.7ms\n",
      "video 1/1 (frame 61/150) C:\\Users\\ADMIN\\Documents\\pyNotebooks\\SodiumDisposal\\combine_images.mp4: 640x640 3 Fire-Smoke-Sodium-Trays, 1757.6ms\n",
      "video 1/1 (frame 62/150) C:\\Users\\ADMIN\\Documents\\pyNotebooks\\SodiumDisposal\\combine_images.mp4: 640x640 2 Fire-Smoke-Sodium-Trays, 1702.5ms\n",
      "video 1/1 (frame 63/150) C:\\Users\\ADMIN\\Documents\\pyNotebooks\\SodiumDisposal\\combine_images.mp4: 640x640 3 Fire-Smoke-Sodium-Trays, 1697.5ms\n",
      "video 1/1 (frame 64/150) C:\\Users\\ADMIN\\Documents\\pyNotebooks\\SodiumDisposal\\combine_images.mp4: 640x640 3 Fire-Smoke-Sodium-Trays, 1682.5ms\n",
      "video 1/1 (frame 65/150) C:\\Users\\ADMIN\\Documents\\pyNotebooks\\SodiumDisposal\\combine_images.mp4: 640x640 3 Fire-Smoke-Sodium-Trays, 1744.6ms\n",
      "video 1/1 (frame 66/150) C:\\Users\\ADMIN\\Documents\\pyNotebooks\\SodiumDisposal\\combine_images.mp4: 640x640 3 Fire-Smoke-Sodium-Trays, 1647.5ms\n",
      "video 1/1 (frame 67/150) C:\\Users\\ADMIN\\Documents\\pyNotebooks\\SodiumDisposal\\combine_images.mp4: 640x640 3 Fire-Smoke-Sodium-Trays, 1715.5ms\n",
      "video 1/1 (frame 68/150) C:\\Users\\ADMIN\\Documents\\pyNotebooks\\SodiumDisposal\\combine_images.mp4: 640x640 2 Fire-Smoke-Sodium-Trays, 1733.6ms\n",
      "video 1/1 (frame 69/150) C:\\Users\\ADMIN\\Documents\\pyNotebooks\\SodiumDisposal\\combine_images.mp4: 640x640 2 Fire-Smoke-Sodium-Trays, 1773.6ms\n",
      "video 1/1 (frame 70/150) C:\\Users\\ADMIN\\Documents\\pyNotebooks\\SodiumDisposal\\combine_images.mp4: 640x640 3 Fire-Smoke-Sodium-Trays, 1882.7ms\n",
      "video 1/1 (frame 71/150) C:\\Users\\ADMIN\\Documents\\pyNotebooks\\SodiumDisposal\\combine_images.mp4: 640x640 2 Fire-Smoke-Sodium-Trays, 1839.7ms\n",
      "video 1/1 (frame 72/150) C:\\Users\\ADMIN\\Documents\\pyNotebooks\\SodiumDisposal\\combine_images.mp4: 640x640 3 Fire-Smoke-Sodium-Trays, 1686.5ms\n",
      "video 1/1 (frame 73/150) C:\\Users\\ADMIN\\Documents\\pyNotebooks\\SodiumDisposal\\combine_images.mp4: 640x640 3 Fire-Smoke-Sodium-Trays, 1689.5ms\n",
      "video 1/1 (frame 74/150) C:\\Users\\ADMIN\\Documents\\pyNotebooks\\SodiumDisposal\\combine_images.mp4: 640x640 3 Fire-Smoke-Sodium-Trays, 1760.6ms\n",
      "video 1/1 (frame 75/150) C:\\Users\\ADMIN\\Documents\\pyNotebooks\\SodiumDisposal\\combine_images.mp4: 640x640 3 Fire-Smoke-Sodium-Trays, 2065.9ms\n",
      "video 1/1 (frame 76/150) C:\\Users\\ADMIN\\Documents\\pyNotebooks\\SodiumDisposal\\combine_images.mp4: 640x640 3 Fire-Smoke-Sodium-Trays, 1694.5ms\n",
      "video 1/1 (frame 77/150) C:\\Users\\ADMIN\\Documents\\pyNotebooks\\SodiumDisposal\\combine_images.mp4: 640x640 3 Fire-Smoke-Sodium-Trays, 1771.6ms\n",
      "video 1/1 (frame 78/150) C:\\Users\\ADMIN\\Documents\\pyNotebooks\\SodiumDisposal\\combine_images.mp4: 640x640 3 Fire-Smoke-Sodium-Trays, 1714.5ms\n",
      "video 1/1 (frame 79/150) C:\\Users\\ADMIN\\Documents\\pyNotebooks\\SodiumDisposal\\combine_images.mp4: 640x640 3 Fire-Smoke-Sodium-Trays, 1691.5ms\n",
      "video 1/1 (frame 80/150) C:\\Users\\ADMIN\\Documents\\pyNotebooks\\SodiumDisposal\\combine_images.mp4: 640x640 2 Fire-Smoke-Sodium-Trays, 1691.5ms\n",
      "video 1/1 (frame 81/150) C:\\Users\\ADMIN\\Documents\\pyNotebooks\\SodiumDisposal\\combine_images.mp4: 640x640 3 Fire-Smoke-Sodium-Trays, 1882.7ms\n",
      "video 1/1 (frame 82/150) C:\\Users\\ADMIN\\Documents\\pyNotebooks\\SodiumDisposal\\combine_images.mp4: 640x640 3 Fire-Smoke-Sodium-Trays, 1787.6ms\n",
      "video 1/1 (frame 83/150) C:\\Users\\ADMIN\\Documents\\pyNotebooks\\SodiumDisposal\\combine_images.mp4: 640x640 3 Fire-Smoke-Sodium-Trays, 1720.5ms\n",
      "video 1/1 (frame 84/150) C:\\Users\\ADMIN\\Documents\\pyNotebooks\\SodiumDisposal\\combine_images.mp4: 640x640 3 Fire-Smoke-Sodium-Trays, 1747.6ms\n",
      "video 1/1 (frame 85/150) C:\\Users\\ADMIN\\Documents\\pyNotebooks\\SodiumDisposal\\combine_images.mp4: 640x640 3 Fire-Smoke-Sodium-Trays, 1794.6ms\n",
      "video 1/1 (frame 86/150) C:\\Users\\ADMIN\\Documents\\pyNotebooks\\SodiumDisposal\\combine_images.mp4: 640x640 3 Fire-Smoke-Sodium-Trays, 2097.9ms\n",
      "video 1/1 (frame 87/150) C:\\Users\\ADMIN\\Documents\\pyNotebooks\\SodiumDisposal\\combine_images.mp4: 640x640 3 Fire-Smoke-Sodium-Trays, 1774.6ms\n",
      "video 1/1 (frame 88/150) C:\\Users\\ADMIN\\Documents\\pyNotebooks\\SodiumDisposal\\combine_images.mp4: 640x640 3 Fire-Smoke-Sodium-Trays, 1737.6ms\n",
      "video 1/1 (frame 89/150) C:\\Users\\ADMIN\\Documents\\pyNotebooks\\SodiumDisposal\\combine_images.mp4: 640x640 2 Fire-Smoke-Sodium-Trays, 1763.6ms\n",
      "video 1/1 (frame 90/150) C:\\Users\\ADMIN\\Documents\\pyNotebooks\\SodiumDisposal\\combine_images.mp4: 640x640 3 Fire-Smoke-Sodium-Trays, 1676.5ms\n",
      "video 1/1 (frame 91/150) C:\\Users\\ADMIN\\Documents\\pyNotebooks\\SodiumDisposal\\combine_images.mp4: 640x640 3 Fire-Smoke-Sodium-Trays, 2104.9ms\n",
      "video 1/1 (frame 92/150) C:\\Users\\ADMIN\\Documents\\pyNotebooks\\SodiumDisposal\\combine_images.mp4: 640x640 2 Fire-Smoke-Sodium-Trays, 1714.5ms\n",
      "video 1/1 (frame 93/150) C:\\Users\\ADMIN\\Documents\\pyNotebooks\\SodiumDisposal\\combine_images.mp4: 640x640 3 Fire-Smoke-Sodium-Trays, 1689.5ms\n",
      "video 1/1 (frame 94/150) C:\\Users\\ADMIN\\Documents\\pyNotebooks\\SodiumDisposal\\combine_images.mp4: 640x640 2 Fire-Smoke-Sodium-Trays, 1737.6ms\n",
      "video 1/1 (frame 95/150) C:\\Users\\ADMIN\\Documents\\pyNotebooks\\SodiumDisposal\\combine_images.mp4: 640x640 2 Fire-Smoke-Sodium-Trays, 1878.7ms\n",
      "video 1/1 (frame 96/150) C:\\Users\\ADMIN\\Documents\\pyNotebooks\\SodiumDisposal\\combine_images.mp4: 640x640 2 Fire-Smoke-Sodium-Trays, 1700.5ms\n",
      "video 1/1 (frame 97/150) C:\\Users\\ADMIN\\Documents\\pyNotebooks\\SodiumDisposal\\combine_images.mp4: 640x640 2 Fire-Smoke-Sodium-Trays, 1669.5ms\n",
      "video 1/1 (frame 98/150) C:\\Users\\ADMIN\\Documents\\pyNotebooks\\SodiumDisposal\\combine_images.mp4: 640x640 2 Fire-Smoke-Sodium-Trays, 1695.5ms\n",
      "video 1/1 (frame 99/150) C:\\Users\\ADMIN\\Documents\\pyNotebooks\\SodiumDisposal\\combine_images.mp4: 640x640 3 Fire-Smoke-Sodium-Trays, 1727.6ms\n",
      "video 1/1 (frame 100/150) C:\\Users\\ADMIN\\Documents\\pyNotebooks\\SodiumDisposal\\combine_images.mp4: 640x640 3 Fire-Smoke-Sodium-Trays, 1986.8ms\n",
      "video 1/1 (frame 101/150) C:\\Users\\ADMIN\\Documents\\pyNotebooks\\SodiumDisposal\\combine_images.mp4: 640x640 3 Fire-Smoke-Sodium-Trays, 1979.8ms\n",
      "video 1/1 (frame 102/150) C:\\Users\\ADMIN\\Documents\\pyNotebooks\\SodiumDisposal\\combine_images.mp4: 640x640 2 Fire-Smoke-Sodium-Trays, 2040.8ms\n",
      "video 1/1 (frame 103/150) C:\\Users\\ADMIN\\Documents\\pyNotebooks\\SodiumDisposal\\combine_images.mp4: 640x640 1 Fire-Smoke-Sodium-Tray, 1718.5ms\n",
      "video 1/1 (frame 104/150) C:\\Users\\ADMIN\\Documents\\pyNotebooks\\SodiumDisposal\\combine_images.mp4: 640x640 1 Fire-Smoke-Sodium-Tray, 1782.6ms\n",
      "video 1/1 (frame 105/150) C:\\Users\\ADMIN\\Documents\\pyNotebooks\\SodiumDisposal\\combine_images.mp4: 640x640 1 Fire-Smoke-Sodium-Tray, 1682.5ms\n",
      "video 1/1 (frame 106/150) C:\\Users\\ADMIN\\Documents\\pyNotebooks\\SodiumDisposal\\combine_images.mp4: 640x640 1 Fire-Smoke-Sodium-Tray, 2157.9ms\n",
      "video 1/1 (frame 107/150) C:\\Users\\ADMIN\\Documents\\pyNotebooks\\SodiumDisposal\\combine_images.mp4: 640x640 1 Fire-Smoke-Sodium-Tray, 1968.8ms\n",
      "video 1/1 (frame 108/150) C:\\Users\\ADMIN\\Documents\\pyNotebooks\\SodiumDisposal\\combine_images.mp4: 640x640 1 Fire-Smoke-Sodium-Tray, 1810.6ms\n",
      "video 1/1 (frame 109/150) C:\\Users\\ADMIN\\Documents\\pyNotebooks\\SodiumDisposal\\combine_images.mp4: 640x640 1 Fire-Smoke-Sodium-Tray, 1789.6ms\n",
      "video 1/1 (frame 110/150) C:\\Users\\ADMIN\\Documents\\pyNotebooks\\SodiumDisposal\\combine_images.mp4: 640x640 1 Fire-Smoke-Sodium-Tray, 1885.7ms\n",
      "video 1/1 (frame 111/150) C:\\Users\\ADMIN\\Documents\\pyNotebooks\\SodiumDisposal\\combine_images.mp4: 640x640 1 Fire-Smoke-Sodium-Tray, 1680.5ms\n",
      "video 1/1 (frame 112/150) C:\\Users\\ADMIN\\Documents\\pyNotebooks\\SodiumDisposal\\combine_images.mp4: 640x640 1 Fire-Smoke-Sodium-Tray, 1822.6ms\n",
      "video 1/1 (frame 113/150) C:\\Users\\ADMIN\\Documents\\pyNotebooks\\SodiumDisposal\\combine_images.mp4: 640x640 1 Fire-Smoke-Sodium-Tray, 1705.5ms\n",
      "video 1/1 (frame 114/150) C:\\Users\\ADMIN\\Documents\\pyNotebooks\\SodiumDisposal\\combine_images.mp4: 640x640 1 Fire-Smoke-Sodium-Tray, 1697.5ms\n"
     ]
    },
    {
     "name": "stdout",
     "output_type": "stream",
     "text": [
      "video 1/1 (frame 115/150) C:\\Users\\ADMIN\\Documents\\pyNotebooks\\SodiumDisposal\\combine_images.mp4: 640x640 1 Fire-Smoke-Sodium-Tray, 1699.5ms\n",
      "video 1/1 (frame 116/150) C:\\Users\\ADMIN\\Documents\\pyNotebooks\\SodiumDisposal\\combine_images.mp4: 640x640 1 Fire-Smoke-Sodium-Tray, 1747.6ms\n",
      "video 1/1 (frame 117/150) C:\\Users\\ADMIN\\Documents\\pyNotebooks\\SodiumDisposal\\combine_images.mp4: 640x640 1 Fire-Smoke-Sodium-Tray, 1684.5ms\n",
      "video 1/1 (frame 118/150) C:\\Users\\ADMIN\\Documents\\pyNotebooks\\SodiumDisposal\\combine_images.mp4: 640x640 2 Fire-Smoke-Sodium-Trays, 1720.5ms\n",
      "video 1/1 (frame 119/150) C:\\Users\\ADMIN\\Documents\\pyNotebooks\\SodiumDisposal\\combine_images.mp4: 640x640 1 Fire-Smoke-Sodium-Tray, 1807.6ms\n",
      "video 1/1 (frame 120/150) C:\\Users\\ADMIN\\Documents\\pyNotebooks\\SodiumDisposal\\combine_images.mp4: 640x640 1 Fire-Smoke-Sodium-Tray, 1721.5ms\n",
      "video 1/1 (frame 121/150) C:\\Users\\ADMIN\\Documents\\pyNotebooks\\SodiumDisposal\\combine_images.mp4: 640x640 1 Fire-Smoke-Sodium-Tray, 2220.0ms\n",
      "video 1/1 (frame 122/150) C:\\Users\\ADMIN\\Documents\\pyNotebooks\\SodiumDisposal\\combine_images.mp4: 640x640 2 Fire-Smoke-Sodium-Trays, 1735.6ms\n",
      "video 1/1 (frame 123/150) C:\\Users\\ADMIN\\Documents\\pyNotebooks\\SodiumDisposal\\combine_images.mp4: 640x640 3 Fire-Smoke-Sodium-Trays, 1859.7ms\n",
      "video 1/1 (frame 124/150) C:\\Users\\ADMIN\\Documents\\pyNotebooks\\SodiumDisposal\\combine_images.mp4: 640x640 3 Fire-Smoke-Sodium-Trays, 1707.5ms\n",
      "video 1/1 (frame 125/150) C:\\Users\\ADMIN\\Documents\\pyNotebooks\\SodiumDisposal\\combine_images.mp4: 640x640 3 Fire-Smoke-Sodium-Trays, 1810.6ms\n",
      "video 1/1 (frame 126/150) C:\\Users\\ADMIN\\Documents\\pyNotebooks\\SodiumDisposal\\combine_images.mp4: 640x640 2 Fire-Smoke-Sodium-Trays, 1836.6ms\n",
      "video 1/1 (frame 127/150) C:\\Users\\ADMIN\\Documents\\pyNotebooks\\SodiumDisposal\\combine_images.mp4: 640x640 2 Fire-Smoke-Sodium-Trays, 1767.6ms\n",
      "video 1/1 (frame 128/150) C:\\Users\\ADMIN\\Documents\\pyNotebooks\\SodiumDisposal\\combine_images.mp4: 640x640 3 Fire-Smoke-Sodium-Trays, 2006.8ms\n",
      "video 1/1 (frame 129/150) C:\\Users\\ADMIN\\Documents\\pyNotebooks\\SodiumDisposal\\combine_images.mp4: 640x640 2 Fire-Smoke-Sodium-Trays, 2147.9ms\n",
      "video 1/1 (frame 130/150) C:\\Users\\ADMIN\\Documents\\pyNotebooks\\SodiumDisposal\\combine_images.mp4: 640x640 2 Fire-Smoke-Sodium-Trays, 1969.8ms\n",
      "video 1/1 (frame 131/150) C:\\Users\\ADMIN\\Documents\\pyNotebooks\\SodiumDisposal\\combine_images.mp4: 640x640 2 Fire-Smoke-Sodium-Trays, 1688.5ms\n",
      "video 1/1 (frame 132/150) C:\\Users\\ADMIN\\Documents\\pyNotebooks\\SodiumDisposal\\combine_images.mp4: 640x640 2 Fire-Smoke-Sodium-Trays, 1727.6ms\n",
      "video 1/1 (frame 133/150) C:\\Users\\ADMIN\\Documents\\pyNotebooks\\SodiumDisposal\\combine_images.mp4: 640x640 2 Fire-Smoke-Sodium-Trays, 2170.0ms\n",
      "video 1/1 (frame 134/150) C:\\Users\\ADMIN\\Documents\\pyNotebooks\\SodiumDisposal\\combine_images.mp4: 640x640 1 Fire-Smoke-Sodium-Tray, 2002.8ms\n",
      "video 1/1 (frame 135/150) C:\\Users\\ADMIN\\Documents\\pyNotebooks\\SodiumDisposal\\combine_images.mp4: 640x640 2 Fire-Smoke-Sodium-Trays, 1768.6ms\n",
      "video 1/1 (frame 136/150) C:\\Users\\ADMIN\\Documents\\pyNotebooks\\SodiumDisposal\\combine_images.mp4: 640x640 1 Fire-Smoke-Sodium-Tray, 2917.6ms\n",
      "video 1/1 (frame 137/150) C:\\Users\\ADMIN\\Documents\\pyNotebooks\\SodiumDisposal\\combine_images.mp4: 640x640 2 Fire-Smoke-Sodium-Trays, 3111.8ms\n",
      "video 1/1 (frame 138/150) C:\\Users\\ADMIN\\Documents\\pyNotebooks\\SodiumDisposal\\combine_images.mp4: 640x640 1 Fire-Smoke-Sodium-Tray, 1738.6ms\n",
      "video 1/1 (frame 139/150) C:\\Users\\ADMIN\\Documents\\pyNotebooks\\SodiumDisposal\\combine_images.mp4: 640x640 1 Fire-Smoke-Sodium-Tray, 2830.5ms\n",
      "video 1/1 (frame 140/150) C:\\Users\\ADMIN\\Documents\\pyNotebooks\\SodiumDisposal\\combine_images.mp4: 640x640 2 Fire-Smoke-Sodium-Trays, 1932.7ms\n",
      "video 1/1 (frame 141/150) C:\\Users\\ADMIN\\Documents\\pyNotebooks\\SodiumDisposal\\combine_images.mp4: 640x640 2 Fire-Smoke-Sodium-Trays, 2066.9ms\n",
      "video 1/1 (frame 142/150) C:\\Users\\ADMIN\\Documents\\pyNotebooks\\SodiumDisposal\\combine_images.mp4: 640x640 2 Fire-Smoke-Sodium-Trays, 1787.6ms\n",
      "video 1/1 (frame 143/150) C:\\Users\\ADMIN\\Documents\\pyNotebooks\\SodiumDisposal\\combine_images.mp4: 640x640 2 Fire-Smoke-Sodium-Trays, 1782.6ms\n",
      "video 1/1 (frame 144/150) C:\\Users\\ADMIN\\Documents\\pyNotebooks\\SodiumDisposal\\combine_images.mp4: 640x640 1 Fire-Smoke-Sodium-Tray, 1692.5ms\n",
      "video 1/1 (frame 145/150) C:\\Users\\ADMIN\\Documents\\pyNotebooks\\SodiumDisposal\\combine_images.mp4: 640x640 2 Fire-Smoke-Sodium-Trays, 1756.6ms\n",
      "video 1/1 (frame 146/150) C:\\Users\\ADMIN\\Documents\\pyNotebooks\\SodiumDisposal\\combine_images.mp4: 640x640 3 Fire-Smoke-Sodium-Trays, 1730.6ms\n",
      "video 1/1 (frame 147/150) C:\\Users\\ADMIN\\Documents\\pyNotebooks\\SodiumDisposal\\combine_images.mp4: 640x640 3 Fire-Smoke-Sodium-Trays, 1860.7ms\n",
      "video 1/1 (frame 148/150) C:\\Users\\ADMIN\\Documents\\pyNotebooks\\SodiumDisposal\\combine_images.mp4: 640x640 3 Fire-Smoke-Sodium-Trays, 1711.5ms\n",
      "video 1/1 (frame 149/150) C:\\Users\\ADMIN\\Documents\\pyNotebooks\\SodiumDisposal\\combine_images.mp4: 640x640 2 Fire-Smoke-Sodium-Trays, 2134.9ms\n",
      "video 1/1 (frame 150/150) C:\\Users\\ADMIN\\Documents\\pyNotebooks\\SodiumDisposal\\combine_images.mp4: 640x640 3 Fire-Smoke-Sodium-Trays, 1741.6ms\n",
      "Speed: 9.4ms preprocess, 1832.7ms inference, 38.1ms postprocess per image at shape (1, 3, 640, 640)\n"
     ]
    }
   ],
   "source": [
    "results = model.track(source=\"combine_images.mp4\", tracker=\"botsort.yaml\")"
   ]
  },
  {
   "cell_type": "code",
   "execution_count": 81,
   "id": "73b495b0",
   "metadata": {},
   "outputs": [
    {
     "name": "stdout",
     "output_type": "stream",
     "text": [
      "\n",
      "image 1/1 F:\\Work\\SOCAAutomation\\Dataset\\Images\\25_04_2025\\Source\\2024_07_09_11_30_100.jpg: 544x640 2 Fires, 4331.9ms\n",
      "Speed: 31.0ms preprocess, 4331.9ms inference, 14.0ms postprocess per image at shape (1, 3, 544, 640)\n",
      "1\n",
      "\n",
      "image 1/1 F:\\Work\\SOCAAutomation\\Dataset\\Images\\25_04_2025\\Source\\2024_07_09_11_30_101.jpg: 544x640 2 Fires, 3473.1ms\n",
      "Speed: 8.0ms preprocess, 3473.1ms inference, 15.0ms postprocess per image at shape (1, 3, 544, 640)\n",
      "1\n",
      "\n",
      "image 1/1 F:\\Work\\SOCAAutomation\\Dataset\\Images\\25_04_2025\\Source\\2024_07_09_11_30_102.jpg: 544x640 1 Fire, 3637.3ms\n",
      "Speed: 13.0ms preprocess, 3637.3ms inference, 26.0ms postprocess per image at shape (1, 3, 544, 640)\n",
      "1\n",
      "\n",
      "image 1/1 F:\\Work\\SOCAAutomation\\Dataset\\Images\\25_04_2025\\Source\\2024_07_09_11_30_103.jpg: 544x640 1 Fire, 3564.2ms\n",
      "Speed: 12.0ms preprocess, 3564.2ms inference, 19.0ms postprocess per image at shape (1, 3, 544, 640)\n",
      "1\n",
      "\n",
      "image 1/1 F:\\Work\\SOCAAutomation\\Dataset\\Images\\25_04_2025\\Source\\2024_07_09_11_30_104.jpg: 544x640 1 Fire, 3350.0ms\n",
      "Speed: 11.0ms preprocess, 3350.0ms inference, 30.0ms postprocess per image at shape (1, 3, 544, 640)\n",
      "1\n"
     ]
    }
   ],
   "source": [
    "image_folder = r\"F:\\Work\\SOCAAutomation\\Dataset\\Images\\25_04_2025\\Source\"\n",
    "files = os.listdir(image_folder)\n",
    "test_results = []\n",
    "for i in range(5):\n",
    "    file_path = image_folder + \"/\" + files[i]\n",
    "    results = model.track(file_path, tracker=\"botsort.yaml\")\n",
    "    test_res.append(results)\n",
    "    print(len(results))"
   ]
  },
  {
   "cell_type": "code",
   "execution_count": 97,
   "id": "7f1785a8",
   "metadata": {},
   "outputs": [
    {
     "ename": "TypeError",
     "evalue": "'NoneType' object is not iterable",
     "output_type": "error",
     "traceback": [
      "\u001b[1;31m---------------------------------------------------------------------------\u001b[0m",
      "\u001b[1;31mTypeError\u001b[0m                                 Traceback (most recent call last)",
      "Cell \u001b[1;32mIn[97], line 12\u001b[0m\n\u001b[0;32m      9\u001b[0m track_ids \u001b[38;5;241m=\u001b[39m result\u001b[38;5;241m.\u001b[39mboxes\u001b[38;5;241m.\u001b[39mid\n\u001b[0;32m     11\u001b[0m \u001b[38;5;66;03m# Draw the bounding boxes and track IDs on the image\u001b[39;00m\n\u001b[1;32m---> 12\u001b[0m \u001b[38;5;28;01mfor\u001b[39;00m box, track_id \u001b[38;5;129;01min\u001b[39;00m \u001b[38;5;28mzip\u001b[39m(boxes, track_ids):\n\u001b[0;32m     13\u001b[0m     x1, y1, x2, y2 \u001b[38;5;241m=\u001b[39m \u001b[38;5;28mmap\u001b[39m(\u001b[38;5;28mint\u001b[39m, box)\n\u001b[0;32m     14\u001b[0m     cv\u001b[38;5;241m.\u001b[39mrectangle(img, (x1, y1), (x2, y2), (\u001b[38;5;241m0\u001b[39m, \u001b[38;5;241m255\u001b[39m, \u001b[38;5;241m0\u001b[39m), \u001b[38;5;241m2\u001b[39m)\n",
      "\u001b[1;31mTypeError\u001b[0m: 'NoneType' object is not iterable"
     ]
    }
   ],
   "source": [
    "# Extract Tracking results\n",
    "out_path = r\"F:\\Work\\SOCAAutomation\\Dataset\\Images\\25_04_2025\\Output_Model_08_04_2025\"\n",
    "frame = 0\n",
    "for result in results:\n",
    "    # Get bounding boxes and tracking IDs\n",
    "    if result.masks is not None:\n",
    "        img = result.orig_img\n",
    "        boxes = result.boxes.xyxy\n",
    "        track_ids = result.boxes.id\n",
    "\n",
    "        # Draw the bounding boxes and track IDs on the image\n",
    "        for box, track_id in zip(boxes, track_ids):\n",
    "            x1, y1, x2, y2 = map(int, box)\n",
    "            cv.rectangle(img, (x1, y1), (x2, y2), (0, 255, 0), 2)\n",
    "            cv.putText(img, f\"ID: {track_id}\", (x1, y1 - 10), cv.FONT_HERSHEY_SIMPLEX, 0.5, (255, 0, 0), 2)\n",
    "        cv.imwrite(out_path + \"/\" + str(frame) + \".jpg\", img)\n",
    "    frame += 1"
   ]
  },
  {
   "cell_type": "code",
   "execution_count": 98,
   "id": "13dff54f",
   "metadata": {},
   "outputs": [],
   "source": [
    "# Define list of features to be extracted from the segmented image\n",
    "feature_list = ['frame', 'n_masks', 'mask_area', 'mask_centroid', 'mask_conf', 'mask_strength', \n",
    "                'bbox_id', 'bbox_area', 'bbox_centroid', 'bbox_dim']\n",
    "\n",
    "features = {key: [] for key in feature_list}\n",
    "df_features = pd.DataFrame(features)\n",
    "# Check if atleast one mask exist\n",
    "frame = 0\n",
    "for result in results:\n",
    "    features = {key: [] for key in feature_list}\n",
    "    if result.masks is not None:\n",
    "        features['frame'] = frame\n",
    "        # Calculate number of masks in the segmented image\n",
    "        features['n_masks'] = len(result.masks)    \n",
    "\n",
    "        # Bounding Box Parameters\n",
    "        bboxes = result.boxes\n",
    "\n",
    "        # Extract confidence score of all the masks\n",
    "        features['mask_conf'] = list(np.array(bboxes.conf))\n",
    "        \n",
    "        if bboxes.is_track is True:\n",
    "            features['bbox_id'] = list(np.array(bboxes.id))\n",
    "        else:\n",
    "            features['bbox_id'] = [0] * np.array(bboxes.conf).shape[0]\n",
    "        \n",
    "        bbox_data = np.array(bboxes.data)\n",
    "\n",
    "        for box in bbox_data:\n",
    "            # Extract Bounding box dimension [Width, Height] for each box\n",
    "            width = np.round(abs(box[0] - box[2]))\n",
    "            height = np.round(abs(box[1] - box[3]))            \n",
    "            features['bbox_dim'].append([width, height])\n",
    "\n",
    "            # Extract Bounding box Centroid for each box\n",
    "            xcoord = np.round(np.mean([box[0], box[2]]))\n",
    "            ycoord = np.round(np.mean([box[1], box[3]]))\n",
    "            features['bbox_centroid'].append([xcoord, ycoord])\n",
    "\n",
    "            # Calculate Bounding box Area for each box\n",
    "            features['bbox_area'].append(width * height)\n",
    "\n",
    "        # Mask Parameters\n",
    "        masks = np.array(result.masks.data, dtype='uint8')\n",
    "        for mask in masks:\n",
    "            # Mask Area: Count number of non zero pixels in mask\n",
    "            features['mask_area'].append(np.count_nonzero(mask))\n",
    "\n",
    "            # Mask Centroid: Calculate mean of non zero pixel x and y coordinates\n",
    "            features['mask_centroid'].append(MaskCentroid(mask))\n",
    "\n",
    "            ## Mask Strength: \n",
    "            # Apply mask on the original image\n",
    "            # Measure average pixel strength excluding non zero pixels\n",
    "            features['mask_strength'].append(MaskStrength(mask, test_img_resized))\n",
    "        temp_df = pd.DataFrame(features)\n",
    "        df_features = pd.concat([df_features, temp_df])\n",
    "    frame += 1"
   ]
  },
  {
   "cell_type": "code",
   "execution_count": 99,
   "id": "1bc3434e",
   "metadata": {},
   "outputs": [],
   "source": [
    "df_features.to_csv(\"df_08_04_2025.csv\")"
   ]
  },
  {
   "cell_type": "code",
   "execution_count": 92,
   "id": "9a1bf384",
   "metadata": {},
   "outputs": [
    {
     "data": {
      "text/html": [
       "<div>\n",
       "<style scoped>\n",
       "    .dataframe tbody tr th:only-of-type {\n",
       "        vertical-align: middle;\n",
       "    }\n",
       "\n",
       "    .dataframe tbody tr th {\n",
       "        vertical-align: top;\n",
       "    }\n",
       "\n",
       "    .dataframe thead th {\n",
       "        text-align: right;\n",
       "    }\n",
       "</style>\n",
       "<table border=\"1\" class=\"dataframe\">\n",
       "  <thead>\n",
       "    <tr style=\"text-align: right;\">\n",
       "      <th></th>\n",
       "      <th>bbox_id</th>\n",
       "      <th>mask_centroid</th>\n",
       "    </tr>\n",
       "    <tr>\n",
       "      <th>frame</th>\n",
       "      <th></th>\n",
       "      <th></th>\n",
       "    </tr>\n",
       "  </thead>\n",
       "  <tbody>\n",
       "    <tr>\n",
       "      <th>0.0</th>\n",
       "      <td>[1.0, 2.0]</td>\n",
       "      <td>[[169.0, 296.0], [246.0, 270.0]]</td>\n",
       "    </tr>\n",
       "    <tr>\n",
       "      <th>1.0</th>\n",
       "      <td>[1.0, 2.0]</td>\n",
       "      <td>[[166.0, 296.0], [244.0, 265.0]]</td>\n",
       "    </tr>\n",
       "    <tr>\n",
       "      <th>2.0</th>\n",
       "      <td>[1.0, 2.0]</td>\n",
       "      <td>[[158.0, 300.0], [246.0, 267.0]]</td>\n",
       "    </tr>\n",
       "    <tr>\n",
       "      <th>3.0</th>\n",
       "      <td>[1.0, 2.0]</td>\n",
       "      <td>[[158.0, 297.0], [245.0, 266.0]]</td>\n",
       "    </tr>\n",
       "    <tr>\n",
       "      <th>4.0</th>\n",
       "      <td>[1.0, 2.0]</td>\n",
       "      <td>[[159.0, 303.0], [242.0, 264.0]]</td>\n",
       "    </tr>\n",
       "    <tr>\n",
       "      <th>...</th>\n",
       "      <td>...</td>\n",
       "      <td>...</td>\n",
       "    </tr>\n",
       "    <tr>\n",
       "      <th>145.0</th>\n",
       "      <td>[23.0, 25.0]</td>\n",
       "      <td>[[186.0, 289.0], [294.0, 192.0]]</td>\n",
       "    </tr>\n",
       "    <tr>\n",
       "      <th>146.0</th>\n",
       "      <td>[23.0]</td>\n",
       "      <td>[[176.0, 294.0]]</td>\n",
       "    </tr>\n",
       "    <tr>\n",
       "      <th>147.0</th>\n",
       "      <td>[23.0]</td>\n",
       "      <td>[[174.0, 299.0]]</td>\n",
       "    </tr>\n",
       "    <tr>\n",
       "      <th>148.0</th>\n",
       "      <td>[23.0, 25.0]</td>\n",
       "      <td>[[170.0, 298.0], [295.0, 195.0]]</td>\n",
       "    </tr>\n",
       "    <tr>\n",
       "      <th>149.0</th>\n",
       "      <td>[23.0]</td>\n",
       "      <td>[[168.0, 298.0]]</td>\n",
       "    </tr>\n",
       "  </tbody>\n",
       "</table>\n",
       "<p>150 rows × 2 columns</p>\n",
       "</div>"
      ],
      "text/plain": [
       "            bbox_id                     mask_centroid\n",
       "frame                                                \n",
       "0.0      [1.0, 2.0]  [[169.0, 296.0], [246.0, 270.0]]\n",
       "1.0      [1.0, 2.0]  [[166.0, 296.0], [244.0, 265.0]]\n",
       "2.0      [1.0, 2.0]  [[158.0, 300.0], [246.0, 267.0]]\n",
       "3.0      [1.0, 2.0]  [[158.0, 297.0], [245.0, 266.0]]\n",
       "4.0      [1.0, 2.0]  [[159.0, 303.0], [242.0, 264.0]]\n",
       "...             ...                               ...\n",
       "145.0  [23.0, 25.0]  [[186.0, 289.0], [294.0, 192.0]]\n",
       "146.0        [23.0]                  [[176.0, 294.0]]\n",
       "147.0        [23.0]                  [[174.0, 299.0]]\n",
       "148.0  [23.0, 25.0]  [[170.0, 298.0], [295.0, 195.0]]\n",
       "149.0        [23.0]                  [[168.0, 298.0]]\n",
       "\n",
       "[150 rows x 2 columns]"
      ]
     },
     "execution_count": 92,
     "metadata": {},
     "output_type": "execute_result"
    }
   ],
   "source": [
    "df_features.groupby('frame').agg({'bbox_id': list, 'mask_centroid':list})"
   ]
  },
  {
   "cell_type": "code",
   "execution_count": 100,
   "id": "9808b343",
   "metadata": {},
   "outputs": [],
   "source": [
    "df1 = pd.read_csv(\"df_28_08_2024.csv\")\n",
    "df2 = pd.read_csv(\"df_08_04_2025.csv\")\n",
    "df3 = pd.read_csv(\"df_11_04_2025.csv\")\n"
   ]
  },
  {
   "cell_type": "code",
   "execution_count": 103,
   "id": "c6da4179",
   "metadata": {},
   "outputs": [
    {
     "data": {
      "text/html": [
       "<div>\n",
       "<style scoped>\n",
       "    .dataframe tbody tr th:only-of-type {\n",
       "        vertical-align: middle;\n",
       "    }\n",
       "\n",
       "    .dataframe tbody tr th {\n",
       "        vertical-align: top;\n",
       "    }\n",
       "\n",
       "    .dataframe thead th {\n",
       "        text-align: right;\n",
       "    }\n",
       "</style>\n",
       "<table border=\"1\" class=\"dataframe\">\n",
       "  <thead>\n",
       "    <tr style=\"text-align: right;\">\n",
       "      <th></th>\n",
       "      <th>28_08</th>\n",
       "      <th>08_04</th>\n",
       "      <th>11_04</th>\n",
       "    </tr>\n",
       "    <tr>\n",
       "      <th>frame</th>\n",
       "      <th></th>\n",
       "      <th></th>\n",
       "      <th></th>\n",
       "    </tr>\n",
       "  </thead>\n",
       "  <tbody>\n",
       "    <tr>\n",
       "      <th>0.0</th>\n",
       "      <td>2.0</td>\n",
       "      <td>2.0</td>\n",
       "      <td>2.0</td>\n",
       "    </tr>\n",
       "    <tr>\n",
       "      <th>1.0</th>\n",
       "      <td>2.0</td>\n",
       "      <td>2.0</td>\n",
       "      <td>2.0</td>\n",
       "    </tr>\n",
       "    <tr>\n",
       "      <th>2.0</th>\n",
       "      <td>2.0</td>\n",
       "      <td>2.0</td>\n",
       "      <td>2.0</td>\n",
       "    </tr>\n",
       "    <tr>\n",
       "      <th>3.0</th>\n",
       "      <td>3.0</td>\n",
       "      <td>2.0</td>\n",
       "      <td>2.0</td>\n",
       "    </tr>\n",
       "    <tr>\n",
       "      <th>4.0</th>\n",
       "      <td>2.0</td>\n",
       "      <td>2.0</td>\n",
       "      <td>2.0</td>\n",
       "    </tr>\n",
       "  </tbody>\n",
       "</table>\n",
       "</div>"
      ],
      "text/plain": [
       "       28_08  08_04  11_04\n",
       "frame                     \n",
       "0.0      2.0    2.0    2.0\n",
       "1.0      2.0    2.0    2.0\n",
       "2.0      2.0    2.0    2.0\n",
       "3.0      3.0    2.0    2.0\n",
       "4.0      2.0    2.0    2.0"
      ]
     },
     "execution_count": 103,
     "metadata": {},
     "output_type": "execute_result"
    }
   ],
   "source": [
    "df_comb = pd.DataFrame()\n",
    "df_comb['28_08'] = df1.groupby('frame')['n_masks'].max()\n",
    "df_comb['08_04'] = df2.groupby('frame')['n_masks'].max()\n",
    "df_comb['11_04'] = df3.groupby('frame')['n_masks'].max()\n",
    "df_comb.head()"
   ]
  },
  {
   "cell_type": "code",
   "execution_count": 105,
   "id": "b2cfb1f3",
   "metadata": {},
   "outputs": [
    {
     "data": {
      "text/plain": [
       "<Axes: xlabel='frame'>"
      ]
     },
     "execution_count": 105,
     "metadata": {},
     "output_type": "execute_result"
    },
    {
     "data": {
      "text/plain": [
       "<Figure size 1200x600 with 0 Axes>"
      ]
     },
     "metadata": {},
     "output_type": "display_data"
    },
    {
     "data": {
      "image/png": "[encoded data removed]",
      "text/plain": [
       "<Figure size 640x480 with 1 Axes>"
      ]
     },
     "metadata": {},
     "output_type": "display_data"
    }
   ],
   "source": [
    "plt.figure(figsize=(12,6))\n",
    "df_comb.plot(kind='line')"
   ]
  },
  {
   "cell_type": "code",
   "execution_count": null,
   "id": "5cbdf395",
   "metadata": {},
   "outputs": [],
   "source": [
    "preprocessed_img = preprocess(img, gaussian_kernel)\n",
    "med = np.median(preprocessed_img)\n",
    "ret, thresh = cv.threshold(preprocessed_img, multiplier*med, 255, cv.THRESH_BINARY)\n",
    "total_edges.append(np.count_nonzero(thresh))\n",
    "img_transform.append(thresh)\n",
    "gray_images.append(convertgray(path + \"/\" + frames[i]))\n",
    "plot_images2by2(img_transform[i], gray_images[i])\n",
    "plt.title(str(med) + \", \" + str(np.mean(preprocessed_img)))"
   ]
  },
  {
   "cell_type": "code",
   "execution_count": null,
   "id": "17e08b77",
   "metadata": {},
   "outputs": [],
   "source": []
  },
  {
   "cell_type": "markdown",
   "id": "4e903c99",
   "metadata": {},
   "source": [
    "# Merge images to video "
   ]
  },
  {
   "cell_type": "code",
   "execution_count": 245,
   "id": "b64d2145",
   "metadata": {},
   "outputs": [],
   "source": [
    "def Images2Video(image_folder, video_file_name=\"combine_images.mp4\"):\n",
    "    #image_folder = r\"F:\\Work\\SOCAAutomation\\Dataset\\Images\\25_04_2025\"\n",
    "    out = cv.VideoWriter(\"combine_images.mp4\", cv.VideoWriter_fourcc(*\"MJPG\"), 1, (640, 640))\n",
    "    for file in os.listdir(image_folder):\n",
    "        file_path = image_folder + \"/\" + file\n",
    "        frame = resize(cv.imread(file_path))\n",
    "        out.write(frame)\n",
    "    out.release()"
   ]
  },
  {
   "cell_type": "code",
   "execution_count": null,
   "id": "e571d75d",
   "metadata": {},
   "outputs": [],
   "source": [
    "Images2Video(r\"F:\\Work\\SOCAAutomation\\Dataset\\Images\\25_04_2025\", video_file_name=\"combine_images.mp4\")"
   ]
  }
 ],
 "metadata": {
  "kernelspec": {
   "display_name": "Python 3 (ipykernel)",
   "language": "python",
   "name": "python3"
  },
  "language_info": {
   "codemirror_mode": {
    "name": "ipython",
    "version": 3
   },
   "file_extension": ".py",
   "mimetype": "text/x-python",
   "name": "python",
   "nbconvert_exporter": "python",
   "pygments_lexer": "ipython3",
   "version": "3.11.5"
  }
 },
 "nbformat": 4,
 "nbformat_minor": 5
}
