{
 "cells": [
  {
   "cell_type": "code",
   "execution_count": 3,
   "id": "547061c1",
   "metadata": {},
   "outputs": [],
   "source": [
    "import numpy as np\n",
    "import cv2 as cv\n",
    "import matplotlib.pyplot as plt\n",
    "import seaborn as sns\n",
    "import os\n",
    "import pandas as pd\n",
    "import math\n",
    "from ultralytics import YOLO\n",
    "from ultralytics.utils.plotting import Annotator, colors"
   ]
  },
  {
   "cell_type": "code",
   "execution_count": null,
   "id": "b2339e9a",
   "metadata": {},
   "outputs": [],
   "source": [
    "Directory = r\"F:\\Work\\SOCAAutomation\\Dataset\\Images\\09072024_1_1\"\n",
    "FileName = \"2024_07_09_11_30_174.jpg\"\n",
    "raw_img = cv.imread(Directory + \"/\" + FileName)\n",
    "img = cv.cvtColor(raw_img, cv.COLOR_BGR2GRAY)\n",
    "img = raw_img"
   ]
  },
  {
   "cell_type": "code",
   "execution_count": 1,
   "id": "d908b358",
   "metadata": {},
   "outputs": [],
   "source": [
    "def resize(frame, width = 640, height = 640):\n",
    "    return cv.resize(frame, (width, height), interpolation = cv.INTER_LINEAR)\n",
    "def InferenceImage(model, frame):\n",
    "    results = model(resize(frame), conf=0.3, save=True, show_labels=False, retina_masks=True)\n",
    "    return results"
   ]
  },
  {
   "cell_type": "markdown",
   "id": "a368a32f",
   "metadata": {},
   "source": [
    "# Visibility Estimation"
   ]
  },
  {
   "cell_type": "code",
   "execution_count": 2,
   "id": "4ce7656a",
   "metadata": {},
   "outputs": [],
   "source": [
    "def edge_detection(img):    \n",
    "    gradx = cv.Sobel(img, cv.CV_64F, 1, 0, ksize=3)\n",
    "    grady = cv.Sobel(img, cv.CV_64F, 0, 1, ksize=3)\n",
    "    return gradx, grady\n",
    "\n",
    "def blurimage(img, kernelsize):\n",
    "    return cv.GaussianBlur(img, (kernelsize, kernelsize), 0)\n",
    "\n",
    "def convertgray(img):    \n",
    "    gray = cv.cvtColor(img, cv.COLOR_BGR2GRAY)\n",
    "    return gray\n",
    "\n",
    "def preprocess(img, kernelsize):\n",
    "    gray_img = convertgray(img)\n",
    "    img_blur = blurimage(gray_img, kernelsize)\n",
    "    gradx, grady = edge_detection(img_blur)\n",
    "    grad_mag = cv.magnitude(gradx, grady)\n",
    "    grad_mag_norm = cv.normalize(grad_mag, None, 0, 255, cv.NORM_MINMAX)\n",
    "    return grad_mag_norm\n",
    "\n",
    "def count_edges(target_img, kernelsize, multiplier):\n",
    "    preprocessed_img = preprocess(target_img, kernelsize)\n",
    "    _, thresh = cv.threshold(preprocessed_img, multiplier * np.median(preprocessed_img), 255, cv.THRESH_BINARY)             \n",
    "    total_edges = np.count_nonzero(thresh)\n",
    "    return total_edges\n",
    "\n",
    "def edge_strength_ratio(ref_edge, target_edge):\n",
    "    return np.round((target_edge / ref_edge),2)"
   ]
  },
  {
   "cell_type": "code",
   "execution_count": null,
   "id": "5954e691",
   "metadata": {},
   "outputs": [],
   "source": [
    "gaussian_kernel = 5\n",
    "multiplier = 5\n",
    "ref_edge = count_edges(ref_image, kernelsize, multiplier)\n",
    "curr_edge = count_edges(image, kernelsize, multiplier)\n",
    "edge_strength = np.round((curr_edge / ref_edge),2)"
   ]
  },
  {
   "cell_type": "code",
   "execution_count": 20,
   "id": "891d13e8",
   "metadata": {},
   "outputs": [],
   "source": [
    "def calcFrames(start, end, fps, offset=200):\n",
    "    startFrame = (int(start[0]) * 60 + int(start[1])) * fps\n",
    "    endFrame = (int(end[0]) * 60 + int(end[1])) * fps \n",
    "    return startFrame-offset, endFrame+offset"
   ]
  },
  {
   "cell_type": "code",
   "execution_count": 2,
   "id": "ee795fa4",
   "metadata": {},
   "outputs": [
    {
     "ename": "NameError",
     "evalue": "name 'pd' is not defined",
     "output_type": "error",
     "traceback": [
      "\u001b[1;31m---------------------------------------------------------------------------\u001b[0m",
      "\u001b[1;31mNameError\u001b[0m                                 Traceback (most recent call last)",
      "Cell \u001b[1;32mIn[2], line 1\u001b[0m\n\u001b[1;32m----> 1\u001b[0m data \u001b[38;5;241m=\u001b[39m pd\u001b[38;5;241m.\u001b[39mread_csv(\u001b[38;5;124mr\u001b[39m\u001b[38;5;124m\"\u001b[39m\u001b[38;5;124mF:\u001b[39m\u001b[38;5;124m\\\u001b[39m\u001b[38;5;124mWork\u001b[39m\u001b[38;5;124m\\\u001b[39m\u001b[38;5;124mSOCAAutomation\u001b[39m\u001b[38;5;124m\\\u001b[39m\u001b[38;5;124mDataset\u001b[39m\u001b[38;5;124m\\\u001b[39m\u001b[38;5;124mBook1.csv\u001b[39m\u001b[38;5;124m\"\u001b[39m)\n\u001b[0;32m      2\u001b[0m data\u001b[38;5;241m.\u001b[39mhead()\n",
      "\u001b[1;31mNameError\u001b[0m: name 'pd' is not defined"
     ]
    }
   ],
   "source": [
    "data = pd.read_csv(r\"F:\\Work\\SOCAAutomation\\Dataset\\Book1.csv\")\n",
    "data.head()"
   ]
  },
  {
   "cell_type": "markdown",
   "id": "6a823fa1",
   "metadata": {},
   "source": [
    "# Build Features"
   ]
  },
  {
   "cell_type": "code",
   "execution_count": 45,
   "id": "28ea8c30",
   "metadata": {},
   "outputs": [],
   "source": [
    "## \n",
    "\n"
   ]
  },
  {
   "cell_type": "code",
   "execution_count": null,
   "id": "90e328b2",
   "metadata": {},
   "outputs": [],
   "source": []
  },
  {
   "cell_type": "markdown",
   "id": "7b0bc7de",
   "metadata": {},
   "source": [
    "# Main"
   ]
  },
  {
   "cell_type": "code",
   "execution_count": 47,
   "id": "62b62db0",
   "metadata": {},
   "outputs": [],
   "source": [
    "# Configurations\n",
    "model_file = r\"F:\\Work\\SOCAAutomation\\Models\\11_04_2025\\best.pt\"\n",
    "video_file = r\"F:\\Work\\SOCAAutomation\\Dataset\\Converted\\04_07_2024\\AXIS 213 - 10.1.5.173 2024-07-04_11_51_08_772.mp4\"\n",
    "data = pd.read_csv(r\"F:\\Work\\SOCAAutomation\\Dataset\\Book1.csv\")\n",
    "data_grp = data.groupby(['Folder', 'Video File'])[['Start Time', 'End Time']].agg(list)\n",
    "start_list = data_grp.iloc[0]['Start Time']\n",
    "end_list = data_grp.iloc[0]['End Time']\n",
    "fps = 30"
   ]
  },
  {
   "cell_type": "code",
   "execution_count": 25,
   "id": "b9c369c3",
   "metadata": {},
   "outputs": [
    {
     "name": "stdout",
     "output_type": "stream",
     "text": [
      "Start Frame: 5 and End Frame 10 is recalculated...\n"
     ]
    }
   ],
   "source": [
    "print(\"Start Frame: {} and End Frame {} is recalculated...\".format(5,  10))"
   ]
  },
  {
   "cell_type": "code",
   "execution_count": null,
   "id": "04428746",
   "metadata": {},
   "outputs": [],
   "source": [
    "# Load Model\n",
    "# REINSTALL ULTRALYTICS 8.2.103 #model = YOLO(model_file, task='segment')\n",
    "\n",
    "\n",
    "# Load video\n",
    "video = cv.VideoCapture(video_file)\n",
    "\n",
    "# Loop over frames\n",
    "\n",
    "count_frame = 0\n",
    "frame_referenced = False\n",
    "subseg_det = false\n",
    "subseg_ind = 0\n",
    "start_frame, end_frame = calcFrames(start_list[subseg_ind].split(\":\"), end_list[subseg_ind].split(\":\"), fps):\n",
    "while True:\n",
    "    ret, frame = video.read()\n",
    "    count_frame += 1 \n",
    "    if ret:               \n",
    "        if frame_referenced is False and count_frame > 10 and count_frame < 100:\n",
    "            # Build reference image\n",
    "            ref_image = resize(frame)\n",
    "            ref_edge = count_edges(ref_image, kernelsize, multiplier)\n",
    "            frame_referenced = True\n",
    "            print(\"Reference Frame detected and Reference edge is {}\".format(ref_edge))\n",
    "        if count_frame >= start_frame and count_frame <= end_frame:\n",
    "            subseg_det = True\n",
    "            print(\"Subsegment {} is detected...\".format(subseg_ind + 1))\n",
    "            \n",
    "        elif subseg_det is True:\n",
    "            subseg_det = False\n",
    "            ind += 1            \n",
    "            start_frame, end_frame = calcFrames(start_list[subseg_ind].split(\":\"), end_list[subseg_ind].split(\":\"), fps)\n",
    "            print(\"Start Frame: {} and End Frame {} is recalculated...\".format(start_frame,  end_frame))\n",
    "    else:\n",
    "        if subseg_det is True:\n",
    "            print(\"{} frame is missing\".format(count_frame))\n",
    "            \n",
    "        \n",
    "\n",
    "\n",
    "\n",
    "# Reference Images Visibility: Once for one experiment\n",
    "# Load Reference image\n",
    "# Estimate visibility\n",
    "\n",
    "# Loop over subsegments of video\n",
    "\n",
    "# Inference image\n",
    "\n",
    "# Build Features\n",
    "\n"
   ]
  },
  {
   "cell_type": "markdown",
   "id": "6a17954d",
   "metadata": {},
   "source": [
    "# Testing"
   ]
  },
  {
   "cell_type": "code",
   "execution_count": 121,
   "id": "1af7c33c",
   "metadata": {},
   "outputs": [],
   "source": [
    "test_img_path = r\"F:\\Work\\SOCAAutomation\\Dataset\\TestImages\\TwoFire.jpg\"\n",
    "#model_file = r\"F:\\Work\\SOCAAutomation\\Models\\11_04_2025\\best.pt\"\n",
    "model_file = r\"F:\\Work\\SOCAAutomation\\Models\\28_08_2024\\best_yolov8m_seg.pt\"\n",
    "model2 = YOLO(model_file)#, task='segment')\n",
    "test_img = cv.imread(test_img_path)\n",
    "test_img_resized = resize(test_img)"
   ]
  },
  {
   "cell_type": "code",
   "execution_count": 124,
   "id": "09a1a593",
   "metadata": {},
   "outputs": [
    {
     "name": "stderr",
     "output_type": "stream",
     "text": [
      "\n",
      "0: 640x640 2 Fire-Smoke-Sodium-Trays, 4263.9ms\n",
      "Speed: 10.0ms preprocess, 4263.9ms inference, 773.6ms postprocess per image at shape (1, 3, 640, 640)\n",
      "Results saved to \u001b[1mruns\\segment\\predict13\u001b[0m\n"
     ]
    }
   ],
   "source": [
    "results = model2(test_img_resized, conf=0.3, save=True, show_labels=False, retina_masks=True)"
   ]
  },
  {
   "cell_type": "code",
   "execution_count": 125,
   "id": "2c1f150f",
   "metadata": {
    "scrolled": true
   },
   "outputs": [
    {
     "data": {
      "text/plain": [
       "<matplotlib.image.AxesImage at 0x1e7e84e1110>"
      ]
     },
     "execution_count": 125,
     "metadata": {},
     "output_type": "execute_result"
    },
    {
     "data": {
      "image/png": "[encoded data removed]",
      "text/plain": [
       "<Figure size 640x480 with 1 Axes>"
      ]
     },
     "metadata": {},
     "output_type": "display_data"
    }
   ],
   "source": [
    "plt.imshow(results[0].masks.data[0])\n"
   ]
  },
  {
   "cell_type": "code",
   "execution_count": 90,
   "id": "1bc18a74",
   "metadata": {},
   "outputs": [],
   "source": [
    "def findCentroid(mask_img):\n",
    "    contours, hierarchies = cv.findContours(mask_img.astype(np.uint8), cv.RETR_LIST, cv.CHAIN_APPROX_SIMPLE)\n",
    "    points = []\n",
    "    area = []\n",
    "    if len(contours) > 0:\n",
    "        for i in contours:            \n",
    "            M = cv.moments(i)\n",
    "            if M['m00'] != 0:\n",
    "                cx = int(M['m10']/M['m00'])\n",
    "                cy = int(M['m01']/M['m00'])\n",
    "                points.append([cx, cy])\n",
    "                area.append(M['m00'])\n",
    "    return points, area, contours, hierarchies"
   ]
  },
  {
   "cell_type": "code",
   "execution_count": 93,
   "id": "359bf4cb",
   "metadata": {},
   "outputs": [
    {
     "data": {
      "text/plain": [
       "array([[False, False, False, ..., False, False, False],\n",
       "       [False, False, False, ..., False, False, False],\n",
       "       [False, False, False, ..., False, False, False],\n",
       "       ...,\n",
       "       [False, False, False, ..., False, False, False],\n",
       "       [False, False, False, ..., False, False, False],\n",
       "       [False, False, False, ..., False, False, False]])"
      ]
     },
     "execution_count": 93,
     "metadata": {},
     "output_type": "execute_result"
    }
   ],
   "source": [
    "mask_img = np.any(np.array(results[0].masks[:].data), axis=0)\n",
    "mask_img"
   ]
  },
  {
   "cell_type": "code",
   "execution_count": 94,
   "id": "8de115b6",
   "metadata": {},
   "outputs": [],
   "source": [
    "boolean_masks = np.any(np.array(results[0].masks[:].data), axis=0)\n",
    "Centroids, Area, Contours, hierarchies = findCentroid(boolean_masks)\n"
   ]
  },
  {
   "cell_type": "code",
   "execution_count": 177,
   "id": "4e421162",
   "metadata": {},
   "outputs": [
    {
     "data": {
      "text/plain": [
       "26.0"
      ]
     },
     "execution_count": 177,
     "metadata": {},
     "output_type": "execute_result"
    }
   ],
   "source": [
    "test = np.array(results[0].boxes.data[0])\n",
    "np.round(abs(test[0] - test[2]), 0)\n",
    "# width = x1 - x2"
   ]
  },
  {
   "cell_type": "code",
   "execution_count": null,
   "id": "499a9e7c",
   "metadata": {},
   "outputs": [],
   "source": [
    "mask_area = []\n",
    "mask_centroid = []\n",
    "bbox_area = []\n",
    "bbox_centroid = []\n",
    "bbox_dim = []\n",
    "mask_conf = []\n",
    "if results[0].masks is not None:\n",
    "    n_contours = len(results[0].masks)\n",
    "    masks = results[0].masks.data\n",
    "    bboxes = results[0].boxes\n",
    "    # Bounding Box Parameters\n",
    "    mask_conf = list(np.array(bboxes.conf))\n",
    "    bbox_data = np.array(results[0].boxes.data)\n",
    "    for box in bbox_data:\n",
    "        width = np.round(np.round(abs(box[0] - box[2]))\n",
    "        height = np.round(abs(box[1] - box[3]))\n",
    "        bbox_dim.append([width, height])\n",
    "        \n",
    "    # Mask Parameters\n",
    "    for mask in masks:\n",
    "        mask_area.append(np.count_nonzero(mask))\n",
    "        mask_centroid.append(np.round(np.mean(np.where(mask), axis=1)).astype('int'))"
   ]
  },
  {
   "cell_type": "code",
   "execution_count": null,
   "id": "5cbdf395",
   "metadata": {},
   "outputs": [],
   "source": [
    "preprocessed_img = preprocess(img, gaussian_kernel)\n",
    "med = np.median(preprocessed_img)\n",
    "ret, thresh = cv.threshold(preprocessed_img, multiplier*med, 255, cv.THRESH_BINARY)\n",
    "total_edges.append(np.count_nonzero(thresh))\n",
    "img_transform.append(thresh)\n",
    "gray_images.append(convertgray(path + \"/\" + frames[i]))\n",
    "plot_images2by2(img_transform[i], gray_images[i])\n",
    "plt.title(str(med) + \", \" + str(np.mean(preprocessed_img)))"
   ]
  }
 ],
 "metadata": {
  "kernelspec": {
   "display_name": "Python 3 (ipykernel)",
   "language": "python",
   "name": "python3"
  },
  "language_info": {
   "codemirror_mode": {
    "name": "ipython",
    "version": 3
   },
   "file_extension": ".py",
   "mimetype": "text/x-python",
   "name": "python",
   "nbconvert_exporter": "python",
   "pygments_lexer": "ipython3",
   "version": "3.11.5"
  }
 },
 "nbformat": 4,
 "nbformat_minor": 5
}
