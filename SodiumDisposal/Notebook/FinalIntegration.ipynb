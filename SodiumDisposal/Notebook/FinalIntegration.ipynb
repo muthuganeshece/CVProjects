{
 "cells": [
  {
   "cell_type": "code",
   "execution_count": 1,
   "id": "91caf0b5",
   "metadata": {},
   "outputs": [],
   "source": [
    "import numpy as np\n",
    "import cv2 as cv\n",
    "import matplotlib.pyplot as plt\n",
    "import seaborn as sns\n",
    "import os\n",
    "import pandas as pd\n",
    "import math\n",
    "from ultralytics import YOLO\n",
    "import itertools\n",
    "\n",
    "# import tensorflow as tf\n",
    "from tensorflow.keras.models import load_model"
   ]
  },
  {
   "cell_type": "markdown",
   "id": "0beec247",
   "metadata": {},
   "source": [
    "# Load image"
   ]
  },
  {
   "cell_type": "code",
   "execution_count": 2,
   "id": "f33520c5",
   "metadata": {},
   "outputs": [],
   "source": [
    "def resize(frame, width = 640, height = 640):\n",
    "    return cv.resize(frame, (width, height), interpolation = cv.INTER_LINEAR)\n",
    "\n",
    "def preprocess_image(frame):\n",
    "    return resize(frame)\n",
    "\n",
    "def load_image(path):\n",
    "    return cv.imread(path)"
   ]
  },
  {
   "cell_type": "markdown",
   "id": "9881d758",
   "metadata": {},
   "source": [
    "# Feature Extraction"
   ]
  },
  {
   "cell_type": "code",
   "execution_count": 3,
   "id": "30211664",
   "metadata": {},
   "outputs": [],
   "source": [
    "def MaskStrength(mask, img):\n",
    "    \"\"\"\n",
    "    Calculates Pixel Strength for mask\n",
    "    1. Apply mask on the original color image\n",
    "    2. Calculate average of non zero pixels\n",
    "    \"\"\"\n",
    "    mask_3d = np.expand_dims(mask, axis=-1)\n",
    "    masked_array = (img * mask_3d).flatten()\n",
    "    return masked_array[masked_array>0].mean().round(2)\n",
    "\n",
    "def MaskCentroid(mask):\n",
    "    \"\"\"\n",
    "    Calculates Centroid for mask\n",
    "    1. Extract indices of non zero pixels in a mask\n",
    "    2. Calculate average of x and y coordinates\n",
    "    3. Flip the array, since here x and y corresponds to row and column\n",
    "    \"\"\"\n",
    "    mask_indices = np.where(mask)\n",
    "    mask_centroid = np.round(np.mean(mask_indices, axis=1))\n",
    "    flip_centroid = list(np.flip(mask_centroid))\n",
    "    return flip_centroid"
   ]
  },
  {
   "cell_type": "code",
   "execution_count": 4,
   "id": "52cb1d43",
   "metadata": {},
   "outputs": [],
   "source": [
    "def extract_features_inferencing(results, feature_list):\n",
    "# Check if atleast one mask exist\n",
    "    frame = 0\n",
    "    result = results[0]\n",
    "    features = {key: [] for key in feature_list}\n",
    "    d = {key: [] for key in ['n_masks', 'width', 'height', 'bbox_centroid', 'box_area', 'mask_area', 'mask_centroid', 'mask_strength']}\n",
    "    if result.masks is not None:\n",
    "\n",
    "        # Calculate number of masks in the segmented image\n",
    "        features['n_masks'] = len(result.masks)    \n",
    "\n",
    "        # Bounding Box Parameters\n",
    "        bboxes = result.boxes\n",
    "\n",
    "        bbox_data = np.array(bboxes.data)\n",
    "        width = []\n",
    "        height = []\n",
    "        x_centroid = []\n",
    "        y_centroid = []\n",
    "        box_area = []\n",
    "        for box in bbox_data:\n",
    "            # Extract Bounding box dimension [Width, Height] for each box\n",
    "            w = np.round(abs(box[0] - box[2]))\n",
    "            h = np.round(abs(box[1] - box[3]))\n",
    "            d['width'].append(w)\n",
    "            d['height'].append(h)            \n",
    "\n",
    "            # Extract Bounding box Centroid for each box\n",
    "            xcoord = np.round(np.mean([box[0], box[2]]))\n",
    "            ycoord = np.round(np.mean([box[1], box[3]]))\n",
    "            d['bbox_centroid'].append([xcoord, ycoord])\n",
    "\n",
    "            # Calculate Bounding box Area for each box\n",
    "            d['box_area'].append(w*h)\n",
    "        \n",
    "        features['bbox_width'] = np.mean(d['width'])\n",
    "        features['bbox_height'] = np.mean(d['height'])\n",
    "        features['bbox_area'] = np.mean(d['box_area'])\n",
    "        features['bbox_centroid_dist'] = calc_pair_distance(d['bbox_centroid'])\n",
    "        \n",
    "        # Mask Parameters\n",
    "        masks = np.array(result.masks.data, dtype='uint8')\n",
    "        mask_area = []\n",
    "        \n",
    "        for mask in masks:\n",
    "            # Mask Area: Count number of non zero pixels in mask\n",
    "            d['mask_area'].append(np.count_nonzero(mask))\n",
    "\n",
    "            # Mask Centroid: Calculate mean of non zero pixel x and y coordinates\n",
    "            d['mask_centroid'].append(MaskCentroid(mask))\n",
    "\n",
    "            ## Mask Strength: \n",
    "            # Apply mask on the original image\n",
    "            # Measure average pixel strength excluding non zero pixels\n",
    "            d['mask_strength'].append(MaskStrength(mask, result.orig_img))        \n",
    "        \n",
    "        features['mask_area'] = np.mean(d['mask_area'])\n",
    "        features['mask_strength'] = np.mean(d['mask_strength'])\n",
    "        features['mask_centroid_dist'] = calc_pair_distance(d['mask_centroid'])\n",
    "        \n",
    "        return [features[key] for key in features.keys()]\n",
    "    else:        \n",
    "        return [0 for key in features.keys()]"
   ]
  },
  {
   "cell_type": "code",
   "execution_count": 5,
   "id": "23b314d6",
   "metadata": {},
   "outputs": [],
   "source": [
    "def calc_dim(val, ind):\n",
    "    val = np.array(val)\n",
    "    if val.ndim == 1 and len(val) > 1: #Single Box\n",
    "        return val[ind]\n",
    "    elif val.ndim > 1: # More than 1 Box\n",
    "        if len(val[:,0]) == 0:\n",
    "            return -1\n",
    "        return np.mean(val[:,0])\n",
    "    else: # 0 Box\n",
    "        return 0   \n",
    "    \n",
    "def calc_pair_distance(val):\n",
    "    pair_distances = [np.linalg.norm(np.array(p1) - np.array(p2)) for p1, p2 in itertools.combinations(val, 2)]\n",
    "    if len(pair_distances) != 0:    \n",
    "        return np.round(sum(pair_distances) / len(pair_distances),2)\n",
    "    else:\n",
    "        return 0"
   ]
  },
  {
   "cell_type": "markdown",
   "id": "01dce3e6",
   "metadata": {},
   "source": [
    "# Visibility Estimation"
   ]
  },
  {
   "cell_type": "code",
   "execution_count": 6,
   "id": "303e84e6",
   "metadata": {},
   "outputs": [],
   "source": [
    "class visibility_estimation():\n",
    "    def __init__(self):\n",
    "        self.gaussian_kernel = 3\n",
    "        self.multiplier = 5\n",
    "        self.ref_edges = -1\n",
    "        \n",
    "    def reference_visibility(self, ref_image_path):\n",
    "        reference_image = load_image(ref_image_path)\n",
    "        ref_preprocessed = preprocess_image(reference_image)\n",
    "        self.ref_edges = self.count_edges(ref_preprocessed)\n",
    "                \n",
    "    def edge_detection(self, img):    \n",
    "        gradx = cv.Sobel(img, cv.CV_64F, 1, 0, ksize=3)\n",
    "        grady = cv.Sobel(img, cv.CV_64F, 0, 1, ksize=3)\n",
    "        return gradx, grady\n",
    "\n",
    "    def preprocess(self, img):\n",
    "        gray_img = cv.cvtColor(img, cv.COLOR_BGR2GRAY)\n",
    "        img_blur = cv.GaussianBlur(img, (self.gaussian_kernel, self.gaussian_kernel), 0)\n",
    "        gradx, grady = self.edge_detection(img_blur)\n",
    "        grad_mag = cv.magnitude(gradx, grady)\n",
    "        grad_mag_norm = cv.normalize(grad_mag, None, 0, 255, cv.NORM_MINMAX)\n",
    "        return grad_mag_norm\n",
    "\n",
    "    def count_edges(self, target_img):\n",
    "        preprocessed_img = self.preprocess(target_img)\n",
    "        _, thresh = cv.threshold(preprocessed_img, self.multiplier * np.median(preprocessed_img), 255, cv.THRESH_BINARY)             \n",
    "        total_edges = np.count_nonzero(thresh)\n",
    "        return total_edges\n",
    "\n",
    "    def edge_strength_ratio(self, preprocessed_img):\n",
    "        if self.ref_edges > 0:\n",
    "            target_edge = self.count_edges(preprocessed_img)\n",
    "            print(target_edge, self.ref_edges)\n",
    "            return np.round((target_edge / self.ref_edges),2)\n",
    "        else:\n",
    "            print(\"Estimate Reference Visibility\")\n",
    "            return -1"
   ]
  },
  {
   "cell_type": "markdown",
   "id": "f7c65ada",
   "metadata": {},
   "source": [
    "# Hydrogen Spark Detection"
   ]
  },
  {
   "cell_type": "code",
   "execution_count": 7,
   "id": "127bd9fb",
   "metadata": {},
   "outputs": [],
   "source": [
    "class spark_detection():\n",
    "    def __init__(self):\n",
    "        self.yolo_model_path = r\"Models\\yolo_model.pt\"\n",
    "        self.lstm_model_path = r\"Models\\lstm_model.h5\"\n",
    "        self.feature_list = ['n_masks', 'mask_area', 'bbox_area','mask_strength','bbox_width', 'bbox_height', 'mask_centroid_dist', 'bbox_centroid_dist']\n",
    "        self.lstm_input = np.zeros((10, len(self.feature_list)))\n",
    "        \n",
    "        \n",
    "    def load_models(self):\n",
    "        try:\n",
    "            print\n",
    "            self.yolo_model = YOLO(self.yolo_model_path)                       \n",
    "        except:\n",
    "            print(\"Error Loading YOLO Model\")\n",
    "            \n",
    "        try:\n",
    "            self.lstm_model = load_model(self.lstm_model_path)                      \n",
    "        except:\n",
    "            print(\"Error Loading LSTM Model\")\n",
    "\n",
    "    def update_window(self, new):\n",
    "        self.lstm_input[:-1] = self.lstm_input[1:]\n",
    "        self.lstm_input[-1] = new\n",
    "\n",
    "    def inference_image(self, img_path):\n",
    "        raw_image = load_image(img_path)\n",
    "    \n",
    "        # Preprocess Image\n",
    "        processed_image = preprocess_image(raw_image)\n",
    "\n",
    "        # YOLO Inferencing\n",
    "        results = self.yolo_model(processed_image, conf=0.2, iou=0.5, save=True, show_labels=False, retina_masks=True)\n",
    "\n",
    "        # Feature Extraction\n",
    "        extracted_features = extract_features_inferencing(results, self.feature_list)    \n",
    "\n",
    "        # Prepare Data\n",
    "        self.update_window(extracted_features)\n",
    "\n",
    "        # LSTM Inferencing\n",
    "        final_result = self.lstm_model.predict(self.lstm_input[np.newaxis, :])[0][0]\n",
    "        \n",
    "        return results, final_result\n",
    "        "
   ]
  },
  {
   "cell_type": "markdown",
   "id": "0e4c620c",
   "metadata": {},
   "source": [
    "# Test"
   ]
  },
  {
   "cell_type": "code",
   "execution_count": 18,
   "id": "4b20d6e6",
   "metadata": {},
   "outputs": [
    {
     "name": "stdout",
     "output_type": "stream",
     "text": [
      "Loading Image: 69.jpg\n",
      "\n",
      "0: 640x640 9 Fires, 9437.8ms\n",
      "Speed: 268.3ms preprocess, 9437.8ms inference, 1524.7ms postprocess per image at shape (1, 3, 640, 640)\n",
      "Results saved to \u001b[1mruns\\segment\\predict41\u001b[0m\n",
      "1/1 [==============================] - 45s 45s/step\n",
      "Image Inferenced...\n",
      "\n"
     ]
    }
   ],
   "source": [
    "ref_image = r\"F:\\Work\\SOCAAutomation\\Dataset\\Images\\Reference_Images\\04_07_2024\\1.jpg\"\n",
    "test_folder = r\"F:\\Work\\SOCAAutomation\\Dataset\\Images\\Fullset_reduced\\04_07_2024\\2024-07-04_11_51_08_772\\4\"\n",
    "res = []\n",
    "det_obj = spark_detection()\n",
    "det_obj.load_models()\n"
   ]
  },
  {
   "cell_type": "code",
   "execution_count": 29,
   "id": "2cefaa83",
   "metadata": {},
   "outputs": [
    {
     "name": "stdout",
     "output_type": "stream",
     "text": [
      "Loading Image: 66.jpg\n",
      "\n",
      "0: 640x640 1 Fire, 4420.3ms\n",
      "Speed: 22.8ms preprocess, 4420.3ms inference, 40.0ms postprocess per image at shape (1, 3, 640, 640)\n",
      "Results saved to \u001b[1mruns\\segment\\predict41\u001b[0m\n",
      "1/1 [==============================] - 23s 23s/step\n",
      "Image Inferenced...\n",
      "\n"
     ]
    }
   ],
   "source": [
    "for ind, file in enumerate(os.listdir(test_folder)):\n",
    "    if ind < 1:\n",
    "        continue\n",
    "    # Load Image\n",
    "    print(f\"Loading Image: {file}\")\n",
    "    yolo_res, lstm_res = det_obj.inference_image(test_folder + \"/\" + file)   \n",
    "\n",
    "    print(\"Image Inferenced...\")\n",
    "    print(\"\")\n",
    "    break"
   ]
  },
  {
   "cell_type": "code",
   "execution_count": 34,
   "id": "27c859e4",
   "metadata": {},
   "outputs": [
    {
     "name": "stdout",
     "output_type": "stream",
     "text": [
      "True\n"
     ]
    },
    {
     "data": {
      "text/plain": [
       "<matplotlib.image.AxesImage at 0x2ce9c179e50>"
      ]
     },
     "execution_count": 34,
     "metadata": {},
     "output_type": "execute_result"
    },
    {
     "data": {
      "image/png": "[encoded data removed]",
      "text/plain": [
       "<Figure size 640x480 with 1 Axes>"
      ]
     },
     "metadata": {},
     "output_type": "display_data"
    }
   ],
   "source": [
    "test_img_resized = preprocess_image(cv.imread(test_folder + \"/\" + file))\n",
    "if yolo_res[0].masks is not None:\n",
    "    masks = np.array(yolo_res[0].masks.data)\n",
    "    combined_mask = np.any(masks, axis=0).astype(np.uint8)\n",
    "    combined_mask_3ch = cv.merge([combined_mask * 255]*3)\n",
    "    print(\"True\")\n",
    "else:\n",
    "    combined_mask_3ch = np.zeros((640, 640, 3), dtype=np.uint8)\n",
    "masked_img = cv.bitwise_and(test_img_resized, test_img_resized, mask=combined_mask)\n",
    "plt.imshow(combined_mask_3ch)"
   ]
  },
  {
   "cell_type": "code",
   "execution_count": null,
   "id": "391da93d",
   "metadata": {},
   "outputs": [],
   "source": []
  }
 ],
 "metadata": {
  "kernelspec": {
   "display_name": "Python 3 (ipykernel)",
   "language": "python",
   "name": "python3"
  },
  "language_info": {
   "codemirror_mode": {
    "name": "ipython",
    "version": 3
   },
   "file_extension": ".py",
   "mimetype": "text/x-python",
   "name": "python",
   "nbconvert_exporter": "python",
   "pygments_lexer": "ipython3",
   "version": "3.11.5"
  }
 },
 "nbformat": 4,
 "nbformat_minor": 5
}
