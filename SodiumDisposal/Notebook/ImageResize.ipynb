{
 "cells": [
  {
   "cell_type": "code",
   "execution_count": 1,
   "id": "b8754b35",
   "metadata": {},
   "outputs": [],
   "source": [
    "import cv2 as cv\n",
    "import os"
   ]
  },
  {
   "cell_type": "code",
   "execution_count": 2,
   "id": "fc1dabca",
   "metadata": {},
   "outputs": [],
   "source": [
    "width = 640\n",
    "height = 640\n",
    "path = r\"F:\\Work\\SOCAAutomation\\Dataset\\Images\\Fullset_mod\\All\"\n",
    "dest = r\"F:\\Work\\SOCAAutomation\\Dataset\\Images\\Fullset_mod\\All_640\""
   ]
  },
  {
   "cell_type": "code",
   "execution_count": 3,
   "id": "cf359357",
   "metadata": {},
   "outputs": [],
   "source": [
    "Files = os.listdir(path)\n",
    "if not os.path.isdir(dest):\n",
    "    os.mkdir(dest)"
   ]
  },
  {
   "cell_type": "code",
   "execution_count": 4,
   "id": "d4a45a89",
   "metadata": {},
   "outputs": [],
   "source": [
    "image_count = 1\n",
    "for file in Files:\n",
    "    frame = cv.imread(path + \"/\" + file)\n",
    "    img_resize = cv.resize(frame, (width, height), interpolation = cv.INTER_LINEAR)\n",
    "    cv.imwrite(dest + \"/\" + file, img_resize)\n",
    "#     image_count += 1"
   ]
  },
  {
   "cell_type": "code",
   "execution_count": null,
   "id": "c8c23ace",
   "metadata": {},
   "outputs": [],
   "source": []
  }
 ],
 "metadata": {
  "kernelspec": {
   "display_name": "Python 3 (ipykernel)",
   "language": "python",
   "name": "python3"
  },
  "language_info": {
   "codemirror_mode": {
    "name": "ipython",
    "version": 3
   },
   "file_extension": ".py",
   "mimetype": "text/x-python",
   "name": "python",
   "nbconvert_exporter": "python",
   "pygments_lexer": "ipython3",
   "version": "3.11.5"
  }
 },
 "nbformat": 4,
 "nbformat_minor": 5
}
