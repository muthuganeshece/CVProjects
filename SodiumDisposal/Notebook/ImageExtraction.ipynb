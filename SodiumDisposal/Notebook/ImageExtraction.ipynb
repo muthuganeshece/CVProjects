{
 "cells": [
  {
   "cell_type": "markdown",
   "id": "fe53a140",
   "metadata": {},
   "source": [
    "# Extract Images from Video\n",
    "- `Load Video File and configure FPS, Start time and End Time to extract images`"
   ]
  },
  {
   "cell_type": "code",
   "execution_count": null,
   "id": "7d24ae9d",
   "metadata": {},
   "outputs": [],
   "source": [
    "import numpy as np\n",
    "import cv2\n",
    "import matplotlib.pyplot as plt\n",
    "import seaborn as sns"
   ]
  },
  {
   "cell_type": "code",
   "execution_count": 3,
   "id": "2c36abb9",
   "metadata": {},
   "outputs": [],
   "source": [
    "def Extract_Images(videofile, outpath, FileName, dur = -1, fps=15):\n",
    "    \"\"\"\n",
    "    videofile: path/filename of video to be extracted\n",
    "    outpath: Output Path to Store the images\n",
    "    FileName: Prefix name for the extracted images\n",
    "    fps: Frame per second the video is recorder, default is 15\n",
    "    dur: Duration of video to be extracted\n",
    "         [[3,0], -> Start Time [hour, minute]\n",
    "         [3,45]] -> End Time [hour, minute]\n",
    "         -1 for full video extraction\n",
    "    \"\"\"\n",
    "    video = cv2.VideoCapture(videofile)\n",
    "    count_frame = 0\n",
    "    if dur != -1:\n",
    "        startFrame = (dur[0][0] * 60 + dur[0][1] ) * fps\n",
    "        endFrame = (dur[1][0] * 60 + dur[1][1] ) * fps\n",
    "        \n",
    "    while True:\n",
    "        ret, frame = video.read()\n",
    "        if ret:\n",
    "            if count_frame > startFrame and count_frame < endFrame or dur == -1:\n",
    "                name = outpath + \"/\" + FileName + \"_\" + str(count_frame-startFrame) + \".jpg\"\n",
    "                cv2.imwrite(name,frame)\n",
    "            count_frame += 1\n",
    "        else:\n",
    "            break\n",
    "    video.release()"
   ]
  },
  {
   "cell_type": "code",
   "execution_count": null,
   "id": "a86ee8e7",
   "metadata": {},
   "outputs": [],
   "source": []
  }
 ],
 "metadata": {
  "kernelspec": {
   "display_name": "Python 3 (ipykernel)",
   "language": "python",
   "name": "python3"
  },
  "language_info": {
   "codemirror_mode": {
    "name": "ipython",
    "version": 3
   },
   "file_extension": ".py",
   "mimetype": "text/x-python",
   "name": "python",
   "nbconvert_exporter": "python",
   "pygments_lexer": "ipython3",
   "version": "3.11.5"
  }
 },
 "nbformat": 4,
 "nbformat_minor": 5
}
