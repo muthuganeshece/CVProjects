{
 "cells": [
  {
   "cell_type": "markdown",
   "id": "fe53a140",
   "metadata": {},
   "source": [
    "# Extract Images from Video\n",
    "- `Load Video File and configure FPS, Start time and End Time to extract images`"
   ]
  },
  {
   "cell_type": "code",
   "execution_count": 47,
   "id": "7d24ae9d",
   "metadata": {},
   "outputs": [],
   "source": [
    "import numpy as np\n",
    "import cv2\n",
    "import matplotlib.pyplot as plt\n",
    "import seaborn as sns\n",
    "import os\n",
    "import pandas as pd"
   ]
  },
  {
   "cell_type": "code",
   "execution_count": 45,
   "id": "2c36abb9",
   "metadata": {},
   "outputs": [],
   "source": [
    "def Extract_Images(videofile, outpath, FileName, dur = -1, fps=15):\n",
    "    \"\"\"\n",
    "    videofile: path/filename of video to be extracted\n",
    "    outpath: Output Path to Store the images\n",
    "    FileName: Prefix name for the extracted images\n",
    "    fps: Frame per second the video is recorder, default is 15\n",
    "    dur: Duration of video to be extracted\n",
    "         [[3,0], -> Start Time [hour, minute]\n",
    "         [3,45]] -> End Time [hour, minute]\n",
    "         -1 for full video extraction\n",
    "    \"\"\"\n",
    "    video = cv2.VideoCapture(videofile)\n",
    "    count_frame = 0\n",
    "    print(video.get(cv2.CAP_PROP_FRAME_COUNT))\n",
    "    ind = 0\n",
    "    rec_frame = 1\n",
    "    if dur != -1:\n",
    "        startFrame = (dur[ind][0] * 60 + dur[ind][1] ) * fps\n",
    "        endFrame = (dur[ind + 1][0] * 60 + dur[ind + 1][1] ) * fps\n",
    "    dir_name = outpath + \"/\" + str(ind)\n",
    "    os.makedirs(dir_name)    \n",
    "    print(startFrame, endFrame)\n",
    "    while True:\n",
    "        ret, frame = video.read()\n",
    "        if ret:\n",
    "            if (count_frame > startFrame and count_frame < endFrame) or dur == -1:                \n",
    "                name = dir_name + \"/\" + FileName + \"_\" + str(rec_frame) + \".jpg\"\n",
    "                #print(name)\n",
    "                cv2.imwrite(name,frame)\n",
    "                rec_frame += 1\n",
    "            elif count_frame >= endFrame:\n",
    "                ind += 2\n",
    "                if ind < len(dur):\n",
    "                    startFrame = (dur[ind][0] * 60 + dur[ind][1] ) * fps\n",
    "                    endFrame = (dur[ind + 1][0] * 60 + dur[ind + 1][1] ) * fps \n",
    "                    dir_name = outpath + \"/\" + str(ind)\n",
    "                    os.makedirs(dir_name)\n",
    "                else:\n",
    "                    break\n",
    "                print(startFrame, endFrame)\n",
    "            count_frame += 1\n",
    "        else:\n",
    "            break\n",
    "    print(\"Count_Frame: \", count_frame)\n",
    "    video.release()"
   ]
  },
  {
   "cell_type": "code",
   "execution_count": 46,
   "id": "63b42d82",
   "metadata": {},
   "outputs": [
    {
     "name": "stdout",
     "output_type": "stream",
     "text": [
      "24913.0\n",
      "4650 4800\n",
      "5400 5700\n",
      "Count_Frame:  5700\n"
     ]
    }
   ],
   "source": [
    "file = r\"F:\\Work\\SOCAAutomation\\Dataset\\Converted\\04_07_2024\\AXIS 213 - 10.1.5.173 2024-07-04_11_51_08_772.mp4\"\n",
    "fps = 30\n",
    "out = \"F:/Work/SOCAAutomation/Dataset/Images/Test\"\n",
    "dur = [[2,35], [2,40], [3,0], [3,10]]\n",
    "Extract_Images(file, out , 'MP4', dur = dur, fps=fps)"
   ]
  },
  {
   "cell_type": "code",
   "execution_count": 50,
   "id": "889ef66b",
   "metadata": {},
   "outputs": [],
   "source": [
    "data = pd.read_csv(r\"F:\\Work\\SOCAAutomation\\Dataset\\Book1.csv\")\n",
    "data.head()"
   ]
  },
  {
   "cell_type": "code",
   "execution_count": 178,
   "id": "5079cb94",
   "metadata": {},
   "outputs": [],
   "source": [
    "path = \"F:/Work/SOCAAutomation/Dataset/Converted\"\n",
    "fps = 30\n",
    "out = \"F:/Work/SOCAAutomation/Dataset/Images/Test\""
   ]
  },
  {
   "cell_type": "code",
   "execution_count": 189,
   "id": "c7b7ae86",
   "metadata": {},
   "outputs": [
    {
     "name": "stdout",
     "output_type": "stream",
     "text": [
      "F:/Work/SOCAAutomation/Dataset/Converted/14_08_2024/AXIS 213 - 10.1.5.173 2024-08-14_15_34_48_759.mp4\n",
      "15300 17850\n",
      "24060 25890\n",
      "25980 26640\n",
      "26700 32640\n",
      "33330 36720\n",
      "36990 37590\n",
      "Count_Frame:  37590\n"
     ]
    }
   ],
   "source": [
    "for i in range(5,6):#len(data_grp)):\n",
    "    folder_name = data_grp['Folder'].iloc[i]\n",
    "    file_name = data_grp['Video File'].iloc[i]\n",
    "    videofile = path + \"/\" + folder_name + \"/\" + file_name + \".mp4\"\n",
    "    outpath = out + \"/\" + folder_name + \"/\" + file_name.split()[-1]\n",
    "    ExtractFrames(videofile, outpath, data_grp['start'].iloc[i], data_grp['end'].iloc[i], fps)     "
   ]
  },
  {
   "cell_type": "code",
   "execution_count": 182,
   "id": "893edb7a",
   "metadata": {},
   "outputs": [],
   "source": [
    "def ExtractFrames(videofile, outpath, start, end, fps=15):\n",
    "    video = cv2.VideoCapture(videofile)\n",
    "    print(videofile)\n",
    "    count_frame = 0\n",
    "    ind = 0\n",
    "    rec_frame = 1\n",
    "    dir_name = outpath + \"/\" + str(ind + 1)\n",
    "    startFrame, endFrame = calcFrames(start, end, ind, dir_name, fps)  \n",
    "    print(startFrame, endFrame)\n",
    "    while True:\n",
    "        ret, frame = video.read()\n",
    "        if ret:\n",
    "            if (count_frame > startFrame and count_frame < endFrame):                \n",
    "                name = dir_name + \"/\" + str(rec_frame) + \".jpg\"\n",
    "                cv2.imwrite(name,frame)\n",
    "                #print(name)\n",
    "                rec_frame += 1\n",
    "            elif count_frame >= endFrame:\n",
    "                ind += 1\n",
    "                if ind < len(start):\n",
    "                    dir_name = outpath + \"/\" + str(ind + 1)\n",
    "                    startFrame, endFrame = calcFrames(start, end, ind, dir_name, fps)   \n",
    "                    rec_frame = 1\n",
    "                else:\n",
    "                    break\n",
    "                print(startFrame, endFrame)\n",
    "            count_frame += 1\n",
    "        else:\n",
    "            break\n",
    "    print(\"Count_Frame: \", count_frame)\n",
    "    video.release()"
   ]
  },
  {
   "cell_type": "code",
   "execution_count": 175,
   "id": "41f44e56",
   "metadata": {},
   "outputs": [],
   "source": [
    "def calcFrames(start, end, ind, dir_name, fps):\n",
    "    startFrame = (int(start[ind][0]) * 60 + int(start[ind][1])) * fps\n",
    "    endFrame = (int(end[ind][0]) * 60 + int(end[ind][1])) * fps \n",
    "    if not os.path.isdir(dir_name):\n",
    "        os.makedirs(dir_name)\n",
    "    return startFrame, endFrame"
   ]
  }
 ],
 "metadata": {
  "kernelspec": {
   "display_name": "Python 3 (ipykernel)",
   "language": "python",
   "name": "python3"
  },
  "language_info": {
   "codemirror_mode": {
    "name": "ipython",
    "version": 3
   },
   "file_extension": ".py",
   "mimetype": "text/x-python",
   "name": "python",
   "nbconvert_exporter": "python",
   "pygments_lexer": "ipython3",
   "version": "3.11.5"
  }
 },
 "nbformat": 4,
 "nbformat_minor": 5
}
