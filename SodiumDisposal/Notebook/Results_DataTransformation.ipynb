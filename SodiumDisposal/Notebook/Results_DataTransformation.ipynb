{
 "cells": [
  {
   "cell_type": "code",
   "execution_count": 127,
   "id": "0255df00",
   "metadata": {},
   "outputs": [],
   "source": [
    "import pandas as pd\n",
    "import numpy as np\n",
    "import matplotlib.pyplot as plt\n",
    "import seaborn as sns\n",
    "import ast\n",
    "import itertools\n",
    "import os"
   ]
  },
  {
   "cell_type": "code",
   "execution_count": 128,
   "id": "fa9b3c59",
   "metadata": {},
   "outputs": [],
   "source": [
    "res_path = r\"F:\\Muthu_2023\\Personal\\NextStep\\CVProjects\\SodiumDisposal\\Output\\Run1\""
   ]
  },
  {
   "cell_type": "code",
   "execution_count": 140,
   "id": "15b880e9",
   "metadata": {},
   "outputs": [
    {
     "data": {
      "text/html": [
       "<div>\n",
       "<style scoped>\n",
       "    .dataframe tbody tr th:only-of-type {\n",
       "        vertical-align: middle;\n",
       "    }\n",
       "\n",
       "    .dataframe tbody tr th {\n",
       "        vertical-align: top;\n",
       "    }\n",
       "\n",
       "    .dataframe thead th {\n",
       "        text-align: right;\n",
       "    }\n",
       "</style>\n",
       "<table border=\"1\" class=\"dataframe\">\n",
       "  <thead>\n",
       "    <tr style=\"text-align: right;\">\n",
       "      <th></th>\n",
       "      <th>Unnamed: 0</th>\n",
       "      <th>exp</th>\n",
       "      <th>video</th>\n",
       "      <th>segment</th>\n",
       "      <th>frame</th>\n",
       "      <th>n_masks</th>\n",
       "      <th>mask_area</th>\n",
       "      <th>mask_centroid</th>\n",
       "      <th>mask_conf</th>\n",
       "      <th>mask_strength</th>\n",
       "      <th>bbox_id</th>\n",
       "      <th>bbox_area</th>\n",
       "      <th>bbox_centroid</th>\n",
       "      <th>bbox_dim</th>\n",
       "    </tr>\n",
       "  </thead>\n",
       "  <tbody>\n",
       "    <tr>\n",
       "      <th>0</th>\n",
       "      <td>0</td>\n",
       "      <td>04_07_2024</td>\n",
       "      <td>2024-07-04_11_51_08_772</td>\n",
       "      <td>2.0</td>\n",
       "      <td>100.0</td>\n",
       "      <td>1.0</td>\n",
       "      <td>[48]</td>\n",
       "      <td>[[277.0, 155.0]]</td>\n",
       "      <td>[0.38094273]</td>\n",
       "      <td>[199.52]</td>\n",
       "      <td>[0]</td>\n",
       "      <td>[56.0]</td>\n",
       "      <td>[[277.0, 155.0]]</td>\n",
       "      <td>[[8.0, 7.0]]</td>\n",
       "    </tr>\n",
       "    <tr>\n",
       "      <th>1</th>\n",
       "      <td>0</td>\n",
       "      <td>04_07_2024</td>\n",
       "      <td>2024-07-04_11_51_08_772</td>\n",
       "      <td>2.0</td>\n",
       "      <td>101.0</td>\n",
       "      <td>[]</td>\n",
       "      <td>[]</td>\n",
       "      <td>[]</td>\n",
       "      <td>[]</td>\n",
       "      <td>[]</td>\n",
       "      <td>[]</td>\n",
       "      <td>[]</td>\n",
       "      <td>[]</td>\n",
       "      <td>[]</td>\n",
       "    </tr>\n",
       "    <tr>\n",
       "      <th>2</th>\n",
       "      <td>0</td>\n",
       "      <td>04_07_2024</td>\n",
       "      <td>2024-07-04_11_51_08_772</td>\n",
       "      <td>2.0</td>\n",
       "      <td>102.0</td>\n",
       "      <td>[]</td>\n",
       "      <td>[]</td>\n",
       "      <td>[]</td>\n",
       "      <td>[]</td>\n",
       "      <td>[]</td>\n",
       "      <td>[]</td>\n",
       "      <td>[]</td>\n",
       "      <td>[]</td>\n",
       "      <td>[]</td>\n",
       "    </tr>\n",
       "    <tr>\n",
       "      <th>3</th>\n",
       "      <td>0</td>\n",
       "      <td>04_07_2024</td>\n",
       "      <td>2024-07-04_11_51_08_772</td>\n",
       "      <td>2.0</td>\n",
       "      <td>103.0</td>\n",
       "      <td>2</td>\n",
       "      <td>[118, 198]</td>\n",
       "      <td>[[282.0, 164.0], [281.0, 162.0]]</td>\n",
       "      <td>[0.58505154, 0.40290353]</td>\n",
       "      <td>[198.36, 198.99]</td>\n",
       "      <td>[0, 0]</td>\n",
       "      <td>[126.0, 240.0]</td>\n",
       "      <td>[[282.0, 164.0], [281.0, 162.0]]</td>\n",
       "      <td>[[9.0, 14.0], [12.0, 20.0]]</td>\n",
       "    </tr>\n",
       "    <tr>\n",
       "      <th>4</th>\n",
       "      <td>0</td>\n",
       "      <td>04_07_2024</td>\n",
       "      <td>2024-07-04_11_51_08_772</td>\n",
       "      <td>2.0</td>\n",
       "      <td>104.0</td>\n",
       "      <td>2</td>\n",
       "      <td>[118, 198]</td>\n",
       "      <td>[[282.0, 164.0], [281.0, 162.0]]</td>\n",
       "      <td>[0.5849741, 0.40308228]</td>\n",
       "      <td>[198.36, 198.99]</td>\n",
       "      <td>[0, 0]</td>\n",
       "      <td>[126.0, 240.0]</td>\n",
       "      <td>[[282.0, 164.0], [281.0, 162.0]]</td>\n",
       "      <td>[[9.0, 14.0], [12.0, 20.0]]</td>\n",
       "    </tr>\n",
       "  </tbody>\n",
       "</table>\n",
       "</div>"
      ],
      "text/plain": [
       "   Unnamed: 0         exp                    video  segment  frame n_masks  \\\n",
       "0           0  04_07_2024  2024-07-04_11_51_08_772      2.0  100.0     1.0   \n",
       "1           0  04_07_2024  2024-07-04_11_51_08_772      2.0  101.0      []   \n",
       "2           0  04_07_2024  2024-07-04_11_51_08_772      2.0  102.0      []   \n",
       "3           0  04_07_2024  2024-07-04_11_51_08_772      2.0  103.0       2   \n",
       "4           0  04_07_2024  2024-07-04_11_51_08_772      2.0  104.0       2   \n",
       "\n",
       "    mask_area                     mask_centroid                 mask_conf  \\\n",
       "0        [48]                  [[277.0, 155.0]]              [0.38094273]   \n",
       "1          []                                []                        []   \n",
       "2          []                                []                        []   \n",
       "3  [118, 198]  [[282.0, 164.0], [281.0, 162.0]]  [0.58505154, 0.40290353]   \n",
       "4  [118, 198]  [[282.0, 164.0], [281.0, 162.0]]   [0.5849741, 0.40308228]   \n",
       "\n",
       "      mask_strength bbox_id       bbox_area                     bbox_centroid  \\\n",
       "0          [199.52]     [0]          [56.0]                  [[277.0, 155.0]]   \n",
       "1                []      []              []                                []   \n",
       "2                []      []              []                                []   \n",
       "3  [198.36, 198.99]  [0, 0]  [126.0, 240.0]  [[282.0, 164.0], [281.0, 162.0]]   \n",
       "4  [198.36, 198.99]  [0, 0]  [126.0, 240.0]  [[282.0, 164.0], [281.0, 162.0]]   \n",
       "\n",
       "                      bbox_dim  \n",
       "0                 [[8.0, 7.0]]  \n",
       "1                           []  \n",
       "2                           []  \n",
       "3  [[9.0, 14.0], [12.0, 20.0]]  \n",
       "4  [[9.0, 14.0], [12.0, 20.0]]  "
      ]
     },
     "execution_count": 140,
     "metadata": {},
     "output_type": "execute_result"
    }
   ],
   "source": [
    "consolidated_df = pd.DataFrame()\n",
    "for file in os.listdir(res_path):\n",
    "    if '.csv' in file:\n",
    "        df = pd.read_csv(res_path + \"/\" + file)\n",
    "        if len(consolidated_df) == 0:\n",
    "            consolidated_df = df\n",
    "        else:\n",
    "            consolidated_df = pd.concat([consolidated_df, df])\n",
    "consolidated_df.head()"
   ]
  },
  {
   "cell_type": "code",
   "execution_count": 141,
   "id": "61c49157",
   "metadata": {},
   "outputs": [],
   "source": [
    "data = consolidated_df.copy()"
   ]
  },
  {
   "cell_type": "markdown",
   "id": "2b837a5c",
   "metadata": {},
   "source": [
    "# Data Preprocessing"
   ]
  },
  {
   "cell_type": "code",
   "execution_count": 142,
   "id": "ac4717da",
   "metadata": {},
   "outputs": [],
   "source": [
    "list_cols = ['mask_area','mask_centroid','mask_conf','mask_strength','bbox_id','bbox_area','bbox_centroid','bbox_dim']"
   ]
  },
  {
   "cell_type": "code",
   "execution_count": 143,
   "id": "2be485d9",
   "metadata": {},
   "outputs": [
    {
     "data": {
      "text/plain": [
       "Index(['Unnamed: 0', 'exp', 'video', 'segment', 'frame', 'n_masks',\n",
       "       'mask_area', 'mask_centroid', 'mask_conf', 'mask_strength', 'bbox_id',\n",
       "       'bbox_area', 'bbox_centroid', 'bbox_dim'],\n",
       "      dtype='object')"
      ]
     },
     "execution_count": 143,
     "metadata": {},
     "output_type": "execute_result"
    }
   ],
   "source": [
    "data.columns"
   ]
  },
  {
   "cell_type": "code",
   "execution_count": 144,
   "id": "92dda17d",
   "metadata": {},
   "outputs": [],
   "source": [
    "def safe_literal_eval(val):\n",
    "    try:\n",
    "        if isinstance(val, str) and val.strip() not in ['', '[]']:\n",
    "            return ast.literal_eval(val)\n",
    "        else:\n",
    "            return []  # or np.nan if you prefer\n",
    "    except:\n",
    "        return []  # or np.nan"
   ]
  },
  {
   "cell_type": "code",
   "execution_count": null,
   "id": "2ffe6ceb",
   "metadata": {},
   "outputs": [],
   "source": [
    "data.drop(\"Unnamed: 0\", axis=1, inplace=True)"
   ]
  },
  {
   "cell_type": "code",
   "execution_count": 146,
   "id": "aa7008f3",
   "metadata": {},
   "outputs": [
    {
     "data": {
      "text/html": [
       "<div>\n",
       "<style scoped>\n",
       "    .dataframe tbody tr th:only-of-type {\n",
       "        vertical-align: middle;\n",
       "    }\n",
       "\n",
       "    .dataframe tbody tr th {\n",
       "        vertical-align: top;\n",
       "    }\n",
       "\n",
       "    .dataframe thead th {\n",
       "        text-align: right;\n",
       "    }\n",
       "</style>\n",
       "<table border=\"1\" class=\"dataframe\">\n",
       "  <thead>\n",
       "    <tr style=\"text-align: right;\">\n",
       "      <th></th>\n",
       "      <th>exp</th>\n",
       "      <th>video</th>\n",
       "      <th>segment</th>\n",
       "      <th>frame</th>\n",
       "      <th>n_masks</th>\n",
       "      <th>mask_area</th>\n",
       "      <th>mask_centroid</th>\n",
       "      <th>mask_conf</th>\n",
       "      <th>mask_strength</th>\n",
       "      <th>bbox_id</th>\n",
       "      <th>bbox_area</th>\n",
       "      <th>bbox_centroid</th>\n",
       "      <th>bbox_dim</th>\n",
       "    </tr>\n",
       "  </thead>\n",
       "  <tbody>\n",
       "    <tr>\n",
       "      <th>0</th>\n",
       "      <td>04_07_2024</td>\n",
       "      <td>2024-07-04_11_51_08_772</td>\n",
       "      <td>2.0</td>\n",
       "      <td>100.0</td>\n",
       "      <td>1</td>\n",
       "      <td>[48]</td>\n",
       "      <td>[[277.0, 155.0]]</td>\n",
       "      <td>[0.38094273]</td>\n",
       "      <td>[199.52]</td>\n",
       "      <td>[0]</td>\n",
       "      <td>[56.0]</td>\n",
       "      <td>[[277.0, 155.0]]</td>\n",
       "      <td>[[8.0, 7.0]]</td>\n",
       "    </tr>\n",
       "    <tr>\n",
       "      <th>1</th>\n",
       "      <td>04_07_2024</td>\n",
       "      <td>2024-07-04_11_51_08_772</td>\n",
       "      <td>2.0</td>\n",
       "      <td>101.0</td>\n",
       "      <td>0</td>\n",
       "      <td>[]</td>\n",
       "      <td>[]</td>\n",
       "      <td>[]</td>\n",
       "      <td>[]</td>\n",
       "      <td>[]</td>\n",
       "      <td>[]</td>\n",
       "      <td>[]</td>\n",
       "      <td>[]</td>\n",
       "    </tr>\n",
       "    <tr>\n",
       "      <th>2</th>\n",
       "      <td>04_07_2024</td>\n",
       "      <td>2024-07-04_11_51_08_772</td>\n",
       "      <td>2.0</td>\n",
       "      <td>102.0</td>\n",
       "      <td>0</td>\n",
       "      <td>[]</td>\n",
       "      <td>[]</td>\n",
       "      <td>[]</td>\n",
       "      <td>[]</td>\n",
       "      <td>[]</td>\n",
       "      <td>[]</td>\n",
       "      <td>[]</td>\n",
       "      <td>[]</td>\n",
       "    </tr>\n",
       "    <tr>\n",
       "      <th>3</th>\n",
       "      <td>04_07_2024</td>\n",
       "      <td>2024-07-04_11_51_08_772</td>\n",
       "      <td>2.0</td>\n",
       "      <td>103.0</td>\n",
       "      <td>2</td>\n",
       "      <td>[118, 198]</td>\n",
       "      <td>[[282.0, 164.0], [281.0, 162.0]]</td>\n",
       "      <td>[0.58505154, 0.40290353]</td>\n",
       "      <td>[198.36, 198.99]</td>\n",
       "      <td>[0, 0]</td>\n",
       "      <td>[126.0, 240.0]</td>\n",
       "      <td>[[282.0, 164.0], [281.0, 162.0]]</td>\n",
       "      <td>[[9.0, 14.0], [12.0, 20.0]]</td>\n",
       "    </tr>\n",
       "    <tr>\n",
       "      <th>4</th>\n",
       "      <td>04_07_2024</td>\n",
       "      <td>2024-07-04_11_51_08_772</td>\n",
       "      <td>2.0</td>\n",
       "      <td>104.0</td>\n",
       "      <td>2</td>\n",
       "      <td>[118, 198]</td>\n",
       "      <td>[[282.0, 164.0], [281.0, 162.0]]</td>\n",
       "      <td>[0.5849741, 0.40308228]</td>\n",
       "      <td>[198.36, 198.99]</td>\n",
       "      <td>[0, 0]</td>\n",
       "      <td>[126.0, 240.0]</td>\n",
       "      <td>[[282.0, 164.0], [281.0, 162.0]]</td>\n",
       "      <td>[[9.0, 14.0], [12.0, 20.0]]</td>\n",
       "    </tr>\n",
       "  </tbody>\n",
       "</table>\n",
       "</div>"
      ],
      "text/plain": [
       "          exp                    video  segment  frame  n_masks   mask_area  \\\n",
       "0  04_07_2024  2024-07-04_11_51_08_772      2.0  100.0        1        [48]   \n",
       "1  04_07_2024  2024-07-04_11_51_08_772      2.0  101.0        0          []   \n",
       "2  04_07_2024  2024-07-04_11_51_08_772      2.0  102.0        0          []   \n",
       "3  04_07_2024  2024-07-04_11_51_08_772      2.0  103.0        2  [118, 198]   \n",
       "4  04_07_2024  2024-07-04_11_51_08_772      2.0  104.0        2  [118, 198]   \n",
       "\n",
       "                      mask_centroid                 mask_conf  \\\n",
       "0                  [[277.0, 155.0]]              [0.38094273]   \n",
       "1                                []                        []   \n",
       "2                                []                        []   \n",
       "3  [[282.0, 164.0], [281.0, 162.0]]  [0.58505154, 0.40290353]   \n",
       "4  [[282.0, 164.0], [281.0, 162.0]]   [0.5849741, 0.40308228]   \n",
       "\n",
       "      mask_strength bbox_id       bbox_area                     bbox_centroid  \\\n",
       "0          [199.52]     [0]          [56.0]                  [[277.0, 155.0]]   \n",
       "1                []      []              []                                []   \n",
       "2                []      []              []                                []   \n",
       "3  [198.36, 198.99]  [0, 0]  [126.0, 240.0]  [[282.0, 164.0], [281.0, 162.0]]   \n",
       "4  [198.36, 198.99]  [0, 0]  [126.0, 240.0]  [[282.0, 164.0], [281.0, 162.0]]   \n",
       "\n",
       "                      bbox_dim  \n",
       "0                 [[8.0, 7.0]]  \n",
       "1                           []  \n",
       "2                           []  \n",
       "3  [[9.0, 14.0], [12.0, 20.0]]  \n",
       "4  [[9.0, 14.0], [12.0, 20.0]]  "
      ]
     },
     "execution_count": 146,
     "metadata": {},
     "output_type": "execute_result"
    }
   ],
   "source": [
    "data['n_masks'] = data['n_masks'].apply(lambda x: 0 if x =='[]' else int(float(x)))\n",
    "for col in list_cols:\n",
    "    data[col] = data[col].apply(safe_literal_eval)\n",
    "data.head()"
   ]
  },
  {
   "cell_type": "markdown",
   "id": "5a07554f",
   "metadata": {},
   "source": [
    "# Data Transformation"
   ]
  },
  {
   "cell_type": "code",
   "execution_count": 147,
   "id": "826bcc83",
   "metadata": {},
   "outputs": [],
   "source": [
    "def calc_dim(val, ind):\n",
    "    val = np.array(val)\n",
    "    if val.ndim == 1 and len(val) > 1: #Single Box\n",
    "        return val[ind]\n",
    "    elif val.ndim > 1: # More than 1 Box\n",
    "        if len(val[:,0]) == 0:\n",
    "            return -1\n",
    "        return np.mean(val[:,0])\n",
    "    else: # 0 Box\n",
    "        return 0   "
   ]
  },
  {
   "cell_type": "code",
   "execution_count": 148,
   "id": "9bacb7fe",
   "metadata": {},
   "outputs": [],
   "source": [
    "def calc_pair_distance(val):\n",
    "    pair_distances = [np.linalg.norm(np.array(p1) - np.array(p2)) for p1, p2 in itertools.combinations(val, 2)]\n",
    "    if len(pair_distances) != 0:    \n",
    "        return np.round(sum(pair_distances) / len(pair_distances),2)\n",
    "    else:\n",
    "        return 0"
   ]
  },
  {
   "cell_type": "code",
   "execution_count": 149,
   "id": "82c25bf1",
   "metadata": {},
   "outputs": [
    {
     "name": "stderr",
     "output_type": "stream",
     "text": [
      "C:\\Users\\ADMIN\\anaconda3\\Lib\\site-packages\\numpy\\core\\fromnumeric.py:3464: RuntimeWarning: Mean of empty slice.\n",
      "  return _methods._mean(a, axis=axis, dtype=dtype,\n",
      "C:\\Users\\ADMIN\\anaconda3\\Lib\\site-packages\\numpy\\core\\fromnumeric.py:3464: RuntimeWarning: Mean of empty slice.\n",
      "  return _methods._mean(a, axis=axis, dtype=dtype,\n",
      "C:\\Users\\ADMIN\\anaconda3\\Lib\\site-packages\\numpy\\core\\fromnumeric.py:3464: RuntimeWarning: Mean of empty slice.\n",
      "  return _methods._mean(a, axis=axis, dtype=dtype,\n"
     ]
    }
   ],
   "source": [
    "data['avg_mask_area'] = data['mask_area'].apply(lambda x: np.mean(x)).fillna(0)\n",
    "data['avg_bbox_area'] = data['bbox_area'].apply(lambda x: np.mean(x)).fillna(0)\n",
    "data['avg_mask_strength'] = data['mask_strength'].apply(lambda x: np.mean(x)).fillna(0)\n",
    "data['avg_bbox_width'] = data['bbox_dim'].apply(lambda x: calc_dim(x, 0))\n",
    "data['avg_bbox_height'] = data['bbox_dim'].apply(lambda x: calc_dim(x, 1))\n",
    "data['mask_centroid_dist'] = data['mask_centroid'].apply(calc_pair_distance)\n",
    "data['bbox_centroid_dist'] = data['bbox_centroid'].apply(calc_pair_distance)"
   ]
  },
  {
   "cell_type": "code",
   "execution_count": 150,
   "id": "bfae9abf",
   "metadata": {},
   "outputs": [
    {
     "name": "stdout",
     "output_type": "stream",
     "text": [
      "<class 'pandas.core.frame.DataFrame'>\n",
      "Int64Index: 26857 entries, 0 to 3365\n",
      "Data columns (total 20 columns):\n",
      " #   Column              Non-Null Count  Dtype  \n",
      "---  ------              --------------  -----  \n",
      " 0   exp                 26857 non-null  object \n",
      " 1   video               26857 non-null  object \n",
      " 2   segment             26857 non-null  float64\n",
      " 3   frame               26857 non-null  float64\n",
      " 4   n_masks             26857 non-null  int64  \n",
      " 5   mask_area           26857 non-null  object \n",
      " 6   mask_centroid       26857 non-null  object \n",
      " 7   mask_conf           26857 non-null  object \n",
      " 8   mask_strength       26857 non-null  object \n",
      " 9   bbox_id             26857 non-null  object \n",
      " 10  bbox_area           26857 non-null  object \n",
      " 11  bbox_centroid       26857 non-null  object \n",
      " 12  bbox_dim            26857 non-null  object \n",
      " 13  avg_mask_area       26857 non-null  float64\n",
      " 14  avg_bbox_area       26857 non-null  float64\n",
      " 15  avg_mask_strength   26857 non-null  float64\n",
      " 16  avg_bbox_width      26857 non-null  float64\n",
      " 17  avg_bbox_height     26857 non-null  float64\n",
      " 18  mask_centroid_dist  26857 non-null  float64\n",
      " 19  bbox_centroid_dist  26857 non-null  float64\n",
      "dtypes: float64(9), int64(1), object(10)\n",
      "memory usage: 4.3+ MB\n"
     ]
    }
   ],
   "source": [
    "data.info()"
   ]
  },
  {
   "cell_type": "code",
   "execution_count": 152,
   "id": "565fbb99",
   "metadata": {},
   "outputs": [],
   "source": [
    "data.to_csv(\"Consolidated_Results.csv\", index=False)"
   ]
  },
  {
   "cell_type": "code",
   "execution_count": 35,
   "id": "3667fd42",
   "metadata": {},
   "outputs": [
    {
     "data": {
      "text/plain": [
       "[<matplotlib.lines.Line2D at 0x2988e935350>]"
      ]
     },
     "execution_count": 35,
     "metadata": {},
     "output_type": "execute_result"
    },
    {
     "data": {
      "image/png": "[encoded data removed]",
      "text/plain": [
       "<Figure size 640x480 with 1 Axes>"
      ]
     },
     "metadata": {},
     "output_type": "display_data"
    }
   ],
   "source": [
    "data"
   ]
  },
  {
   "cell_type": "markdown",
   "id": "9c07ffa0",
   "metadata": {},
   "source": [
    "# Prepared by Muthukumar"
   ]
  },
  {
   "cell_type": "code",
   "execution_count": null,
   "id": "598802bf",
   "metadata": {},
   "outputs": [],
   "source": []
  }
 ],
 "metadata": {
  "kernelspec": {
   "display_name": "Python 3 (ipykernel)",
   "language": "python",
   "name": "python3"
  },
  "language_info": {
   "codemirror_mode": {
    "name": "ipython",
    "version": 3
   },
   "file_extension": ".py",
   "mimetype": "text/x-python",
   "name": "python",
   "nbconvert_exporter": "python",
   "pygments_lexer": "ipython3",
   "version": "3.11.5"
  }
 },
 "nbformat": 4,
 "nbformat_minor": 5
}
