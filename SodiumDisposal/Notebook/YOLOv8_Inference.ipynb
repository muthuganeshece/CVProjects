{
 "cells": [
  {
   "cell_type": "code",
   "execution_count": 147,
   "id": "7c34ee55",
   "metadata": {},
   "outputs": [],
   "source": [
    "import numpy as np\n",
    "import cv2 as cv\n",
    "import matplotlib.pyplot as plt\n",
    "import seaborn as sns\n",
    "import os\n",
    "import pandas as pd\n",
    "import math"
   ]
  },
  {
   "cell_type": "code",
   "execution_count": 3,
   "id": "634dafe2",
   "metadata": {},
   "outputs": [],
   "source": [
    "from ultralytics import YOLO"
   ]
  },
  {
   "cell_type": "code",
   "execution_count": null,
   "id": "0b6fd6f8",
   "metadata": {},
   "outputs": [],
   "source": [
    "Directory = r\"F:\\Work\\SOCAAutomation\\Dataset\\Images\\09072024_1_1\"\n",
    "FileName = \"2024_07_09_11_30_174.jpg\"\n",
    "raw_img = cv.imread(Directory + \"/\" + FileName)\n",
    "img = cv.cvtColor(raw_img, cv.COLOR_BGR2GRAY)\n",
    "img = raw_img"
   ]
  },
  {
   "cell_type": "code",
   "execution_count": 2,
   "id": "e80b5a84",
   "metadata": {},
   "outputs": [],
   "source": [
    "model = YOLO('best.pt', task='segment')"
   ]
  },
  {
   "cell_type": "code",
   "execution_count": null,
   "id": "86b2e92c",
   "metadata": {
    "scrolled": true
   },
   "outputs": [],
   "source": [
    "model = YOLO('best.pt')\n",
    "results = model(img, conf=0.3, save=True, show_labels=False, retina_masks=True)"
   ]
  },
  {
   "cell_type": "markdown",
   "id": "22ca2a15",
   "metadata": {},
   "source": [
    "**Pre and Post processing time**\n",
    "- reduced from 5 seconds to ms by resizing the image before applying to the model"
   ]
  },
  {
   "cell_type": "markdown",
   "id": "0b85bbfb",
   "metadata": {},
   "source": [
    "# Video Inferencing"
   ]
  },
  {
   "cell_type": "code",
   "execution_count": null,
   "id": "36574685",
   "metadata": {},
   "outputs": [],
   "source": [
    "from ultralytics.utils.plotting import Annotator, colors"
   ]
  },
  {
   "cell_type": "code",
   "execution_count": 49,
   "id": "c12a59dd",
   "metadata": {},
   "outputs": [],
   "source": [
    "def im_show(img):\n",
    "    cv.imshow('1', img)\n",
    "    cv.waitKey()"
   ]
  },
  {
   "cell_type": "code",
   "execution_count": 106,
   "id": "1e7c2f49",
   "metadata": {},
   "outputs": [],
   "source": [
    "# Camera Perspective View to Top View Transformation\n",
    "def camera_angle2top_view():\n",
    "    points = pd.read_csv('Points.csv')\n",
    "    ref_pts = np.array([points.iloc[i,:2] for i in range(1, len(points))], dtype = 'uint16')\n",
    "    dst_pts = np.array([points.iloc[i,2:] for i in range(1, len(points))], dtype = 'uint16')\n",
    "    h, status = cv.findHomography(ref_pts, dst_pts)\n",
    "    #print(ref_pts, dst_pts)\n",
    "    return h"
   ]
  },
  {
   "cell_type": "code",
   "execution_count": 83,
   "id": "1036a152",
   "metadata": {},
   "outputs": [],
   "source": [
    "def InferenceImage(frame, model, width, height, conf, iou):\n",
    "    img_resize = cv.resize(frame, (width, height), interpolation = cv.INTER_LINEAR)\n",
    "    results = model(img_resize, conf=conf, iou=iou)\n",
    "    return results"
   ]
  },
  {
   "cell_type": "code",
   "execution_count": 7,
   "id": "851db3e2",
   "metadata": {},
   "outputs": [],
   "source": [
    "count_frame = 0\n",
    "fps = 1\n",
    "alpha = 0.8\n",
    "Directory = r\"F:\\Work\\SOCAAutomation\\Dataset\\Images\\09072024_1_1\"\n",
    "\n",
    "width = height = 640\n",
    "Files = os.listdir(Directory)\n",
    "Files = ['2024_07_09_11_30_114.jpg']#, '2024_07_09_11_30_115.jpg', '2024_07_09_11_30_116.jpg', '2024_07_09_11_30_117.jpg', '2024_07_09_11_30_118.jpg']\n",
    "im_ref = cv.imread('ReferenceImage.jpg')\n",
    "im_layout = cv.imread('SquareLayout.jpg')  "
   ]
  },
  {
   "cell_type": "code",
   "execution_count": 5,
   "id": "03bcd2dc",
   "metadata": {},
   "outputs": [],
   "source": [
    "model = YOLO('best.pt')"
   ]
  },
  {
   "cell_type": "code",
   "execution_count": 8,
   "id": "c92ad67a",
   "metadata": {},
   "outputs": [
    {
     "name": "stderr",
     "output_type": "stream",
     "text": [
      "\n",
      "0: 640x640 3 Fire-Smoke-Sodium-Trays, 5831.3ms\n",
      "Speed: 75.1ms preprocess, 5831.3ms inference, 385.4ms postprocess per image at shape (1, 3, 640, 640)\n"
     ]
    }
   ],
   "source": [
    "res = InferenceImage(cv.imread(Directory + \"/\" + Files[0]), model, width, height)"
   ]
  },
  {
   "cell_type": "code",
   "execution_count": 9,
   "id": "9007ea2d",
   "metadata": {},
   "outputs": [
    {
     "data": {
      "text/plain": [
       "array([[False, False, False, ..., False, False, False],\n",
       "       [False, False, False, ..., False, False, False],\n",
       "       [False, False, False, ..., False, False, False],\n",
       "       ...,\n",
       "       [False, False, False, ..., False, False, False],\n",
       "       [False, False, False, ..., False, False, False],\n",
       "       [False, False, False, ..., False, False, False]])"
      ]
     },
     "execution_count": 9,
     "metadata": {},
     "output_type": "execute_result"
    }
   ],
   "source": [
    "mask_img = np.any(np.array(res[0].masks[:].data), axis=0)\n",
    "mask_img"
   ]
  },
  {
   "cell_type": "code",
   "execution_count": 72,
   "id": "478fd63f",
   "metadata": {},
   "outputs": [
    {
     "name": "stdout",
     "output_type": "stream",
     "text": [
      "(232, 247) (255, 287)\n",
      "(117, 262) (193, 376)\n",
      "(287, 180) (314, 222)\n"
     ]
    },
    {
     "data": {
      "image/png": "[encoded data removed]",
      "text/plain": [
       "<Figure size 1200x600 with 3 Axes>"
      ]
     },
     "metadata": {},
     "output_type": "display_data"
    }
   ],
   "source": [
    "plt.figure(figsize=(12,6))\n",
    "for i in range(len(res[0].masks)):\n",
    "    plt.subplot(1,4,i+1)\n",
    "    mask_img = np.any(np.array(res[0].masks[i].data), axis=0)\n",
    "    plt.imshow(mask_img)\n",
    "    plt.imshow(cv.rectangle(mask_img*255,tuple(np.array(res[0].boxes[i].data[0][:2], dtype='int')),tuple(np.array(res[0].boxes[i].data[0][2:4], dtype='int')),255,1))\n",
    "    print(tuple(np.array(res[0].boxes[i].data[0][:2], dtype='int')),tuple(np.array(res[0].boxes[i].data[0][2:4], dtype='int')))"
   ]
  },
  {
   "cell_type": "code",
   "execution_count": 84,
   "id": "7a869fc7",
   "metadata": {},
   "outputs": [],
   "source": []
  },
  {
   "cell_type": "code",
   "execution_count": 85,
   "id": "1e7e087c",
   "metadata": {},
   "outputs": [
    {
     "data": {
      "text/plain": [
       "array([[ 1, -1, -1, -1],\n",
       "       [ 2,  0, -1, -1],\n",
       "       [ 3,  1, -1, -1],\n",
       "       [-1,  2, -1, -1]], dtype=int32)"
      ]
     },
     "execution_count": 85,
     "metadata": {},
     "output_type": "execute_result"
    }
   ],
   "source": [
    "hierarchies[0]"
   ]
  },
  {
   "cell_type": "code",
   "execution_count": 86,
   "id": "0e4cd70c",
   "metadata": {},
   "outputs": [
    {
     "data": {
      "text/plain": [
       "<matplotlib.image.AxesImage at 0x2bee798be50>"
      ]
     },
     "execution_count": 86,
     "metadata": {},
     "output_type": "execute_result"
    },
    {
     "data": {
      "image/png": "[encoded data removed]",
      "text/plain": [
       "<Figure size 640x480 with 1 Axes>"
      ]
     },
     "metadata": {},
     "output_type": "display_data"
    }
   ],
   "source": [
    "blank = np.zeros(mask_img.shape[:2], dtype='uint8')\n",
    "plt.imshow(cv.drawContours(blank, contours, -1, (255, 0, 0), 1))"
   ]
  },
  {
   "cell_type": "code",
   "execution_count": 34,
   "id": "caf0b591",
   "metadata": {},
   "outputs": [
    {
     "name": "stdout",
     "output_type": "stream",
     "text": [
      "180 277\n",
      "158 320\n",
      "245 266\n",
      "300 201\n"
     ]
    },
    {
     "data": {
      "image/png": "[encoded data removed]",
      "text/plain": [
       "<Figure size 1200x600 with 4 Axes>"
      ]
     },
     "metadata": {},
     "output_type": "display_data"
    }
   ],
   "source": [
    "plt.figure(figsize=(12,6))\n",
    "contours, hierarchies = cv.findContours(mask_img.astype(np.uint8), cv.RETR_LIST, cv.CHAIN_APPROX_SIMPLE)\n",
    "cnt=1\n",
    "for i in contours:\n",
    "    M = cv.moments(i)\n",
    "    if M['m00'] != 0:\n",
    "        cx = int(M['m10']/M['m00'])\n",
    "        cy = int(M['m01']/M['m00'])\n",
    "        print(cx, cy)\n",
    "        plt.subplot(1,4,cnt)\n",
    "        cnt += 1\n",
    "        plt.imshow(cv.circle(mask_img.astype(np.uint8), (cx, cy), 2, (0, 0, 255), -1))\n",
    "#         cv.drawContours(image, [i], -1, (0, 255, 0), 2)\n",
    "#         cv.circle(image, (cx, cy), 7, (0, 0, 255), -1)\n",
    "#         cv.putText(image, \"center\", (cx - 20, cy - 20),\n",
    "#         cv.FONT_HERSHEY_SIMPLEX, 0.5, (0, 0, 0), 2)\n",
    "#         print(f\"x: {cx} y: {cy}\")"
   ]
  },
  {
   "cell_type": "code",
   "execution_count": 143,
   "id": "93644041",
   "metadata": {},
   "outputs": [],
   "source": [
    "out = cv.VideoWriter(\"inst_segment.avi\", cv.VideoWriter_fourcc(*\"MJPG\"), fps, (3*width, height))\n",
    "#out2 = cv.VideoWriter(\"inst_seg_layout.avi\", cv.VideoWriter_fourcc(*\"MJPG\"), fps, (im_layout.shape[1], im_layout.shape[0]))\n",
    "video = cv.VideoCapture(r\"F:\\Work\\SOCAAutomation\\Dataset\\NA_DISOPSAL_SOCA_2024\\09072024\\AXIS 213 - 10.1.5.173 2024-07-09_11_30_00_000.asf\")\n",
    "dur = [[3,0], [3,45]] #[mins,secs]\n",
    "startFrame = (dur[0][0] * 60 + dur[0][1] ) * 15\n",
    "endFrame = (dur[1][0] * 60 + dur[1][1] ) * 15"
   ]
  },
  {
   "cell_type": "code",
   "execution_count": 144,
   "id": "804f1314",
   "metadata": {},
   "outputs": [
    {
     "name": "stderr",
     "output_type": "stream",
     "text": [
      "\n",
      "0: 640x640 1 Fire-Smoke-Sodium-Tray, 3615.2ms\n",
      "Speed: 6.0ms preprocess, 3615.2ms inference, 5.0ms postprocess per image at shape (1, 3, 640, 640)\n",
      "\n",
      "0: 640x640 1 Fire-Smoke-Sodium-Tray, 4861.4ms\n",
      "Speed: 7.0ms preprocess, 4861.4ms inference, 5.0ms postprocess per image at shape (1, 3, 640, 640)\n",
      "\n",
      "0: 640x640 1 Fire-Smoke-Sodium-Tray, 5109.9ms\n",
      "Speed: 6.0ms preprocess, 5109.9ms inference, 0.0ms postprocess per image at shape (1, 3, 640, 640)\n",
      "\n",
      "0: 640x640 1 Fire-Smoke-Sodium-Tray, 4075.5ms\n",
      "Speed: 7.6ms preprocess, 4075.5ms inference, 10.0ms postprocess per image at shape (1, 3, 640, 640)\n",
      "\n",
      "0: 640x640 1 Fire-Smoke-Sodium-Tray, 4891.3ms\n",
      "Speed: 15.5ms preprocess, 4891.3ms inference, 6.0ms postprocess per image at shape (1, 3, 640, 640)\n",
      "\n",
      "0: 640x640 1 Fire-Smoke-Sodium-Tray, 4923.4ms\n",
      "Speed: 6.0ms preprocess, 4923.4ms inference, 19.0ms postprocess per image at shape (1, 3, 640, 640)\n",
      "\n",
      "0: 640x640 2 Fire-Smoke-Sodium-Trays, 5982.0ms\n",
      "Speed: 5.0ms preprocess, 5982.0ms inference, 610.1ms postprocess per image at shape (1, 3, 640, 640)\n",
      "\n",
      "0: 640x640 1 Fire-Smoke-Sodium-Tray, 5018.6ms\n",
      "Speed: 7.0ms preprocess, 5018.6ms inference, 9.1ms postprocess per image at shape (1, 3, 640, 640)\n",
      "\n",
      "0: 640x640 1 Fire-Smoke-Sodium-Tray, 4283.9ms\n",
      "Speed: 7.0ms preprocess, 4283.9ms inference, 6.0ms postprocess per image at shape (1, 3, 640, 640)\n",
      "\n",
      "0: 640x640 1 Fire-Smoke-Sodium-Tray, 4406.0ms\n",
      "Speed: 6.0ms preprocess, 4406.0ms inference, 5.0ms postprocess per image at shape (1, 3, 640, 640)\n",
      "\n",
      "0: 640x640 1 Fire-Smoke-Sodium-Tray, 4280.9ms\n",
      "Speed: 7.0ms preprocess, 4280.9ms inference, 68.1ms postprocess per image at shape (1, 3, 640, 640)\n",
      "\n",
      "0: 640x640 (no detections), 4811.3ms\n",
      "Speed: 7.0ms preprocess, 4811.3ms inference, 1.0ms postprocess per image at shape (1, 3, 640, 640)\n",
      "\n",
      "0: 640x640 1 Fire-Smoke-Sodium-Tray, 4027.6ms\n",
      "Speed: 16.0ms preprocess, 4027.6ms inference, 6.0ms postprocess per image at shape (1, 3, 640, 640)\n",
      "\n",
      "0: 640x640 1 Fire-Smoke-Sodium-Tray, 3825.5ms\n",
      "Speed: 7.0ms preprocess, 3825.5ms inference, 9.0ms postprocess per image at shape (1, 3, 640, 640)\n",
      "\n",
      "0: 640x640 (no detections), 5340.8ms\n",
      "Speed: 7.0ms preprocess, 5340.8ms inference, 1.0ms postprocess per image at shape (1, 3, 640, 640)\n",
      "\n",
      "0: 640x640 1 Fire-Smoke-Sodium-Tray, 4456.0ms\n",
      "Speed: 14.0ms preprocess, 4456.0ms inference, 6.0ms postprocess per image at shape (1, 3, 640, 640)\n",
      "\n",
      "0: 640x640 1 Fire-Smoke-Sodium-Tray, 3830.5ms\n",
      "Speed: 7.0ms preprocess, 3830.5ms inference, 6.0ms postprocess per image at shape (1, 3, 640, 640)\n",
      "\n",
      "0: 640x640 1 Fire-Smoke-Sodium-Tray, 3956.6ms\n",
      "Speed: 7.0ms preprocess, 3956.6ms inference, 6.0ms postprocess per image at shape (1, 3, 640, 640)\n",
      "\n",
      "0: 640x640 1 Fire-Smoke-Sodium-Tray, 4092.7ms\n",
      "Speed: 7.0ms preprocess, 4092.7ms inference, 5.0ms postprocess per image at shape (1, 3, 640, 640)\n",
      "\n",
      "0: 640x640 1 Fire-Smoke-Sodium-Tray, 3967.6ms\n",
      "Speed: 6.0ms preprocess, 3967.6ms inference, 5.0ms postprocess per image at shape (1, 3, 640, 640)\n",
      "\n",
      "0: 640x640 1 Fire-Smoke-Sodium-Tray, 3771.4ms\n",
      "Speed: 7.0ms preprocess, 3771.4ms inference, 6.0ms postprocess per image at shape (1, 3, 640, 640)\n",
      "\n",
      "0: 640x640 1 Fire-Smoke-Sodium-Tray, 4136.8ms\n",
      "Speed: 6.0ms preprocess, 4136.8ms inference, 8.0ms postprocess per image at shape (1, 3, 640, 640)\n",
      "\n",
      "0: 640x640 1 Fire-Smoke-Sodium-Tray, 3669.3ms\n",
      "Speed: 8.0ms preprocess, 3669.3ms inference, 6.0ms postprocess per image at shape (1, 3, 640, 640)\n",
      "\n",
      "0: 640x640 1 Fire-Smoke-Sodium-Tray, 3669.3ms\n",
      "Speed: 7.0ms preprocess, 3669.3ms inference, 23.0ms postprocess per image at shape (1, 3, 640, 640)\n",
      "\n",
      "0: 640x640 1 Fire-Smoke-Sodium-Tray, 3996.6ms\n",
      "Speed: 8.0ms preprocess, 3996.6ms inference, 8.0ms postprocess per image at shape (1, 3, 640, 640)\n",
      "\n",
      "0: 640x640 1 Fire-Smoke-Sodium-Tray, 3922.5ms\n",
      "Speed: 7.0ms preprocess, 3922.5ms inference, 6.0ms postprocess per image at shape (1, 3, 640, 640)\n",
      "\n",
      "0: 640x640 1 Fire-Smoke-Sodium-Tray, 3725.4ms\n",
      "Speed: 7.0ms preprocess, 3725.4ms inference, 6.0ms postprocess per image at shape (1, 3, 640, 640)\n",
      "\n",
      "0: 640x640 1 Fire-Smoke-Sodium-Tray, 3647.3ms\n",
      "Speed: 19.0ms preprocess, 3647.3ms inference, 5.0ms postprocess per image at shape (1, 3, 640, 640)\n",
      "\n",
      "0: 640x640 1 Fire-Smoke-Sodium-Tray, 4352.9ms\n",
      "Speed: 7.0ms preprocess, 4352.9ms inference, 9.0ms postprocess per image at shape (1, 3, 640, 640)\n",
      "\n",
      "0: 640x640 1 Fire-Smoke-Sodium-Tray, 4492.1ms\n",
      "Speed: 7.0ms preprocess, 4492.1ms inference, 6.0ms postprocess per image at shape (1, 3, 640, 640)\n",
      "\n",
      "0: 640x640 1 Fire-Smoke-Sodium-Tray, 4086.7ms\n",
      "Speed: 7.0ms preprocess, 4086.7ms inference, 6.0ms postprocess per image at shape (1, 3, 640, 640)\n",
      "\n",
      "0: 640x640 1 Fire-Smoke-Sodium-Tray, 3753.4ms\n",
      "Speed: 7.0ms preprocess, 3753.4ms inference, 6.0ms postprocess per image at shape (1, 3, 640, 640)\n",
      "\n",
      "0: 640x640 1 Fire-Smoke-Sodium-Tray, 3798.4ms\n",
      "Speed: 7.0ms preprocess, 3798.4ms inference, 7.0ms postprocess per image at shape (1, 3, 640, 640)\n",
      "\n",
      "0: 640x640 1 Fire-Smoke-Sodium-Tray, 3837.5ms\n",
      "Speed: 6.0ms preprocess, 3837.5ms inference, 6.0ms postprocess per image at shape (1, 3, 640, 640)\n",
      "\n",
      "0: 640x640 1 Fire-Smoke-Sodium-Tray, 3938.6ms\n",
      "Speed: 32.0ms preprocess, 3938.6ms inference, 6.0ms postprocess per image at shape (1, 3, 640, 640)\n",
      "\n",
      "0: 640x640 1 Fire-Smoke-Sodium-Tray, 3822.5ms\n",
      "Speed: 22.0ms preprocess, 3822.5ms inference, 6.0ms postprocess per image at shape (1, 3, 640, 640)\n",
      "\n",
      "0: 640x640 1 Fire-Smoke-Sodium-Tray, 4285.9ms\n",
      "Speed: 22.0ms preprocess, 4285.9ms inference, 6.0ms postprocess per image at shape (1, 3, 640, 640)\n",
      "\n",
      "0: 640x640 1 Fire-Smoke-Sodium-Tray, 3771.4ms\n",
      "Speed: 6.0ms preprocess, 3771.4ms inference, 6.0ms postprocess per image at shape (1, 3, 640, 640)\n",
      "\n",
      "0: 640x640 1 Fire-Smoke-Sodium-Tray, 4114.7ms\n",
      "Speed: 17.0ms preprocess, 4114.7ms inference, 6.0ms postprocess per image at shape (1, 3, 640, 640)\n",
      "\n",
      "0: 640x640 (no detections), 3939.6ms\n",
      "Speed: 6.0ms preprocess, 3939.6ms inference, 1.0ms postprocess per image at shape (1, 3, 640, 640)\n",
      "\n",
      "0: 640x640 1 Fire-Smoke-Sodium-Tray, 4224.9ms\n",
      "Speed: 7.0ms preprocess, 4224.9ms inference, 6.0ms postprocess per image at shape (1, 3, 640, 640)\n",
      "\n",
      "0: 640x640 1 Fire-Smoke-Sodium-Tray, 3608.3ms\n",
      "Speed: 6.0ms preprocess, 3608.3ms inference, 6.0ms postprocess per image at shape (1, 3, 640, 640)\n",
      "\n",
      "0: 640x640 1 Fire-Smoke-Sodium-Tray, 3639.3ms\n",
      "Speed: 6.0ms preprocess, 3639.3ms inference, 6.0ms postprocess per image at shape (1, 3, 640, 640)\n",
      "\n",
      "0: 640x640 1 Fire-Smoke-Sodium-Tray, 4684.2ms\n",
      "Speed: 6.0ms preprocess, 4684.2ms inference, 6.0ms postprocess per image at shape (1, 3, 640, 640)\n",
      "\n",
      "0: 640x640 1 Fire-Smoke-Sodium-Tray, 4083.7ms\n",
      "Speed: 7.0ms preprocess, 4083.7ms inference, 12.0ms postprocess per image at shape (1, 3, 640, 640)\n",
      "\n",
      "0: 640x640 1 Fire-Smoke-Sodium-Tray, 4263.9ms\n",
      "Speed: 10.0ms preprocess, 4263.9ms inference, 6.0ms postprocess per image at shape (1, 3, 640, 640)\n",
      "\n",
      "0: 640x640 1 Fire-Smoke-Sodium-Tray, 4133.7ms\n",
      "Speed: 7.0ms preprocess, 4133.7ms inference, 6.0ms postprocess per image at shape (1, 3, 640, 640)\n",
      "\n",
      "0: 640x640 1 Fire-Smoke-Sodium-Tray, 4778.3ms\n",
      "Speed: 7.1ms preprocess, 4778.3ms inference, 6.0ms postprocess per image at shape (1, 3, 640, 640)\n",
      "\n",
      "0: 640x640 2 Fire-Smoke-Sodium-Trays, 4404.9ms\n",
      "Speed: 7.1ms preprocess, 4404.9ms inference, 164.2ms postprocess per image at shape (1, 3, 640, 640)\n",
      "\n",
      "0: 640x640 1 Fire-Smoke-Sodium-Tray, 5450.9ms\n",
      "Speed: 7.0ms preprocess, 5450.9ms inference, 6.0ms postprocess per image at shape (1, 3, 640, 640)\n",
      "\n",
      "0: 640x640 (no detections), 5721.2ms\n",
      "Speed: 16.0ms preprocess, 5721.2ms inference, 1.0ms postprocess per image at shape (1, 3, 640, 640)\n",
      "\n",
      "0: 640x640 1 Fire-Smoke-Sodium-Tray, 4807.3ms\n",
      "Speed: 8.0ms preprocess, 4807.3ms inference, 10.0ms postprocess per image at shape (1, 3, 640, 640)\n",
      "\n",
      "0: 640x640 1 Fire-Smoke-Sodium-Tray, 4938.4ms\n",
      "Speed: 1119.1ms preprocess, 4938.4ms inference, 10.0ms postprocess per image at shape (1, 3, 640, 640)\n",
      "\n",
      "0: 640x640 1 Fire-Smoke-Sodium-Tray, 4387.2ms\n",
      "Speed: 0.0ms preprocess, 4387.2ms inference, 0.0ms postprocess per image at shape (1, 3, 640, 640)\n",
      "\n",
      "0: 640x640 1 Fire-Smoke-Sodium-Tray, 4109.8ms\n",
      "Speed: 10.0ms preprocess, 4109.8ms inference, 9.0ms postprocess per image at shape (1, 3, 640, 640)\n",
      "\n",
      "0: 640x640 1 Fire-Smoke-Sodium-Tray, 7530.3ms\n",
      "Speed: 8.0ms preprocess, 7530.3ms inference, 20.0ms postprocess per image at shape (1, 3, 640, 640)\n",
      "\n",
      "0: 640x640 1 Fire-Smoke-Sodium-Tray, 4408.5ms\n"
     ]
    },
    {
     "name": "stderr",
     "output_type": "stream",
     "text": [
      "Speed: 10.0ms preprocess, 4408.5ms inference, 6.0ms postprocess per image at shape (1, 3, 640, 640)\n",
      "\n",
      "0: 640x640 1 Fire-Smoke-Sodium-Tray, 4127.7ms\n",
      "Speed: 7.0ms preprocess, 4127.7ms inference, 9.0ms postprocess per image at shape (1, 3, 640, 640)\n",
      "\n",
      "0: 640x640 1 Fire-Smoke-Sodium-Tray, 3968.6ms\n",
      "Speed: 6.0ms preprocess, 3968.6ms inference, 5.0ms postprocess per image at shape (1, 3, 640, 640)\n",
      "\n",
      "0: 640x640 1 Fire-Smoke-Sodium-Tray, 4019.6ms\n",
      "Speed: 17.0ms preprocess, 4019.6ms inference, 6.0ms postprocess per image at shape (1, 3, 640, 640)\n",
      "\n",
      "0: 640x640 1 Fire-Smoke-Sodium-Tray, 3929.5ms\n",
      "Speed: 7.1ms preprocess, 3929.5ms inference, 6.0ms postprocess per image at shape (1, 3, 640, 640)\n",
      "\n",
      "0: 640x640 1 Fire-Smoke-Sodium-Tray, 4580.1ms\n",
      "Speed: 7.0ms preprocess, 4580.1ms inference, 6.0ms postprocess per image at shape (1, 3, 640, 640)\n",
      "\n",
      "0: 640x640 1 Fire-Smoke-Sodium-Tray, 4029.6ms\n",
      "Speed: 7.0ms preprocess, 4029.6ms inference, 6.0ms postprocess per image at shape (1, 3, 640, 640)\n",
      "\n",
      "0: 640x640 3 Fire-Smoke-Sodium-Trays, 4866.8ms\n",
      "Speed: 7.0ms preprocess, 4866.8ms inference, 91.1ms postprocess per image at shape (1, 3, 640, 640)\n",
      "\n",
      "0: 640x640 1 Fire-Smoke-Sodium-Tray, 4835.3ms\n",
      "Speed: 85.1ms preprocess, 4835.3ms inference, 9.0ms postprocess per image at shape (1, 3, 640, 640)\n",
      "\n",
      "0: 640x640 1 Fire-Smoke-Sodium-Tray, 4877.4ms\n",
      "Speed: 12.2ms preprocess, 4877.4ms inference, 10.0ms postprocess per image at shape (1, 3, 640, 640)\n",
      "\n",
      "0: 640x640 2 Fire-Smoke-Sodium-Trays, 4121.5ms\n",
      "Speed: 10.0ms preprocess, 4121.5ms inference, 14.2ms postprocess per image at shape (1, 3, 640, 640)\n",
      "\n",
      "0: 640x640 1 Fire-Smoke-Sodium-Tray, 3984.5ms\n",
      "Speed: 0.0ms preprocess, 3984.5ms inference, 6.1ms postprocess per image at shape (1, 3, 640, 640)\n",
      "\n",
      "0: 640x640 2 Fire-Smoke-Sodium-Trays, 4274.7ms\n",
      "Speed: 6.0ms preprocess, 4274.7ms inference, 20.0ms postprocess per image at shape (1, 3, 640, 640)\n",
      "\n",
      "0: 640x640 1 Fire-Smoke-Sodium-Tray, 4293.4ms\n",
      "Speed: 10.0ms preprocess, 4293.4ms inference, 6.0ms postprocess per image at shape (1, 3, 640, 640)\n",
      "\n",
      "0: 640x640 1 Fire-Smoke-Sodium-Tray, 3804.4ms\n",
      "Speed: 6.0ms preprocess, 3804.4ms inference, 6.0ms postprocess per image at shape (1, 3, 640, 640)\n",
      "\n",
      "0: 640x640 2 Fire-Smoke-Sodium-Trays, 3610.3ms\n",
      "Speed: 6.0ms preprocess, 3610.3ms inference, 9.0ms postprocess per image at shape (1, 3, 640, 640)\n",
      "\n",
      "0: 640x640 2 Fire-Smoke-Sodium-Trays, 3520.1ms\n",
      "Speed: 6.0ms preprocess, 3520.1ms inference, 9.0ms postprocess per image at shape (1, 3, 640, 640)\n",
      "\n",
      "0: 640x640 2 Fire-Smoke-Sodium-Trays, 3659.3ms\n",
      "Speed: 16.0ms preprocess, 3659.3ms inference, 14.0ms postprocess per image at shape (1, 3, 640, 640)\n",
      "\n",
      "0: 640x640 3 Fire-Smoke-Sodium-Trays, 3553.2ms\n",
      "Speed: 6.0ms preprocess, 3553.2ms inference, 12.0ms postprocess per image at shape (1, 3, 640, 640)\n",
      "\n",
      "0: 640x640 2 Fire-Smoke-Sodium-Trays, 3860.5ms\n",
      "Speed: 6.0ms preprocess, 3860.5ms inference, 8.0ms postprocess per image at shape (1, 3, 640, 640)\n",
      "\n",
      "0: 640x640 2 Fire-Smoke-Sodium-Trays, 3675.3ms\n",
      "Speed: 6.0ms preprocess, 3675.3ms inference, 9.0ms postprocess per image at shape (1, 3, 640, 640)\n",
      "\n",
      "0: 640x640 2 Fire-Smoke-Sodium-Trays, 3996.6ms\n",
      "Speed: 7.0ms preprocess, 3996.6ms inference, 9.0ms postprocess per image at shape (1, 3, 640, 640)\n",
      "\n",
      "0: 640x640 2 Fire-Smoke-Sodium-Trays, 3566.2ms\n",
      "Speed: 6.0ms preprocess, 3566.2ms inference, 8.0ms postprocess per image at shape (1, 3, 640, 640)\n",
      "\n",
      "0: 640x640 2 Fire-Smoke-Sodium-Trays, 3579.2ms\n",
      "Speed: 6.0ms preprocess, 3579.2ms inference, 13.0ms postprocess per image at shape (1, 3, 640, 640)\n",
      "\n",
      "0: 640x640 2 Fire-Smoke-Sodium-Trays, 3550.2ms\n",
      "Speed: 21.0ms preprocess, 3550.2ms inference, 9.0ms postprocess per image at shape (1, 3, 640, 640)\n",
      "\n",
      "0: 640x640 1 Fire-Smoke-Sodium-Tray, 3818.4ms\n",
      "Speed: 6.0ms preprocess, 3818.4ms inference, 6.0ms postprocess per image at shape (1, 3, 640, 640)\n",
      "\n",
      "0: 640x640 2 Fire-Smoke-Sodium-Trays, 3617.7ms\n",
      "Speed: 6.0ms preprocess, 3617.7ms inference, 14.5ms postprocess per image at shape (1, 3, 640, 640)\n",
      "\n",
      "0: 640x640 1 Fire-Smoke-Sodium-Tray, 4027.0ms\n",
      "Speed: 0.0ms preprocess, 4027.0ms inference, 0.0ms postprocess per image at shape (1, 3, 640, 640)\n",
      "\n",
      "0: 640x640 2 Fire-Smoke-Sodium-Trays, 4889.5ms\n",
      "Speed: 10.0ms preprocess, 4889.5ms inference, 20.0ms postprocess per image at shape (1, 3, 640, 640)\n",
      "\n",
      "0: 640x640 3 Fire-Smoke-Sodium-Trays, 4200.5ms\n",
      "Speed: 6.0ms preprocess, 4200.5ms inference, 20.0ms postprocess per image at shape (1, 3, 640, 640)\n",
      "\n",
      "0: 640x640 3 Fire-Smoke-Sodium-Trays, 4032.2ms\n",
      "Speed: 10.0ms preprocess, 4032.2ms inference, 10.0ms postprocess per image at shape (1, 3, 640, 640)\n",
      "\n",
      "0: 640x640 2 Fire-Smoke-Sodium-Trays, 3964.1ms\n",
      "Speed: 10.0ms preprocess, 3964.1ms inference, 10.0ms postprocess per image at shape (1, 3, 640, 640)\n",
      "\n",
      "0: 640x640 3 Fire-Smoke-Sodium-Trays, 4219.1ms\n",
      "Speed: 10.0ms preprocess, 4219.1ms inference, 15.4ms postprocess per image at shape (1, 3, 640, 640)\n",
      "\n",
      "0: 640x640 2 Fire-Smoke-Sodium-Trays, 4111.6ms\n",
      "Speed: 7.4ms preprocess, 4111.6ms inference, 9.0ms postprocess per image at shape (1, 3, 640, 640)\n",
      "\n",
      "0: 640x640 3 Fire-Smoke-Sodium-Trays, 3937.2ms\n",
      "Speed: 7.0ms preprocess, 3937.2ms inference, 30.0ms postprocess per image at shape (1, 3, 640, 640)\n",
      "\n",
      "0: 640x640 3 Fire-Smoke-Sodium-Trays, 4000.2ms\n",
      "Speed: 10.0ms preprocess, 4000.2ms inference, 20.0ms postprocess per image at shape (1, 3, 640, 640)\n",
      "\n",
      "0: 640x640 2 Fire-Smoke-Sodium-Trays, 4359.6ms\n",
      "Speed: 0.0ms preprocess, 4359.6ms inference, 12.0ms postprocess per image at shape (1, 3, 640, 640)\n",
      "\n",
      "0: 640x640 2 Fire-Smoke-Sodium-Trays, 4274.9ms\n",
      "Speed: 7.0ms preprocess, 4274.9ms inference, 8.0ms postprocess per image at shape (1, 3, 640, 640)\n",
      "\n",
      "0: 640x640 3 Fire-Smoke-Sodium-Trays, 4173.8ms\n",
      "Speed: 6.0ms preprocess, 4173.8ms inference, 13.0ms postprocess per image at shape (1, 3, 640, 640)\n",
      "\n",
      "0: 640x640 4 Fire-Smoke-Sodium-Trays, 6097.8ms\n",
      "Speed: 7.0ms preprocess, 6097.8ms inference, 166.1ms postprocess per image at shape (1, 3, 640, 640)\n",
      "\n",
      "0: 640x640 4 Fire-Smoke-Sodium-Trays, 6121.0ms\n",
      "Speed: 13.0ms preprocess, 6121.0ms inference, 22.0ms postprocess per image at shape (1, 3, 640, 640)\n",
      "\n",
      "0: 640x640 2 Fire-Smoke-Sodium-Trays, 6302.7ms\n",
      "Speed: 7.5ms preprocess, 6302.7ms inference, 11.5ms postprocess per image at shape (1, 3, 640, 640)\n",
      "\n",
      "0: 640x640 4 Fire-Smoke-Sodium-Trays, 5159.7ms\n",
      "Speed: 11.5ms preprocess, 5159.7ms inference, 16.5ms postprocess per image at shape (1, 3, 640, 640)\n",
      "\n",
      "0: 640x640 4 Fire-Smoke-Sodium-Trays, 4055.2ms\n",
      "Speed: 7.0ms preprocess, 4055.2ms inference, 21.0ms postprocess per image at shape (1, 3, 640, 640)\n",
      "\n",
      "0: 640x640 3 Fire-Smoke-Sodium-Trays, 3918.2ms\n",
      "Speed: 6.0ms preprocess, 3918.2ms inference, 12.0ms postprocess per image at shape (1, 3, 640, 640)\n",
      "\n",
      "0: 640x640 5 Fire-Smoke-Sodium-Trays, 4002.5ms\n",
      "Speed: 8.0ms preprocess, 4002.5ms inference, 19.0ms postprocess per image at shape (1, 3, 640, 640)\n",
      "\n",
      "0: 640x640 4 Fire-Smoke-Sodium-Trays, 3874.5ms\n",
      "Speed: 6.0ms preprocess, 3874.5ms inference, 25.0ms postprocess per image at shape (1, 3, 640, 640)\n",
      "\n",
      "0: 640x640 3 Fire-Smoke-Sodium-Trays, 4519.9ms\n",
      "Speed: 6.0ms preprocess, 4519.9ms inference, 26.0ms postprocess per image at shape (1, 3, 640, 640)\n",
      "\n",
      "0: 640x640 2 Fire-Smoke-Sodium-Trays, 4992.5ms\n",
      "Speed: 7.5ms preprocess, 4992.5ms inference, 15.5ms postprocess per image at shape (1, 3, 640, 640)\n",
      "\n",
      "0: 640x640 5 Fire-Smoke-Sodium-Trays, 5854.3ms\n",
      "Speed: 8.0ms preprocess, 5854.3ms inference, 32.5ms postprocess per image at shape (1, 3, 640, 640)\n",
      "\n",
      "0: 640x640 6 Fire-Smoke-Sodium-Trays, 5158.9ms\n",
      "Speed: 8.5ms preprocess, 5158.9ms inference, 59.1ms postprocess per image at shape (1, 3, 640, 640)\n",
      "\n",
      "0: 640x640 4 Fire-Smoke-Sodium-Trays, 5490.5ms\n",
      "Speed: 6.0ms preprocess, 5490.5ms inference, 28.5ms postprocess per image at shape (1, 3, 640, 640)\n",
      "\n",
      "0: 640x640 3 Fire-Smoke-Sodium-Trays, 5301.8ms\n",
      "Speed: 9.5ms preprocess, 5301.8ms inference, 18.5ms postprocess per image at shape (1, 3, 640, 640)\n",
      "\n",
      "0: 640x640 3 Fire-Smoke-Sodium-Trays, 5490.5ms\n",
      "Speed: 11.0ms preprocess, 5490.5ms inference, 24.0ms postprocess per image at shape (1, 3, 640, 640)\n",
      "\n",
      "0: 640x640 3 Fire-Smoke-Sodium-Trays, 5936.4ms\n",
      "Speed: 6.5ms preprocess, 5936.4ms inference, 17.5ms postprocess per image at shape (1, 3, 640, 640)\n",
      "\n",
      "0: 640x640 4 Fire-Smoke-Sodium-Trays, 4979.0ms\n",
      "Speed: 11.5ms preprocess, 4979.0ms inference, 20.0ms postprocess per image at shape (1, 3, 640, 640)\n"
     ]
    },
    {
     "name": "stderr",
     "output_type": "stream",
     "text": [
      "\n",
      "0: 640x640 4 Fire-Smoke-Sodium-Trays, 5237.2ms\n",
      "Speed: 9.0ms preprocess, 5237.2ms inference, 17.0ms postprocess per image at shape (1, 3, 640, 640)\n",
      "\n",
      "0: 640x640 4 Fire-Smoke-Sodium-Trays, 5297.8ms\n",
      "Speed: 8.0ms preprocess, 5297.8ms inference, 32.0ms postprocess per image at shape (1, 3, 640, 640)\n",
      "\n",
      "0: 640x640 4 Fire-Smoke-Sodium-Trays, 5176.7ms\n",
      "Speed: 8.5ms preprocess, 5176.7ms inference, 27.0ms postprocess per image at shape (1, 3, 640, 640)\n",
      "\n",
      "0: 640x640 3 Fire-Smoke-Sodium-Trays, 5034.1ms\n",
      "Speed: 9.0ms preprocess, 5034.1ms inference, 23.0ms postprocess per image at shape (1, 3, 640, 640)\n",
      "\n",
      "0: 640x640 4 Fire-Smoke-Sodium-Trays, 5721.3ms\n",
      "Speed: 13.5ms preprocess, 5721.3ms inference, 16.5ms postprocess per image at shape (1, 3, 640, 640)\n",
      "\n",
      "0: 640x640 5 Fire-Smoke-Sodium-Trays, 5451.9ms\n",
      "Speed: 6.5ms preprocess, 5451.9ms inference, 28.0ms postprocess per image at shape (1, 3, 640, 640)\n",
      "\n",
      "0: 640x640 7 Fire-Smoke-Sodium-Trays, 5403.9ms\n",
      "Speed: 8.0ms preprocess, 5403.9ms inference, 30.5ms postprocess per image at shape (1, 3, 640, 640)\n",
      "\n",
      "0: 640x640 3 Fire-Smoke-Sodium-Trays, 5060.6ms\n",
      "Speed: 7.5ms preprocess, 5060.6ms inference, 15.0ms postprocess per image at shape (1, 3, 640, 640)\n",
      "\n",
      "0: 640x640 4 Fire-Smoke-Sodium-Trays, 5704.2ms\n",
      "Speed: 8.5ms preprocess, 5704.2ms inference, 22.5ms postprocess per image at shape (1, 3, 640, 640)\n",
      "\n",
      "0: 640x640 6 Fire-Smoke-Sodium-Trays, 5796.2ms\n",
      "Speed: 10.5ms preprocess, 5796.2ms inference, 51.0ms postprocess per image at shape (1, 3, 640, 640)\n",
      "\n",
      "0: 640x640 4 Fire-Smoke-Sodium-Trays, 5208.2ms\n",
      "Speed: 10.5ms preprocess, 5208.2ms inference, 24.0ms postprocess per image at shape (1, 3, 640, 640)\n",
      "\n",
      "0: 640x640 5 Fire-Smoke-Sodium-Trays, 5033.6ms\n",
      "Speed: 9.0ms preprocess, 5033.6ms inference, 28.0ms postprocess per image at shape (1, 3, 640, 640)\n",
      "\n",
      "0: 640x640 4 Fire-Smoke-Sodium-Trays, 6018.9ms\n",
      "Speed: 27.5ms preprocess, 6018.9ms inference, 27.0ms postprocess per image at shape (1, 3, 640, 640)\n",
      "\n",
      "0: 640x640 4 Fire-Smoke-Sodium-Trays, 5098.6ms\n",
      "Speed: 9.0ms preprocess, 5098.6ms inference, 29.0ms postprocess per image at shape (1, 3, 640, 640)\n",
      "\n",
      "0: 640x640 5 Fire-Smoke-Sodium-Trays, 5095.0ms\n",
      "Speed: 11.5ms preprocess, 5095.0ms inference, 21.0ms postprocess per image at shape (1, 3, 640, 640)\n",
      "\n",
      "0: 640x640 4 Fire-Smoke-Sodium-Trays, 6308.7ms\n",
      "Speed: 7.5ms preprocess, 6308.7ms inference, 24.5ms postprocess per image at shape (1, 3, 640, 640)\n",
      "\n",
      "0: 640x640 2 Fire-Smoke-Sodium-Trays, 5064.6ms\n",
      "Speed: 6.0ms preprocess, 5064.6ms inference, 12.5ms postprocess per image at shape (1, 3, 640, 640)\n",
      "\n",
      "0: 640x640 3 Fire-Smoke-Sodium-Trays, 5645.6ms\n",
      "Speed: 10.5ms preprocess, 5645.6ms inference, 15.5ms postprocess per image at shape (1, 3, 640, 640)\n",
      "\n",
      "0: 640x640 2 Fire-Smoke-Sodium-Trays, 5705.7ms\n",
      "Speed: 7.5ms preprocess, 5705.7ms inference, 9.0ms postprocess per image at shape (1, 3, 640, 640)\n",
      "\n",
      "0: 640x640 2 Fire-Smoke-Sodium-Trays, 5278.3ms\n",
      "Speed: 8.0ms preprocess, 5278.3ms inference, 12.0ms postprocess per image at shape (1, 3, 640, 640)\n",
      "\n",
      "0: 640x640 2 Fire-Smoke-Sodium-Trays, 5966.9ms\n",
      "Speed: 7.0ms preprocess, 5966.9ms inference, 8.5ms postprocess per image at shape (1, 3, 640, 640)\n",
      "\n",
      "0: 640x640 3 Fire-Smoke-Sodium-Trays, 5039.0ms\n",
      "Speed: 6.5ms preprocess, 5039.0ms inference, 22.0ms postprocess per image at shape (1, 3, 640, 640)\n",
      "\n",
      "0: 640x640 3 Fire-Smoke-Sodium-Trays, 5061.1ms\n",
      "Speed: 10.5ms preprocess, 5061.1ms inference, 17.5ms postprocess per image at shape (1, 3, 640, 640)\n",
      "\n",
      "0: 640x640 4 Fire-Smoke-Sodium-Trays, 5348.3ms\n",
      "Speed: 9.5ms preprocess, 5348.3ms inference, 20.5ms postprocess per image at shape (1, 3, 640, 640)\n",
      "\n",
      "0: 640x640 5 Fire-Smoke-Sodium-Trays, 5005.0ms\n",
      "Speed: 9.5ms preprocess, 5005.0ms inference, 29.0ms postprocess per image at shape (1, 3, 640, 640)\n",
      "\n",
      "0: 640x640 3 Fire-Smoke-Sodium-Trays, 5330.3ms\n",
      "Speed: 9.0ms preprocess, 5330.3ms inference, 21.0ms postprocess per image at shape (1, 3, 640, 640)\n",
      "\n",
      "0: 640x640 4 Fire-Smoke-Sodium-Trays, 5778.7ms\n",
      "Speed: 7.0ms preprocess, 5778.7ms inference, 19.0ms postprocess per image at shape (1, 3, 640, 640)\n",
      "\n",
      "0: 640x640 4 Fire-Smoke-Sodium-Trays, 5626.1ms\n",
      "Speed: 11.5ms preprocess, 5626.1ms inference, 24.5ms postprocess per image at shape (1, 3, 640, 640)\n",
      "\n",
      "0: 640x640 3 Fire-Smoke-Sodium-Trays, 5235.2ms\n",
      "Speed: 7.5ms preprocess, 5235.2ms inference, 21.0ms postprocess per image at shape (1, 3, 640, 640)\n",
      "\n",
      "0: 640x640 3 Fire-Smoke-Sodium-Trays, 6130.5ms\n",
      "Speed: 10.5ms preprocess, 6130.5ms inference, 21.5ms postprocess per image at shape (1, 3, 640, 640)\n",
      "\n",
      "0: 640x640 4 Fire-Smoke-Sodium-Trays, 5150.2ms\n",
      "Speed: 11.5ms preprocess, 5150.2ms inference, 21.5ms postprocess per image at shape (1, 3, 640, 640)\n",
      "\n",
      "0: 640x640 2 Fire-Smoke-Sodium-Trays, 5209.7ms\n",
      "Speed: 8.0ms preprocess, 5209.7ms inference, 14.5ms postprocess per image at shape (1, 3, 640, 640)\n",
      "\n",
      "0: 640x640 5 Fire-Smoke-Sodium-Trays, 5843.3ms\n",
      "Speed: 9.5ms preprocess, 5843.3ms inference, 31.0ms postprocess per image at shape (1, 3, 640, 640)\n",
      "\n",
      "0: 640x640 4 Fire-Smoke-Sodium-Trays, 5576.0ms\n",
      "Speed: 8.0ms preprocess, 5576.0ms inference, 34.0ms postprocess per image at shape (1, 3, 640, 640)\n",
      "\n",
      "0: 640x640 3 Fire-Smoke-Sodium-Trays, 5234.8ms\n",
      "Speed: 11.0ms preprocess, 5234.8ms inference, 14.5ms postprocess per image at shape (1, 3, 640, 640)\n",
      "\n",
      "0: 640x640 3 Fire-Smoke-Sodium-Trays, 5270.3ms\n",
      "Speed: 10.5ms preprocess, 5270.3ms inference, 14.5ms postprocess per image at shape (1, 3, 640, 640)\n",
      "\n",
      "0: 640x640 3 Fire-Smoke-Sodium-Trays, 4922.4ms\n",
      "Speed: 8.0ms preprocess, 4922.4ms inference, 16.0ms postprocess per image at shape (1, 3, 640, 640)\n",
      "\n",
      "0: 640x640 4 Fire-Smoke-Sodium-Trays, 6225.1ms\n",
      "Speed: 36.0ms preprocess, 6225.1ms inference, 22.0ms postprocess per image at shape (1, 3, 640, 640)\n",
      "\n",
      "0: 640x640 4 Fire-Smoke-Sodium-Trays, 5241.2ms\n",
      "Speed: 9.0ms preprocess, 5241.2ms inference, 26.0ms postprocess per image at shape (1, 3, 640, 640)\n",
      "\n",
      "0: 640x640 1 Fire-Smoke-Sodium-Tray, 5599.6ms\n",
      "Speed: 8.0ms preprocess, 5599.6ms inference, 9.5ms postprocess per image at shape (1, 3, 640, 640)\n",
      "\n",
      "0: 640x640 5 Fire-Smoke-Sodium-Trays, 5994.9ms\n",
      "Speed: 9.0ms preprocess, 5994.9ms inference, 28.0ms postprocess per image at shape (1, 3, 640, 640)\n",
      "\n",
      "0: 640x640 4 Fire-Smoke-Sodium-Trays, 5088.6ms\n",
      "Speed: 8.5ms preprocess, 5088.6ms inference, 25.0ms postprocess per image at shape (1, 3, 640, 640)\n",
      "\n",
      "0: 640x640 4 Fire-Smoke-Sodium-Trays, 5087.6ms\n",
      "Speed: 12.5ms preprocess, 5087.6ms inference, 27.0ms postprocess per image at shape (1, 3, 640, 640)\n",
      "\n",
      "0: 640x640 4 Fire-Smoke-Sodium-Trays, 5984.4ms\n",
      "Speed: 6.0ms preprocess, 5984.4ms inference, 16.0ms postprocess per image at shape (1, 3, 640, 640)\n",
      "\n",
      "0: 640x640 4 Fire-Smoke-Sodium-Trays, 5138.1ms\n",
      "Speed: 10.5ms preprocess, 5138.1ms inference, 66.6ms postprocess per image at shape (1, 3, 640, 640)\n",
      "\n",
      "0: 640x640 4 Fires, 4 Fire-Smoke-Sodium-Trays, 5321.3ms\n",
      "Speed: 11.5ms preprocess, 5321.3ms inference, 59.6ms postprocess per image at shape (1, 3, 640, 640)\n",
      "\n",
      "0: 640x640 3 Fire-Smoke-Sodium-Trays, 5366.9ms\n",
      "Speed: 8.0ms preprocess, 5366.9ms inference, 23.5ms postprocess per image at shape (1, 3, 640, 640)\n",
      "\n",
      "0: 640x640 5 Fire-Smoke-Sodium-Trays, 5416.9ms\n",
      "Speed: 8.5ms preprocess, 5416.9ms inference, 32.0ms postprocess per image at shape (1, 3, 640, 640)\n",
      "\n",
      "0: 640x640 4 Fire-Smoke-Sodium-Trays, 6335.7ms\n",
      "Speed: 8.0ms preprocess, 6335.7ms inference, 28.5ms postprocess per image at shape (1, 3, 640, 640)\n",
      "\n",
      "0: 640x640 3 Fire-Smoke-Sodium-Trays, 5444.9ms\n",
      "Speed: 8.5ms preprocess, 5444.9ms inference, 16.0ms postprocess per image at shape (1, 3, 640, 640)\n",
      "\n",
      "0: 640x640 5 Fire-Smoke-Sodium-Trays, 5992.9ms\n",
      "Speed: 8.5ms preprocess, 5992.9ms inference, 29.0ms postprocess per image at shape (1, 3, 640, 640)\n",
      "\n",
      "0: 640x640 20 Fires, 4 Fire-Smoke-Sodium-Trays, 5288.3ms\n",
      "Speed: 10.5ms preprocess, 5288.3ms inference, 121.1ms postprocess per image at shape (1, 3, 640, 640)\n",
      "\n",
      "0: 640x640 4 Fire-Smoke-Sodium-Trays, 5454.9ms\n",
      "Speed: 7.5ms preprocess, 5454.9ms inference, 18.0ms postprocess per image at shape (1, 3, 640, 640)\n",
      "\n",
      "0: 640x640 51 Fires, 3 Fire-Smoke-Sodium-Trays, 6331.2ms\n",
      "Speed: 7.5ms preprocess, 6331.2ms inference, 237.2ms postprocess per image at shape (1, 3, 640, 640)\n",
      "\n",
      "0: 640x640 1 Fire, 3 Fire-Smoke-Sodium-Trays, 5394.9ms\n",
      "Speed: 7.5ms preprocess, 5394.9ms inference, 20.5ms postprocess per image at shape (1, 3, 640, 640)\n",
      "\n"
     ]
    },
    {
     "name": "stderr",
     "output_type": "stream",
     "text": [
      "0: 640x640 4 Fire-Smoke-Sodium-Trays, 5655.1ms\n",
      "Speed: 10.0ms preprocess, 5655.1ms inference, 19.5ms postprocess per image at shape (1, 3, 640, 640)\n",
      "\n",
      "0: 640x640 3 Fire-Smoke-Sodium-Trays, 5300.8ms\n",
      "Speed: 8.5ms preprocess, 5300.8ms inference, 16.1ms postprocess per image at shape (1, 3, 640, 640)\n",
      "\n",
      "0: 640x640 6 Fire-Smoke-Sodium-Trays, 5100.6ms\n",
      "Speed: 8.0ms preprocess, 5100.6ms inference, 28.5ms postprocess per image at shape (1, 3, 640, 640)\n",
      "\n",
      "0: 640x640 2 Fire-Smoke-Sodium-Trays, 5192.7ms\n",
      "Speed: 6.0ms preprocess, 5192.7ms inference, 15.0ms postprocess per image at shape (1, 3, 640, 640)\n",
      "\n",
      "0: 640x640 3 Fire-Smoke-Sodium-Trays, 5622.6ms\n",
      "Speed: 11.5ms preprocess, 5622.6ms inference, 15.0ms postprocess per image at shape (1, 3, 640, 640)\n",
      "\n",
      "0: 640x640 4 Fire-Smoke-Sodium-Trays, 5107.1ms\n",
      "Speed: 8.0ms preprocess, 5107.1ms inference, 18.0ms postprocess per image at shape (1, 3, 640, 640)\n",
      "\n",
      "0: 640x640 5 Fire-Smoke-Sodium-Trays, 5898.3ms\n",
      "Speed: 12.0ms preprocess, 5898.3ms inference, 22.5ms postprocess per image at shape (1, 3, 640, 640)\n",
      "\n",
      "0: 640x640 3 Fire-Smoke-Sodium-Trays, 5112.2ms\n",
      "Speed: 8.5ms preprocess, 5112.2ms inference, 16.0ms postprocess per image at shape (1, 3, 640, 640)\n",
      "\n",
      "0: 640x640 3 Fire-Smoke-Sodium-Trays, 5164.2ms\n",
      "Speed: 7.5ms preprocess, 5164.2ms inference, 19.0ms postprocess per image at shape (1, 3, 640, 640)\n",
      "\n",
      "0: 640x640 4 Fire-Smoke-Sodium-Trays, 5769.7ms\n",
      "Speed: 8.0ms preprocess, 5769.7ms inference, 77.6ms postprocess per image at shape (1, 3, 640, 640)\n",
      "\n",
      "0: 640x640 4 Fire-Smoke-Sodium-Trays, 4966.5ms\n",
      "Speed: 7.5ms preprocess, 4966.5ms inference, 24.5ms postprocess per image at shape (1, 3, 640, 640)\n",
      "\n",
      "0: 640x640 4 Fire-Smoke-Sodium-Trays, 5181.7ms\n",
      "Speed: 11.0ms preprocess, 5181.7ms inference, 20.0ms postprocess per image at shape (1, 3, 640, 640)\n",
      "\n",
      "0: 640x640 3 Fire-Smoke-Sodium-Trays, 5009.0ms\n",
      "Speed: 9.5ms preprocess, 5009.0ms inference, 16.5ms postprocess per image at shape (1, 3, 640, 640)\n",
      "\n",
      "0: 640x640 3 Fire-Smoke-Sodium-Trays, 5147.7ms\n",
      "Speed: 8.0ms preprocess, 5147.7ms inference, 19.0ms postprocess per image at shape (1, 3, 640, 640)\n",
      "\n",
      "0: 640x640 3 Fire-Smoke-Sodium-Trays, 5457.9ms\n",
      "Speed: 9.0ms preprocess, 5457.9ms inference, 22.0ms postprocess per image at shape (1, 3, 640, 640)\n",
      "\n",
      "0: 640x640 3 Fire-Smoke-Sodium-Trays, 6275.7ms\n",
      "Speed: 9.0ms preprocess, 6275.7ms inference, 17.5ms postprocess per image at shape (1, 3, 640, 640)\n",
      "\n",
      "0: 640x640 3 Fire-Smoke-Sodium-Trays, 5164.7ms\n",
      "Speed: 7.0ms preprocess, 5164.7ms inference, 25.0ms postprocess per image at shape (1, 3, 640, 640)\n",
      "\n",
      "0: 640x640 3 Fire-Smoke-Sodium-Trays, 5789.8ms\n",
      "Speed: 7.0ms preprocess, 5789.8ms inference, 20.5ms postprocess per image at shape (1, 3, 640, 640)\n",
      "\n",
      "0: 640x640 5 Fire-Smoke-Sodium-Trays, 4880.9ms\n",
      "Speed: 8.5ms preprocess, 4880.9ms inference, 31.5ms postprocess per image at shape (1, 3, 640, 640)\n",
      "\n",
      "0: 640x640 4 Fire-Smoke-Sodium-Trays, 5069.1ms\n",
      "Speed: 11.0ms preprocess, 5069.1ms inference, 20.0ms postprocess per image at shape (1, 3, 640, 640)\n",
      "\n",
      "0: 640x640 4 Fire-Smoke-Sodium-Trays, 4861.4ms\n",
      "Speed: 9.0ms preprocess, 4861.4ms inference, 26.5ms postprocess per image at shape (1, 3, 640, 640)\n",
      "\n",
      "0: 640x640 4 Fire-Smoke-Sodium-Trays, 5852.8ms\n",
      "Speed: 7.5ms preprocess, 5852.8ms inference, 21.0ms postprocess per image at shape (1, 3, 640, 640)\n",
      "\n",
      "0: 640x640 2 Fires, 4 Fire-Smoke-Sodium-Trays, 5226.7ms\n",
      "Speed: 6.5ms preprocess, 5226.7ms inference, 29.5ms postprocess per image at shape (1, 3, 640, 640)\n",
      "\n",
      "0: 640x640 4 Fire-Smoke-Sodium-Trays, 5247.2ms\n",
      "Speed: 8.5ms preprocess, 5247.2ms inference, 18.5ms postprocess per image at shape (1, 3, 640, 640)\n",
      "\n",
      "0: 640x640 3 Fire-Smoke-Sodium-Trays, 5112.6ms\n",
      "Speed: 8.0ms preprocess, 5112.6ms inference, 17.5ms postprocess per image at shape (1, 3, 640, 640)\n",
      "\n",
      "0: 640x640 3 Fire-Smoke-Sodium-Trays, 5061.1ms\n",
      "Speed: 10.5ms preprocess, 5061.1ms inference, 18.0ms postprocess per image at shape (1, 3, 640, 640)\n",
      "\n",
      "0: 640x640 3 Fire-Smoke-Sodium-Trays, 5505.5ms\n",
      "Speed: 9.5ms preprocess, 5505.5ms inference, 83.7ms postprocess per image at shape (1, 3, 640, 640)\n",
      "\n",
      "0: 640x640 2 Fire-Smoke-Sodium-Trays, 5352.8ms\n",
      "Speed: 29.0ms preprocess, 5352.8ms inference, 12.0ms postprocess per image at shape (1, 3, 640, 640)\n",
      "\n",
      "0: 640x640 3 Fire-Smoke-Sodium-Trays, 5943.9ms\n",
      "Speed: 10.0ms preprocess, 5943.9ms inference, 16.0ms postprocess per image at shape (1, 3, 640, 640)\n",
      "\n",
      "0: 640x640 4 Fire-Smoke-Sodium-Trays, 5274.8ms\n",
      "Speed: 6.5ms preprocess, 5274.8ms inference, 20.0ms postprocess per image at shape (1, 3, 640, 640)\n",
      "\n",
      "0: 640x640 4 Fire-Smoke-Sodium-Trays, 5082.6ms\n",
      "Speed: 9.0ms preprocess, 5082.6ms inference, 20.0ms postprocess per image at shape (1, 3, 640, 640)\n",
      "\n",
      "0: 640x640 4 Fire-Smoke-Sodium-Trays, 5275.3ms\n",
      "Speed: 10.0ms preprocess, 5275.3ms inference, 18.0ms postprocess per image at shape (1, 3, 640, 640)\n",
      "\n",
      "0: 640x640 3 Fire-Smoke-Sodium-Trays, 5804.2ms\n",
      "Speed: 8.0ms preprocess, 5804.2ms inference, 20.5ms postprocess per image at shape (1, 3, 640, 640)\n",
      "\n",
      "0: 640x640 3 Fire-Smoke-Sodium-Trays, 5190.2ms\n",
      "Speed: 7.0ms preprocess, 5190.2ms inference, 21.5ms postprocess per image at shape (1, 3, 640, 640)\n",
      "\n",
      "0: 640x640 3 Fire-Smoke-Sodium-Trays, 5275.3ms\n",
      "Speed: 9.0ms preprocess, 5275.3ms inference, 16.5ms postprocess per image at shape (1, 3, 640, 640)\n",
      "\n",
      "0: 640x640 3 Fire-Smoke-Sodium-Trays, 5236.7ms\n",
      "Speed: 9.0ms preprocess, 5236.7ms inference, 15.5ms postprocess per image at shape (1, 3, 640, 640)\n",
      "\n",
      "0: 640x640 4 Fire-Smoke-Sodium-Trays, 5324.8ms\n",
      "Speed: 7.0ms preprocess, 5324.8ms inference, 25.5ms postprocess per image at shape (1, 3, 640, 640)\n",
      "\n",
      "0: 640x640 4 Fire-Smoke-Sodium-Trays, 3927.1ms\n",
      "Speed: 6.0ms preprocess, 3927.1ms inference, 14.5ms postprocess per image at shape (1, 3, 640, 640)\n",
      "\n",
      "0: 640x640 4 Fire-Smoke-Sodium-Trays, 4217.8ms\n",
      "Speed: 6.5ms preprocess, 4217.8ms inference, 16.0ms postprocess per image at shape (1, 3, 640, 640)\n",
      "\n",
      "0: 640x640 4 Fire-Smoke-Sodium-Trays, 4341.9ms\n",
      "Speed: 60.1ms preprocess, 4341.9ms inference, 27.0ms postprocess per image at shape (1, 3, 640, 640)\n",
      "\n",
      "0: 640x640 5 Fire-Smoke-Sodium-Trays, 3963.6ms\n",
      "Speed: 7.0ms preprocess, 3963.6ms inference, 20.0ms postprocess per image at shape (1, 3, 640, 640)\n",
      "\n",
      "0: 640x640 4 Fire-Smoke-Sodium-Trays, 3830.5ms\n",
      "Speed: 7.0ms preprocess, 3830.5ms inference, 16.0ms postprocess per image at shape (1, 3, 640, 640)\n",
      "\n",
      "0: 640x640 5 Fire-Smoke-Sodium-Trays, 3675.3ms\n",
      "Speed: 7.0ms preprocess, 3675.3ms inference, 19.0ms postprocess per image at shape (1, 3, 640, 640)\n",
      "\n",
      "0: 640x640 6 Fire-Smoke-Sodium-Trays, 4141.7ms\n",
      "Speed: 7.0ms preprocess, 4141.7ms inference, 21.0ms postprocess per image at shape (1, 3, 640, 640)\n",
      "\n",
      "0: 640x640 3 Fire-Smoke-Sodium-Trays, 3810.4ms\n",
      "Speed: 6.0ms preprocess, 3810.4ms inference, 17.0ms postprocess per image at shape (1, 3, 640, 640)\n",
      "\n",
      "0: 640x640 4 Fire-Smoke-Sodium-Trays, 3879.5ms\n",
      "Speed: 7.0ms preprocess, 3879.5ms inference, 15.0ms postprocess per image at shape (1, 3, 640, 640)\n",
      "\n",
      "0: 640x640 5 Fire-Smoke-Sodium-Trays, 4147.7ms\n",
      "Speed: 6.0ms preprocess, 4147.7ms inference, 18.0ms postprocess per image at shape (1, 3, 640, 640)\n",
      "\n",
      "0: 640x640 6 Fire-Smoke-Sodium-Trays, 3930.5ms\n",
      "Speed: 6.0ms preprocess, 3930.5ms inference, 30.0ms postprocess per image at shape (1, 3, 640, 640)\n",
      "\n",
      "0: 640x640 3 Fire-Smoke-Sodium-Trays, 3857.5ms\n",
      "Speed: 6.0ms preprocess, 3857.5ms inference, 13.1ms postprocess per image at shape (1, 3, 640, 640)\n",
      "\n",
      "0: 640x640 3 Fire-Smoke-Sodium-Trays, 3717.4ms\n",
      "Speed: 6.0ms preprocess, 3717.4ms inference, 12.0ms postprocess per image at shape (1, 3, 640, 640)\n",
      "\n",
      "0: 640x640 3 Fire-Smoke-Sodium-Trays, 3720.4ms\n",
      "Speed: 6.0ms preprocess, 3720.4ms inference, 12.0ms postprocess per image at shape (1, 3, 640, 640)\n",
      "\n",
      "0: 640x640 4 Fire-Smoke-Sodium-Trays, 3757.4ms\n",
      "Speed: 6.0ms preprocess, 3757.4ms inference, 15.0ms postprocess per image at shape (1, 3, 640, 640)\n",
      "\n",
      "0: 640x640 5 Fire-Smoke-Sodium-Trays, 3460.1ms\n",
      "Speed: 6.0ms preprocess, 3460.1ms inference, 18.0ms postprocess per image at shape (1, 3, 640, 640)\n",
      "\n",
      "0: 640x640 9 Fire-Smoke-Sodium-Trays, 3587.2ms\n",
      "Speed: 6.0ms preprocess, 3587.2ms inference, 31.0ms postprocess per image at shape (1, 3, 640, 640)\n",
      "\n",
      "0: 640x640 4 Fire-Smoke-Sodium-Trays, 4570.2ms\n",
      "Speed: 7.0ms preprocess, 4570.2ms inference, 15.0ms postprocess per image at shape (1, 3, 640, 640)\n",
      "\n",
      "0: 640x640 2 Fire-Smoke-Sodium-Trays, 3722.3ms\n"
     ]
    },
    {
     "name": "stderr",
     "output_type": "stream",
     "text": [
      "Speed: 7.0ms preprocess, 3722.3ms inference, 8.0ms postprocess per image at shape (1, 3, 640, 640)\n",
      "\n",
      "0: 640x640 3 Fire-Smoke-Sodium-Trays, 3748.4ms\n",
      "Speed: 6.0ms preprocess, 3748.4ms inference, 12.0ms postprocess per image at shape (1, 3, 640, 640)\n",
      "\n",
      "0: 640x640 1 Fire-Smoke-Sodium-Tray, 3762.4ms\n",
      "Speed: 5.0ms preprocess, 3762.4ms inference, 5.0ms postprocess per image at shape (1, 3, 640, 640)\n",
      "\n",
      "0: 640x640 3 Fire-Smoke-Sodium-Trays, 3785.5ms\n",
      "Speed: 6.0ms preprocess, 3785.5ms inference, 20.0ms postprocess per image at shape (1, 3, 640, 640)\n",
      "\n",
      "0: 640x640 3 Fire-Smoke-Sodium-Trays, 3638.3ms\n",
      "Speed: 7.0ms preprocess, 3638.3ms inference, 12.0ms postprocess per image at shape (1, 3, 640, 640)\n",
      "\n",
      "0: 640x640 3 Fire-Smoke-Sodium-Trays, 3686.3ms\n",
      "Speed: 6.0ms preprocess, 3686.3ms inference, 13.0ms postprocess per image at shape (1, 3, 640, 640)\n",
      "\n",
      "0: 640x640 1 Fire-Smoke-Sodium-Tray, 4231.8ms\n",
      "Speed: 7.1ms preprocess, 4231.8ms inference, 5.0ms postprocess per image at shape (1, 3, 640, 640)\n",
      "\n",
      "0: 640x640 3 Fire-Smoke-Sodium-Trays, 3604.2ms\n",
      "Speed: 7.0ms preprocess, 3604.2ms inference, 12.0ms postprocess per image at shape (1, 3, 640, 640)\n",
      "\n",
      "0: 640x640 2 Fire-Smoke-Sodium-Trays, 3717.4ms\n",
      "Speed: 6.0ms preprocess, 3717.4ms inference, 9.0ms postprocess per image at shape (1, 3, 640, 640)\n",
      "\n",
      "0: 640x640 2 Fire-Smoke-Sodium-Trays, 3628.3ms\n",
      "Speed: 7.0ms preprocess, 3628.3ms inference, 9.0ms postprocess per image at shape (1, 3, 640, 640)\n",
      "\n",
      "0: 640x640 2 Fire-Smoke-Sodium-Trays, 3715.4ms\n",
      "Speed: 6.0ms preprocess, 3715.4ms inference, 9.0ms postprocess per image at shape (1, 3, 640, 640)\n",
      "\n",
      "0: 640x640 2 Fire-Smoke-Sodium-Trays, 3983.6ms\n",
      "Speed: 7.0ms preprocess, 3983.6ms inference, 14.0ms postprocess per image at shape (1, 3, 640, 640)\n",
      "\n",
      "0: 640x640 2 Fire-Smoke-Sodium-Trays, 3734.4ms\n",
      "Speed: 7.0ms preprocess, 3734.4ms inference, 9.0ms postprocess per image at shape (1, 3, 640, 640)\n",
      "\n",
      "0: 640x640 2 Fire-Smoke-Sodium-Trays, 3421.1ms\n",
      "Speed: 6.0ms preprocess, 3421.1ms inference, 9.0ms postprocess per image at shape (1, 3, 640, 640)\n",
      "\n",
      "0: 640x640 4 Fire-Smoke-Sodium-Trays, 4061.7ms\n",
      "Speed: 7.0ms preprocess, 4061.7ms inference, 24.0ms postprocess per image at shape (1, 3, 640, 640)\n",
      "\n",
      "0: 640x640 3 Fire-Smoke-Sodium-Trays, 4287.9ms\n",
      "Speed: 6.0ms preprocess, 4287.9ms inference, 17.1ms postprocess per image at shape (1, 3, 640, 640)\n",
      "\n",
      "0: 640x640 4 Fire-Smoke-Sodium-Trays, 4190.8ms\n",
      "Speed: 9.0ms preprocess, 4190.8ms inference, 15.0ms postprocess per image at shape (1, 3, 640, 640)\n",
      "\n",
      "0: 640x640 5 Fire-Smoke-Sodium-Trays, 4011.6ms\n",
      "Speed: 5.0ms preprocess, 4011.6ms inference, 18.0ms postprocess per image at shape (1, 3, 640, 640)\n",
      "\n",
      "0: 640x640 4 Fire-Smoke-Sodium-Trays, 3919.5ms\n",
      "Speed: 6.0ms preprocess, 3919.5ms inference, 15.0ms postprocess per image at shape (1, 3, 640, 640)\n",
      "\n",
      "0: 640x640 4 Fire-Smoke-Sodium-Trays, 3987.6ms\n",
      "Speed: 7.0ms preprocess, 3987.6ms inference, 18.0ms postprocess per image at shape (1, 3, 640, 640)\n",
      "\n",
      "0: 640x640 2 Fire-Smoke-Sodium-Trays, 4180.8ms\n",
      "Speed: 7.0ms preprocess, 4180.8ms inference, 11.0ms postprocess per image at shape (1, 3, 640, 640)\n",
      "\n",
      "0: 640x640 2 Fire-Smoke-Sodium-Trays, 3899.5ms\n",
      "Speed: 8.0ms preprocess, 3899.5ms inference, 8.0ms postprocess per image at shape (1, 3, 640, 640)\n",
      "\n",
      "0: 640x640 1 Fire-Smoke-Sodium-Tray, 4313.9ms\n",
      "Speed: 6.0ms preprocess, 4313.9ms inference, 6.0ms postprocess per image at shape (1, 3, 640, 640)\n",
      "\n",
      "0: 640x640 1 Fire-Smoke-Sodium-Tray, 4025.6ms\n",
      "Speed: 8.0ms preprocess, 4025.6ms inference, 6.0ms postprocess per image at shape (1, 3, 640, 640)\n",
      "\n",
      "0: 640x640 2 Fire-Smoke-Sodium-Trays, 4024.6ms\n",
      "Speed: 7.1ms preprocess, 4024.6ms inference, 8.0ms postprocess per image at shape (1, 3, 640, 640)\n",
      "\n",
      "0: 640x640 1 Fire-Smoke-Sodium-Tray, 4012.7ms\n",
      "Speed: 6.0ms preprocess, 4012.7ms inference, 9.0ms postprocess per image at shape (1, 3, 640, 640)\n",
      "\n",
      "0: 640x640 2 Fire-Smoke-Sodium-Trays, 4427.0ms\n",
      "Speed: 6.0ms preprocess, 4427.0ms inference, 8.0ms postprocess per image at shape (1, 3, 640, 640)\n",
      "\n",
      "0: 640x640 2 Fire-Smoke-Sodium-Trays, 3705.3ms\n",
      "Speed: 6.0ms preprocess, 3705.3ms inference, 9.0ms postprocess per image at shape (1, 3, 640, 640)\n",
      "\n",
      "0: 640x640 1 Fire-Smoke-Sodium-Tray, 3653.3ms\n",
      "Speed: 7.0ms preprocess, 3653.3ms inference, 6.0ms postprocess per image at shape (1, 3, 640, 640)\n",
      "\n",
      "0: 640x640 3 Fire-Smoke-Sodium-Trays, 4708.2ms\n",
      "Speed: 6.0ms preprocess, 4708.2ms inference, 12.0ms postprocess per image at shape (1, 3, 640, 640)\n",
      "\n",
      "0: 640x640 2 Fire-Smoke-Sodium-Trays, 3871.5ms\n",
      "Speed: 6.0ms preprocess, 3871.5ms inference, 14.0ms postprocess per image at shape (1, 3, 640, 640)\n",
      "\n",
      "0: 640x640 3 Fire-Smoke-Sodium-Trays, 4000.6ms\n",
      "Speed: 6.0ms preprocess, 4000.6ms inference, 19.1ms postprocess per image at shape (1, 3, 640, 640)\n",
      "\n",
      "0: 640x640 2 Fire-Smoke-Sodium-Trays, 3902.5ms\n",
      "Speed: 7.1ms preprocess, 3902.5ms inference, 8.0ms postprocess per image at shape (1, 3, 640, 640)\n",
      "\n",
      "0: 640x640 2 Fire-Smoke-Sodium-Trays, 3795.4ms\n",
      "Speed: 6.0ms preprocess, 3795.4ms inference, 8.0ms postprocess per image at shape (1, 3, 640, 640)\n",
      "\n",
      "0: 640x640 1 Fire-Smoke-Sodium-Tray, 3955.6ms\n",
      "Speed: 6.0ms preprocess, 3955.6ms inference, 9.0ms postprocess per image at shape (1, 3, 640, 640)\n",
      "\n",
      "0: 640x640 2 Fire-Smoke-Sodium-Trays, 3960.6ms\n",
      "Speed: 7.0ms preprocess, 3960.6ms inference, 9.0ms postprocess per image at shape (1, 3, 640, 640)\n",
      "\n",
      "0: 640x640 2 Fire-Smoke-Sodium-Trays, 3670.3ms\n",
      "Speed: 6.0ms preprocess, 3670.3ms inference, 12.0ms postprocess per image at shape (1, 3, 640, 640)\n",
      "\n",
      "0: 640x640 4 Fire-Smoke-Sodium-Trays, 4183.8ms\n",
      "Speed: 14.0ms preprocess, 4183.8ms inference, 15.0ms postprocess per image at shape (1, 3, 640, 640)\n",
      "\n",
      "0: 640x640 2 Fire-Smoke-Sodium-Trays, 3891.5ms\n",
      "Speed: 7.1ms preprocess, 3891.5ms inference, 13.0ms postprocess per image at shape (1, 3, 640, 640)\n",
      "\n",
      "0: 640x640 1 Fire-Smoke-Sodium-Tray, 3798.4ms\n",
      "Speed: 6.0ms preprocess, 3798.4ms inference, 6.0ms postprocess per image at shape (1, 3, 640, 640)\n",
      "\n",
      "0: 640x640 1 Fire-Smoke-Sodium-Tray, 4013.6ms\n",
      "Speed: 6.0ms preprocess, 4013.6ms inference, 6.0ms postprocess per image at shape (1, 3, 640, 640)\n",
      "\n",
      "0: 640x640 1 Fire-Smoke-Sodium-Tray, 3799.4ms\n",
      "Speed: 7.0ms preprocess, 3799.4ms inference, 5.0ms postprocess per image at shape (1, 3, 640, 640)\n",
      "\n",
      "0: 640x640 1 Fire-Smoke-Sodium-Tray, 3616.3ms\n",
      "Speed: 6.0ms preprocess, 3616.3ms inference, 5.0ms postprocess per image at shape (1, 3, 640, 640)\n",
      "\n",
      "0: 640x640 1 Fire-Smoke-Sodium-Tray, 3712.3ms\n",
      "Speed: 6.0ms preprocess, 3712.3ms inference, 6.0ms postprocess per image at shape (1, 3, 640, 640)\n",
      "\n",
      "0: 640x640 2 Fire-Smoke-Sodium-Trays, 4907.4ms\n",
      "Speed: 7.0ms preprocess, 4907.4ms inference, 9.0ms postprocess per image at shape (1, 3, 640, 640)\n",
      "\n",
      "0: 640x640 1 Fire-Smoke-Sodium-Tray, 3810.4ms\n",
      "Speed: 6.0ms preprocess, 3810.4ms inference, 6.0ms postprocess per image at shape (1, 3, 640, 640)\n",
      "\n",
      "0: 640x640 1 Fire-Smoke-Sodium-Tray, 3946.6ms\n",
      "Speed: 8.0ms preprocess, 3946.6ms inference, 5.0ms postprocess per image at shape (1, 3, 640, 640)\n",
      "\n",
      "0: 640x640 1 Fire-Smoke-Sodium-Tray, 3818.4ms\n",
      "Speed: 6.0ms preprocess, 3818.4ms inference, 7.0ms postprocess per image at shape (1, 3, 640, 640)\n",
      "\n",
      "0: 640x640 1 Fire-Smoke-Sodium-Tray, 4225.8ms\n",
      "Speed: 8.0ms preprocess, 4225.8ms inference, 6.0ms postprocess per image at shape (1, 3, 640, 640)\n",
      "\n",
      "0: 640x640 1 Fire-Smoke-Sodium-Tray, 5050.6ms\n",
      "Speed: 9.0ms preprocess, 5050.6ms inference, 6.0ms postprocess per image at shape (1, 3, 640, 640)\n",
      "\n",
      "0: 640x640 1 Fire-Smoke-Sodium-Tray, 4264.8ms\n",
      "Speed: 9.0ms preprocess, 4264.8ms inference, 7.0ms postprocess per image at shape (1, 3, 640, 640)\n",
      "\n",
      "0: 640x640 4 Fire-Smoke-Sodium-Trays, 4588.1ms\n",
      "Speed: 7.0ms preprocess, 4588.1ms inference, 16.0ms postprocess per image at shape (1, 3, 640, 640)\n",
      "\n",
      "0: 640x640 2 Fire-Smoke-Sodium-Trays, 4144.7ms\n",
      "Speed: 7.0ms preprocess, 4144.7ms inference, 14.0ms postprocess per image at shape (1, 3, 640, 640)\n",
      "\n",
      "0: 640x640 1 Fire-Smoke-Sodium-Tray, 3884.5ms\n",
      "Speed: 8.0ms preprocess, 3884.5ms inference, 6.0ms postprocess per image at shape (1, 3, 640, 640)\n",
      "\n",
      "0: 640x640 1 Fire-Smoke-Sodium-Tray, 4161.8ms\n",
      "Speed: 7.0ms preprocess, 4161.8ms inference, 6.0ms postprocess per image at shape (1, 3, 640, 640)\n",
      "\n",
      "0: 640x640 1 Fire-Smoke-Sodium-Tray, 4043.7ms\n",
      "Speed: 7.0ms preprocess, 4043.7ms inference, 9.0ms postprocess per image at shape (1, 3, 640, 640)\n",
      "\n",
      "0: 640x640 1 Fire-Smoke-Sodium-Tray, 4290.9ms\n"
     ]
    },
    {
     "name": "stderr",
     "output_type": "stream",
     "text": [
      "Speed: 7.0ms preprocess, 4290.9ms inference, 9.0ms postprocess per image at shape (1, 3, 640, 640)\n",
      "\n",
      "0: 640x640 1 Fire-Smoke-Sodium-Tray, 3748.4ms\n",
      "Speed: 6.0ms preprocess, 3748.4ms inference, 6.0ms postprocess per image at shape (1, 3, 640, 640)\n",
      "\n",
      "0: 640x640 1 Fire-Smoke-Sodium-Tray, 5158.7ms\n",
      "Speed: 7.0ms preprocess, 5158.7ms inference, 7.9ms postprocess per image at shape (1, 3, 640, 640)\n",
      "\n",
      "0: 640x640 1 Fire-Smoke-Sodium-Tray, 3892.5ms\n",
      "Speed: 6.0ms preprocess, 3892.5ms inference, 5.0ms postprocess per image at shape (1, 3, 640, 640)\n",
      "\n",
      "0: 640x640 1 Fire-Smoke-Sodium-Tray, 4162.8ms\n",
      "Speed: 7.0ms preprocess, 4162.8ms inference, 9.0ms postprocess per image at shape (1, 3, 640, 640)\n",
      "\n",
      "0: 640x640 2 Fire-Smoke-Sodium-Trays, 4475.0ms\n",
      "Speed: 6.0ms preprocess, 4475.0ms inference, 12.0ms postprocess per image at shape (1, 3, 640, 640)\n",
      "\n",
      "0: 640x640 1 Fire-Smoke-Sodium-Tray, 4261.8ms\n",
      "Speed: 6.0ms preprocess, 4261.8ms inference, 6.0ms postprocess per image at shape (1, 3, 640, 640)\n",
      "\n",
      "0: 640x640 1 Fire-Smoke-Sodium-Tray, 3830.5ms\n",
      "Speed: 6.0ms preprocess, 3830.5ms inference, 6.0ms postprocess per image at shape (1, 3, 640, 640)\n",
      "\n",
      "0: 640x640 2 Fire-Smoke-Sodium-Trays, 3922.6ms\n",
      "Speed: 7.0ms preprocess, 3922.6ms inference, 8.0ms postprocess per image at shape (1, 3, 640, 640)\n",
      "\n",
      "0: 640x640 1 Fire-Smoke-Sodium-Tray, 3806.4ms\n",
      "Speed: 6.0ms preprocess, 3806.4ms inference, 6.0ms postprocess per image at shape (1, 3, 640, 640)\n",
      "\n",
      "0: 640x640 1 Fire-Smoke-Sodium-Tray, 4246.8ms\n",
      "Speed: 7.0ms preprocess, 4246.8ms inference, 5.0ms postprocess per image at shape (1, 3, 640, 640)\n",
      "\n",
      "0: 640x640 1 Fire-Smoke-Sodium-Tray, 3930.5ms\n",
      "Speed: 6.0ms preprocess, 3930.5ms inference, 9.0ms postprocess per image at shape (1, 3, 640, 640)\n",
      "\n",
      "0: 640x640 1 Fire-Smoke-Sodium-Tray, 3844.5ms\n",
      "Speed: 6.0ms preprocess, 3844.5ms inference, 9.0ms postprocess per image at shape (1, 3, 640, 640)\n",
      "\n",
      "0: 640x640 1 Fire-Smoke-Sodium-Tray, 4167.8ms\n",
      "Speed: 6.0ms preprocess, 4167.8ms inference, 6.0ms postprocess per image at shape (1, 3, 640, 640)\n",
      "\n",
      "0: 640x640 1 Fire-Smoke-Sodium-Tray, 3745.3ms\n",
      "Speed: 8.1ms preprocess, 3745.3ms inference, 6.0ms postprocess per image at shape (1, 3, 640, 640)\n",
      "\n",
      "0: 640x640 1 Fire-Smoke-Sodium-Tray, 3755.4ms\n",
      "Speed: 7.0ms preprocess, 3755.4ms inference, 6.0ms postprocess per image at shape (1, 3, 640, 640)\n",
      "\n",
      "0: 640x640 1 Fire-Smoke-Sodium-Tray, 4073.7ms\n",
      "Speed: 6.0ms preprocess, 4073.7ms inference, 8.0ms postprocess per image at shape (1, 3, 640, 640)\n",
      "\n",
      "0: 640x640 1 Fire-Smoke-Sodium-Tray, 4133.7ms\n",
      "Speed: 6.0ms preprocess, 4133.7ms inference, 6.0ms postprocess per image at shape (1, 3, 640, 640)\n",
      "\n",
      "0: 640x640 1 Fire-Smoke-Sodium-Tray, 3712.4ms\n",
      "Speed: 6.0ms preprocess, 3712.4ms inference, 6.0ms postprocess per image at shape (1, 3, 640, 640)\n",
      "\n",
      "0: 640x640 (no detections), 4002.6ms\n",
      "Speed: 6.0ms preprocess, 4002.6ms inference, 1.0ms postprocess per image at shape (1, 3, 640, 640)\n",
      "\n",
      "0: 640x640 1 Fire-Smoke-Sodium-Tray, 3824.4ms\n",
      "Speed: 6.0ms preprocess, 3824.4ms inference, 6.0ms postprocess per image at shape (1, 3, 640, 640)\n",
      "\n",
      "0: 640x640 1 Fire-Smoke-Sodium-Tray, 3760.4ms\n",
      "Speed: 6.0ms preprocess, 3760.4ms inference, 6.0ms postprocess per image at shape (1, 3, 640, 640)\n",
      "\n",
      "0: 640x640 1 Fire-Smoke-Sodium-Tray, 3739.4ms\n",
      "Speed: 6.0ms preprocess, 3739.4ms inference, 5.0ms postprocess per image at shape (1, 3, 640, 640)\n",
      "\n",
      "0: 640x640 1 Fire-Smoke-Sodium-Tray, 3532.2ms\n",
      "Speed: 7.0ms preprocess, 3532.2ms inference, 6.0ms postprocess per image at shape (1, 3, 640, 640)\n",
      "\n",
      "0: 640x640 1 Fire-Smoke-Sodium-Tray, 3743.4ms\n",
      "Speed: 6.0ms preprocess, 3743.4ms inference, 6.0ms postprocess per image at shape (1, 3, 640, 640)\n",
      "\n",
      "0: 640x640 1 Fire-Smoke-Sodium-Tray, 4066.7ms\n",
      "Speed: 6.0ms preprocess, 4066.7ms inference, 6.0ms postprocess per image at shape (1, 3, 640, 640)\n",
      "\n",
      "0: 640x640 1 Fire-Smoke-Sodium-Tray, 3887.5ms\n",
      "Speed: 7.0ms preprocess, 3887.5ms inference, 8.0ms postprocess per image at shape (1, 3, 640, 640)\n",
      "\n",
      "0: 640x640 1 Fire-Smoke-Sodium-Tray, 3898.5ms\n",
      "Speed: 7.0ms preprocess, 3898.5ms inference, 6.0ms postprocess per image at shape (1, 3, 640, 640)\n",
      "\n",
      "0: 640x640 1 Fire-Smoke-Sodium-Tray, 3748.4ms\n",
      "Speed: 6.0ms preprocess, 3748.4ms inference, 5.0ms postprocess per image at shape (1, 3, 640, 640)\n",
      "\n",
      "0: 640x640 2 Fire-Smoke-Sodium-Trays, 3702.4ms\n",
      "Speed: 7.0ms preprocess, 3702.4ms inference, 14.0ms postprocess per image at shape (1, 3, 640, 640)\n",
      "\n",
      "0: 640x640 1 Fire-Smoke-Sodium-Tray, 3818.4ms\n",
      "Speed: 6.0ms preprocess, 3818.4ms inference, 9.0ms postprocess per image at shape (1, 3, 640, 640)\n",
      "\n",
      "0: 640x640 1 Fire-Smoke-Sodium-Tray, 3838.5ms\n",
      "Speed: 6.0ms preprocess, 3838.5ms inference, 7.0ms postprocess per image at shape (1, 3, 640, 640)\n",
      "\n",
      "0: 640x640 1 Fire-Smoke-Sodium-Tray, 3867.5ms\n",
      "Speed: 7.0ms preprocess, 3867.5ms inference, 9.0ms postprocess per image at shape (1, 3, 640, 640)\n",
      "\n",
      "0: 640x640 1 Fire-Smoke-Sodium-Tray, 4059.7ms\n",
      "Speed: 6.0ms preprocess, 4059.7ms inference, 6.0ms postprocess per image at shape (1, 3, 640, 640)\n",
      "\n",
      "0: 640x640 1 Fire-Smoke-Sodium-Tray, 3807.4ms\n",
      "Speed: 6.0ms preprocess, 3807.4ms inference, 9.1ms postprocess per image at shape (1, 3, 640, 640)\n",
      "\n",
      "0: 640x640 1 Fire-Smoke-Sodium-Tray, 3624.3ms\n",
      "Speed: 6.0ms preprocess, 3624.3ms inference, 6.0ms postprocess per image at shape (1, 3, 640, 640)\n",
      "\n",
      "0: 640x640 1 Fire-Smoke-Sodium-Tray, 3695.3ms\n",
      "Speed: 6.0ms preprocess, 3695.3ms inference, 6.0ms postprocess per image at shape (1, 3, 640, 640)\n",
      "\n",
      "0: 640x640 1 Fire-Smoke-Sodium-Tray, 3854.5ms\n",
      "Speed: 6.0ms preprocess, 3854.5ms inference, 6.0ms postprocess per image at shape (1, 3, 640, 640)\n",
      "\n",
      "0: 640x640 1 Fire-Smoke-Sodium-Tray, 3615.3ms\n",
      "Speed: 7.0ms preprocess, 3615.3ms inference, 8.1ms postprocess per image at shape (1, 3, 640, 640)\n",
      "\n",
      "0: 640x640 1 Fire-Smoke-Sodium-Tray, 3707.3ms\n",
      "Speed: 6.0ms preprocess, 3707.3ms inference, 6.0ms postprocess per image at shape (1, 3, 640, 640)\n",
      "\n",
      "0: 640x640 2 Fire-Smoke-Sodium-Trays, 3564.2ms\n",
      "Speed: 6.0ms preprocess, 3564.2ms inference, 9.0ms postprocess per image at shape (1, 3, 640, 640)\n",
      "\n",
      "0: 640x640 1 Fire-Smoke-Sodium-Tray, 4272.9ms\n",
      "Speed: 7.0ms preprocess, 4272.9ms inference, 9.0ms postprocess per image at shape (1, 3, 640, 640)\n",
      "\n",
      "0: 640x640 1 Fire-Smoke-Sodium-Tray, 4033.6ms\n",
      "Speed: 6.0ms preprocess, 4033.6ms inference, 9.0ms postprocess per image at shape (1, 3, 640, 640)\n",
      "\n",
      "0: 640x640 1 Fire-Smoke-Sodium-Tray, 4166.8ms\n",
      "Speed: 7.0ms preprocess, 4166.8ms inference, 5.0ms postprocess per image at shape (1, 3, 640, 640)\n",
      "\n",
      "0: 640x640 1 Fire-Smoke-Sodium-Tray, 3849.5ms\n",
      "Speed: 6.0ms preprocess, 3849.5ms inference, 5.0ms postprocess per image at shape (1, 3, 640, 640)\n",
      "\n",
      "0: 640x640 1 Fire-Smoke-Sodium-Tray, 3855.5ms\n",
      "Speed: 6.0ms preprocess, 3855.5ms inference, 9.0ms postprocess per image at shape (1, 3, 640, 640)\n",
      "\n",
      "0: 640x640 1 Fire-Smoke-Sodium-Tray, 3879.5ms\n",
      "Speed: 6.0ms preprocess, 3879.5ms inference, 8.0ms postprocess per image at shape (1, 3, 640, 640)\n",
      "\n",
      "0: 640x640 1 Fire-Smoke-Sodium-Tray, 4194.8ms\n",
      "Speed: 7.0ms preprocess, 4194.8ms inference, 6.0ms postprocess per image at shape (1, 3, 640, 640)\n",
      "\n",
      "0: 640x640 1 Fire-Smoke-Sodium-Tray, 4294.9ms\n",
      "Speed: 7.0ms preprocess, 4294.9ms inference, 6.0ms postprocess per image at shape (1, 3, 640, 640)\n",
      "\n",
      "0: 640x640 1 Fire-Smoke-Sodium-Tray, 3763.4ms\n",
      "Speed: 6.0ms preprocess, 3763.4ms inference, 6.0ms postprocess per image at shape (1, 3, 640, 640)\n",
      "\n",
      "0: 640x640 1 Fire-Smoke-Sodium-Tray, 4194.8ms\n",
      "Speed: 7.0ms preprocess, 4194.8ms inference, 6.0ms postprocess per image at shape (1, 3, 640, 640)\n",
      "\n",
      "0: 640x640 1 Fire-Smoke-Sodium-Tray, 4026.6ms\n",
      "Speed: 6.0ms preprocess, 4026.6ms inference, 5.0ms postprocess per image at shape (1, 3, 640, 640)\n",
      "\n",
      "0: 640x640 3 Fire-Smoke-Sodium-Trays, 4038.6ms\n",
      "Speed: 6.0ms preprocess, 4038.6ms inference, 13.0ms postprocess per image at shape (1, 3, 640, 640)\n",
      "\n",
      "0: 640x640 1 Fire-Smoke-Sodium-Tray, 4057.7ms\n",
      "Speed: 6.0ms preprocess, 4057.7ms inference, 9.1ms postprocess per image at shape (1, 3, 640, 640)\n",
      "\n",
      "0: 640x640 1 Fire-Smoke-Sodium-Tray, 3882.5ms\n",
      "Speed: 7.0ms preprocess, 3882.5ms inference, 6.0ms postprocess per image at shape (1, 3, 640, 640)\n",
      "\n",
      "0: 640x640 1 Fire-Smoke-Sodium-Tray, 4336.9ms\n",
      "Speed: 6.0ms preprocess, 4336.9ms inference, 17.0ms postprocess per image at shape (1, 3, 640, 640)\n",
      "\n",
      "0: 640x640 2 Fire-Smoke-Sodium-Trays, 3791.4ms\n",
      "Speed: 7.0ms preprocess, 3791.4ms inference, 9.0ms postprocess per image at shape (1, 3, 640, 640)\n"
     ]
    },
    {
     "name": "stderr",
     "output_type": "stream",
     "text": [
      "\n",
      "0: 640x640 1 Fire-Smoke-Sodium-Tray, 3918.5ms\n",
      "Speed: 8.1ms preprocess, 3918.5ms inference, 9.0ms postprocess per image at shape (1, 3, 640, 640)\n",
      "\n",
      "0: 640x640 2 Fire-Smoke-Sodium-Trays, 3833.5ms\n",
      "Speed: 6.0ms preprocess, 3833.5ms inference, 9.0ms postprocess per image at shape (1, 3, 640, 640)\n",
      "\n",
      "0: 640x640 3 Fire-Smoke-Sodium-Trays, 3859.5ms\n",
      "Speed: 6.0ms preprocess, 3859.5ms inference, 14.1ms postprocess per image at shape (1, 3, 640, 640)\n",
      "\n",
      "0: 640x640 1 Fire-Smoke-Sodium-Tray, 3857.5ms\n",
      "Speed: 6.0ms preprocess, 3857.5ms inference, 7.0ms postprocess per image at shape (1, 3, 640, 640)\n",
      "\n",
      "0: 640x640 1 Fire-Smoke-Sodium-Tray, 5428.9ms\n",
      "Speed: 6.0ms preprocess, 5428.9ms inference, 6.0ms postprocess per image at shape (1, 3, 640, 640)\n",
      "\n",
      "0: 640x640 1 Fire-Smoke-Sodium-Tray, 4198.8ms\n",
      "Speed: 7.0ms preprocess, 4198.8ms inference, 6.0ms postprocess per image at shape (1, 3, 640, 640)\n",
      "\n",
      "0: 640x640 1 Fire-Smoke-Sodium-Tray, 4475.0ms\n",
      "Speed: 7.0ms preprocess, 4475.0ms inference, 9.0ms postprocess per image at shape (1, 3, 640, 640)\n",
      "\n",
      "0: 640x640 1 Fire-Smoke-Sodium-Tray, 4083.7ms\n",
      "Speed: 6.0ms preprocess, 4083.7ms inference, 7.0ms postprocess per image at shape (1, 3, 640, 640)\n",
      "\n",
      "0: 640x640 1 Fire-Smoke-Sodium-Tray, 3790.4ms\n",
      "Speed: 6.0ms preprocess, 3790.4ms inference, 7.0ms postprocess per image at shape (1, 3, 640, 640)\n",
      "\n",
      "0: 640x640 1 Fire-Smoke-Sodium-Tray, 4094.8ms\n",
      "Speed: 6.0ms preprocess, 4094.8ms inference, 8.9ms postprocess per image at shape (1, 3, 640, 640)\n",
      "\n",
      "0: 640x640 2 Fire-Smoke-Sodium-Trays, 4041.6ms\n",
      "Speed: 6.0ms preprocess, 4041.6ms inference, 9.0ms postprocess per image at shape (1, 3, 640, 640)\n",
      "\n",
      "0: 640x640 1 Fire-Smoke-Sodium-Tray, 4253.8ms\n",
      "Speed: 7.0ms preprocess, 4253.8ms inference, 6.0ms postprocess per image at shape (1, 3, 640, 640)\n",
      "\n",
      "0: 640x640 1 Fire-Smoke-Sodium-Tray, 4017.6ms\n",
      "Speed: 6.0ms preprocess, 4017.6ms inference, 6.0ms postprocess per image at shape (1, 3, 640, 640)\n",
      "\n",
      "0: 640x640 1 Fire-Smoke-Sodium-Tray, 4495.1ms\n",
      "Speed: 6.0ms preprocess, 4495.1ms inference, 6.0ms postprocess per image at shape (1, 3, 640, 640)\n",
      "\n",
      "0: 640x640 1 Fire-Smoke-Sodium-Tray, 4247.8ms\n",
      "Speed: 7.0ms preprocess, 4247.8ms inference, 9.0ms postprocess per image at shape (1, 3, 640, 640)\n",
      "\n",
      "0: 640x640 1 Fire-Smoke-Sodium-Tray, 4304.8ms\n",
      "Speed: 6.1ms preprocess, 4304.8ms inference, 6.0ms postprocess per image at shape (1, 3, 640, 640)\n",
      "\n",
      "0: 640x640 1 Fire-Smoke-Sodium-Tray, 4091.7ms\n",
      "Speed: 6.0ms preprocess, 4091.7ms inference, 8.0ms postprocess per image at shape (1, 3, 640, 640)\n",
      "\n",
      "0: 640x640 1 Fire-Smoke-Sodium-Tray, 4049.7ms\n",
      "Speed: 6.0ms preprocess, 4049.7ms inference, 6.0ms postprocess per image at shape (1, 3, 640, 640)\n",
      "\n",
      "0: 640x640 1 Fire-Smoke-Sodium-Tray, 4282.9ms\n",
      "Speed: 7.0ms preprocess, 4282.9ms inference, 8.0ms postprocess per image at shape (1, 3, 640, 640)\n",
      "\n",
      "0: 640x640 1 Fire-Smoke-Sodium-Tray, 3865.5ms\n",
      "Speed: 7.0ms preprocess, 3865.5ms inference, 8.0ms postprocess per image at shape (1, 3, 640, 640)\n",
      "\n",
      "0: 640x640 1 Fire-Smoke-Sodium-Tray, 4195.8ms\n",
      "Speed: 7.0ms preprocess, 4195.8ms inference, 5.0ms postprocess per image at shape (1, 3, 640, 640)\n",
      "\n",
      "0: 640x640 1 Fire-Smoke-Sodium-Tray, 3686.3ms\n",
      "Speed: 7.0ms preprocess, 3686.3ms inference, 6.0ms postprocess per image at shape (1, 3, 640, 640)\n",
      "\n",
      "0: 640x640 1 Fire-Smoke-Sodium-Tray, 4026.6ms\n",
      "Speed: 6.0ms preprocess, 4026.6ms inference, 9.0ms postprocess per image at shape (1, 3, 640, 640)\n",
      "\n",
      "0: 640x640 (no detections), 3830.5ms\n",
      "Speed: 6.0ms preprocess, 3830.5ms inference, 1.0ms postprocess per image at shape (1, 3, 640, 640)\n",
      "\n",
      "0: 640x640 (no detections), 3797.4ms\n",
      "Speed: 6.0ms preprocess, 3797.4ms inference, 1.0ms postprocess per image at shape (1, 3, 640, 640)\n",
      "\n",
      "0: 640x640 (no detections), 3723.4ms\n",
      "Speed: 6.0ms preprocess, 3723.4ms inference, 1.0ms postprocess per image at shape (1, 3, 640, 640)\n",
      "\n",
      "0: 640x640 (no detections), 3728.4ms\n",
      "Speed: 7.0ms preprocess, 3728.4ms inference, 1.0ms postprocess per image at shape (1, 3, 640, 640)\n",
      "\n",
      "0: 640x640 (no detections), 3783.5ms\n",
      "Speed: 7.0ms preprocess, 3783.5ms inference, 0.0ms postprocess per image at shape (1, 3, 640, 640)\n",
      "\n",
      "0: 640x640 1 Fire-Smoke-Sodium-Tray, 4213.8ms\n",
      "Speed: 7.1ms preprocess, 4213.8ms inference, 6.0ms postprocess per image at shape (1, 3, 640, 640)\n",
      "\n",
      "0: 640x640 2 Fire-Smoke-Sodium-Trays, 3517.2ms\n",
      "Speed: 6.0ms preprocess, 3517.2ms inference, 13.0ms postprocess per image at shape (1, 3, 640, 640)\n",
      "\n",
      "0: 640x640 2 Fire-Smoke-Sodium-Trays, 3627.3ms\n",
      "Speed: 7.0ms preprocess, 3627.3ms inference, 8.0ms postprocess per image at shape (1, 3, 640, 640)\n",
      "\n",
      "0: 640x640 2 Fire-Smoke-Sodium-Trays, 3609.3ms\n",
      "Speed: 7.0ms preprocess, 3609.3ms inference, 9.0ms postprocess per image at shape (1, 3, 640, 640)\n",
      "\n",
      "0: 640x640 1 Fire-Smoke-Sodium-Tray, 3680.3ms\n",
      "Speed: 7.0ms preprocess, 3680.3ms inference, 6.0ms postprocess per image at shape (1, 3, 640, 640)\n",
      "\n",
      "0: 640x640 1 Fire-Smoke-Sodium-Tray, 4213.8ms\n",
      "Speed: 7.1ms preprocess, 4213.8ms inference, 6.0ms postprocess per image at shape (1, 3, 640, 640)\n",
      "\n",
      "0: 640x640 1 Fire-Smoke-Sodium-Tray, 3773.4ms\n",
      "Speed: 7.0ms preprocess, 3773.4ms inference, 6.0ms postprocess per image at shape (1, 3, 640, 640)\n",
      "\n",
      "0: 640x640 1 Fire-Smoke-Sodium-Tray, 3878.5ms\n",
      "Speed: 7.0ms preprocess, 3878.5ms inference, 5.0ms postprocess per image at shape (1, 3, 640, 640)\n",
      "\n",
      "0: 640x640 1 Fire-Smoke-Sodium-Tray, 4246.8ms\n",
      "Speed: 7.0ms preprocess, 4246.8ms inference, 9.1ms postprocess per image at shape (1, 3, 640, 640)\n",
      "\n",
      "0: 640x640 1 Fire-Smoke-Sodium-Tray, 3889.5ms\n",
      "Speed: 7.1ms preprocess, 3889.5ms inference, 9.0ms postprocess per image at shape (1, 3, 640, 640)\n",
      "\n",
      "0: 640x640 1 Fire-Smoke-Sodium-Tray, 4019.6ms\n",
      "Speed: 6.0ms preprocess, 4019.6ms inference, 7.0ms postprocess per image at shape (1, 3, 640, 640)\n",
      "\n",
      "0: 640x640 1 Fire-Smoke-Sodium-Tray, 3744.4ms\n",
      "Speed: 7.0ms preprocess, 3744.4ms inference, 6.0ms postprocess per image at shape (1, 3, 640, 640)\n",
      "\n",
      "0: 640x640 1 Fire-Smoke-Sodium-Tray, 3631.3ms\n",
      "Speed: 6.0ms preprocess, 3631.3ms inference, 6.0ms postprocess per image at shape (1, 3, 640, 640)\n",
      "\n",
      "0: 640x640 1 Fire-Smoke-Sodium-Tray, 3767.4ms\n",
      "Speed: 6.0ms preprocess, 3767.4ms inference, 6.0ms postprocess per image at shape (1, 3, 640, 640)\n",
      "\n",
      "0: 640x640 (no detections), 3756.4ms\n",
      "Speed: 6.0ms preprocess, 3756.4ms inference, 1.0ms postprocess per image at shape (1, 3, 640, 640)\n",
      "\n",
      "0: 640x640 2 Fire-Smoke-Sodium-Trays, 3877.5ms\n",
      "Speed: 6.0ms preprocess, 3877.5ms inference, 27.0ms postprocess per image at shape (1, 3, 640, 640)\n",
      "\n",
      "0: 640x640 1 Fire-Smoke-Sodium-Tray, 3930.5ms\n",
      "Speed: 11.0ms preprocess, 3930.5ms inference, 6.0ms postprocess per image at shape (1, 3, 640, 640)\n",
      "\n",
      "0: 640x640 1 Fire-Smoke-Sodium-Tray, 4129.7ms\n",
      "Speed: 7.0ms preprocess, 4129.7ms inference, 6.0ms postprocess per image at shape (1, 3, 640, 640)\n",
      "\n",
      "0: 640x640 1 Fire-Smoke-Sodium-Tray, 3842.5ms\n",
      "Speed: 6.0ms preprocess, 3842.5ms inference, 6.0ms postprocess per image at shape (1, 3, 640, 640)\n",
      "\n",
      "0: 640x640 1 Fire-Smoke-Sodium-Tray, 3867.5ms\n",
      "Speed: 7.0ms preprocess, 3867.5ms inference, 9.0ms postprocess per image at shape (1, 3, 640, 640)\n",
      "\n",
      "0: 640x640 1 Fire-Smoke-Sodium-Tray, 4222.8ms\n",
      "Speed: 7.0ms preprocess, 4222.8ms inference, 6.0ms postprocess per image at shape (1, 3, 640, 640)\n",
      "\n",
      "0: 640x640 1 Fire-Smoke-Sodium-Tray, 3948.6ms\n",
      "Speed: 6.0ms preprocess, 3948.6ms inference, 6.0ms postprocess per image at shape (1, 3, 640, 640)\n",
      "\n",
      "0: 640x640 1 Fire-Smoke-Sodium-Tray, 3890.5ms\n",
      "Speed: 6.0ms preprocess, 3890.5ms inference, 6.0ms postprocess per image at shape (1, 3, 640, 640)\n",
      "\n",
      "0: 640x640 1 Fire-Smoke-Sodium-Tray, 4449.0ms\n",
      "Speed: 7.0ms preprocess, 4449.0ms inference, 8.0ms postprocess per image at shape (1, 3, 640, 640)\n",
      "\n",
      "0: 640x640 (no detections), 3940.6ms\n",
      "Speed: 21.0ms preprocess, 3940.6ms inference, 0.0ms postprocess per image at shape (1, 3, 640, 640)\n",
      "\n",
      "0: 640x640 1 Fire-Smoke-Sodium-Tray, 4084.7ms\n",
      "Speed: 7.0ms preprocess, 4084.7ms inference, 6.0ms postprocess per image at shape (1, 3, 640, 640)\n",
      "\n",
      "0: 640x640 1 Fire-Smoke-Sodium-Tray, 3844.5ms\n",
      "Speed: 6.0ms preprocess, 3844.5ms inference, 6.0ms postprocess per image at shape (1, 3, 640, 640)\n",
      "\n",
      "0: 640x640 1 Fire-Smoke-Sodium-Tray, 3723.4ms\n",
      "Speed: 6.0ms preprocess, 3723.4ms inference, 6.0ms postprocess per image at shape (1, 3, 640, 640)\n",
      "\n",
      "0: 640x640 1 Fire-Smoke-Sodium-Tray, 3788.4ms\n",
      "Speed: 7.0ms preprocess, 3788.4ms inference, 6.0ms postprocess per image at shape (1, 3, 640, 640)\n"
     ]
    },
    {
     "name": "stderr",
     "output_type": "stream",
     "text": [
      "\n",
      "0: 640x640 1 Fire-Smoke-Sodium-Tray, 3930.5ms\n",
      "Speed: 7.1ms preprocess, 3930.5ms inference, 6.0ms postprocess per image at shape (1, 3, 640, 640)\n",
      "\n",
      "0: 640x640 12 Fires, 3724.3ms\n",
      "Speed: 7.1ms preprocess, 3724.3ms inference, 44.0ms postprocess per image at shape (1, 3, 640, 640)\n",
      "\n",
      "0: 640x640 1 Fire-Smoke-Sodium-Tray, 4015.6ms\n",
      "Speed: 13.0ms preprocess, 4015.6ms inference, 7.0ms postprocess per image at shape (1, 3, 640, 640)\n",
      "\n",
      "0: 640x640 1 Fire-Smoke-Sodium-Tray, 4038.6ms\n",
      "Speed: 6.0ms preprocess, 4038.6ms inference, 6.0ms postprocess per image at shape (1, 3, 640, 640)\n",
      "\n",
      "0: 640x640 1 Fire-Smoke-Sodium-Tray, 3859.5ms\n",
      "Speed: 6.0ms preprocess, 3859.5ms inference, 8.0ms postprocess per image at shape (1, 3, 640, 640)\n",
      "\n",
      "0: 640x640 1 Fire-Smoke-Sodium-Tray, 3715.3ms\n",
      "Speed: 7.1ms preprocess, 3715.3ms inference, 5.0ms postprocess per image at shape (1, 3, 640, 640)\n",
      "\n",
      "0: 640x640 1 Fire-Smoke-Sodium-Tray, 4371.0ms\n",
      "Speed: 7.0ms preprocess, 4371.0ms inference, 6.0ms postprocess per image at shape (1, 3, 640, 640)\n",
      "\n",
      "0: 640x640 1 Fire-Smoke-Sodium-Tray, 3689.3ms\n",
      "Speed: 7.0ms preprocess, 3689.3ms inference, 6.0ms postprocess per image at shape (1, 3, 640, 640)\n",
      "\n",
      "0: 640x640 1 Fire-Smoke-Sodium-Tray, 3877.5ms\n",
      "Speed: 6.0ms preprocess, 3877.5ms inference, 6.0ms postprocess per image at shape (1, 3, 640, 640)\n",
      "\n",
      "0: 640x640 1 Fire-Smoke-Sodium-Tray, 4027.6ms\n",
      "Speed: 7.0ms preprocess, 4027.6ms inference, 6.0ms postprocess per image at shape (1, 3, 640, 640)\n",
      "\n",
      "0: 640x640 1 Fire-Smoke-Sodium-Tray, 3916.5ms\n",
      "Speed: 7.0ms preprocess, 3916.5ms inference, 8.0ms postprocess per image at shape (1, 3, 640, 640)\n",
      "\n",
      "0: 640x640 3 Fire-Smoke-Sodium-Trays, 3946.6ms\n",
      "Speed: 8.0ms preprocess, 3946.6ms inference, 12.0ms postprocess per image at shape (1, 3, 640, 640)\n",
      "\n",
      "0: 640x640 2 Fire-Smoke-Sodium-Trays, 3926.6ms\n",
      "Speed: 6.0ms preprocess, 3926.6ms inference, 9.0ms postprocess per image at shape (1, 3, 640, 640)\n",
      "\n",
      "0: 640x640 1 Fire-Smoke-Sodium-Tray, 3832.5ms\n",
      "Speed: 7.0ms preprocess, 3832.5ms inference, 6.0ms postprocess per image at shape (1, 3, 640, 640)\n",
      "\n",
      "0: 640x640 3 Fire-Smoke-Sodium-Trays, 3893.5ms\n",
      "Speed: 7.0ms preprocess, 3893.5ms inference, 13.0ms postprocess per image at shape (1, 3, 640, 640)\n",
      "\n",
      "0: 640x640 2 Fire-Smoke-Sodium-Trays, 5182.7ms\n",
      "Speed: 7.0ms preprocess, 5182.7ms inference, 9.0ms postprocess per image at shape (1, 3, 640, 640)\n",
      "\n",
      "0: 640x640 1 Fire-Smoke-Sodium-Tray, 4713.3ms\n",
      "Speed: 6.0ms preprocess, 4713.3ms inference, 10.0ms postprocess per image at shape (1, 3, 640, 640)\n",
      "\n",
      "0: 640x640 2 Fire-Smoke-Sodium-Trays, 4832.4ms\n",
      "Speed: 8.0ms preprocess, 4832.4ms inference, 13.0ms postprocess per image at shape (1, 3, 640, 640)\n",
      "\n",
      "0: 640x640 2 Fire-Smoke-Sodium-Trays, 4645.1ms\n",
      "Speed: 7.0ms preprocess, 4645.1ms inference, 10.0ms postprocess per image at shape (1, 3, 640, 640)\n",
      "\n",
      "0: 640x640 1 Fire-Smoke-Sodium-Tray, 4339.6ms\n",
      "Speed: 7.6ms preprocess, 4339.6ms inference, 10.0ms postprocess per image at shape (1, 3, 640, 640)\n",
      "\n",
      "0: 640x640 1 Fire-Smoke-Sodium-Tray, 5147.0ms\n",
      "Speed: 10.0ms preprocess, 5147.0ms inference, 10.0ms postprocess per image at shape (1, 3, 640, 640)\n",
      "\n",
      "0: 640x640 1 Fire-Smoke-Sodium-Tray, 4149.5ms\n",
      "Speed: 10.0ms preprocess, 4149.5ms inference, 0.0ms postprocess per image at shape (1, 3, 640, 640)\n",
      "\n",
      "0: 640x640 1 Fire-Smoke-Sodium-Tray, 4049.4ms\n",
      "Speed: 10.0ms preprocess, 4049.4ms inference, 10.0ms postprocess per image at shape (1, 3, 640, 640)\n",
      "\n",
      "0: 640x640 1 Fire-Smoke-Sodium-Tray, 4423.8ms\n",
      "Speed: 0.0ms preprocess, 4423.8ms inference, 10.0ms postprocess per image at shape (1, 3, 640, 640)\n",
      "\n",
      "0: 640x640 1 Fire-Smoke-Sodium-Tray, 4138.9ms\n",
      "Speed: 0.0ms preprocess, 4138.9ms inference, 6.0ms postprocess per image at shape (1, 3, 640, 640)\n",
      "\n",
      "0: 640x640 3 Fire-Smoke-Sodium-Trays, 3676.3ms\n",
      "Speed: 6.0ms preprocess, 3676.3ms inference, 12.0ms postprocess per image at shape (1, 3, 640, 640)\n",
      "\n",
      "0: 640x640 1 Fire-Smoke-Sodium-Tray, 4356.9ms\n",
      "Speed: 6.0ms preprocess, 4356.9ms inference, 6.0ms postprocess per image at shape (1, 3, 640, 640)\n",
      "\n",
      "0: 640x640 1 Fire-Smoke-Sodium-Tray, 3945.6ms\n",
      "Speed: 7.0ms preprocess, 3945.6ms inference, 6.0ms postprocess per image at shape (1, 3, 640, 640)\n",
      "\n",
      "0: 640x640 1 Fire-Smoke-Sodium-Tray, 3893.5ms\n",
      "Speed: 7.0ms preprocess, 3893.5ms inference, 6.0ms postprocess per image at shape (1, 3, 640, 640)\n",
      "\n",
      "0: 640x640 1 Fire-Smoke-Sodium-Tray, 3947.6ms\n",
      "Speed: 6.0ms preprocess, 3947.6ms inference, 6.0ms postprocess per image at shape (1, 3, 640, 640)\n",
      "\n",
      "0: 640x640 1 Fire-Smoke-Sodium-Tray, 4190.8ms\n",
      "Speed: 6.0ms preprocess, 4190.8ms inference, 5.0ms postprocess per image at shape (1, 3, 640, 640)\n",
      "\n",
      "0: 640x640 1 Fire-Smoke-Sodium-Tray, 3958.6ms\n",
      "Speed: 6.0ms preprocess, 3958.6ms inference, 6.0ms postprocess per image at shape (1, 3, 640, 640)\n",
      "\n",
      "0: 640x640 1 Fire-Smoke-Sodium-Tray, 4176.8ms\n",
      "Speed: 7.0ms preprocess, 4176.8ms inference, 8.0ms postprocess per image at shape (1, 3, 640, 640)\n",
      "\n",
      "0: 640x640 1 Fire-Smoke-Sodium-Tray, 3932.5ms\n",
      "Speed: 6.0ms preprocess, 3932.5ms inference, 8.1ms postprocess per image at shape (1, 3, 640, 640)\n",
      "\n",
      "0: 640x640 1 Fire-Smoke-Sodium-Tray, 4381.0ms\n",
      "Speed: 6.0ms preprocess, 4381.0ms inference, 6.0ms postprocess per image at shape (1, 3, 640, 640)\n",
      "\n",
      "0: 640x640 1 Fire-Smoke-Sodium-Tray, 3779.4ms\n",
      "Speed: 6.0ms preprocess, 3779.4ms inference, 6.0ms postprocess per image at shape (1, 3, 640, 640)\n",
      "\n",
      "0: 640x640 1 Fire-Smoke-Sodium-Tray, 4285.9ms\n",
      "Speed: 7.0ms preprocess, 4285.9ms inference, 9.0ms postprocess per image at shape (1, 3, 640, 640)\n",
      "\n",
      "0: 640x640 1 Fire-Smoke-Sodium-Tray, 5700.1ms\n",
      "Speed: 6.0ms preprocess, 5700.1ms inference, 10.0ms postprocess per image at shape (1, 3, 640, 640)\n",
      "\n",
      "0: 640x640 (no detections), 4293.9ms\n",
      "Speed: 7.0ms preprocess, 4293.9ms inference, 0.0ms postprocess per image at shape (1, 3, 640, 640)\n",
      "\n",
      "0: 640x640 (no detections), 4025.6ms\n",
      "Speed: 7.0ms preprocess, 4025.6ms inference, 1.0ms postprocess per image at shape (1, 3, 640, 640)\n",
      "\n",
      "0: 640x640 5 Fires, 3905.6ms\n",
      "Speed: 6.0ms preprocess, 3905.6ms inference, 20.0ms postprocess per image at shape (1, 3, 640, 640)\n",
      "\n",
      "0: 640x640 (no detections), 4105.7ms\n",
      "Speed: 7.0ms preprocess, 4105.7ms inference, 1.0ms postprocess per image at shape (1, 3, 640, 640)\n",
      "\n",
      "0: 640x640 1 Fire-Smoke-Sodium-Tray, 4189.8ms\n",
      "Speed: 7.0ms preprocess, 4189.8ms inference, 8.0ms postprocess per image at shape (1, 3, 640, 640)\n",
      "\n",
      "0: 640x640 1 Fire-Smoke-Sodium-Tray, 4153.7ms\n",
      "Speed: 9.0ms preprocess, 4153.7ms inference, 6.0ms postprocess per image at shape (1, 3, 640, 640)\n",
      "\n",
      "0: 640x640 1 Fire-Smoke-Sodium-Tray, 4883.4ms\n",
      "Speed: 6.1ms preprocess, 4883.4ms inference, 6.0ms postprocess per image at shape (1, 3, 640, 640)\n",
      "\n",
      "0: 640x640 (no detections), 5550.0ms\n",
      "Speed: 6.0ms preprocess, 5550.0ms inference, 1.0ms postprocess per image at shape (1, 3, 640, 640)\n",
      "\n",
      "0: 640x640 (no detections), 4307.9ms\n",
      "Speed: 7.0ms preprocess, 4307.9ms inference, 1.0ms postprocess per image at shape (1, 3, 640, 640)\n",
      "\n",
      "0: 640x640 (no detections), 5055.6ms\n",
      "Speed: 7.0ms preprocess, 5055.6ms inference, 1.0ms postprocess per image at shape (1, 3, 640, 640)\n",
      "\n",
      "0: 640x640 1 Fire-Smoke-Sodium-Tray, 4278.9ms\n",
      "Speed: 20.0ms preprocess, 4278.9ms inference, 5.0ms postprocess per image at shape (1, 3, 640, 640)\n",
      "\n",
      "0: 640x640 2 Fire-Smoke-Sodium-Trays, 4263.8ms\n",
      "Speed: 6.0ms preprocess, 4263.8ms inference, 9.0ms postprocess per image at shape (1, 3, 640, 640)\n",
      "\n",
      "0: 640x640 (no detections), 4282.9ms\n",
      "Speed: 7.0ms preprocess, 4282.9ms inference, 0.0ms postprocess per image at shape (1, 3, 640, 640)\n",
      "\n",
      "0: 640x640 (no detections), 5169.2ms\n",
      "Speed: 6.0ms preprocess, 5169.2ms inference, 0.0ms postprocess per image at shape (1, 3, 640, 640)\n",
      "\n",
      "0: 640x640 (no detections), 4094.7ms\n",
      "Speed: 6.0ms preprocess, 4094.7ms inference, 1.0ms postprocess per image at shape (1, 3, 640, 640)\n",
      "\n",
      "0: 640x640 (no detections), 3769.4ms\n",
      "Speed: 6.0ms preprocess, 3769.4ms inference, 1.0ms postprocess per image at shape (1, 3, 640, 640)\n",
      "\n",
      "0: 640x640 1 Fire-Smoke-Sodium-Tray, 4345.9ms\n",
      "Speed: 7.0ms preprocess, 4345.9ms inference, 8.0ms postprocess per image at shape (1, 3, 640, 640)\n",
      "\n",
      "0: 640x640 (no detections), 5015.7ms\n",
      "Speed: 9.0ms preprocess, 5015.7ms inference, 1.0ms postprocess per image at shape (1, 3, 640, 640)\n",
      "\n",
      "0: 640x640 (no detections), 4900.2ms\n",
      "Speed: 7.1ms preprocess, 4900.2ms inference, 1.0ms postprocess per image at shape (1, 3, 640, 640)\n"
     ]
    },
    {
     "name": "stderr",
     "output_type": "stream",
     "text": [
      "\n",
      "0: 640x640 (no detections), 6650.8ms\n",
      "Speed: 8.0ms preprocess, 6650.8ms inference, 1.5ms postprocess per image at shape (1, 3, 640, 640)\n",
      "\n",
      "0: 640x640 (no detections), 6418.3ms\n",
      "Speed: 28.0ms preprocess, 6418.3ms inference, 0.5ms postprocess per image at shape (1, 3, 640, 640)\n",
      "\n",
      "0: 640x640 1 Fire-Smoke-Sodium-Tray, 5553.5ms\n",
      "Speed: 9.0ms preprocess, 5553.5ms inference, 7.5ms postprocess per image at shape (1, 3, 640, 640)\n",
      "\n",
      "0: 640x640 1 Fire-Smoke-Sodium-Tray, 5535.0ms\n",
      "Speed: 5.5ms preprocess, 5535.0ms inference, 10.5ms postprocess per image at shape (1, 3, 640, 640)\n",
      "\n",
      "0: 640x640 1 Fire-Smoke-Sodium-Tray, 5411.4ms\n",
      "Speed: 8.0ms preprocess, 5411.4ms inference, 9.5ms postprocess per image at shape (1, 3, 640, 640)\n",
      "\n",
      "0: 640x640 1 Fire-Smoke-Sodium-Tray, 5144.6ms\n",
      "Speed: 10.0ms preprocess, 5144.6ms inference, 11.0ms postprocess per image at shape (1, 3, 640, 640)\n",
      "\n",
      "0: 640x640 1 Fire-Smoke-Sodium-Tray, 6376.4ms\n",
      "Speed: 14.0ms preprocess, 6376.4ms inference, 10.0ms postprocess per image at shape (1, 3, 640, 640)\n",
      "\n",
      "0: 640x640 (no detections), 5117.6ms\n",
      "Speed: 9.0ms preprocess, 5117.6ms inference, 1.0ms postprocess per image at shape (1, 3, 640, 640)\n",
      "\n",
      "0: 640x640 (no detections), 5270.3ms\n",
      "Speed: 6.5ms preprocess, 5270.3ms inference, 0.5ms postprocess per image at shape (1, 3, 640, 640)\n",
      "\n",
      "0: 640x640 1 Fire-Smoke-Sodium-Tray, 5140.1ms\n",
      "Speed: 8.5ms preprocess, 5140.1ms inference, 6.0ms postprocess per image at shape (1, 3, 640, 640)\n",
      "\n",
      "0: 640x640 1 Fire-Smoke-Sodium-Tray, 5906.8ms\n",
      "Speed: 7.0ms preprocess, 5906.8ms inference, 7.0ms postprocess per image at shape (1, 3, 640, 640)\n",
      "\n",
      "0: 640x640 (no detections), 5656.1ms\n",
      "Speed: 9.5ms preprocess, 5656.1ms inference, 1.0ms postprocess per image at shape (1, 3, 640, 640)\n",
      "\n",
      "0: 640x640 2 Fire-Smoke-Sodium-Trays, 5376.9ms\n",
      "Speed: 8.5ms preprocess, 5376.9ms inference, 9.5ms postprocess per image at shape (1, 3, 640, 640)\n",
      "\n",
      "0: 640x640 1 Fire-Smoke-Sodium-Tray, 5561.0ms\n",
      "Speed: 9.0ms preprocess, 5561.0ms inference, 10.5ms postprocess per image at shape (1, 3, 640, 640)\n",
      "\n",
      "0: 640x640 1 Fire, 1 Fire-Smoke-Sodium-Tray, 5291.8ms\n",
      "Speed: 7.0ms preprocess, 5291.8ms inference, 11.5ms postprocess per image at shape (1, 3, 640, 640)\n",
      "\n",
      "0: 640x640 2 Fire-Smoke-Sodium-Trays, 5000.5ms\n",
      "Speed: 10.0ms preprocess, 5000.5ms inference, 18.0ms postprocess per image at shape (1, 3, 640, 640)\n",
      "\n",
      "0: 640x640 2 Fire-Smoke-Sodium-Trays, 5367.9ms\n",
      "Speed: 10.0ms preprocess, 5367.9ms inference, 13.0ms postprocess per image at shape (1, 3, 640, 640)\n",
      "\n",
      "0: 640x640 1 Fire-Smoke-Sodium-Tray, 5974.4ms\n",
      "Speed: 8.5ms preprocess, 5974.4ms inference, 7.0ms postprocess per image at shape (1, 3, 640, 640)\n",
      "\n",
      "0: 640x640 1 Fire-Smoke-Sodium-Tray, 5702.2ms\n",
      "Speed: 17.5ms preprocess, 5702.2ms inference, 7.0ms postprocess per image at shape (1, 3, 640, 640)\n",
      "\n",
      "0: 640x640 2 Fire-Smoke-Sodium-Trays, 4997.0ms\n",
      "Speed: 7.5ms preprocess, 4997.0ms inference, 15.5ms postprocess per image at shape (1, 3, 640, 640)\n",
      "\n",
      "0: 640x640 1 Fire-Smoke-Sodium-Tray, 5167.7ms\n",
      "Speed: 9.5ms preprocess, 5167.7ms inference, 7.5ms postprocess per image at shape (1, 3, 640, 640)\n",
      "\n",
      "0: 640x640 1 Fire-Smoke-Sodium-Tray, 5084.6ms\n",
      "Speed: 8.0ms preprocess, 5084.6ms inference, 7.5ms postprocess per image at shape (1, 3, 640, 640)\n",
      "\n",
      "0: 640x640 1 Fire-Smoke-Sodium-Tray, 5962.9ms\n",
      "Speed: 11.0ms preprocess, 5962.9ms inference, 10.0ms postprocess per image at shape (1, 3, 640, 640)\n",
      "\n",
      "0: 640x640 1 Fire-Smoke-Sodium-Tray, 5468.9ms\n",
      "Speed: 17.5ms preprocess, 5468.9ms inference, 11.5ms postprocess per image at shape (1, 3, 640, 640)\n",
      "\n",
      "0: 640x640 1 Fire-Smoke-Sodium-Tray, 5890.8ms\n",
      "Speed: 13.0ms preprocess, 5890.8ms inference, 8.0ms postprocess per image at shape (1, 3, 640, 640)\n",
      "\n",
      "0: 640x640 1 Fire-Smoke-Sodium-Tray, 5083.1ms\n",
      "Speed: 9.0ms preprocess, 5083.1ms inference, 21.0ms postprocess per image at shape (1, 3, 640, 640)\n",
      "\n",
      "0: 640x640 1 Fire-Smoke-Sodium-Tray, 5225.7ms\n",
      "Speed: 8.5ms preprocess, 5225.7ms inference, 7.0ms postprocess per image at shape (1, 3, 640, 640)\n",
      "\n",
      "0: 640x640 1 Fire-Smoke-Sodium-Tray, 5100.1ms\n",
      "Speed: 7.0ms preprocess, 5100.1ms inference, 9.5ms postprocess per image at shape (1, 3, 640, 640)\n",
      "\n",
      "0: 640x640 (no detections), 6053.0ms\n",
      "Speed: 6.0ms preprocess, 6053.0ms inference, 1.5ms postprocess per image at shape (1, 3, 640, 640)\n",
      "\n",
      "0: 640x640 1 Fire-Smoke-Sodium-Tray, 5056.6ms\n",
      "Speed: 9.0ms preprocess, 5056.6ms inference, 13.0ms postprocess per image at shape (1, 3, 640, 640)\n",
      "\n",
      "0: 640x640 1 Fire-Smoke-Sodium-Tray, 5260.8ms\n",
      "Speed: 8.5ms preprocess, 5260.8ms inference, 11.0ms postprocess per image at shape (1, 3, 640, 640)\n",
      "\n",
      "0: 640x640 (no detections), 5108.6ms\n",
      "Speed: 11.5ms preprocess, 5108.6ms inference, 2.5ms postprocess per image at shape (1, 3, 640, 640)\n",
      "\n",
      "0: 640x640 (no detections), 5334.3ms\n",
      "Speed: 9.0ms preprocess, 5334.3ms inference, 1.5ms postprocess per image at shape (1, 3, 640, 640)\n",
      "\n",
      "0: 640x640 (no detections), 5848.3ms\n",
      "Speed: 7.5ms preprocess, 5848.3ms inference, 9.0ms postprocess per image at shape (1, 3, 640, 640)\n",
      "\n",
      "0: 640x640 1 Fire-Smoke-Sodium-Tray, 6169.6ms\n",
      "Speed: 18.0ms preprocess, 6169.6ms inference, 8.0ms postprocess per image at shape (1, 3, 640, 640)\n",
      "\n",
      "0: 640x640 (no detections), 5178.2ms\n",
      "Speed: 8.0ms preprocess, 5178.2ms inference, 1.0ms postprocess per image at shape (1, 3, 640, 640)\n",
      "\n",
      "0: 640x640 (no detections), 5233.7ms\n",
      "Speed: 7.5ms preprocess, 5233.7ms inference, 1.0ms postprocess per image at shape (1, 3, 640, 640)\n",
      "\n",
      "0: 640x640 (no detections), 5156.2ms\n",
      "Speed: 7.0ms preprocess, 5156.2ms inference, 1.0ms postprocess per image at shape (1, 3, 640, 640)\n",
      "\n",
      "0: 640x640 1 Fire-Smoke-Sodium-Tray, 5269.8ms\n",
      "Speed: 10.0ms preprocess, 5269.8ms inference, 10.0ms postprocess per image at shape (1, 3, 640, 640)\n",
      "\n",
      "0: 640x640 (no detections), 6003.9ms\n",
      "Speed: 10.0ms preprocess, 6003.9ms inference, 7.5ms postprocess per image at shape (1, 3, 640, 640)\n",
      "\n",
      "0: 640x640 (no detections), 5089.7ms\n",
      "Speed: 8.5ms preprocess, 5089.7ms inference, 1.0ms postprocess per image at shape (1, 3, 640, 640)\n",
      "\n",
      "0: 640x640 (no detections), 5012.0ms\n",
      "Speed: 9.0ms preprocess, 5012.0ms inference, 1.0ms postprocess per image at shape (1, 3, 640, 640)\n",
      "\n",
      "0: 640x640 (no detections), 5264.8ms\n",
      "Speed: 11.5ms preprocess, 5264.8ms inference, 1.5ms postprocess per image at shape (1, 3, 640, 640)\n",
      "\n",
      "0: 640x640 (no detections), 5235.2ms\n",
      "Speed: 10.0ms preprocess, 5235.2ms inference, 0.5ms postprocess per image at shape (1, 3, 640, 640)\n",
      "\n",
      "0: 640x640 (no detections), 5061.6ms\n",
      "Speed: 11.5ms preprocess, 5061.6ms inference, 1.0ms postprocess per image at shape (1, 3, 640, 640)\n",
      "\n",
      "0: 640x640 1 Fire-Smoke-Sodium-Tray, 6540.9ms\n",
      "Speed: 9.5ms preprocess, 6540.9ms inference, 13.5ms postprocess per image at shape (1, 3, 640, 640)\n",
      "\n",
      "0: 640x640 2 Fire-Smoke-Sodium-Trays, 5293.8ms\n",
      "Speed: 11.0ms preprocess, 5293.8ms inference, 11.5ms postprocess per image at shape (1, 3, 640, 640)\n",
      "\n",
      "0: 640x640 1 Fire-Smoke-Sodium-Tray, 5214.2ms\n",
      "Speed: 7.0ms preprocess, 5214.2ms inference, 11.5ms postprocess per image at shape (1, 3, 640, 640)\n",
      "\n",
      "0: 640x640 3 Fire-Smoke-Sodium-Trays, 5092.1ms\n",
      "Speed: 7.0ms preprocess, 5092.1ms inference, 17.0ms postprocess per image at shape (1, 3, 640, 640)\n",
      "\n",
      "0: 640x640 1 Fire-Smoke-Sodium-Tray, 5655.6ms\n",
      "Speed: 7.0ms preprocess, 5655.6ms inference, 9.5ms postprocess per image at shape (1, 3, 640, 640)\n",
      "\n",
      "0: 640x640 (no detections), 6136.1ms\n",
      "Speed: 8.5ms preprocess, 6136.1ms inference, 1.0ms postprocess per image at shape (1, 3, 640, 640)\n",
      "\n",
      "0: 640x640 1 Fire-Smoke-Sodium-Tray, 5224.7ms\n",
      "Speed: 7.5ms preprocess, 5224.7ms inference, 7.0ms postprocess per image at shape (1, 3, 640, 640)\n",
      "\n",
      "0: 640x640 1 Fire-Smoke-Sodium-Tray, 5117.1ms\n",
      "Speed: 10.0ms preprocess, 5117.1ms inference, 8.5ms postprocess per image at shape (1, 3, 640, 640)\n",
      "\n",
      "0: 640x640 (no detections), 5233.2ms\n",
      "Speed: 10.0ms preprocess, 5233.2ms inference, 1.5ms postprocess per image at shape (1, 3, 640, 640)\n",
      "\n",
      "0: 640x640 1 Fire-Smoke-Sodium-Tray, 5813.3ms\n",
      "Speed: 11.5ms preprocess, 5813.3ms inference, 6.5ms postprocess per image at shape (1, 3, 640, 640)\n",
      "\n",
      "0: 640x640 (no detections), 5199.7ms\n",
      "Speed: 8.5ms preprocess, 5199.7ms inference, 0.5ms postprocess per image at shape (1, 3, 640, 640)\n",
      "\n",
      "0: 640x640 (no detections), 6916.7ms\n",
      "Speed: 9.5ms preprocess, 6916.7ms inference, 1.5ms postprocess per image at shape (1, 3, 640, 640)\n",
      "\n",
      "0: 640x640 1 Fire-Smoke-Sodium-Tray, 5361.8ms\n"
     ]
    },
    {
     "name": "stderr",
     "output_type": "stream",
     "text": [
      "Speed: 7.0ms preprocess, 5361.8ms inference, 10.5ms postprocess per image at shape (1, 3, 640, 640)\n",
      "\n",
      "0: 640x640 1 Fire-Smoke-Sodium-Tray, 5328.3ms\n",
      "Speed: 11.5ms preprocess, 5328.3ms inference, 7.0ms postprocess per image at shape (1, 3, 640, 640)\n",
      "\n",
      "0: 640x640 (no detections), 5030.2ms\n",
      "Speed: 10.0ms preprocess, 5030.2ms inference, 2.0ms postprocess per image at shape (1, 3, 640, 640)\n",
      "\n",
      "0: 640x640 1 Fire-Smoke-Sodium-Tray, 5109.6ms\n",
      "Speed: 8.5ms preprocess, 5109.6ms inference, 9.5ms postprocess per image at shape (1, 3, 640, 640)\n",
      "\n",
      "0: 640x640 1 Fire-Smoke-Sodium-Tray, 5803.3ms\n",
      "Speed: 11.5ms preprocess, 5803.3ms inference, 13.5ms postprocess per image at shape (1, 3, 640, 640)\n",
      "\n",
      "0: 640x640 (no detections), 5530.0ms\n",
      "Speed: 13.0ms preprocess, 5530.0ms inference, 1.0ms postprocess per image at shape (1, 3, 640, 640)\n",
      "\n",
      "0: 640x640 (no detections), 5205.2ms\n",
      "Speed: 13.0ms preprocess, 5205.2ms inference, 1.0ms postprocess per image at shape (1, 3, 640, 640)\n",
      "\n",
      "0: 640x640 1 Fire-Smoke-Sodium-Tray, 5322.8ms\n",
      "Speed: 9.5ms preprocess, 5322.8ms inference, 9.0ms postprocess per image at shape (1, 3, 640, 640)\n",
      "\n",
      "0: 640x640 1 Fire-Smoke-Sodium-Tray, 5037.6ms\n",
      "Speed: 15.5ms preprocess, 5037.6ms inference, 11.0ms postprocess per image at shape (1, 3, 640, 640)\n",
      "\n",
      "0: 640x640 1 Fire-Smoke-Sodium-Tray, 5292.3ms\n",
      "Speed: 7.0ms preprocess, 5292.3ms inference, 6.5ms postprocess per image at shape (1, 3, 640, 640)\n",
      "\n",
      "0: 640x640 1 Fire-Smoke-Sodium-Tray, 6683.5ms\n",
      "Speed: 8.0ms preprocess, 6683.5ms inference, 11.0ms postprocess per image at shape (1, 3, 640, 640)\n",
      "\n",
      "0: 640x640 1 Fire-Smoke-Sodium-Tray, 5182.7ms\n",
      "Speed: 7.0ms preprocess, 5182.7ms inference, 7.5ms postprocess per image at shape (1, 3, 640, 640)\n",
      "\n",
      "0: 640x640 2 Fire-Smoke-Sodium-Trays, 4945.5ms\n",
      "Speed: 8.0ms preprocess, 4945.5ms inference, 16.0ms postprocess per image at shape (1, 3, 640, 640)\n",
      "\n",
      "0: 640x640 1 Fire-Smoke-Sodium-Tray, 5377.9ms\n",
      "Speed: 9.0ms preprocess, 5377.9ms inference, 7.5ms postprocess per image at shape (1, 3, 640, 640)\n",
      "\n",
      "0: 640x640 1 Fire-Smoke-Sodium-Tray, 5133.6ms\n",
      "Speed: 8.0ms preprocess, 5133.6ms inference, 8.5ms postprocess per image at shape (1, 3, 640, 640)\n",
      "\n",
      "0: 640x640 1 Fire-Smoke-Sodium-Tray, 5267.3ms\n",
      "Speed: 14.5ms preprocess, 5267.3ms inference, 6.5ms postprocess per image at shape (1, 3, 640, 640)\n",
      "\n",
      "0: 640x640 1 Fire-Smoke-Sodium-Tray, 6243.6ms\n",
      "Speed: 9.5ms preprocess, 6243.6ms inference, 13.0ms postprocess per image at shape (1, 3, 640, 640)\n",
      "\n",
      "0: 640x640 (no detections), 5181.2ms\n",
      "Speed: 8.0ms preprocess, 5181.2ms inference, 1.0ms postprocess per image at shape (1, 3, 640, 640)\n",
      "\n",
      "0: 640x640 1 Fire-Smoke-Sodium-Tray, 5517.0ms\n",
      "Speed: 7.5ms preprocess, 5517.0ms inference, 9.5ms postprocess per image at shape (1, 3, 640, 640)\n",
      "\n",
      "0: 640x640 (no detections), 5065.6ms\n",
      "Speed: 9.5ms preprocess, 5065.6ms inference, 1.0ms postprocess per image at shape (1, 3, 640, 640)\n",
      "\n",
      "0: 640x640 2 Fire-Smoke-Sodium-Trays, 5287.8ms\n",
      "Speed: 7.0ms preprocess, 5287.8ms inference, 10.0ms postprocess per image at shape (1, 3, 640, 640)\n",
      "\n",
      "0: 640x640 1 Fire-Smoke-Sodium-Tray, 6607.5ms\n",
      "Speed: 10.0ms preprocess, 6607.5ms inference, 6.0ms postprocess per image at shape (1, 3, 640, 640)\n",
      "\n",
      "0: 640x640 3 Fire-Smoke-Sodium-Trays, 4280.4ms\n",
      "Speed: 6.0ms preprocess, 4280.4ms inference, 17.5ms postprocess per image at shape (1, 3, 640, 640)\n",
      "\n",
      "0: 640x640 2 Fire-Smoke-Sodium-Trays, 4036.1ms\n",
      "Speed: 6.5ms preprocess, 4036.1ms inference, 9.0ms postprocess per image at shape (1, 3, 640, 640)\n",
      "\n",
      "0: 640x640 1 Fire-Smoke-Sodium-Tray, 5309.8ms\n",
      "Speed: 7.5ms preprocess, 5309.8ms inference, 6.5ms postprocess per image at shape (1, 3, 640, 640)\n",
      "\n",
      "0: 640x640 3 Fire-Smoke-Sodium-Trays, 5300.7ms\n",
      "Speed: 8.5ms preprocess, 5300.7ms inference, 24.5ms postprocess per image at shape (1, 3, 640, 640)\n",
      "\n",
      "0: 640x640 1 Fire-Smoke-Sodium-Tray, 5150.7ms\n",
      "Speed: 7.0ms preprocess, 5150.7ms inference, 9.0ms postprocess per image at shape (1, 3, 640, 640)\n",
      "\n",
      "0: 640x640 2 Fire-Smoke-Sodium-Trays, 6310.7ms\n",
      "Speed: 12.0ms preprocess, 6310.7ms inference, 8.5ms postprocess per image at shape (1, 3, 640, 640)\n",
      "\n",
      "0: 640x640 1 Fire-Smoke-Sodium-Tray, 5095.6ms\n",
      "Speed: 6.5ms preprocess, 5095.6ms inference, 6.5ms postprocess per image at shape (1, 3, 640, 640)\n",
      "\n",
      "0: 640x640 1 Fire-Smoke-Sodium-Tray, 5200.2ms\n",
      "Speed: 10.5ms preprocess, 5200.2ms inference, 9.5ms postprocess per image at shape (1, 3, 640, 640)\n",
      "\n",
      "0: 640x640 2 Fire-Smoke-Sodium-Trays, 5300.3ms\n",
      "Speed: 10.5ms preprocess, 5300.3ms inference, 13.5ms postprocess per image at shape (1, 3, 640, 640)\n",
      "\n",
      "0: 640x640 2 Fire-Smoke-Sodium-Trays, 5396.4ms\n",
      "Speed: 12.0ms preprocess, 5396.4ms inference, 16.5ms postprocess per image at shape (1, 3, 640, 640)\n",
      "\n",
      "0: 640x640 1 Fire-Smoke-Sodium-Tray, 5729.0ms\n",
      "Speed: 9.0ms preprocess, 5729.0ms inference, 10.0ms postprocess per image at shape (1, 3, 640, 640)\n",
      "\n",
      "0: 640x640 2 Fire-Smoke-Sodium-Trays, 6179.7ms\n",
      "Speed: 25.0ms preprocess, 6179.7ms inference, 13.0ms postprocess per image at shape (1, 3, 640, 640)\n",
      "\n",
      "0: 640x640 1 Fire-Smoke-Sodium-Tray, 5135.6ms\n",
      "Speed: 8.5ms preprocess, 5135.6ms inference, 11.5ms postprocess per image at shape (1, 3, 640, 640)\n",
      "\n",
      "0: 640x640 2 Fire-Smoke-Sodium-Trays, 5143.7ms\n",
      "Speed: 6.0ms preprocess, 5143.7ms inference, 14.0ms postprocess per image at shape (1, 3, 640, 640)\n",
      "\n",
      "0: 640x640 (no detections), 5455.4ms\n",
      "Speed: 10.5ms preprocess, 5455.4ms inference, 1.0ms postprocess per image at shape (1, 3, 640, 640)\n",
      "\n",
      "0: 640x640 3 Fire-Smoke-Sodium-Trays, 5034.5ms\n",
      "Speed: 9.0ms preprocess, 5034.5ms inference, 20.5ms postprocess per image at shape (1, 3, 640, 640)\n",
      "\n",
      "0: 640x640 2 Fire-Smoke-Sodium-Trays, 6185.1ms\n",
      "Speed: 9.5ms preprocess, 6185.1ms inference, 15.0ms postprocess per image at shape (1, 3, 640, 640)\n",
      "\n",
      "0: 640x640 1 Fire-Smoke-Sodium-Tray, 5213.7ms\n",
      "Speed: 8.5ms preprocess, 5213.7ms inference, 9.0ms postprocess per image at shape (1, 3, 640, 640)\n",
      "\n",
      "0: 640x640 1 Fire-Smoke-Sodium-Tray, 5162.2ms\n",
      "Speed: 10.5ms preprocess, 5162.2ms inference, 6.0ms postprocess per image at shape (1, 3, 640, 640)\n",
      "\n",
      "0: 640x640 2 Fire-Smoke-Sodium-Trays, 5098.1ms\n",
      "Speed: 10.0ms preprocess, 5098.1ms inference, 14.0ms postprocess per image at shape (1, 3, 640, 640)\n",
      "\n",
      "0: 640x640 1 Fire-Smoke-Sodium-Tray, 5223.2ms\n",
      "Speed: 8.0ms preprocess, 5223.2ms inference, 10.0ms postprocess per image at shape (1, 3, 640, 640)\n",
      "\n",
      "0: 640x640 1 Fire-Smoke-Sodium-Tray, 5788.2ms\n",
      "Speed: 45.5ms preprocess, 5788.2ms inference, 9.0ms postprocess per image at shape (1, 3, 640, 640)\n",
      "\n",
      "0: 640x640 1 Fire-Smoke-Sodium-Tray, 6333.3ms\n",
      "Speed: 7.0ms preprocess, 6333.3ms inference, 9.0ms postprocess per image at shape (1, 3, 640, 640)\n",
      "\n",
      "0: 640x640 1 Fire-Smoke-Sodium-Tray, 5303.3ms\n",
      "Speed: 8.5ms preprocess, 5303.3ms inference, 6.5ms postprocess per image at shape (1, 3, 640, 640)\n",
      "\n",
      "0: 640x640 1 Fire-Smoke-Sodium-Tray, 5017.0ms\n",
      "Speed: 11.0ms preprocess, 5017.0ms inference, 8.0ms postprocess per image at shape (1, 3, 640, 640)\n",
      "\n",
      "0: 640x640 1 Fire-Smoke-Sodium-Tray, 5475.4ms\n",
      "Speed: 10.0ms preprocess, 5475.4ms inference, 13.0ms postprocess per image at shape (1, 3, 640, 640)\n",
      "\n",
      "0: 640x640 1 Fire-Smoke-Sodium-Tray, 5087.6ms\n",
      "Speed: 11.5ms preprocess, 5087.6ms inference, 10.5ms postprocess per image at shape (1, 3, 640, 640)\n",
      "\n",
      "0: 640x640 1 Fire-Smoke-Sodium-Tray, 5805.2ms\n",
      "Speed: 10.5ms preprocess, 5805.2ms inference, 6.0ms postprocess per image at shape (1, 3, 640, 640)\n",
      "\n",
      "0: 640x640 2 Fire-Smoke-Sodium-Trays, 4230.4ms\n",
      "Speed: 6.5ms preprocess, 4230.4ms inference, 11.0ms postprocess per image at shape (1, 3, 640, 640)\n",
      "\n",
      "0: 640x640 1 Fire-Smoke-Sodium-Tray, 4040.6ms\n",
      "Speed: 6.0ms preprocess, 4040.6ms inference, 6.0ms postprocess per image at shape (1, 3, 640, 640)\n",
      "\n",
      "0: 640x640 1 Fire-Smoke-Sodium-Tray, 3951.1ms\n",
      "Speed: 6.5ms preprocess, 3951.1ms inference, 6.0ms postprocess per image at shape (1, 3, 640, 640)\n",
      "\n",
      "0: 640x640 2 Fire-Smoke-Sodium-Trays, 3933.7ms\n",
      "Speed: 6.0ms preprocess, 3933.7ms inference, 12.0ms postprocess per image at shape (1, 3, 640, 640)\n",
      "\n",
      "0: 640x640 2 Fire-Smoke-Sodium-Trays, 4182.8ms\n",
      "Speed: 7.0ms preprocess, 4182.8ms inference, 12.0ms postprocess per image at shape (1, 3, 640, 640)\n",
      "\n",
      "0: 640x640 2 Fire-Smoke-Sodium-Trays, 4199.8ms\n",
      "Speed: 8.0ms preprocess, 4199.8ms inference, 10.0ms postprocess per image at shape (1, 3, 640, 640)\n",
      "\n",
      "0: 640x640 3 Fire-Smoke-Sodium-Trays, 4465.0ms\n",
      "Speed: 7.0ms preprocess, 4465.0ms inference, 25.0ms postprocess per image at shape (1, 3, 640, 640)\n"
     ]
    },
    {
     "name": "stderr",
     "output_type": "stream",
     "text": [
      "\n",
      "0: 640x640 2 Fire-Smoke-Sodium-Trays, 4051.7ms\n",
      "Speed: 9.0ms preprocess, 4051.7ms inference, 14.0ms postprocess per image at shape (1, 3, 640, 640)\n",
      "\n",
      "0: 640x640 2 Fire-Smoke-Sodium-Trays, 3981.6ms\n",
      "Speed: 7.0ms preprocess, 3981.6ms inference, 8.0ms postprocess per image at shape (1, 3, 640, 640)\n",
      "\n",
      "0: 640x640 2 Fire-Smoke-Sodium-Trays, 3988.6ms\n",
      "Speed: 6.0ms preprocess, 3988.6ms inference, 8.0ms postprocess per image at shape (1, 3, 640, 640)\n",
      "\n",
      "0: 640x640 1 Fire-Smoke-Sodium-Tray, 4137.7ms\n",
      "Speed: 6.0ms preprocess, 4137.7ms inference, 6.0ms postprocess per image at shape (1, 3, 640, 640)\n",
      "\n",
      "0: 640x640 2 Fire-Smoke-Sodium-Trays, 4364.0ms\n",
      "Speed: 6.0ms preprocess, 4364.0ms inference, 13.0ms postprocess per image at shape (1, 3, 640, 640)\n",
      "\n",
      "0: 640x640 2 Fire-Smoke-Sodium-Trays, 4146.8ms\n",
      "Speed: 6.0ms preprocess, 4146.8ms inference, 14.0ms postprocess per image at shape (1, 3, 640, 640)\n",
      "\n",
      "0: 640x640 1 Fire-Smoke-Sodium-Tray, 4230.8ms\n",
      "Speed: 7.0ms preprocess, 4230.8ms inference, 8.0ms postprocess per image at shape (1, 3, 640, 640)\n",
      "\n",
      "0: 640x640 1 Fire-Smoke-Sodium-Tray, 4464.0ms\n",
      "Speed: 6.0ms preprocess, 4464.0ms inference, 6.0ms postprocess per image at shape (1, 3, 640, 640)\n",
      "\n",
      "0: 640x640 2 Fire-Smoke-Sodium-Trays, 4235.8ms\n",
      "Speed: 6.0ms preprocess, 4235.8ms inference, 12.0ms postprocess per image at shape (1, 3, 640, 640)\n",
      "\n",
      "0: 640x640 2 Fire-Smoke-Sodium-Trays, 3969.6ms\n",
      "Speed: 7.0ms preprocess, 3969.6ms inference, 9.0ms postprocess per image at shape (1, 3, 640, 640)\n",
      "\n",
      "0: 640x640 1 Fire-Smoke-Sodium-Tray, 4183.8ms\n",
      "Speed: 7.0ms preprocess, 4183.8ms inference, 6.0ms postprocess per image at shape (1, 3, 640, 640)\n",
      "\n",
      "0: 640x640 1 Fire-Smoke-Sodium-Tray, 4241.8ms\n",
      "Speed: 6.0ms preprocess, 4241.8ms inference, 9.0ms postprocess per image at shape (1, 3, 640, 640)\n",
      "\n",
      "0: 640x640 3 Fire-Smoke-Sodium-Trays, 4187.8ms\n",
      "Speed: 7.0ms preprocess, 4187.8ms inference, 13.0ms postprocess per image at shape (1, 3, 640, 640)\n",
      "\n",
      "0: 640x640 3 Fire-Smoke-Sodium-Trays, 4066.7ms\n",
      "Speed: 7.0ms preprocess, 4066.7ms inference, 17.0ms postprocess per image at shape (1, 3, 640, 640)\n",
      "\n",
      "0: 640x640 1 Fire-Smoke-Sodium-Tray, 4513.1ms\n",
      "Speed: 9.0ms preprocess, 4513.1ms inference, 6.0ms postprocess per image at shape (1, 3, 640, 640)\n",
      "\n",
      "0: 640x640 2 Fire-Smoke-Sodium-Trays, 4149.7ms\n",
      "Speed: 7.0ms preprocess, 4149.7ms inference, 9.0ms postprocess per image at shape (1, 3, 640, 640)\n",
      "\n",
      "0: 640x640 2 Fire-Smoke-Sodium-Trays, 3993.6ms\n",
      "Speed: 5.0ms preprocess, 3993.6ms inference, 9.0ms postprocess per image at shape (1, 3, 640, 640)\n",
      "\n",
      "0: 640x640 3 Fire-Smoke-Sodium-Trays, 4084.6ms\n",
      "Speed: 7.1ms preprocess, 4084.6ms inference, 18.0ms postprocess per image at shape (1, 3, 640, 640)\n",
      "\n",
      "0: 640x640 1 Fire-Smoke-Sodium-Tray, 3985.6ms\n",
      "Speed: 7.0ms preprocess, 3985.6ms inference, 6.0ms postprocess per image at shape (1, 3, 640, 640)\n",
      "\n",
      "0: 640x640 4 Fire-Smoke-Sodium-Trays, 4021.7ms\n",
      "Speed: 6.0ms preprocess, 4021.7ms inference, 26.0ms postprocess per image at shape (1, 3, 640, 640)\n",
      "\n",
      "0: 640x640 1 Fire-Smoke-Sodium-Tray, 3990.6ms\n",
      "Speed: 6.0ms preprocess, 3990.6ms inference, 8.0ms postprocess per image at shape (1, 3, 640, 640)\n",
      "\n",
      "0: 640x640 1 Fire-Smoke-Sodium-Tray, 4556.1ms\n",
      "Speed: 7.0ms preprocess, 4556.1ms inference, 7.0ms postprocess per image at shape (1, 3, 640, 640)\n",
      "\n",
      "0: 640x640 3 Fire-Smoke-Sodium-Trays, 4030.7ms\n",
      "Speed: 6.0ms preprocess, 4030.7ms inference, 17.0ms postprocess per image at shape (1, 3, 640, 640)\n",
      "\n",
      "0: 640x640 2 Fire-Smoke-Sodium-Trays, 3895.6ms\n",
      "Speed: 7.0ms preprocess, 3895.6ms inference, 8.9ms postprocess per image at shape (1, 3, 640, 640)\n",
      "\n",
      "0: 640x640 1 Fire-Smoke-Sodium-Tray, 4089.7ms\n",
      "Speed: 6.0ms preprocess, 4089.7ms inference, 8.1ms postprocess per image at shape (1, 3, 640, 640)\n",
      "\n",
      "0: 640x640 (no detections), 4027.6ms\n",
      "Speed: 6.1ms preprocess, 4027.6ms inference, 0.0ms postprocess per image at shape (1, 3, 640, 640)\n",
      "\n",
      "0: 640x640 1 Fire-Smoke-Sodium-Tray, 4415.0ms\n",
      "Speed: 7.0ms preprocess, 4415.0ms inference, 6.0ms postprocess per image at shape (1, 3, 640, 640)\n",
      "\n",
      "0: 640x640 1 Fire-Smoke-Sodium-Tray, 4040.6ms\n",
      "Speed: 7.0ms preprocess, 4040.6ms inference, 5.0ms postprocess per image at shape (1, 3, 640, 640)\n",
      "\n",
      "0: 640x640 1 Fire-Smoke-Sodium-Tray, 4555.1ms\n",
      "Speed: 7.0ms preprocess, 4555.1ms inference, 7.0ms postprocess per image at shape (1, 3, 640, 640)\n",
      "\n",
      "0: 640x640 1 Fire-Smoke-Sodium-Tray, 3941.6ms\n",
      "Speed: 6.0ms preprocess, 3941.6ms inference, 9.0ms postprocess per image at shape (1, 3, 640, 640)\n",
      "\n",
      "0: 640x640 2 Fire-Smoke-Sodium-Trays, 3935.6ms\n",
      "Speed: 6.0ms preprocess, 3935.6ms inference, 14.1ms postprocess per image at shape (1, 3, 640, 640)\n",
      "\n",
      "0: 640x640 1 Fire-Smoke-Sodium-Tray, 4084.7ms\n",
      "Speed: 6.0ms preprocess, 4084.7ms inference, 6.0ms postprocess per image at shape (1, 3, 640, 640)\n",
      "\n",
      "0: 640x640 2 Fire-Smoke-Sodium-Trays, 3992.6ms\n",
      "Speed: 7.0ms preprocess, 3992.6ms inference, 14.0ms postprocess per image at shape (1, 3, 640, 640)\n",
      "\n",
      "0: 640x640 1 Fire-Smoke-Sodium-Tray, 3994.6ms\n",
      "Speed: 7.0ms preprocess, 3994.6ms inference, 9.0ms postprocess per image at shape (1, 3, 640, 640)\n",
      "\n",
      "0: 640x640 3 Fire-Smoke-Sodium-Trays, 4121.8ms\n",
      "Speed: 6.0ms preprocess, 4121.8ms inference, 19.0ms postprocess per image at shape (1, 3, 640, 640)\n",
      "\n",
      "0: 640x640 2 Fire-Smoke-Sodium-Trays, 4762.3ms\n",
      "Speed: 7.0ms preprocess, 4762.3ms inference, 8.0ms postprocess per image at shape (1, 3, 640, 640)\n",
      "\n",
      "0: 640x640 1 Fire, 1 Fire-Smoke-Sodium-Tray, 4155.8ms\n",
      "Speed: 7.0ms preprocess, 4155.8ms inference, 9.0ms postprocess per image at shape (1, 3, 640, 640)\n",
      "\n",
      "0: 640x640 3 Fire-Smoke-Sodium-Trays, 4110.7ms\n",
      "Speed: 7.0ms preprocess, 4110.7ms inference, 18.0ms postprocess per image at shape (1, 3, 640, 640)\n",
      "\n",
      "0: 640x640 1 Fire-Smoke-Sodium-Tray, 4183.8ms\n",
      "Speed: 7.0ms preprocess, 4183.8ms inference, 6.0ms postprocess per image at shape (1, 3, 640, 640)\n",
      "\n",
      "0: 640x640 2 Fire-Smoke-Sodium-Trays, 3962.6ms\n",
      "Speed: 7.0ms preprocess, 3962.6ms inference, 9.0ms postprocess per image at shape (1, 3, 640, 640)\n",
      "\n",
      "0: 640x640 1 Fire-Smoke-Sodium-Tray, 4443.0ms\n",
      "Speed: 6.0ms preprocess, 4443.0ms inference, 7.0ms postprocess per image at shape (1, 3, 640, 640)\n",
      "\n",
      "0: 640x640 1 Fire-Smoke-Sodium-Tray, 4825.4ms\n",
      "Speed: 6.0ms preprocess, 4825.4ms inference, 6.0ms postprocess per image at shape (1, 3, 640, 640)\n",
      "\n",
      "0: 640x640 1 Fire-Smoke-Sodium-Tray, 5037.5ms\n",
      "Speed: 6.0ms preprocess, 5037.5ms inference, 6.0ms postprocess per image at shape (1, 3, 640, 640)\n",
      "\n",
      "0: 640x640 1 Fire-Smoke-Sodium-Tray, 3921.5ms\n",
      "Speed: 6.0ms preprocess, 3921.5ms inference, 9.0ms postprocess per image at shape (1, 3, 640, 640)\n",
      "\n",
      "0: 640x640 2 Fire-Smoke-Sodium-Trays, 4139.7ms\n",
      "Speed: 7.0ms preprocess, 4139.7ms inference, 9.0ms postprocess per image at shape (1, 3, 640, 640)\n",
      "\n",
      "0: 640x640 (no detections), 3828.5ms\n",
      "Speed: 7.0ms preprocess, 3828.5ms inference, 0.0ms postprocess per image at shape (1, 3, 640, 640)\n",
      "\n",
      "0: 640x640 1 Fire-Smoke-Sodium-Tray, 5036.4ms\n",
      "Speed: 6.0ms preprocess, 5036.4ms inference, 9.9ms postprocess per image at shape (1, 3, 640, 640)\n",
      "\n",
      "0: 640x640 1 Fire-Smoke-Sodium-Tray, 4210.3ms\n",
      "Speed: 10.0ms preprocess, 4210.3ms inference, 0.0ms postprocess per image at shape (1, 3, 640, 640)\n",
      "\n",
      "0: 640x640 2 Fire-Smoke-Sodium-Trays, 4413.1ms\n",
      "Speed: 0.0ms preprocess, 4413.1ms inference, 12.8ms postprocess per image at shape (1, 3, 640, 640)\n",
      "\n",
      "0: 640x640 4 Fire-Smoke-Sodium-Trays, 5787.0ms\n",
      "Speed: 7.0ms preprocess, 5787.0ms inference, 18.1ms postprocess per image at shape (1, 3, 640, 640)\n",
      "\n",
      "0: 640x640 2 Fire-Smoke-Sodium-Trays, 4057.3ms\n",
      "Speed: 7.1ms preprocess, 4057.3ms inference, 10.0ms postprocess per image at shape (1, 3, 640, 640)\n",
      "\n",
      "0: 640x640 1 Fire-Smoke-Sodium-Tray, 4106.5ms\n",
      "Speed: 0.0ms preprocess, 4106.5ms inference, 10.0ms postprocess per image at shape (1, 3, 640, 640)\n",
      "\n",
      "0: 640x640 3 Fire-Smoke-Sodium-Trays, 4356.2ms\n",
      "Speed: 0.0ms preprocess, 4356.2ms inference, 20.0ms postprocess per image at shape (1, 3, 640, 640)\n",
      "\n",
      "0: 640x640 1 Fire-Smoke-Sodium-Tray, 4552.9ms\n",
      "Speed: 6.0ms preprocess, 4552.9ms inference, 10.0ms postprocess per image at shape (1, 3, 640, 640)\n",
      "\n",
      "0: 640x640 1 Fire-Smoke-Sodium-Tray, 4262.8ms\n",
      "Speed: 10.0ms preprocess, 4262.8ms inference, 10.0ms postprocess per image at shape (1, 3, 640, 640)\n",
      "\n",
      "0: 640x640 3 Fire-Smoke-Sodium-Trays, 4298.3ms\n",
      "Speed: 10.0ms preprocess, 4298.3ms inference, 16.9ms postprocess per image at shape (1, 3, 640, 640)\n"
     ]
    },
    {
     "name": "stderr",
     "output_type": "stream",
     "text": [
      "\n",
      "0: 640x640 (no detections), 4563.6ms\n",
      "Speed: 7.9ms preprocess, 4563.6ms inference, 0.0ms postprocess per image at shape (1, 3, 640, 640)\n",
      "\n",
      "0: 640x640 2 Fire-Smoke-Sodium-Trays, 4550.6ms\n",
      "Speed: 0.0ms preprocess, 4550.6ms inference, 20.0ms postprocess per image at shape (1, 3, 640, 640)\n",
      "\n",
      "0: 640x640 2 Fire-Smoke-Sodium-Trays, 4580.2ms\n",
      "Speed: 0.0ms preprocess, 4580.2ms inference, 10.0ms postprocess per image at shape (1, 3, 640, 640)\n",
      "\n",
      "0: 640x640 (no detections), 4240.2ms\n",
      "Speed: 10.0ms preprocess, 4240.2ms inference, 0.0ms postprocess per image at shape (1, 3, 640, 640)\n",
      "\n",
      "0: 640x640 (no detections), 3950.2ms\n",
      "Speed: 10.0ms preprocess, 3950.2ms inference, 10.0ms postprocess per image at shape (1, 3, 640, 640)\n",
      "\n",
      "0: 640x640 (no detections), 4100.2ms\n",
      "Speed: 10.0ms preprocess, 4100.2ms inference, 0.0ms postprocess per image at shape (1, 3, 640, 640)\n",
      "\n",
      "0: 640x640 (no detections), 3900.2ms\n",
      "Speed: 10.0ms preprocess, 3900.2ms inference, 0.0ms postprocess per image at shape (1, 3, 640, 640)\n",
      "\n",
      "0: 640x640 (no detections), 4600.2ms\n",
      "Speed: 10.0ms preprocess, 4600.2ms inference, 0.0ms postprocess per image at shape (1, 3, 640, 640)\n",
      "\n",
      "0: 640x640 (no detections), 4170.2ms\n",
      "Speed: 10.0ms preprocess, 4170.2ms inference, 0.0ms postprocess per image at shape (1, 3, 640, 640)\n",
      "\n",
      "0: 640x640 1 Fire-Smoke-Sodium-Tray, 4070.2ms\n",
      "Speed: 0.0ms preprocess, 4070.2ms inference, 10.0ms postprocess per image at shape (1, 3, 640, 640)\n",
      "\n",
      "0: 640x640 2 Fire-Smoke-Sodium-Trays, 4210.2ms\n",
      "Speed: 10.0ms preprocess, 4210.2ms inference, 10.0ms postprocess per image at shape (1, 3, 640, 640)\n",
      "\n",
      "0: 640x640 (no detections), 4440.2ms\n",
      "Speed: 0.0ms preprocess, 4440.2ms inference, 0.0ms postprocess per image at shape (1, 3, 640, 640)\n",
      "\n",
      "0: 640x640 (no detections), 3990.2ms\n",
      "Speed: 10.0ms preprocess, 3990.2ms inference, 10.0ms postprocess per image at shape (1, 3, 640, 640)\n",
      "\n",
      "0: 640x640 1 Fire-Smoke-Sodium-Tray, 3940.2ms\n",
      "Speed: 0.0ms preprocess, 3940.2ms inference, 0.0ms postprocess per image at shape (1, 3, 640, 640)\n",
      "\n",
      "0: 640x640 (no detections), 4650.2ms\n",
      "Speed: 0.0ms preprocess, 4650.2ms inference, 10.1ms postprocess per image at shape (1, 3, 640, 640)\n",
      "\n",
      "0: 640x640 1 Fire-Smoke-Sodium-Tray, 4080.2ms\n",
      "Speed: 10.0ms preprocess, 4080.2ms inference, 10.0ms postprocess per image at shape (1, 3, 640, 640)\n",
      "\n",
      "0: 640x640 (no detections), 4070.1ms\n",
      "Speed: 0.0ms preprocess, 4070.1ms inference, 0.0ms postprocess per image at shape (1, 3, 640, 640)\n",
      "\n",
      "0: 640x640 (no detections), 3990.2ms\n",
      "Speed: 0.0ms preprocess, 3990.2ms inference, 0.0ms postprocess per image at shape (1, 3, 640, 640)\n",
      "\n",
      "0: 640x640 1 Fire-Smoke-Sodium-Tray, 4140.2ms\n",
      "Speed: 10.0ms preprocess, 4140.2ms inference, 20.0ms postprocess per image at shape (1, 3, 640, 640)\n",
      "\n",
      "0: 640x640 (no detections), 4020.2ms\n",
      "Speed: 10.0ms preprocess, 4020.2ms inference, 0.0ms postprocess per image at shape (1, 3, 640, 640)\n",
      "\n",
      "0: 640x640 (no detections), 4120.2ms\n",
      "Speed: 10.0ms preprocess, 4120.2ms inference, 0.0ms postprocess per image at shape (1, 3, 640, 640)\n",
      "\n",
      "0: 640x640 (no detections), 4510.2ms\n",
      "Speed: 10.0ms preprocess, 4510.2ms inference, 0.0ms postprocess per image at shape (1, 3, 640, 640)\n",
      "\n",
      "0: 640x640 (no detections), 4090.2ms\n",
      "Speed: 0.0ms preprocess, 4090.2ms inference, 10.0ms postprocess per image at shape (1, 3, 640, 640)\n",
      "\n",
      "0: 640x640 (no detections), 4066.5ms\n",
      "Speed: 10.0ms preprocess, 4066.5ms inference, 0.0ms postprocess per image at shape (1, 3, 640, 640)\n",
      "\n",
      "0: 640x640 (no detections), 4090.2ms\n",
      "Speed: 10.0ms preprocess, 4090.2ms inference, 0.0ms postprocess per image at shape (1, 3, 640, 640)\n",
      "\n",
      "0: 640x640 (no detections), 4560.2ms\n",
      "Speed: 10.0ms preprocess, 4560.2ms inference, 0.0ms postprocess per image at shape (1, 3, 640, 640)\n",
      "\n",
      "0: 640x640 (no detections), 4020.2ms\n",
      "Speed: 10.0ms preprocess, 4020.2ms inference, 0.0ms postprocess per image at shape (1, 3, 640, 640)\n",
      "\n",
      "0: 640x640 (no detections), 4060.2ms\n",
      "Speed: 10.0ms preprocess, 4060.2ms inference, 0.0ms postprocess per image at shape (1, 3, 640, 640)\n",
      "\n",
      "0: 640x640 (no detections), 4320.2ms\n",
      "Speed: 10.0ms preprocess, 4320.2ms inference, 0.0ms postprocess per image at shape (1, 3, 640, 640)\n",
      "\n",
      "0: 640x640 (no detections), 3970.2ms\n",
      "Speed: 0.0ms preprocess, 3970.2ms inference, 0.0ms postprocess per image at shape (1, 3, 640, 640)\n",
      "\n",
      "0: 640x640 (no detections), 4050.2ms\n",
      "Speed: 10.0ms preprocess, 4050.2ms inference, 0.0ms postprocess per image at shape (1, 3, 640, 640)\n",
      "\n",
      "0: 640x640 (no detections), 3940.2ms\n",
      "Speed: 0.0ms preprocess, 3940.2ms inference, 0.0ms postprocess per image at shape (1, 3, 640, 640)\n",
      "\n",
      "0: 640x640 (no detections), 4040.2ms\n",
      "Speed: 10.0ms preprocess, 4040.2ms inference, 0.0ms postprocess per image at shape (1, 3, 640, 640)\n",
      "\n",
      "0: 640x640 (no detections), 3950.2ms\n",
      "Speed: 0.0ms preprocess, 3950.2ms inference, 0.0ms postprocess per image at shape (1, 3, 640, 640)\n",
      "\n",
      "0: 640x640 (no detections), 4240.2ms\n",
      "Speed: 10.0ms preprocess, 4240.2ms inference, 0.0ms postprocess per image at shape (1, 3, 640, 640)\n",
      "\n",
      "0: 640x640 (no detections), 4260.2ms\n",
      "Speed: 0.0ms preprocess, 4260.2ms inference, 0.0ms postprocess per image at shape (1, 3, 640, 640)\n",
      "\n",
      "0: 640x640 (no detections), 4770.2ms\n",
      "Speed: 0.0ms preprocess, 4770.2ms inference, 0.0ms postprocess per image at shape (1, 3, 640, 640)\n",
      "\n",
      "0: 640x640 (no detections), 4220.2ms\n",
      "Speed: 10.0ms preprocess, 4220.2ms inference, 0.0ms postprocess per image at shape (1, 3, 640, 640)\n",
      "\n",
      "0: 640x640 1 Fire, 3960.2ms\n",
      "Speed: 10.0ms preprocess, 3960.2ms inference, 10.0ms postprocess per image at shape (1, 3, 640, 640)\n",
      "\n",
      "0: 640x640 (no detections), 4670.2ms\n",
      "Speed: 0.0ms preprocess, 4670.2ms inference, 0.0ms postprocess per image at shape (1, 3, 640, 640)\n",
      "\n",
      "0: 640x640 (no detections), 4700.2ms\n",
      "Speed: 10.0ms preprocess, 4700.2ms inference, 0.0ms postprocess per image at shape (1, 3, 640, 640)\n",
      "\n",
      "0: 640x640 (no detections), 3880.2ms\n",
      "Speed: 10.0ms preprocess, 3880.2ms inference, 0.0ms postprocess per image at shape (1, 3, 640, 640)\n",
      "\n",
      "0: 640x640 (no detections), 4020.2ms\n",
      "Speed: 10.0ms preprocess, 4020.2ms inference, 0.0ms postprocess per image at shape (1, 3, 640, 640)\n",
      "\n",
      "0: 640x640 (no detections), 4410.2ms\n",
      "Speed: 10.0ms preprocess, 4410.2ms inference, 0.0ms postprocess per image at shape (1, 3, 640, 640)\n",
      "\n",
      "0: 640x640 (no detections), 4110.2ms\n",
      "Speed: 10.0ms preprocess, 4110.2ms inference, 0.0ms postprocess per image at shape (1, 3, 640, 640)\n",
      "\n",
      "0: 640x640 (no detections), 3860.1ms\n",
      "Speed: 10.0ms preprocess, 3860.1ms inference, 0.0ms postprocess per image at shape (1, 3, 640, 640)\n",
      "\n",
      "0: 640x640 (no detections), 3860.1ms\n",
      "Speed: 10.0ms preprocess, 3860.1ms inference, 0.0ms postprocess per image at shape (1, 3, 640, 640)\n",
      "\n",
      "0: 640x640 (no detections), 4170.2ms\n",
      "Speed: 0.0ms preprocess, 4170.2ms inference, 0.0ms postprocess per image at shape (1, 3, 640, 640)\n",
      "\n",
      "0: 640x640 (no detections), 4160.2ms\n",
      "Speed: 10.0ms preprocess, 4160.2ms inference, 0.0ms postprocess per image at shape (1, 3, 640, 640)\n",
      "\n",
      "0: 640x640 (no detections), 4260.2ms\n",
      "Speed: 0.0ms preprocess, 4260.2ms inference, 0.0ms postprocess per image at shape (1, 3, 640, 640)\n",
      "\n",
      "0: 640x640 (no detections), 4420.2ms\n",
      "Speed: 0.0ms preprocess, 4420.2ms inference, 0.0ms postprocess per image at shape (1, 3, 640, 640)\n",
      "\n",
      "0: 640x640 (no detections), 4080.2ms\n",
      "Speed: 0.0ms preprocess, 4080.2ms inference, 0.0ms postprocess per image at shape (1, 3, 640, 640)\n",
      "\n",
      "0: 640x640 (no detections), 4170.2ms\n",
      "Speed: 10.0ms preprocess, 4170.2ms inference, 10.0ms postprocess per image at shape (1, 3, 640, 640)\n",
      "\n",
      "0: 640x640 (no detections), 4390.2ms\n",
      "Speed: 10.0ms preprocess, 4390.2ms inference, 0.0ms postprocess per image at shape (1, 3, 640, 640)\n",
      "\n",
      "0: 640x640 (no detections), 4060.2ms\n",
      "Speed: 10.0ms preprocess, 4060.2ms inference, 0.0ms postprocess per image at shape (1, 3, 640, 640)\n"
     ]
    }
   ],
   "source": [
    "count_frame = 0\n",
    "h = camera_angle2top_view()\n",
    "while True:\n",
    "    ret, frame = video.read()\n",
    "    if ret:\n",
    "        count_frame += 1\n",
    "        if count_frame > startFrame and count_frame < endFrame:\n",
    "            #frame = cv.imread(Directory + \"/\" + Files[count_frame])\n",
    "            img_resize = cv.resize(frame, (width, height), interpolation = cv.INTER_LINEAR)\n",
    "            results = model(img_resize, conf=0.5)\n",
    "            if results[0].masks is not None:\n",
    "                mask_img = np.any(np.array(results[0].masks[:].data), axis=0)\n",
    "                mask_img_3 = np.stack([np.zeros(mask_img.shape), mask_img, np.zeros(mask_img.shape)], axis=2)\n",
    "                temp_image = cv.addWeighted(img_resize, alpha , (mask_img_3 * 255).astype('uint8'), 1-alpha, 0)        \n",
    "                im_out = cv.warpPerspective(mask_img_3, h, (im_layout.shape[1],im_layout.shape[0]))\n",
    "                im_layout_inv = 255 - im_layout\n",
    "                layout_mask = cv.add(im_layout_inv, (im_out * 255).astype('uint8'))\n",
    "                #layout_mask = cv.addWeighted(im_layout, 0.3 , (im_out * 255).astype('uint8'), 1-0.3, 0)\n",
    "            else:\n",
    "                temp_image = img_resize\n",
    "                layout_mask = 255 - im_layout\n",
    "                \n",
    "            out.write(np.hstack([img_resize, temp_image, layout_mask]))\n",
    "            #out2.write(layout_mask)        \n",
    "    else:\n",
    "        break\n",
    "out.release()\n",
    "#out2.release()\n",
    "video.release()"
   ]
  },
  {
   "cell_type": "code",
   "execution_count": 136,
   "id": "1d85ced5",
   "metadata": {},
   "outputs": [],
   "source": [
    "mask_img_3 = np.stack([np.zeros(mask_img.shape), mask_img, np.zeros(mask_img.shape)], axis=2)\n",
    "temp_image = cv.addWeighted(img_resize, alpha , (mask_img_3 * 255).astype('uint8'), 1-alpha, 0)        \n",
    "im_out = cv.warpPerspective(mask_img_3, h, (im_layout.shape[1],im_layout.shape[0]))\n",
    "\n",
    "im_layout_inv = 255 - im_layout\n",
    "layout_mask = cv.add(im_layout_inv, (im_out * 255).astype('uint8'))\n",
    "im_show(np.hstack([temp_image, im_layout_inv, layout_mask]))\n"
   ]
  },
  {
   "cell_type": "code",
   "execution_count": 112,
   "id": "8d8ea2fe",
   "metadata": {},
   "outputs": [],
   "source": [
    "out.release()\n",
    "out2.release()\n",
    "video.release()"
   ]
  },
  {
   "cell_type": "code",
   "execution_count": null,
   "id": "ad2f5e82",
   "metadata": {},
   "outputs": [],
   "source": [
    "alpha = 0.8\n",
    "dst = cv.addWeighted(im1, alpha , im2, 1-alpha, 0) \n",
    "plt.imshow(im2)"
   ]
  },
  {
   "cell_type": "code",
   "execution_count": null,
   "id": "37ac7e87",
   "metadata": {},
   "outputs": [],
   "source": [
    "alpha = 0.6\n",
    "im1 = cv.imread(r'F:\\Work\\SOCAAutomation\\Dataset\\Images\\09072024_1_1\\2024_07_09_11_30_32.jpg')\n",
    "im1 = cv.resize(im1, (640, 640), interpolation = cv.INTER_LINEAR)\n",
    "#results = model(im1, conf=0.5) #, save=True, show_labels=False, retina_masks=True)\n",
    "mask_img = np.any(np.array(results[0].masks[:].data), axis=0)\n",
    "orig_img = im1 #results[0].orig_img\n",
    "mask_img_3 = np.stack([mask_img, np.zeros(mask_img.shape), np.zeros(mask_img.shape)], axis=2)\n",
    "\n",
    "im2 = np.array(mask_img_3 * 255, dtype = 'uint8')\n",
    "\n",
    "dst = cv.addWeighted(im1, alpha , im2, 1-alpha, 0) \n",
    "# mask_inv = np.logical_not(np.stack([mask_img, mask_img, mask_img], axis=2))\n",
    "# temp_image = np.zeros(orig_img.shape)\n",
    "# temp_image = mask_inv * orig_img\n",
    "# temp_image += (mask_img_3 * 255).astype('uint8')\n"
   ]
  },
  {
   "cell_type": "code",
   "execution_count": null,
   "id": "c3f08806",
   "metadata": {},
   "outputs": [],
   "source": [
    "plt.imshow(mask_img_3)"
   ]
  },
  {
   "cell_type": "code",
   "execution_count": null,
   "id": "839d7ed9",
   "metadata": {},
   "outputs": [],
   "source": [
    "plt.imshow(dst)"
   ]
  },
  {
   "cell_type": "code",
   "execution_count": null,
   "id": "f0460711",
   "metadata": {},
   "outputs": [],
   "source": [
    "frame = cv.imread(r'F:\\Work\\SOCAAutomation\\Dataset\\Images\\09072024_1_1\\2024_07_09_11_30_344.jpg')\n",
    "img_resize = cv.resize(frame, (640, 640), interpolation = cv.INTER_LINEAR)\n",
    "cv.imwrite('ReferenceImage.jpg', img_resize)"
   ]
  },
  {
   "cell_type": "markdown",
   "id": "8c16183e",
   "metadata": {},
   "source": [
    "# Transform Model to Onnx"
   ]
  },
  {
   "cell_type": "code",
   "execution_count": null,
   "id": "cbe31d78",
   "metadata": {},
   "outputs": [],
   "source": [
    "model.export(format=\"onnx\")  # creates 'yolov8n_openvino_model/"
   ]
  },
  {
   "cell_type": "code",
   "execution_count": null,
   "id": "1af18104",
   "metadata": {},
   "outputs": [],
   "source": [
    "onnx_model = YOLO(\"best.onnx\", task='segment')"
   ]
  },
  {
   "cell_type": "code",
   "execution_count": null,
   "id": "5c510d3a",
   "metadata": {},
   "outputs": [],
   "source": [
    "res_onnx = onnx_model(img, conf=0.3)"
   ]
  },
  {
   "cell_type": "markdown",
   "id": "e060c7fa",
   "metadata": {},
   "source": [
    "## ONNX Model Optimizations"
   ]
  },
  {
   "cell_type": "markdown",
   "id": "22778b58",
   "metadata": {},
   "source": [
    "### F32 to F16"
   ]
  },
  {
   "cell_type": "code",
   "execution_count": null,
   "id": "7a849b4c",
   "metadata": {},
   "outputs": [],
   "source": [
    "import onnx\n",
    "from onnxconverter_common import float16"
   ]
  },
  {
   "cell_type": "code",
   "execution_count": null,
   "id": "15c1746f",
   "metadata": {},
   "outputs": [],
   "source": [
    "onnx_model = onnx.load(\"best.onnx\")\n",
    "onnx_model_fp16 = float16.convert_float_to_float16(onnx_model)\n",
    "onnx.save(onnx_model_fp16, \"model_fp16.onnx\")"
   ]
  },
  {
   "cell_type": "code",
   "execution_count": null,
   "id": "06204164",
   "metadata": {},
   "outputs": [],
   "source": [
    "onnx_model = YOLO(\"model_fp16.onnx\", task='segment')"
   ]
  },
  {
   "cell_type": "code",
   "execution_count": null,
   "id": "3a3b945a",
   "metadata": {},
   "outputs": [],
   "source": [
    "res_onnx_fp16 = onnx_model(img, conf=0.3)"
   ]
  },
  {
   "cell_type": "code",
   "execution_count": null,
   "id": "9d07c5c0",
   "metadata": {},
   "outputs": [],
   "source": [
    "img.dtype"
   ]
  },
  {
   "cell_type": "markdown",
   "id": "1b2d4b05",
   "metadata": {},
   "source": [
    "# Transform Model to OpenVino"
   ]
  },
  {
   "cell_type": "code",
   "execution_count": null,
   "id": "90afacf6",
   "metadata": {},
   "outputs": [],
   "source": [
    "model.export(format=\"openvino\")  # creates 'yolov8n_openvino_model/"
   ]
  },
  {
   "cell_type": "code",
   "execution_count": null,
   "id": "a18d6d39",
   "metadata": {},
   "outputs": [],
   "source": [
    "ov_model = YOLO(\"yolov8n_openvino_model/\")\n",
    "\n",
    "# Run inference\n",
    "results = ov_model(\"https://ultralytics.com/images/bus.jpg\")"
   ]
  },
  {
   "cell_type": "code",
   "execution_count": 88,
   "id": "643cdaf9",
   "metadata": {},
   "outputs": [
    {
     "data": {
      "text/plain": [
       "40.0"
      ]
     },
     "execution_count": 88,
     "metadata": {},
     "output_type": "execute_result"
    }
   ],
   "source": [
    "(15 / 240 ) * 640"
   ]
  },
  {
   "cell_type": "markdown",
   "id": "410b0745",
   "metadata": {},
   "source": [
    "# Feature Extraction from Segmented Image"
   ]
  },
  {
   "cell_type": "markdown",
   "id": "984f76b1",
   "metadata": {},
   "source": [
    "- `Raw Image to Segmented image using inference model`\n",
    "- `Calculate Centroid for each Mask`\n",
    "- `Calculate size of each Mask`"
   ]
  },
  {
   "cell_type": "markdown",
   "id": "b96f0000",
   "metadata": {},
   "source": [
    "### Input Configurations"
   ]
  },
  {
   "cell_type": "code",
   "execution_count": 94,
   "id": "916f3aa1",
   "metadata": {},
   "outputs": [],
   "source": [
    "Directory = r\"F:\\Work\\SOCAAutomation\\Dataset\\NA_DISOPSAL_SOCA_2024\\09072024\"\n",
    "VideoFile = \"AXIS 213 - 10.1.5.173 2024-07-09_11_30_00_000.asf\"\n",
    "width = height = 640\n",
    "conf = 0.5\n",
    "iou = 0.7\n",
    "dur = [[3,0], [3,45]] #[mins,secs]"
   ]
  },
  {
   "cell_type": "markdown",
   "id": "89687f5a",
   "metadata": {},
   "source": [
    "### Input Processing"
   ]
  },
  {
   "cell_type": "code",
   "execution_count": 96,
   "id": "84dabdff",
   "metadata": {},
   "outputs": [],
   "source": [
    "startFrame = (dur[0][0] * 60 + dur[0][1] ) * 15\n",
    "endFrame = (dur[1][0] * 60 + dur[1][1] ) * 15\n",
    "model = YOLO('best.pt')"
   ]
  },
  {
   "cell_type": "markdown",
   "id": "6bd4ec03",
   "metadata": {},
   "source": [
    "### Function Definitions"
   ]
  },
  {
   "cell_type": "code",
   "execution_count": 155,
   "id": "4215f61c",
   "metadata": {},
   "outputs": [],
   "source": [
    "def findCentroid(mask_img):\n",
    "    contours, hierarchies = cv.findContours(mask_img.astype(np.uint8), cv.RETR_LIST, cv.CHAIN_APPROX_SIMPLE)\n",
    "    points = []\n",
    "    area = []\n",
    "    if len(contours) > 0:\n",
    "        for i in contours:            \n",
    "            M = cv.moments(i)\n",
    "            if M['m00'] != 0:\n",
    "                cx = int(M['m10']/M['m00'])\n",
    "                cy = int(M['m01']/M['m00'])\n",
    "                points.append([cx, cy])\n",
    "                area.append(M['m00'])\n",
    "    return points, area, contours, hierarchies"
   ]
  },
  {
   "cell_type": "code",
   "execution_count": 156,
   "id": "d4ca1345",
   "metadata": {},
   "outputs": [
    {
     "name": "stdout",
     "output_type": "stream",
     "text": [
      "Inferencing Frame 2701...\n"
     ]
    },
    {
     "name": "stderr",
     "output_type": "stream",
     "text": [
      "\n",
      "WARNING  NMS time limit 0.550s exceeded\n",
      "0: 640x640 1 Fire-Smoke-Sodium-Tray, 23989.6ms\n",
      "Speed: 1314.1ms preprocess, 23989.6ms inference, 3328.0ms postprocess per image at shape (1, 3, 640, 640)\n"
     ]
    },
    {
     "name": "stdout",
     "output_type": "stream",
     "text": [
      "Mask identified for the frame...\n"
     ]
    },
    {
     "name": "stderr",
     "output_type": "stream",
     "text": [
      "\n"
     ]
    },
    {
     "name": "stdout",
     "output_type": "stream",
     "text": [
      "Inferencing Frame 2702...\n"
     ]
    },
    {
     "name": "stderr",
     "output_type": "stream",
     "text": [
      "0: 640x640 1 Fire-Smoke-Sodium-Tray, 6449.8ms\n",
      "Speed: 7.0ms preprocess, 6449.8ms inference, 137.1ms postprocess per image at shape (1, 3, 640, 640)\n"
     ]
    },
    {
     "name": "stdout",
     "output_type": "stream",
     "text": [
      "Mask identified for the frame...\n",
      "Inferencing Frame 2703...\n"
     ]
    },
    {
     "name": "stderr",
     "output_type": "stream",
     "text": [
      "\n",
      "0: 640x640 1 Fire-Smoke-Sodium-Tray, 4757.3ms\n",
      "Speed: 18.0ms preprocess, 4757.3ms inference, 145.1ms postprocess per image at shape (1, 3, 640, 640)\n"
     ]
    },
    {
     "name": "stdout",
     "output_type": "stream",
     "text": [
      "Mask identified for the frame...\n",
      "Inferencing Frame 2704...\n"
     ]
    },
    {
     "name": "stderr",
     "output_type": "stream",
     "text": [
      "\n",
      "0: 640x640 1 Fire-Smoke-Sodium-Tray, 4192.8ms\n",
      "Speed: 35.0ms preprocess, 4192.8ms inference, 47.0ms postprocess per image at shape (1, 3, 640, 640)\n",
      "\n"
     ]
    },
    {
     "name": "stdout",
     "output_type": "stream",
     "text": [
      "Mask identified for the frame...\n",
      "Inferencing Frame 2705...\n"
     ]
    },
    {
     "name": "stderr",
     "output_type": "stream",
     "text": [
      "0: 640x640 1 Fire-Smoke-Sodium-Tray, 4222.8ms\n",
      "Speed: 14.0ms preprocess, 4222.8ms inference, 199.2ms postprocess per image at shape (1, 3, 640, 640)\n",
      "\n"
     ]
    },
    {
     "name": "stdout",
     "output_type": "stream",
     "text": [
      "Mask identified for the frame...\n",
      "Inferencing Frame 2706...\n"
     ]
    },
    {
     "name": "stderr",
     "output_type": "stream",
     "text": [
      "0: 640x640 1 Fire-Smoke-Sodium-Tray, 4523.1ms\n",
      "Speed: 161.1ms preprocess, 4523.1ms inference, 6.0ms postprocess per image at shape (1, 3, 640, 640)\n",
      "\n"
     ]
    },
    {
     "name": "stdout",
     "output_type": "stream",
     "text": [
      "Mask identified for the frame...\n",
      "Inferencing Frame 2707...\n"
     ]
    },
    {
     "name": "stderr",
     "output_type": "stream",
     "text": [
      "0: 640x640 2 Fire-Smoke-Sodium-Trays, 4853.4ms\n",
      "Speed: 115.1ms preprocess, 4853.4ms inference, 161.1ms postprocess per image at shape (1, 3, 640, 640)\n"
     ]
    },
    {
     "name": "stdout",
     "output_type": "stream",
     "text": [
      "Mask identified for the frame...\n",
      "Inferencing Frame 2708...\n"
     ]
    },
    {
     "name": "stderr",
     "output_type": "stream",
     "text": [
      "\n",
      "0: 640x640 1 Fire-Smoke-Sodium-Tray, 5637.1ms\n",
      "Speed: 17.0ms preprocess, 5637.1ms inference, 7.0ms postprocess per image at shape (1, 3, 640, 640)\n",
      "\n"
     ]
    },
    {
     "name": "stdout",
     "output_type": "stream",
     "text": [
      "Mask identified for the frame...\n",
      "Inferencing Frame 2709...\n"
     ]
    },
    {
     "name": "stderr",
     "output_type": "stream",
     "text": [
      "0: 640x640 1 Fire-Smoke-Sodium-Tray, 4458.0ms\n",
      "Speed: 7.0ms preprocess, 4458.0ms inference, 45.0ms postprocess per image at shape (1, 3, 640, 640)\n",
      "\n"
     ]
    },
    {
     "name": "stdout",
     "output_type": "stream",
     "text": [
      "Mask identified for the frame...\n",
      "Inferencing Frame 2710...\n"
     ]
    },
    {
     "name": "stderr",
     "output_type": "stream",
     "text": [
      "0: 640x640 1 Fire-Smoke-Sodium-Tray, 4656.2ms\n",
      "Speed: 16.0ms preprocess, 4656.2ms inference, 6.0ms postprocess per image at shape (1, 3, 640, 640)\n",
      "\n"
     ]
    },
    {
     "name": "stdout",
     "output_type": "stream",
     "text": [
      "Mask identified for the frame...\n",
      "Inferencing Frame 2711...\n"
     ]
    },
    {
     "name": "stderr",
     "output_type": "stream",
     "text": [
      "0: 640x640 1 Fire-Smoke-Sodium-Tray, 4603.1ms\n",
      "Speed: 11.0ms preprocess, 4603.1ms inference, 6.0ms postprocess per image at shape (1, 3, 640, 640)\n",
      "\n"
     ]
    },
    {
     "name": "stdout",
     "output_type": "stream",
     "text": [
      "Mask identified for the frame...\n",
      "Inferencing Frame 2712...\n"
     ]
    },
    {
     "name": "stderr",
     "output_type": "stream",
     "text": [
      "0: 640x640 (no detections), 4479.0ms\n",
      "Speed: 30.0ms preprocess, 4479.0ms inference, 2.0ms postprocess per image at shape (1, 3, 640, 640)\n",
      "\n"
     ]
    },
    {
     "name": "stdout",
     "output_type": "stream",
     "text": [
      "Inferencing Frame 2713...\n"
     ]
    },
    {
     "name": "stderr",
     "output_type": "stream",
     "text": [
      "0: 640x640 1 Fire-Smoke-Sodium-Tray, 4777.3ms\n",
      "Speed: 9.0ms preprocess, 4777.3ms inference, 12.0ms postprocess per image at shape (1, 3, 640, 640)\n",
      "\n"
     ]
    },
    {
     "name": "stdout",
     "output_type": "stream",
     "text": [
      "Mask identified for the frame...\n",
      "Inferencing Frame 2714...\n"
     ]
    },
    {
     "name": "stderr",
     "output_type": "stream",
     "text": [
      "0: 640x640 1 Fire-Smoke-Sodium-Tray, 4406.0ms\n",
      "Speed: 17.0ms preprocess, 4406.0ms inference, 23.0ms postprocess per image at shape (1, 3, 640, 640)\n",
      "\n"
     ]
    },
    {
     "name": "stdout",
     "output_type": "stream",
     "text": [
      "Mask identified for the frame...\n",
      "Inferencing Frame 2715...\n"
     ]
    },
    {
     "name": "stderr",
     "output_type": "stream",
     "text": [
      "0: 640x640 (no detections), 4165.8ms\n",
      "Speed: 13.0ms preprocess, 4165.8ms inference, 1.0ms postprocess per image at shape (1, 3, 640, 640)\n",
      "\n"
     ]
    },
    {
     "name": "stdout",
     "output_type": "stream",
     "text": [
      "Inferencing Frame 2716...\n"
     ]
    },
    {
     "name": "stderr",
     "output_type": "stream",
     "text": [
      "0: 640x640 1 Fire-Smoke-Sodium-Tray, 3858.4ms\n",
      "Speed: 7.1ms preprocess, 3858.4ms inference, 6.0ms postprocess per image at shape (1, 3, 640, 640)\n",
      "\n"
     ]
    },
    {
     "name": "stdout",
     "output_type": "stream",
     "text": [
      "Mask identified for the frame...\n",
      "Inferencing Frame 2717...\n"
     ]
    },
    {
     "name": "stderr",
     "output_type": "stream",
     "text": [
      "0: 640x640 1 Fire-Smoke-Sodium-Tray, 3734.3ms\n",
      "Speed: 41.1ms preprocess, 3734.3ms inference, 7.0ms postprocess per image at shape (1, 3, 640, 640)\n",
      "\n"
     ]
    },
    {
     "name": "stdout",
     "output_type": "stream",
     "text": [
      "Mask identified for the frame...\n",
      "Inferencing Frame 2718...\n"
     ]
    },
    {
     "name": "stderr",
     "output_type": "stream",
     "text": [
      "0: 640x640 1 Fire-Smoke-Sodium-Tray, 3883.5ms\n",
      "Speed: 6.0ms preprocess, 3883.5ms inference, 9.0ms postprocess per image at shape (1, 3, 640, 640)\n",
      "\n"
     ]
    },
    {
     "name": "stdout",
     "output_type": "stream",
     "text": [
      "Mask identified for the frame...\n",
      "Inferencing Frame 2719...\n"
     ]
    },
    {
     "name": "stderr",
     "output_type": "stream",
     "text": [
      "0: 640x640 1 Fire-Smoke-Sodium-Tray, 3623.3ms\n",
      "Speed: 7.0ms preprocess, 3623.3ms inference, 38.0ms postprocess per image at shape (1, 3, 640, 640)\n",
      "\n"
     ]
    },
    {
     "name": "stdout",
     "output_type": "stream",
     "text": [
      "Mask identified for the frame...\n",
      "Inferencing Frame 2720...\n"
     ]
    },
    {
     "name": "stderr",
     "output_type": "stream",
     "text": [
      "0: 640x640 1 Fire-Smoke-Sodium-Tray, 4028.6ms\n",
      "Speed: 6.0ms preprocess, 4028.6ms inference, 6.0ms postprocess per image at shape (1, 3, 640, 640)\n",
      "\n"
     ]
    },
    {
     "name": "stdout",
     "output_type": "stream",
     "text": [
      "Mask identified for the frame...\n",
      "Inferencing Frame 2721...\n"
     ]
    },
    {
     "name": "stderr",
     "output_type": "stream",
     "text": [
      "0: 640x640 1 Fire-Smoke-Sodium-Tray, 4467.0ms\n",
      "Speed: 7.0ms preprocess, 4467.0ms inference, 6.0ms postprocess per image at shape (1, 3, 640, 640)\n",
      "\n"
     ]
    },
    {
     "name": "stdout",
     "output_type": "stream",
     "text": [
      "Mask identified for the frame...\n",
      "Inferencing Frame 2722...\n"
     ]
    },
    {
     "name": "stderr",
     "output_type": "stream",
     "text": [
      "0: 640x640 1 Fire-Smoke-Sodium-Tray, 4551.1ms\n",
      "Speed: 7.0ms preprocess, 4551.1ms inference, 6.0ms postprocess per image at shape (1, 3, 640, 640)\n",
      "\n"
     ]
    },
    {
     "name": "stdout",
     "output_type": "stream",
     "text": [
      "Mask identified for the frame...\n",
      "Inferencing Frame 2723...\n"
     ]
    },
    {
     "name": "stderr",
     "output_type": "stream",
     "text": [
      "0: 640x640 1 Fire-Smoke-Sodium-Tray, 4204.8ms\n",
      "Speed: 6.0ms preprocess, 4204.8ms inference, 6.0ms postprocess per image at shape (1, 3, 640, 640)\n",
      "\n"
     ]
    },
    {
     "name": "stdout",
     "output_type": "stream",
     "text": [
      "Mask identified for the frame...\n",
      "Inferencing Frame 2724...\n"
     ]
    },
    {
     "name": "stderr",
     "output_type": "stream",
     "text": [
      "0: 640x640 1 Fire-Smoke-Sodium-Tray, 3709.3ms\n",
      "Speed: 7.1ms preprocess, 3709.3ms inference, 6.0ms postprocess per image at shape (1, 3, 640, 640)\n",
      "\n"
     ]
    },
    {
     "name": "stdout",
     "output_type": "stream",
     "text": [
      "Mask identified for the frame...\n",
      "Inferencing Frame 2725...\n"
     ]
    },
    {
     "name": "stderr",
     "output_type": "stream",
     "text": [
      "0: 640x640 1 Fire-Smoke-Sodium-Tray, 3620.3ms\n",
      "Speed: 6.0ms preprocess, 3620.3ms inference, 9.1ms postprocess per image at shape (1, 3, 640, 640)\n",
      "\n"
     ]
    },
    {
     "name": "stdout",
     "output_type": "stream",
     "text": [
      "Mask identified for the frame...\n",
      "Inferencing Frame 2726...\n"
     ]
    },
    {
     "name": "stderr",
     "output_type": "stream",
     "text": [
      "0: 640x640 1 Fire-Smoke-Sodium-Tray, 3539.1ms\n",
      "Speed: 7.1ms preprocess, 3539.1ms inference, 6.0ms postprocess per image at shape (1, 3, 640, 640)\n",
      "\n"
     ]
    },
    {
     "name": "stdout",
     "output_type": "stream",
     "text": [
      "Mask identified for the frame...\n",
      "Inferencing Frame 2727...\n"
     ]
    },
    {
     "name": "stderr",
     "output_type": "stream",
     "text": [
      "0: 640x640 1 Fire-Smoke-Sodium-Tray, 3654.3ms\n",
      "Speed: 7.0ms preprocess, 3654.3ms inference, 6.0ms postprocess per image at shape (1, 3, 640, 640)\n",
      "\n"
     ]
    },
    {
     "name": "stdout",
     "output_type": "stream",
     "text": [
      "Mask identified for the frame...\n",
      "Inferencing Frame 2728...\n"
     ]
    },
    {
     "name": "stderr",
     "output_type": "stream",
     "text": [
      "0: 640x640 1 Fire-Smoke-Sodium-Tray, 3749.4ms\n",
      "Speed: 6.0ms preprocess, 3749.4ms inference, 6.0ms postprocess per image at shape (1, 3, 640, 640)\n",
      "\n"
     ]
    },
    {
     "name": "stdout",
     "output_type": "stream",
     "text": [
      "Mask identified for the frame...\n",
      "Inferencing Frame 2729...\n"
     ]
    },
    {
     "name": "stderr",
     "output_type": "stream",
     "text": [
      "0: 640x640 1 Fire-Smoke-Sodium-Tray, 3663.3ms\n",
      "Speed: 6.0ms preprocess, 3663.3ms inference, 6.0ms postprocess per image at shape (1, 3, 640, 640)\n",
      "\n"
     ]
    },
    {
     "name": "stdout",
     "output_type": "stream",
     "text": [
      "Mask identified for the frame...\n",
      "Inferencing Frame 2730...\n"
     ]
    },
    {
     "name": "stderr",
     "output_type": "stream",
     "text": [
      "0: 640x640 1 Fire-Smoke-Sodium-Tray, 3952.6ms\n",
      "Speed: 21.0ms preprocess, 3952.6ms inference, 8.0ms postprocess per image at shape (1, 3, 640, 640)\n",
      "\n"
     ]
    },
    {
     "name": "stdout",
     "output_type": "stream",
     "text": [
      "Mask identified for the frame...\n",
      "Inferencing Frame 2731...\n"
     ]
    },
    {
     "name": "stderr",
     "output_type": "stream",
     "text": [
      "0: 640x640 1 Fire-Smoke-Sodium-Tray, 3803.4ms\n",
      "Speed: 6.1ms preprocess, 3803.4ms inference, 8.0ms postprocess per image at shape (1, 3, 640, 640)\n",
      "\n"
     ]
    },
    {
     "name": "stdout",
     "output_type": "stream",
     "text": [
      "Mask identified for the frame...\n",
      "Inferencing Frame 2732...\n"
     ]
    },
    {
     "name": "stderr",
     "output_type": "stream",
     "text": [
      "0: 640x640 1 Fire-Smoke-Sodium-Tray, 3691.3ms\n",
      "Speed: 40.0ms preprocess, 3691.3ms inference, 6.0ms postprocess per image at shape (1, 3, 640, 640)\n",
      "\n"
     ]
    },
    {
     "name": "stdout",
     "output_type": "stream",
     "text": [
      "Mask identified for the frame...\n",
      "Inferencing Frame 2733...\n"
     ]
    },
    {
     "name": "stderr",
     "output_type": "stream",
     "text": [
      "0: 640x640 1 Fire-Smoke-Sodium-Tray, 3504.2ms\n",
      "Speed: 7.0ms preprocess, 3504.2ms inference, 5.0ms postprocess per image at shape (1, 3, 640, 640)\n",
      "\n"
     ]
    },
    {
     "name": "stdout",
     "output_type": "stream",
     "text": [
      "Mask identified for the frame...\n",
      "Inferencing Frame 2734...\n"
     ]
    },
    {
     "name": "stderr",
     "output_type": "stream",
     "text": [
      "0: 640x640 1 Fire-Smoke-Sodium-Tray, 3909.5ms\n",
      "Speed: 21.0ms preprocess, 3909.5ms inference, 6.0ms postprocess per image at shape (1, 3, 640, 640)\n",
      "\n"
     ]
    },
    {
     "name": "stdout",
     "output_type": "stream",
     "text": [
      "Mask identified for the frame...\n",
      "Inferencing Frame 2735...\n"
     ]
    },
    {
     "name": "stderr",
     "output_type": "stream",
     "text": [
      "0: 640x640 1 Fire-Smoke-Sodium-Tray, 3843.5ms\n",
      "Speed: 7.0ms preprocess, 3843.5ms inference, 10.0ms postprocess per image at shape (1, 3, 640, 640)\n",
      "\n"
     ]
    },
    {
     "name": "stdout",
     "output_type": "stream",
     "text": [
      "Mask identified for the frame...\n",
      "Inferencing Frame 2736...\n"
     ]
    },
    {
     "name": "stderr",
     "output_type": "stream",
     "text": [
      "0: 640x640 1 Fire-Smoke-Sodium-Tray, 3853.5ms\n",
      "Speed: 7.0ms preprocess, 3853.5ms inference, 7.0ms postprocess per image at shape (1, 3, 640, 640)\n",
      "\n"
     ]
    },
    {
     "name": "stdout",
     "output_type": "stream",
     "text": [
      "Mask identified for the frame...\n",
      "Inferencing Frame 2737...\n"
     ]
    },
    {
     "name": "stderr",
     "output_type": "stream",
     "text": [
      "0: 640x640 1 Fire-Smoke-Sodium-Tray, 4303.9ms\n",
      "Speed: 7.0ms preprocess, 4303.9ms inference, 6.0ms postprocess per image at shape (1, 3, 640, 640)\n",
      "\n"
     ]
    },
    {
     "name": "stdout",
     "output_type": "stream",
     "text": [
      "Mask identified for the frame...\n",
      "Inferencing Frame 2738...\n"
     ]
    },
    {
     "name": "stderr",
     "output_type": "stream",
     "text": [
      "0: 640x640 1 Fire-Smoke-Sodium-Tray, 4078.7ms\n",
      "Speed: 7.0ms preprocess, 4078.7ms inference, 6.0ms postprocess per image at shape (1, 3, 640, 640)\n",
      "\n"
     ]
    },
    {
     "name": "stdout",
     "output_type": "stream",
     "text": [
      "Mask identified for the frame...\n",
      "Inferencing Frame 2739...\n"
     ]
    },
    {
     "name": "stderr",
     "output_type": "stream",
     "text": [
      "0: 640x640 1 Fire-Smoke-Sodium-Tray, 3634.3ms\n",
      "Speed: 6.0ms preprocess, 3634.3ms inference, 6.0ms postprocess per image at shape (1, 3, 640, 640)\n",
      "\n"
     ]
    },
    {
     "name": "stdout",
     "output_type": "stream",
     "text": [
      "Mask identified for the frame...\n",
      "Inferencing Frame 2740...\n"
     ]
    },
    {
     "name": "stderr",
     "output_type": "stream",
     "text": [
      "0: 640x640 (no detections), 3770.4ms\n",
      "Speed: 6.0ms preprocess, 3770.4ms inference, 1.0ms postprocess per image at shape (1, 3, 640, 640)\n",
      "\n"
     ]
    },
    {
     "name": "stdout",
     "output_type": "stream",
     "text": [
      "Inferencing Frame 2741...\n"
     ]
    },
    {
     "name": "stderr",
     "output_type": "stream",
     "text": [
      "0: 640x640 1 Fire-Smoke-Sodium-Tray, 3874.4ms\n",
      "Speed: 7.1ms preprocess, 3874.4ms inference, 6.0ms postprocess per image at shape (1, 3, 640, 640)\n",
      "\n"
     ]
    },
    {
     "name": "stdout",
     "output_type": "stream",
     "text": [
      "Mask identified for the frame...\n",
      "Inferencing Frame 2742...\n"
     ]
    },
    {
     "name": "stderr",
     "output_type": "stream",
     "text": [
      "0: 640x640 1 Fire-Smoke-Sodium-Tray, 3952.6ms\n",
      "Speed: 7.0ms preprocess, 3952.6ms inference, 6.0ms postprocess per image at shape (1, 3, 640, 640)\n",
      "\n"
     ]
    },
    {
     "name": "stdout",
     "output_type": "stream",
     "text": [
      "Mask identified for the frame...\n",
      "Inferencing Frame 2743...\n"
     ]
    },
    {
     "name": "stderr",
     "output_type": "stream",
     "text": [
      "0: 640x640 1 Fire-Smoke-Sodium-Tray, 3806.4ms\n",
      "Speed: 15.0ms preprocess, 3806.4ms inference, 6.0ms postprocess per image at shape (1, 3, 640, 640)\n",
      "\n"
     ]
    },
    {
     "name": "stdout",
     "output_type": "stream",
     "text": [
      "Mask identified for the frame...\n",
      "Inferencing Frame 2744...\n"
     ]
    },
    {
     "name": "stderr",
     "output_type": "stream",
     "text": [
      "0: 640x640 1 Fire-Smoke-Sodium-Tray, 3883.5ms\n",
      "Speed: 18.0ms preprocess, 3883.5ms inference, 6.0ms postprocess per image at shape (1, 3, 640, 640)\n",
      "\n"
     ]
    },
    {
     "name": "stdout",
     "output_type": "stream",
     "text": [
      "Mask identified for the frame...\n",
      "Inferencing Frame 2745...\n"
     ]
    },
    {
     "name": "stderr",
     "output_type": "stream",
     "text": [
      "0: 640x640 1 Fire-Smoke-Sodium-Tray, 3717.3ms\n",
      "Speed: 6.0ms preprocess, 3717.3ms inference, 9.0ms postprocess per image at shape (1, 3, 640, 640)\n",
      "\n"
     ]
    },
    {
     "name": "stdout",
     "output_type": "stream",
     "text": [
      "Mask identified for the frame...\n",
      "Inferencing Frame 2746...\n"
     ]
    },
    {
     "name": "stderr",
     "output_type": "stream",
     "text": [
      "0: 640x640 1 Fire-Smoke-Sodium-Tray, 3904.5ms\n",
      "Speed: 7.0ms preprocess, 3904.5ms inference, 6.0ms postprocess per image at shape (1, 3, 640, 640)\n",
      "\n"
     ]
    },
    {
     "name": "stdout",
     "output_type": "stream",
     "text": [
      "Mask identified for the frame...\n",
      "Inferencing Frame 2747...\n"
     ]
    },
    {
     "name": "stderr",
     "output_type": "stream",
     "text": [
      "0: 640x640 1 Fire-Smoke-Sodium-Tray, 3744.4ms\n",
      "Speed: 6.0ms preprocess, 3744.4ms inference, 5.0ms postprocess per image at shape (1, 3, 640, 640)\n",
      "\n"
     ]
    },
    {
     "name": "stdout",
     "output_type": "stream",
     "text": [
      "Mask identified for the frame...\n",
      "Inferencing Frame 2748...\n"
     ]
    },
    {
     "name": "stderr",
     "output_type": "stream",
     "text": [
      "0: 640x640 1 Fire-Smoke-Sodium-Tray, 3606.2ms\n",
      "Speed: 7.0ms preprocess, 3606.2ms inference, 6.0ms postprocess per image at shape (1, 3, 640, 640)\n",
      "\n"
     ]
    },
    {
     "name": "stdout",
     "output_type": "stream",
     "text": [
      "Mask identified for the frame...\n",
      "Inferencing Frame 2749...\n"
     ]
    },
    {
     "name": "stderr",
     "output_type": "stream",
     "text": [
      "0: 640x640 2 Fire-Smoke-Sodium-Trays, 3537.2ms\n",
      "Speed: 6.0ms preprocess, 3537.2ms inference, 18.0ms postprocess per image at shape (1, 3, 640, 640)\n",
      "\n"
     ]
    },
    {
     "name": "stdout",
     "output_type": "stream",
     "text": [
      "Mask identified for the frame...\n",
      "Inferencing Frame 2750...\n"
     ]
    },
    {
     "name": "stderr",
     "output_type": "stream",
     "text": [
      "0: 640x640 1 Fire-Smoke-Sodium-Tray, 3545.2ms\n",
      "Speed: 6.0ms preprocess, 3545.2ms inference, 6.0ms postprocess per image at shape (1, 3, 640, 640)\n",
      "\n"
     ]
    },
    {
     "name": "stdout",
     "output_type": "stream",
     "text": [
      "Mask identified for the frame...\n",
      "Inferencing Frame 2751...\n"
     ]
    },
    {
     "name": "stderr",
     "output_type": "stream",
     "text": [
      "0: 640x640 (no detections), 3840.4ms\n",
      "Speed: 7.1ms preprocess, 3840.4ms inference, 1.0ms postprocess per image at shape (1, 3, 640, 640)\n",
      "\n"
     ]
    },
    {
     "name": "stdout",
     "output_type": "stream",
     "text": [
      "Inferencing Frame 2752...\n"
     ]
    },
    {
     "name": "stderr",
     "output_type": "stream",
     "text": [
      "0: 640x640 1 Fire-Smoke-Sodium-Tray, 4206.8ms\n",
      "Speed: 7.0ms preprocess, 4206.8ms inference, 5.0ms postprocess per image at shape (1, 3, 640, 640)\n",
      "\n"
     ]
    },
    {
     "name": "stdout",
     "output_type": "stream",
     "text": [
      "Mask identified for the frame...\n",
      "Inferencing Frame 2753...\n"
     ]
    },
    {
     "name": "stderr",
     "output_type": "stream",
     "text": [
      "0: 640x640 1 Fire-Smoke-Sodium-Tray, 3661.3ms\n",
      "Speed: 6.0ms preprocess, 3661.3ms inference, 5.0ms postprocess per image at shape (1, 3, 640, 640)\n",
      "\n"
     ]
    },
    {
     "name": "stdout",
     "output_type": "stream",
     "text": [
      "Mask identified for the frame...\n",
      "Inferencing Frame 2754...\n"
     ]
    },
    {
     "name": "stderr",
     "output_type": "stream",
     "text": [
      "0: 640x640 1 Fire-Smoke-Sodium-Tray, 3943.5ms\n",
      "Speed: 6.0ms preprocess, 3943.5ms inference, 6.0ms postprocess per image at shape (1, 3, 640, 640)\n",
      "\n"
     ]
    },
    {
     "name": "stdout",
     "output_type": "stream",
     "text": [
      "Mask identified for the frame...\n",
      "Inferencing Frame 2755...\n"
     ]
    },
    {
     "name": "stderr",
     "output_type": "stream",
     "text": [
      "0: 640x640 1 Fire-Smoke-Sodium-Tray, 3552.2ms\n",
      "Speed: 6.0ms preprocess, 3552.2ms inference, 5.0ms postprocess per image at shape (1, 3, 640, 640)\n",
      "\n"
     ]
    },
    {
     "name": "stdout",
     "output_type": "stream",
     "text": [
      "Mask identified for the frame...\n",
      "Inferencing Frame 2756...\n"
     ]
    },
    {
     "name": "stderr",
     "output_type": "stream",
     "text": [
      "0: 640x640 1 Fire-Smoke-Sodium-Tray, 3586.2ms\n",
      "Speed: 6.0ms preprocess, 3586.2ms inference, 9.0ms postprocess per image at shape (1, 3, 640, 640)\n",
      "\n"
     ]
    },
    {
     "name": "stdout",
     "output_type": "stream",
     "text": [
      "Mask identified for the frame...\n",
      "Inferencing Frame 2757...\n"
     ]
    },
    {
     "name": "stderr",
     "output_type": "stream",
     "text": [
      "0: 640x640 1 Fire-Smoke-Sodium-Tray, 3674.3ms\n",
      "Speed: 6.0ms preprocess, 3674.3ms inference, 9.0ms postprocess per image at shape (1, 3, 640, 640)\n",
      "\n"
     ]
    },
    {
     "name": "stdout",
     "output_type": "stream",
     "text": [
      "Mask identified for the frame...\n",
      "Inferencing Frame 2758...\n"
     ]
    },
    {
     "name": "stderr",
     "output_type": "stream",
     "text": [
      "0: 640x640 1 Fire-Smoke-Sodium-Tray, 4031.6ms\n",
      "Speed: 6.0ms preprocess, 4031.6ms inference, 7.0ms postprocess per image at shape (1, 3, 640, 640)\n",
      "\n"
     ]
    },
    {
     "name": "stdout",
     "output_type": "stream",
     "text": [
      "Mask identified for the frame...\n",
      "Inferencing Frame 2759...\n"
     ]
    },
    {
     "name": "stderr",
     "output_type": "stream",
     "text": [
      "0: 640x640 1 Fire-Smoke-Sodium-Tray, 3821.4ms\n",
      "Speed: 6.0ms preprocess, 3821.4ms inference, 6.0ms postprocess per image at shape (1, 3, 640, 640)\n",
      "\n"
     ]
    },
    {
     "name": "stdout",
     "output_type": "stream",
     "text": [
      "Mask identified for the frame...\n",
      "Inferencing Frame 2760...\n"
     ]
    },
    {
     "name": "stderr",
     "output_type": "stream",
     "text": [
      "0: 640x640 1 Fire-Smoke-Sodium-Tray, 3711.3ms\n",
      "Speed: 7.1ms preprocess, 3711.3ms inference, 5.0ms postprocess per image at shape (1, 3, 640, 640)\n",
      "\n"
     ]
    },
    {
     "name": "stdout",
     "output_type": "stream",
     "text": [
      "Mask identified for the frame...\n",
      "Inferencing Frame 2761...\n"
     ]
    },
    {
     "name": "stderr",
     "output_type": "stream",
     "text": [
      "0: 640x640 1 Fire-Smoke-Sodium-Tray, 3682.4ms\n",
      "Speed: 6.0ms preprocess, 3682.4ms inference, 9.0ms postprocess per image at shape (1, 3, 640, 640)\n",
      "\n"
     ]
    },
    {
     "name": "stdout",
     "output_type": "stream",
     "text": [
      "Mask identified for the frame...\n",
      "Inferencing Frame 2762...\n"
     ]
    },
    {
     "name": "stderr",
     "output_type": "stream",
     "text": [
      "0: 640x640 1 Fire-Smoke-Sodium-Tray, 3827.4ms\n",
      "Speed: 7.0ms preprocess, 3827.4ms inference, 6.0ms postprocess per image at shape (1, 3, 640, 640)\n",
      "\n"
     ]
    },
    {
     "name": "stdout",
     "output_type": "stream",
     "text": [
      "Mask identified for the frame...\n",
      "Inferencing Frame 2763...\n"
     ]
    },
    {
     "name": "stderr",
     "output_type": "stream",
     "text": [
      "0: 640x640 1 Fire-Smoke-Sodium-Tray, 3524.2ms\n",
      "Speed: 8.0ms preprocess, 3524.2ms inference, 6.0ms postprocess per image at shape (1, 3, 640, 640)\n",
      "\n"
     ]
    },
    {
     "name": "stdout",
     "output_type": "stream",
     "text": [
      "Mask identified for the frame...\n",
      "Inferencing Frame 2764...\n"
     ]
    },
    {
     "name": "stderr",
     "output_type": "stream",
     "text": [
      "0: 640x640 3 Fire-Smoke-Sodium-Trays, 3589.2ms\n",
      "Speed: 7.1ms preprocess, 3589.2ms inference, 29.0ms postprocess per image at shape (1, 3, 640, 640)\n",
      "\n"
     ]
    },
    {
     "name": "stdout",
     "output_type": "stream",
     "text": [
      "Mask identified for the frame...\n",
      "Inferencing Frame 2765...\n"
     ]
    },
    {
     "name": "stderr",
     "output_type": "stream",
     "text": [
      "0: 640x640 1 Fire-Smoke-Sodium-Tray, 3530.2ms\n",
      "Speed: 6.0ms preprocess, 3530.2ms inference, 47.0ms postprocess per image at shape (1, 3, 640, 640)\n",
      "\n"
     ]
    },
    {
     "name": "stdout",
     "output_type": "stream",
     "text": [
      "Mask identified for the frame...\n",
      "Inferencing Frame 2766...\n"
     ]
    },
    {
     "name": "stderr",
     "output_type": "stream",
     "text": [
      "0: 640x640 1 Fire-Smoke-Sodium-Tray, 3478.1ms\n",
      "Speed: 7.0ms preprocess, 3478.1ms inference, 6.0ms postprocess per image at shape (1, 3, 640, 640)\n",
      "\n"
     ]
    },
    {
     "name": "stdout",
     "output_type": "stream",
     "text": [
      "Mask identified for the frame...\n",
      "Inferencing Frame 2767...\n"
     ]
    },
    {
     "name": "stderr",
     "output_type": "stream",
     "text": [
      "0: 640x640 2 Fire-Smoke-Sodium-Trays, 3811.4ms\n",
      "Speed: 7.1ms preprocess, 3811.4ms inference, 9.0ms postprocess per image at shape (1, 3, 640, 640)\n",
      "\n"
     ]
    },
    {
     "name": "stdout",
     "output_type": "stream",
     "text": [
      "Mask identified for the frame...\n",
      "Inferencing Frame 2768...\n"
     ]
    },
    {
     "name": "stderr",
     "output_type": "stream",
     "text": [
      "0: 640x640 1 Fire-Smoke-Sodium-Tray, 4046.6ms\n",
      "Speed: 6.0ms preprocess, 4046.6ms inference, 6.0ms postprocess per image at shape (1, 3, 640, 640)\n",
      "\n"
     ]
    },
    {
     "name": "stdout",
     "output_type": "stream",
     "text": [
      "Mask identified for the frame...\n",
      "Inferencing Frame 2769...\n"
     ]
    },
    {
     "name": "stderr",
     "output_type": "stream",
     "text": [
      "0: 640x640 2 Fire-Smoke-Sodium-Trays, 3501.2ms\n",
      "Speed: 7.0ms preprocess, 3501.2ms inference, 9.0ms postprocess per image at shape (1, 3, 640, 640)\n",
      "\n"
     ]
    },
    {
     "name": "stdout",
     "output_type": "stream",
     "text": [
      "Mask identified for the frame...\n",
      "Inferencing Frame 2770...\n"
     ]
    },
    {
     "name": "stderr",
     "output_type": "stream",
     "text": [
      "0: 640x640 1 Fire-Smoke-Sodium-Tray, 4229.8ms\n",
      "Speed: 6.0ms preprocess, 4229.8ms inference, 6.0ms postprocess per image at shape (1, 3, 640, 640)\n",
      "\n"
     ]
    },
    {
     "name": "stdout",
     "output_type": "stream",
     "text": [
      "Mask identified for the frame...\n",
      "Inferencing Frame 2771...\n"
     ]
    },
    {
     "name": "stderr",
     "output_type": "stream",
     "text": [
      "0: 640x640 1 Fire-Smoke-Sodium-Tray, 3559.2ms\n",
      "Speed: 7.0ms preprocess, 3559.2ms inference, 6.0ms postprocess per image at shape (1, 3, 640, 640)\n",
      "\n"
     ]
    },
    {
     "name": "stdout",
     "output_type": "stream",
     "text": [
      "Mask identified for the frame...\n",
      "Inferencing Frame 2772...\n"
     ]
    },
    {
     "name": "stderr",
     "output_type": "stream",
     "text": [
      "0: 640x640 2 Fire-Smoke-Sodium-Trays, 3527.2ms\n",
      "Speed: 6.0ms preprocess, 3527.2ms inference, 8.0ms postprocess per image at shape (1, 3, 640, 640)\n",
      "\n"
     ]
    },
    {
     "name": "stdout",
     "output_type": "stream",
     "text": [
      "Mask identified for the frame...\n",
      "Inferencing Frame 2773...\n"
     ]
    },
    {
     "name": "stderr",
     "output_type": "stream",
     "text": [
      "0: 640x640 2 Fire-Smoke-Sodium-Trays, 3478.1ms\n",
      "Speed: 17.0ms preprocess, 3478.1ms inference, 9.0ms postprocess per image at shape (1, 3, 640, 640)\n",
      "\n"
     ]
    },
    {
     "name": "stdout",
     "output_type": "stream",
     "text": [
      "Mask identified for the frame...\n",
      "Inferencing Frame 2774...\n"
     ]
    },
    {
     "name": "stderr",
     "output_type": "stream",
     "text": [
      "0: 640x640 2 Fire-Smoke-Sodium-Trays, 3596.2ms\n",
      "Speed: 6.0ms preprocess, 3596.2ms inference, 8.0ms postprocess per image at shape (1, 3, 640, 640)\n",
      "\n"
     ]
    },
    {
     "name": "stdout",
     "output_type": "stream",
     "text": [
      "Mask identified for the frame...\n",
      "Inferencing Frame 2775...\n"
     ]
    },
    {
     "name": "stderr",
     "output_type": "stream",
     "text": [
      "0: 640x640 3 Fire-Smoke-Sodium-Trays, 3505.2ms\n",
      "Speed: 6.0ms preprocess, 3505.2ms inference, 16.0ms postprocess per image at shape (1, 3, 640, 640)\n",
      "\n"
     ]
    },
    {
     "name": "stdout",
     "output_type": "stream",
     "text": [
      "Mask identified for the frame...\n",
      "Inferencing Frame 2776...\n"
     ]
    },
    {
     "name": "stderr",
     "output_type": "stream",
     "text": [
      "0: 640x640 2 Fire-Smoke-Sodium-Trays, 3843.5ms\n",
      "Speed: 7.0ms preprocess, 3843.5ms inference, 15.0ms postprocess per image at shape (1, 3, 640, 640)\n",
      "\n"
     ]
    },
    {
     "name": "stdout",
     "output_type": "stream",
     "text": [
      "Mask identified for the frame...\n",
      "Inferencing Frame 2777...\n"
     ]
    },
    {
     "name": "stderr",
     "output_type": "stream",
     "text": [
      "0: 640x640 2 Fire-Smoke-Sodium-Trays, 3642.3ms\n",
      "Speed: 6.0ms preprocess, 3642.3ms inference, 9.0ms postprocess per image at shape (1, 3, 640, 640)\n",
      "\n"
     ]
    },
    {
     "name": "stdout",
     "output_type": "stream",
     "text": [
      "Mask identified for the frame...\n",
      "Inferencing Frame 2778...\n"
     ]
    },
    {
     "name": "stderr",
     "output_type": "stream",
     "text": [
      "0: 640x640 2 Fire-Smoke-Sodium-Trays, 3902.5ms\n",
      "Speed: 6.0ms preprocess, 3902.5ms inference, 8.0ms postprocess per image at shape (1, 3, 640, 640)\n",
      "\n"
     ]
    },
    {
     "name": "stdout",
     "output_type": "stream",
     "text": [
      "Mask identified for the frame...\n",
      "Inferencing Frame 2779...\n"
     ]
    },
    {
     "name": "stderr",
     "output_type": "stream",
     "text": [
      "0: 640x640 2 Fire-Smoke-Sodium-Trays, 3567.2ms\n",
      "Speed: 6.0ms preprocess, 3567.2ms inference, 13.1ms postprocess per image at shape (1, 3, 640, 640)\n",
      "\n"
     ]
    },
    {
     "name": "stdout",
     "output_type": "stream",
     "text": [
      "Mask identified for the frame...\n",
      "Inferencing Frame 2780...\n"
     ]
    },
    {
     "name": "stderr",
     "output_type": "stream",
     "text": [
      "0: 640x640 2 Fire-Smoke-Sodium-Trays, 3657.3ms\n",
      "Speed: 7.0ms preprocess, 3657.3ms inference, 24.1ms postprocess per image at shape (1, 3, 640, 640)\n",
      "\n"
     ]
    },
    {
     "name": "stdout",
     "output_type": "stream",
     "text": [
      "Mask identified for the frame...\n",
      "Inferencing Frame 2781...\n"
     ]
    },
    {
     "name": "stderr",
     "output_type": "stream",
     "text": [
      "0: 640x640 2 Fire-Smoke-Sodium-Trays, 3581.2ms\n",
      "Speed: 7.1ms preprocess, 3581.2ms inference, 9.0ms postprocess per image at shape (1, 3, 640, 640)\n",
      "\n"
     ]
    },
    {
     "name": "stdout",
     "output_type": "stream",
     "text": [
      "Mask identified for the frame...\n",
      "Inferencing Frame 2782...\n"
     ]
    },
    {
     "name": "stderr",
     "output_type": "stream",
     "text": [
      "0: 640x640 1 Fire-Smoke-Sodium-Tray, 3637.3ms\n",
      "Speed: 7.0ms preprocess, 3637.3ms inference, 6.0ms postprocess per image at shape (1, 3, 640, 640)\n",
      "\n"
     ]
    },
    {
     "name": "stdout",
     "output_type": "stream",
     "text": [
      "Mask identified for the frame...\n",
      "Inferencing Frame 2783...\n"
     ]
    },
    {
     "name": "stderr",
     "output_type": "stream",
     "text": [
      "0: 640x640 2 Fire-Smoke-Sodium-Trays, 3548.2ms\n",
      "Speed: 6.0ms preprocess, 3548.2ms inference, 9.0ms postprocess per image at shape (1, 3, 640, 640)\n",
      "\n"
     ]
    },
    {
     "name": "stdout",
     "output_type": "stream",
     "text": [
      "Mask identified for the frame...\n",
      "Inferencing Frame 2784...\n"
     ]
    },
    {
     "name": "stderr",
     "output_type": "stream",
     "text": [
      "0: 640x640 1 Fire-Smoke-Sodium-Tray, 4246.8ms\n",
      "Speed: 7.0ms preprocess, 4246.8ms inference, 8.0ms postprocess per image at shape (1, 3, 640, 640)\n",
      "\n"
     ]
    },
    {
     "name": "stdout",
     "output_type": "stream",
     "text": [
      "Mask identified for the frame...\n",
      "Inferencing Frame 2785...\n"
     ]
    },
    {
     "name": "stderr",
     "output_type": "stream",
     "text": [
      "0: 640x640 2 Fire-Smoke-Sodium-Trays, 3572.2ms\n",
      "Speed: 8.0ms preprocess, 3572.2ms inference, 9.0ms postprocess per image at shape (1, 3, 640, 640)\n",
      "\n"
     ]
    },
    {
     "name": "stdout",
     "output_type": "stream",
     "text": [
      "Mask identified for the frame...\n",
      "Inferencing Frame 2786...\n"
     ]
    },
    {
     "name": "stderr",
     "output_type": "stream",
     "text": [
      "0: 640x640 3 Fire-Smoke-Sodium-Trays, 3792.4ms\n",
      "Speed: 7.0ms preprocess, 3792.4ms inference, 12.0ms postprocess per image at shape (1, 3, 640, 640)\n",
      "\n"
     ]
    },
    {
     "name": "stdout",
     "output_type": "stream",
     "text": [
      "Mask identified for the frame...\n",
      "Inferencing Frame 2787...\n"
     ]
    },
    {
     "name": "stderr",
     "output_type": "stream",
     "text": [
      "0: 640x640 3 Fire-Smoke-Sodium-Trays, 3532.2ms\n",
      "Speed: 7.0ms preprocess, 3532.2ms inference, 13.0ms postprocess per image at shape (1, 3, 640, 640)\n",
      "\n"
     ]
    },
    {
     "name": "stdout",
     "output_type": "stream",
     "text": [
      "Mask identified for the frame...\n",
      "Inferencing Frame 2788...\n"
     ]
    },
    {
     "name": "stderr",
     "output_type": "stream",
     "text": [
      "0: 640x640 2 Fire-Smoke-Sodium-Trays, 3600.2ms\n",
      "Speed: 7.0ms preprocess, 3600.2ms inference, 9.0ms postprocess per image at shape (1, 3, 640, 640)\n",
      "\n"
     ]
    },
    {
     "name": "stdout",
     "output_type": "stream",
     "text": [
      "Mask identified for the frame...\n",
      "Inferencing Frame 2789...\n"
     ]
    },
    {
     "name": "stderr",
     "output_type": "stream",
     "text": [
      "0: 640x640 3 Fire-Smoke-Sodium-Trays, 3504.2ms\n",
      "Speed: 6.0ms preprocess, 3504.2ms inference, 12.0ms postprocess per image at shape (1, 3, 640, 640)\n",
      "\n"
     ]
    },
    {
     "name": "stdout",
     "output_type": "stream",
     "text": [
      "Mask identified for the frame...\n",
      "Inferencing Frame 2790...\n"
     ]
    },
    {
     "name": "stderr",
     "output_type": "stream",
     "text": [
      "0: 640x640 2 Fire-Smoke-Sodium-Trays, 3532.2ms\n",
      "Speed: 6.0ms preprocess, 3532.2ms inference, 8.0ms postprocess per image at shape (1, 3, 640, 640)\n",
      "\n"
     ]
    },
    {
     "name": "stdout",
     "output_type": "stream",
     "text": [
      "Mask identified for the frame...\n",
      "Inferencing Frame 2791...\n"
     ]
    },
    {
     "name": "stderr",
     "output_type": "stream",
     "text": [
      "0: 640x640 3 Fire-Smoke-Sodium-Trays, 3995.6ms\n",
      "Speed: 8.0ms preprocess, 3995.6ms inference, 13.0ms postprocess per image at shape (1, 3, 640, 640)\n",
      "\n"
     ]
    },
    {
     "name": "stdout",
     "output_type": "stream",
     "text": [
      "Mask identified for the frame...\n",
      "Inferencing Frame 2792...\n"
     ]
    },
    {
     "name": "stderr",
     "output_type": "stream",
     "text": [
      "0: 640x640 3 Fire-Smoke-Sodium-Trays, 3640.3ms\n",
      "Speed: 7.0ms preprocess, 3640.3ms inference, 12.0ms postprocess per image at shape (1, 3, 640, 640)\n",
      "\n"
     ]
    },
    {
     "name": "stdout",
     "output_type": "stream",
     "text": [
      "Mask identified for the frame...\n",
      "Inferencing Frame 2793...\n"
     ]
    },
    {
     "name": "stderr",
     "output_type": "stream",
     "text": [
      "0: 640x640 2 Fire-Smoke-Sodium-Trays, 3649.3ms\n",
      "Speed: 7.0ms preprocess, 3649.3ms inference, 9.0ms postprocess per image at shape (1, 3, 640, 640)\n",
      "\n"
     ]
    },
    {
     "name": "stdout",
     "output_type": "stream",
     "text": [
      "Mask identified for the frame...\n",
      "Inferencing Frame 2794...\n"
     ]
    },
    {
     "name": "stderr",
     "output_type": "stream",
     "text": [
      "0: 640x640 2 Fire-Smoke-Sodium-Trays, 3875.4ms\n",
      "Speed: 7.1ms preprocess, 3875.4ms inference, 14.0ms postprocess per image at shape (1, 3, 640, 640)\n",
      "\n"
     ]
    },
    {
     "name": "stdout",
     "output_type": "stream",
     "text": [
      "Mask identified for the frame...\n",
      "Inferencing Frame 2795...\n"
     ]
    },
    {
     "name": "stderr",
     "output_type": "stream",
     "text": [
      "0: 640x640 3 Fire-Smoke-Sodium-Trays, 3602.2ms\n",
      "Speed: 6.0ms preprocess, 3602.2ms inference, 13.0ms postprocess per image at shape (1, 3, 640, 640)\n",
      "\n"
     ]
    },
    {
     "name": "stdout",
     "output_type": "stream",
     "text": [
      "Mask identified for the frame...\n",
      "Inferencing Frame 2796...\n"
     ]
    },
    {
     "name": "stderr",
     "output_type": "stream",
     "text": [
      "0: 640x640 4 Fire-Smoke-Sodium-Trays, 3550.2ms\n",
      "Speed: 6.0ms preprocess, 3550.2ms inference, 37.0ms postprocess per image at shape (1, 3, 640, 640)\n",
      "\n"
     ]
    },
    {
     "name": "stdout",
     "output_type": "stream",
     "text": [
      "Mask identified for the frame...\n",
      "Inferencing Frame 2797...\n"
     ]
    },
    {
     "name": "stderr",
     "output_type": "stream",
     "text": [
      "0: 640x640 4 Fire-Smoke-Sodium-Trays, 3489.1ms\n",
      "Speed: 6.0ms preprocess, 3489.1ms inference, 14.0ms postprocess per image at shape (1, 3, 640, 640)\n",
      "\n"
     ]
    },
    {
     "name": "stdout",
     "output_type": "stream",
     "text": [
      "Mask identified for the frame...\n",
      "Inferencing Frame 2798...\n"
     ]
    },
    {
     "name": "stderr",
     "output_type": "stream",
     "text": [
      "0: 640x640 2 Fire-Smoke-Sodium-Trays, 3494.1ms\n",
      "Speed: 7.1ms preprocess, 3494.1ms inference, 9.0ms postprocess per image at shape (1, 3, 640, 640)\n",
      "\n"
     ]
    },
    {
     "name": "stdout",
     "output_type": "stream",
     "text": [
      "Mask identified for the frame...\n",
      "Inferencing Frame 2799...\n"
     ]
    },
    {
     "name": "stderr",
     "output_type": "stream",
     "text": [
      "0: 640x640 4 Fire-Smoke-Sodium-Trays, 3658.3ms\n",
      "Speed: 6.0ms preprocess, 3658.3ms inference, 20.0ms postprocess per image at shape (1, 3, 640, 640)\n",
      "\n"
     ]
    },
    {
     "name": "stdout",
     "output_type": "stream",
     "text": [
      "Mask identified for the frame...\n",
      "Inferencing Frame 2800...\n"
     ]
    },
    {
     "name": "stderr",
     "output_type": "stream",
     "text": [
      "0: 640x640 4 Fire-Smoke-Sodium-Trays, 3868.5ms\n",
      "Speed: 6.0ms preprocess, 3868.5ms inference, 21.0ms postprocess per image at shape (1, 3, 640, 640)\n",
      "\n"
     ]
    },
    {
     "name": "stdout",
     "output_type": "stream",
     "text": [
      "Mask identified for the frame...\n",
      "Inferencing Frame 2801...\n"
     ]
    },
    {
     "name": "stderr",
     "output_type": "stream",
     "text": [
      "0: 640x640 3 Fire-Smoke-Sodium-Trays, 3812.4ms\n",
      "Speed: 7.0ms preprocess, 3812.4ms inference, 18.0ms postprocess per image at shape (1, 3, 640, 640)\n",
      "\n"
     ]
    },
    {
     "name": "stdout",
     "output_type": "stream",
     "text": [
      "Mask identified for the frame...\n",
      "Inferencing Frame 2802...\n"
     ]
    },
    {
     "name": "stderr",
     "output_type": "stream",
     "text": [
      "0: 640x640 5 Fire-Smoke-Sodium-Trays, 3524.2ms\n",
      "Speed: 7.0ms preprocess, 3524.2ms inference, 17.0ms postprocess per image at shape (1, 3, 640, 640)\n",
      "\n"
     ]
    },
    {
     "name": "stdout",
     "output_type": "stream",
     "text": [
      "Mask identified for the frame...\n",
      "Inferencing Frame 2803...\n"
     ]
    },
    {
     "name": "stderr",
     "output_type": "stream",
     "text": [
      "0: 640x640 4 Fire-Smoke-Sodium-Trays, 3764.4ms\n",
      "Speed: 13.0ms preprocess, 3764.4ms inference, 14.0ms postprocess per image at shape (1, 3, 640, 640)\n",
      "\n"
     ]
    },
    {
     "name": "stdout",
     "output_type": "stream",
     "text": [
      "Mask identified for the frame...\n",
      "Inferencing Frame 2804...\n"
     ]
    },
    {
     "name": "stderr",
     "output_type": "stream",
     "text": [
      "0: 640x640 3 Fire-Smoke-Sodium-Trays, 3425.0ms\n",
      "Speed: 7.1ms preprocess, 3425.0ms inference, 14.0ms postprocess per image at shape (1, 3, 640, 640)\n",
      "\n"
     ]
    },
    {
     "name": "stdout",
     "output_type": "stream",
     "text": [
      "Mask identified for the frame...\n",
      "Inferencing Frame 2805...\n"
     ]
    },
    {
     "name": "stderr",
     "output_type": "stream",
     "text": [
      "0: 640x640 2 Fire-Smoke-Sodium-Trays, 3385.0ms\n",
      "Speed: 6.0ms preprocess, 3385.0ms inference, 8.0ms postprocess per image at shape (1, 3, 640, 640)\n",
      "\n"
     ]
    },
    {
     "name": "stdout",
     "output_type": "stream",
     "text": [
      "Mask identified for the frame...\n",
      "Inferencing Frame 2806...\n"
     ]
    },
    {
     "name": "stderr",
     "output_type": "stream",
     "text": [
      "0: 640x640 5 Fire-Smoke-Sodium-Trays, 3528.2ms\n",
      "Speed: 6.0ms preprocess, 3528.2ms inference, 26.0ms postprocess per image at shape (1, 3, 640, 640)\n",
      "\n"
     ]
    },
    {
     "name": "stdout",
     "output_type": "stream",
     "text": [
      "Mask identified for the frame...\n",
      "Inferencing Frame 2807...\n"
     ]
    },
    {
     "name": "stderr",
     "output_type": "stream",
     "text": [
      "0: 640x640 6 Fire-Smoke-Sodium-Trays, 3551.2ms\n",
      "Speed: 7.0ms preprocess, 3551.2ms inference, 22.0ms postprocess per image at shape (1, 3, 640, 640)\n",
      "\n"
     ]
    },
    {
     "name": "stdout",
     "output_type": "stream",
     "text": [
      "Mask identified for the frame...\n",
      "Inferencing Frame 2808...\n"
     ]
    },
    {
     "name": "stderr",
     "output_type": "stream",
     "text": [
      "0: 640x640 4 Fire-Smoke-Sodium-Trays, 3570.2ms\n",
      "Speed: 7.1ms preprocess, 3570.2ms inference, 26.0ms postprocess per image at shape (1, 3, 640, 640)\n",
      "\n"
     ]
    },
    {
     "name": "stdout",
     "output_type": "stream",
     "text": [
      "Mask identified for the frame...\n",
      "Inferencing Frame 2809...\n"
     ]
    },
    {
     "name": "stderr",
     "output_type": "stream",
     "text": [
      "0: 640x640 3 Fire-Smoke-Sodium-Trays, 3797.4ms\n",
      "Speed: 7.0ms preprocess, 3797.4ms inference, 12.0ms postprocess per image at shape (1, 3, 640, 640)\n",
      "\n"
     ]
    },
    {
     "name": "stdout",
     "output_type": "stream",
     "text": [
      "Mask identified for the frame...\n",
      "Inferencing Frame 2810...\n"
     ]
    },
    {
     "name": "stderr",
     "output_type": "stream",
     "text": [
      "0: 640x640 3 Fire-Smoke-Sodium-Trays, 3598.2ms\n",
      "Speed: 7.1ms preprocess, 3598.2ms inference, 12.0ms postprocess per image at shape (1, 3, 640, 640)\n",
      "\n"
     ]
    },
    {
     "name": "stdout",
     "output_type": "stream",
     "text": [
      "Mask identified for the frame...\n",
      "Inferencing Frame 2811...\n"
     ]
    },
    {
     "name": "stderr",
     "output_type": "stream",
     "text": [
      "0: 640x640 3 Fire-Smoke-Sodium-Trays, 3839.5ms\n",
      "Speed: 7.0ms preprocess, 3839.5ms inference, 12.0ms postprocess per image at shape (1, 3, 640, 640)\n",
      "\n"
     ]
    },
    {
     "name": "stdout",
     "output_type": "stream",
     "text": [
      "Mask identified for the frame...\n",
      "Inferencing Frame 2812...\n"
     ]
    },
    {
     "name": "stderr",
     "output_type": "stream",
     "text": [
      "0: 640x640 4 Fire-Smoke-Sodium-Trays, 3599.2ms\n",
      "Speed: 8.0ms preprocess, 3599.2ms inference, 15.0ms postprocess per image at shape (1, 3, 640, 640)\n",
      "\n"
     ]
    },
    {
     "name": "stdout",
     "output_type": "stream",
     "text": [
      "Mask identified for the frame...\n",
      "Inferencing Frame 2813...\n"
     ]
    },
    {
     "name": "stderr",
     "output_type": "stream",
     "text": [
      "0: 640x640 4 Fire-Smoke-Sodium-Trays, 3542.1ms\n",
      "Speed: 6.0ms preprocess, 3542.1ms inference, 16.0ms postprocess per image at shape (1, 3, 640, 640)\n",
      "\n"
     ]
    },
    {
     "name": "stdout",
     "output_type": "stream",
     "text": [
      "Mask identified for the frame...\n",
      "Inferencing Frame 2814...\n"
     ]
    },
    {
     "name": "stderr",
     "output_type": "stream",
     "text": [
      "0: 640x640 4 Fire-Smoke-Sodium-Trays, 3481.1ms\n",
      "Speed: 6.0ms preprocess, 3481.1ms inference, 15.0ms postprocess per image at shape (1, 3, 640, 640)\n",
      "\n"
     ]
    },
    {
     "name": "stdout",
     "output_type": "stream",
     "text": [
      "Mask identified for the frame...\n",
      "Inferencing Frame 2815...\n"
     ]
    },
    {
     "name": "stderr",
     "output_type": "stream",
     "text": [
      "0: 640x640 4 Fire-Smoke-Sodium-Trays, 3421.1ms\n",
      "Speed: 7.0ms preprocess, 3421.1ms inference, 18.0ms postprocess per image at shape (1, 3, 640, 640)\n",
      "\n"
     ]
    },
    {
     "name": "stdout",
     "output_type": "stream",
     "text": [
      "Mask identified for the frame...\n",
      "Inferencing Frame 2816...\n"
     ]
    },
    {
     "name": "stderr",
     "output_type": "stream",
     "text": [
      "0: 640x640 3 Fire-Smoke-Sodium-Trays, 3456.1ms\n",
      "Speed: 6.1ms preprocess, 3456.1ms inference, 13.0ms postprocess per image at shape (1, 3, 640, 640)\n",
      "\n"
     ]
    },
    {
     "name": "stdout",
     "output_type": "stream",
     "text": [
      "Mask identified for the frame...\n",
      "Inferencing Frame 2817...\n"
     ]
    },
    {
     "name": "stderr",
     "output_type": "stream",
     "text": [
      "0: 640x640 4 Fire-Smoke-Sodium-Trays, 4169.8ms\n",
      "Speed: 7.0ms preprocess, 4169.8ms inference, 14.0ms postprocess per image at shape (1, 3, 640, 640)\n",
      "\n"
     ]
    },
    {
     "name": "stdout",
     "output_type": "stream",
     "text": [
      "Mask identified for the frame...\n",
      "Inferencing Frame 2818...\n"
     ]
    },
    {
     "name": "stderr",
     "output_type": "stream",
     "text": [
      "0: 640x640 5 Fire-Smoke-Sodium-Trays, 3743.4ms\n",
      "Speed: 7.0ms preprocess, 3743.4ms inference, 21.0ms postprocess per image at shape (1, 3, 640, 640)\n",
      "\n"
     ]
    },
    {
     "name": "stdout",
     "output_type": "stream",
     "text": [
      "Mask identified for the frame...\n",
      "Inferencing Frame 2819...\n"
     ]
    },
    {
     "name": "stderr",
     "output_type": "stream",
     "text": [
      "0: 640x640 7 Fire-Smoke-Sodium-Trays, 3755.4ms\n",
      "Speed: 6.0ms preprocess, 3755.4ms inference, 24.0ms postprocess per image at shape (1, 3, 640, 640)\n",
      "\n"
     ]
    },
    {
     "name": "stdout",
     "output_type": "stream",
     "text": [
      "Mask identified for the frame...\n",
      "Inferencing Frame 2820...\n"
     ]
    },
    {
     "name": "stderr",
     "output_type": "stream",
     "text": [
      "0: 640x640 3 Fire-Smoke-Sodium-Trays, 3629.2ms\n",
      "Speed: 7.1ms preprocess, 3629.2ms inference, 12.0ms postprocess per image at shape (1, 3, 640, 640)\n",
      "\n"
     ]
    },
    {
     "name": "stdout",
     "output_type": "stream",
     "text": [
      "Mask identified for the frame...\n",
      "Inferencing Frame 2821...\n"
     ]
    },
    {
     "name": "stderr",
     "output_type": "stream",
     "text": [
      "0: 640x640 4 Fire-Smoke-Sodium-Trays, 3572.2ms\n",
      "Speed: 7.1ms preprocess, 3572.2ms inference, 22.0ms postprocess per image at shape (1, 3, 640, 640)\n",
      "\n"
     ]
    },
    {
     "name": "stdout",
     "output_type": "stream",
     "text": [
      "Mask identified for the frame...\n",
      "Inferencing Frame 2822...\n"
     ]
    },
    {
     "name": "stderr",
     "output_type": "stream",
     "text": [
      "0: 640x640 6 Fire-Smoke-Sodium-Trays, 3559.2ms\n",
      "Speed: 6.0ms preprocess, 3559.2ms inference, 24.0ms postprocess per image at shape (1, 3, 640, 640)\n",
      "\n"
     ]
    },
    {
     "name": "stdout",
     "output_type": "stream",
     "text": [
      "Mask identified for the frame...\n",
      "Inferencing Frame 2823...\n"
     ]
    },
    {
     "name": "stderr",
     "output_type": "stream",
     "text": [
      "0: 640x640 4 Fire-Smoke-Sodium-Trays, 3672.3ms\n",
      "Speed: 6.0ms preprocess, 3672.3ms inference, 15.0ms postprocess per image at shape (1, 3, 640, 640)\n",
      "\n"
     ]
    },
    {
     "name": "stdout",
     "output_type": "stream",
     "text": [
      "Mask identified for the frame...\n",
      "Inferencing Frame 2824...\n"
     ]
    },
    {
     "name": "stderr",
     "output_type": "stream",
     "text": [
      "0: 640x640 5 Fire-Smoke-Sodium-Trays, 3576.2ms\n",
      "Speed: 6.0ms preprocess, 3576.2ms inference, 19.0ms postprocess per image at shape (1, 3, 640, 640)\n",
      "\n"
     ]
    },
    {
     "name": "stdout",
     "output_type": "stream",
     "text": [
      "Mask identified for the frame...\n",
      "Inferencing Frame 2825...\n"
     ]
    },
    {
     "name": "stderr",
     "output_type": "stream",
     "text": [
      "0: 640x640 4 Fire-Smoke-Sodium-Trays, 3806.4ms\n",
      "Speed: 6.0ms preprocess, 3806.4ms inference, 14.0ms postprocess per image at shape (1, 3, 640, 640)\n",
      "\n"
     ]
    },
    {
     "name": "stdout",
     "output_type": "stream",
     "text": [
      "Mask identified for the frame...\n",
      "Inferencing Frame 2826...\n"
     ]
    },
    {
     "name": "stderr",
     "output_type": "stream",
     "text": [
      "0: 640x640 4 Fire-Smoke-Sodium-Trays, 3685.3ms\n",
      "Speed: 7.0ms preprocess, 3685.3ms inference, 14.0ms postprocess per image at shape (1, 3, 640, 640)\n",
      "\n"
     ]
    },
    {
     "name": "stdout",
     "output_type": "stream",
     "text": [
      "Mask identified for the frame...\n",
      "Inferencing Frame 2827...\n"
     ]
    },
    {
     "name": "stderr",
     "output_type": "stream",
     "text": [
      "0: 640x640 5 Fire-Smoke-Sodium-Trays, 3956.5ms\n",
      "Speed: 7.1ms preprocess, 3956.5ms inference, 18.0ms postprocess per image at shape (1, 3, 640, 640)\n",
      "\n"
     ]
    },
    {
     "name": "stdout",
     "output_type": "stream",
     "text": [
      "Mask identified for the frame...\n",
      "Inferencing Frame 2828...\n"
     ]
    },
    {
     "name": "stderr",
     "output_type": "stream",
     "text": [
      "0: 640x640 4 Fire-Smoke-Sodium-Trays, 3671.3ms\n",
      "Speed: 6.0ms preprocess, 3671.3ms inference, 20.0ms postprocess per image at shape (1, 3, 640, 640)\n",
      "\n"
     ]
    },
    {
     "name": "stdout",
     "output_type": "stream",
     "text": [
      "Mask identified for the frame...\n",
      "Inferencing Frame 2829...\n"
     ]
    },
    {
     "name": "stderr",
     "output_type": "stream",
     "text": [
      "0: 640x640 2 Fire-Smoke-Sodium-Trays, 3595.2ms\n",
      "Speed: 7.0ms preprocess, 3595.2ms inference, 8.0ms postprocess per image at shape (1, 3, 640, 640)\n",
      "\n"
     ]
    },
    {
     "name": "stdout",
     "output_type": "stream",
     "text": [
      "Mask identified for the frame...\n",
      "Inferencing Frame 2830...\n"
     ]
    },
    {
     "name": "stderr",
     "output_type": "stream",
     "text": [
      "0: 640x640 3 Fire-Smoke-Sodium-Trays, 3707.3ms\n",
      "Speed: 7.0ms preprocess, 3707.3ms inference, 12.0ms postprocess per image at shape (1, 3, 640, 640)\n",
      "\n"
     ]
    },
    {
     "name": "stdout",
     "output_type": "stream",
     "text": [
      "Mask identified for the frame...\n",
      "Inferencing Frame 2831...\n"
     ]
    },
    {
     "name": "stderr",
     "output_type": "stream",
     "text": [
      "0: 640x640 2 Fire-Smoke-Sodium-Trays, 3887.5ms\n",
      "Speed: 7.0ms preprocess, 3887.5ms inference, 15.0ms postprocess per image at shape (1, 3, 640, 640)\n",
      "\n"
     ]
    },
    {
     "name": "stdout",
     "output_type": "stream",
     "text": [
      "Mask identified for the frame...\n",
      "Inferencing Frame 2832...\n"
     ]
    },
    {
     "name": "stderr",
     "output_type": "stream",
     "text": [
      "0: 640x640 2 Fire-Smoke-Sodium-Trays, 3898.5ms\n",
      "Speed: 7.0ms preprocess, 3898.5ms inference, 9.0ms postprocess per image at shape (1, 3, 640, 640)\n",
      "\n"
     ]
    },
    {
     "name": "stdout",
     "output_type": "stream",
     "text": [
      "Mask identified for the frame...\n",
      "Inferencing Frame 2833...\n"
     ]
    },
    {
     "name": "stderr",
     "output_type": "stream",
     "text": [
      "0: 640x640 2 Fire-Smoke-Sodium-Trays, 4160.7ms\n",
      "Speed: 6.0ms preprocess, 4160.7ms inference, 8.0ms postprocess per image at shape (1, 3, 640, 640)\n",
      "\n"
     ]
    },
    {
     "name": "stdout",
     "output_type": "stream",
     "text": [
      "Mask identified for the frame...\n",
      "Inferencing Frame 2834...\n"
     ]
    },
    {
     "name": "stderr",
     "output_type": "stream",
     "text": [
      "0: 640x640 3 Fire-Smoke-Sodium-Trays, 3775.4ms\n",
      "Speed: 6.0ms preprocess, 3775.4ms inference, 12.0ms postprocess per image at shape (1, 3, 640, 640)\n",
      "\n"
     ]
    },
    {
     "name": "stdout",
     "output_type": "stream",
     "text": [
      "Mask identified for the frame...\n",
      "Inferencing Frame 2835...\n"
     ]
    },
    {
     "name": "stderr",
     "output_type": "stream",
     "text": [
      "0: 640x640 3 Fire-Smoke-Sodium-Trays, 3775.4ms\n",
      "Speed: 6.0ms preprocess, 3775.4ms inference, 14.1ms postprocess per image at shape (1, 3, 640, 640)\n",
      "\n"
     ]
    },
    {
     "name": "stdout",
     "output_type": "stream",
     "text": [
      "Mask identified for the frame...\n",
      "Inferencing Frame 2836...\n"
     ]
    },
    {
     "name": "stderr",
     "output_type": "stream",
     "text": [
      "0: 640x640 4 Fire-Smoke-Sodium-Trays, 3558.2ms\n",
      "Speed: 7.0ms preprocess, 3558.2ms inference, 16.0ms postprocess per image at shape (1, 3, 640, 640)\n",
      "\n"
     ]
    },
    {
     "name": "stdout",
     "output_type": "stream",
     "text": [
      "Mask identified for the frame...\n",
      "Inferencing Frame 2837...\n"
     ]
    },
    {
     "name": "stderr",
     "output_type": "stream",
     "text": [
      "0: 640x640 5 Fire-Smoke-Sodium-Trays, 3632.2ms\n",
      "Speed: 7.0ms preprocess, 3632.2ms inference, 18.0ms postprocess per image at shape (1, 3, 640, 640)\n",
      "\n"
     ]
    },
    {
     "name": "stdout",
     "output_type": "stream",
     "text": [
      "Mask identified for the frame...\n",
      "Inferencing Frame 2838...\n"
     ]
    },
    {
     "name": "stderr",
     "output_type": "stream",
     "text": [
      "0: 640x640 3 Fire-Smoke-Sodium-Trays, 3771.4ms\n",
      "Speed: 7.1ms preprocess, 3771.4ms inference, 13.0ms postprocess per image at shape (1, 3, 640, 640)\n",
      "\n"
     ]
    },
    {
     "name": "stdout",
     "output_type": "stream",
     "text": [
      "Mask identified for the frame...\n",
      "Inferencing Frame 2839...\n"
     ]
    },
    {
     "name": "stderr",
     "output_type": "stream",
     "text": [
      "0: 640x640 4 Fire-Smoke-Sodium-Trays, 3570.2ms\n",
      "Speed: 23.0ms preprocess, 3570.2ms inference, 18.0ms postprocess per image at shape (1, 3, 640, 640)\n",
      "\n"
     ]
    },
    {
     "name": "stdout",
     "output_type": "stream",
     "text": [
      "Mask identified for the frame...\n",
      "Inferencing Frame 2840...\n"
     ]
    },
    {
     "name": "stderr",
     "output_type": "stream",
     "text": [
      "0: 640x640 4 Fire-Smoke-Sodium-Trays, 3696.3ms\n",
      "Speed: 19.0ms preprocess, 3696.3ms inference, 19.0ms postprocess per image at shape (1, 3, 640, 640)\n",
      "\n"
     ]
    },
    {
     "name": "stdout",
     "output_type": "stream",
     "text": [
      "Mask identified for the frame...\n",
      "Inferencing Frame 2841...\n"
     ]
    },
    {
     "name": "stderr",
     "output_type": "stream",
     "text": [
      "0: 640x640 3 Fire-Smoke-Sodium-Trays, 3877.5ms\n",
      "Speed: 6.0ms preprocess, 3877.5ms inference, 12.0ms postprocess per image at shape (1, 3, 640, 640)\n",
      "\n"
     ]
    },
    {
     "name": "stdout",
     "output_type": "stream",
     "text": [
      "Mask identified for the frame...\n",
      "Inferencing Frame 2842...\n"
     ]
    },
    {
     "name": "stderr",
     "output_type": "stream",
     "text": [
      "0: 640x640 3 Fire-Smoke-Sodium-Trays, 3652.3ms\n",
      "Speed: 6.0ms preprocess, 3652.3ms inference, 16.0ms postprocess per image at shape (1, 3, 640, 640)\n",
      "\n"
     ]
    },
    {
     "name": "stdout",
     "output_type": "stream",
     "text": [
      "Mask identified for the frame...\n",
      "Inferencing Frame 2843...\n"
     ]
    },
    {
     "name": "stderr",
     "output_type": "stream",
     "text": [
      "0: 640x640 4 Fire-Smoke-Sodium-Trays, 3817.4ms\n",
      "Speed: 6.0ms preprocess, 3817.4ms inference, 16.0ms postprocess per image at shape (1, 3, 640, 640)\n",
      "\n"
     ]
    },
    {
     "name": "stdout",
     "output_type": "stream",
     "text": [
      "Mask identified for the frame...\n",
      "Inferencing Frame 2844...\n"
     ]
    },
    {
     "name": "stderr",
     "output_type": "stream",
     "text": [
      "0: 640x640 2 Fire-Smoke-Sodium-Trays, 3534.2ms\n",
      "Speed: 6.0ms preprocess, 3534.2ms inference, 11.0ms postprocess per image at shape (1, 3, 640, 640)\n",
      "\n"
     ]
    },
    {
     "name": "stdout",
     "output_type": "stream",
     "text": [
      "Mask identified for the frame...\n",
      "Inferencing Frame 2845...\n"
     ]
    },
    {
     "name": "stderr",
     "output_type": "stream",
     "text": [
      "0: 640x640 5 Fire-Smoke-Sodium-Trays, 3628.3ms\n",
      "Speed: 6.0ms preprocess, 3628.3ms inference, 20.1ms postprocess per image at shape (1, 3, 640, 640)\n",
      "\n"
     ]
    },
    {
     "name": "stdout",
     "output_type": "stream",
     "text": [
      "Mask identified for the frame...\n",
      "Inferencing Frame 2846...\n"
     ]
    },
    {
     "name": "stderr",
     "output_type": "stream",
     "text": [
      "0: 640x640 4 Fire-Smoke-Sodium-Trays, 3825.4ms\n",
      "Speed: 7.1ms preprocess, 3825.4ms inference, 15.0ms postprocess per image at shape (1, 3, 640, 640)\n",
      "\n"
     ]
    },
    {
     "name": "stdout",
     "output_type": "stream",
     "text": [
      "Mask identified for the frame...\n",
      "Inferencing Frame 2847...\n"
     ]
    },
    {
     "name": "stderr",
     "output_type": "stream",
     "text": [
      "0: 640x640 3 Fire-Smoke-Sodium-Trays, 3619.3ms\n",
      "Speed: 6.0ms preprocess, 3619.3ms inference, 13.0ms postprocess per image at shape (1, 3, 640, 640)\n",
      "\n"
     ]
    },
    {
     "name": "stdout",
     "output_type": "stream",
     "text": [
      "Mask identified for the frame...\n",
      "Inferencing Frame 2848...\n"
     ]
    },
    {
     "name": "stderr",
     "output_type": "stream",
     "text": [
      "0: 640x640 3 Fire-Smoke-Sodium-Trays, 4135.7ms\n",
      "Speed: 7.0ms preprocess, 4135.7ms inference, 12.0ms postprocess per image at shape (1, 3, 640, 640)\n",
      "\n"
     ]
    },
    {
     "name": "stdout",
     "output_type": "stream",
     "text": [
      "Mask identified for the frame...\n",
      "Inferencing Frame 2849...\n"
     ]
    },
    {
     "name": "stderr",
     "output_type": "stream",
     "text": [
      "0: 640x640 3 Fire-Smoke-Sodium-Trays, 3816.4ms\n",
      "Speed: 7.0ms preprocess, 3816.4ms inference, 15.0ms postprocess per image at shape (1, 3, 640, 640)\n",
      "\n"
     ]
    },
    {
     "name": "stdout",
     "output_type": "stream",
     "text": [
      "Mask identified for the frame...\n",
      "Inferencing Frame 2850...\n"
     ]
    },
    {
     "name": "stderr",
     "output_type": "stream",
     "text": [
      "0: 640x640 4 Fire-Smoke-Sodium-Trays, 3867.5ms\n",
      "Speed: 6.0ms preprocess, 3867.5ms inference, 16.0ms postprocess per image at shape (1, 3, 640, 640)\n",
      "\n"
     ]
    },
    {
     "name": "stdout",
     "output_type": "stream",
     "text": [
      "Mask identified for the frame...\n",
      "Inferencing Frame 2851...\n"
     ]
    },
    {
     "name": "stderr",
     "output_type": "stream",
     "text": [
      "0: 640x640 4 Fire-Smoke-Sodium-Trays, 3936.5ms\n",
      "Speed: 6.0ms preprocess, 3936.5ms inference, 16.0ms postprocess per image at shape (1, 3, 640, 640)\n",
      "\n"
     ]
    },
    {
     "name": "stdout",
     "output_type": "stream",
     "text": [
      "Mask identified for the frame...\n",
      "Inferencing Frame 2852...\n"
     ]
    },
    {
     "name": "stderr",
     "output_type": "stream",
     "text": [
      "0: 640x640 1 Fire-Smoke-Sodium-Tray, 3869.5ms\n",
      "Speed: 7.1ms preprocess, 3869.5ms inference, 6.0ms postprocess per image at shape (1, 3, 640, 640)\n",
      "\n"
     ]
    },
    {
     "name": "stdout",
     "output_type": "stream",
     "text": [
      "Mask identified for the frame...\n",
      "Inferencing Frame 2853...\n"
     ]
    },
    {
     "name": "stderr",
     "output_type": "stream",
     "text": [
      "0: 640x640 5 Fire-Smoke-Sodium-Trays, 3691.3ms\n",
      "Speed: 6.0ms preprocess, 3691.3ms inference, 24.0ms postprocess per image at shape (1, 3, 640, 640)\n",
      "\n"
     ]
    },
    {
     "name": "stdout",
     "output_type": "stream",
     "text": [
      "Mask identified for the frame...\n",
      "Inferencing Frame 2854...\n"
     ]
    },
    {
     "name": "stderr",
     "output_type": "stream",
     "text": [
      "0: 640x640 4 Fire-Smoke-Sodium-Trays, 3606.2ms\n",
      "Speed: 6.0ms preprocess, 3606.2ms inference, 15.0ms postprocess per image at shape (1, 3, 640, 640)\n",
      "\n"
     ]
    },
    {
     "name": "stdout",
     "output_type": "stream",
     "text": [
      "Mask identified for the frame...\n",
      "Inferencing Frame 2855...\n"
     ]
    },
    {
     "name": "stderr",
     "output_type": "stream",
     "text": [
      "0: 640x640 4 Fire-Smoke-Sodium-Trays, 3963.6ms\n",
      "Speed: 6.0ms preprocess, 3963.6ms inference, 14.0ms postprocess per image at shape (1, 3, 640, 640)\n",
      "\n"
     ]
    },
    {
     "name": "stdout",
     "output_type": "stream",
     "text": [
      "Mask identified for the frame...\n",
      "Inferencing Frame 2856...\n"
     ]
    },
    {
     "name": "stderr",
     "output_type": "stream",
     "text": [
      "0: 640x640 4 Fire-Smoke-Sodium-Trays, 3459.1ms\n",
      "Speed: 6.0ms preprocess, 3459.1ms inference, 15.0ms postprocess per image at shape (1, 3, 640, 640)\n",
      "\n"
     ]
    },
    {
     "name": "stdout",
     "output_type": "stream",
     "text": [
      "Mask identified for the frame...\n",
      "Inferencing Frame 2857...\n"
     ]
    },
    {
     "name": "stderr",
     "output_type": "stream",
     "text": [
      "0: 640x640 4 Fire-Smoke-Sodium-Trays, 3876.5ms\n",
      "Speed: 6.0ms preprocess, 3876.5ms inference, 29.0ms postprocess per image at shape (1, 3, 640, 640)\n",
      "\n"
     ]
    },
    {
     "name": "stdout",
     "output_type": "stream",
     "text": [
      "Mask identified for the frame...\n",
      "Inferencing Frame 2858...\n"
     ]
    },
    {
     "name": "stderr",
     "output_type": "stream",
     "text": [
      "0: 640x640 4 Fires, 4 Fire-Smoke-Sodium-Trays, 3723.4ms\n",
      "Speed: 7.0ms preprocess, 3723.4ms inference, 29.0ms postprocess per image at shape (1, 3, 640, 640)\n",
      "\n"
     ]
    },
    {
     "name": "stdout",
     "output_type": "stream",
     "text": [
      "Mask identified for the frame...\n",
      "Inferencing Frame 2859...\n"
     ]
    },
    {
     "name": "stderr",
     "output_type": "stream",
     "text": [
      "0: 640x640 3 Fire-Smoke-Sodium-Trays, 3860.5ms\n",
      "Speed: 6.0ms preprocess, 3860.5ms inference, 13.0ms postprocess per image at shape (1, 3, 640, 640)\n",
      "\n"
     ]
    },
    {
     "name": "stdout",
     "output_type": "stream",
     "text": [
      "Mask identified for the frame...\n",
      "Inferencing Frame 2860...\n"
     ]
    },
    {
     "name": "stderr",
     "output_type": "stream",
     "text": [
      "0: 640x640 5 Fire-Smoke-Sodium-Trays, 3483.1ms\n",
      "Speed: 7.0ms preprocess, 3483.1ms inference, 20.0ms postprocess per image at shape (1, 3, 640, 640)\n",
      "\n"
     ]
    },
    {
     "name": "stdout",
     "output_type": "stream",
     "text": [
      "Mask identified for the frame...\n",
      "Inferencing Frame 2861...\n"
     ]
    },
    {
     "name": "stderr",
     "output_type": "stream",
     "text": [
      "0: 640x640 4 Fire-Smoke-Sodium-Trays, 3592.2ms\n",
      "Speed: 6.0ms preprocess, 3592.2ms inference, 15.0ms postprocess per image at shape (1, 3, 640, 640)\n",
      "\n"
     ]
    },
    {
     "name": "stdout",
     "output_type": "stream",
     "text": [
      "Mask identified for the frame...\n",
      "Inferencing Frame 2862...\n"
     ]
    },
    {
     "name": "stderr",
     "output_type": "stream",
     "text": [
      "0: 640x640 3 Fire-Smoke-Sodium-Trays, 3571.2ms\n",
      "Speed: 6.0ms preprocess, 3571.2ms inference, 12.0ms postprocess per image at shape (1, 3, 640, 640)\n",
      "\n"
     ]
    },
    {
     "name": "stdout",
     "output_type": "stream",
     "text": [
      "Mask identified for the frame...\n",
      "Inferencing Frame 2863...\n"
     ]
    },
    {
     "name": "stderr",
     "output_type": "stream",
     "text": [
      "0: 640x640 5 Fire-Smoke-Sodium-Trays, 3879.5ms\n",
      "Speed: 6.0ms preprocess, 3879.5ms inference, 27.0ms postprocess per image at shape (1, 3, 640, 640)\n",
      "\n"
     ]
    },
    {
     "name": "stdout",
     "output_type": "stream",
     "text": [
      "Mask identified for the frame...\n",
      "Inferencing Frame 2864...\n"
     ]
    },
    {
     "name": "stderr",
     "output_type": "stream",
     "text": [
      "0: 640x640 20 Fires, 4 Fire-Smoke-Sodium-Trays, 4250.8ms\n",
      "Speed: 6.0ms preprocess, 4250.8ms inference, 151.1ms postprocess per image at shape (1, 3, 640, 640)\n",
      "\n"
     ]
    },
    {
     "name": "stdout",
     "output_type": "stream",
     "text": [
      "Mask identified for the frame...\n",
      "Inferencing Frame 2865...\n"
     ]
    },
    {
     "name": "stderr",
     "output_type": "stream",
     "text": [
      "0: 640x640 4 Fire-Smoke-Sodium-Trays, 3875.5ms\n",
      "Speed: 24.0ms preprocess, 3875.5ms inference, 16.0ms postprocess per image at shape (1, 3, 640, 640)\n",
      "\n"
     ]
    },
    {
     "name": "stdout",
     "output_type": "stream",
     "text": [
      "Mask identified for the frame...\n",
      "Inferencing Frame 2866...\n"
     ]
    },
    {
     "name": "stderr",
     "output_type": "stream",
     "text": [
      "0: 640x640 51 Fires, 3 Fire-Smoke-Sodium-Trays, 3883.5ms\n",
      "Speed: 7.0ms preprocess, 3883.5ms inference, 200.2ms postprocess per image at shape (1, 3, 640, 640)\n",
      "\n"
     ]
    },
    {
     "name": "stdout",
     "output_type": "stream",
     "text": [
      "Mask identified for the frame...\n",
      "Inferencing Frame 2867...\n"
     ]
    },
    {
     "name": "stderr",
     "output_type": "stream",
     "text": [
      "0: 640x640 1 Fire, 3 Fire-Smoke-Sodium-Trays, 4126.7ms\n",
      "Speed: 7.0ms preprocess, 4126.7ms inference, 16.0ms postprocess per image at shape (1, 3, 640, 640)\n",
      "\n"
     ]
    },
    {
     "name": "stdout",
     "output_type": "stream",
     "text": [
      "Mask identified for the frame...\n",
      "Inferencing Frame 2868...\n"
     ]
    },
    {
     "name": "stderr",
     "output_type": "stream",
     "text": [
      "0: 640x640 4 Fire-Smoke-Sodium-Trays, 3683.3ms\n",
      "Speed: 8.1ms preprocess, 3683.3ms inference, 18.1ms postprocess per image at shape (1, 3, 640, 640)\n",
      "\n"
     ]
    },
    {
     "name": "stdout",
     "output_type": "stream",
     "text": [
      "Mask identified for the frame...\n",
      "Inferencing Frame 2869...\n"
     ]
    },
    {
     "name": "stderr",
     "output_type": "stream",
     "text": [
      "0: 640x640 3 Fire-Smoke-Sodium-Trays, 3880.5ms\n",
      "Speed: 7.0ms preprocess, 3880.5ms inference, 18.0ms postprocess per image at shape (1, 3, 640, 640)\n",
      "\n"
     ]
    },
    {
     "name": "stdout",
     "output_type": "stream",
     "text": [
      "Mask identified for the frame...\n",
      "Inferencing Frame 2870...\n"
     ]
    },
    {
     "name": "stderr",
     "output_type": "stream",
     "text": [
      "0: 640x640 6 Fire-Smoke-Sodium-Trays, 3778.4ms\n",
      "Speed: 7.0ms preprocess, 3778.4ms inference, 27.0ms postprocess per image at shape (1, 3, 640, 640)\n",
      "\n"
     ]
    },
    {
     "name": "stdout",
     "output_type": "stream",
     "text": [
      "Mask identified for the frame...\n",
      "Inferencing Frame 2871...\n"
     ]
    },
    {
     "name": "stderr",
     "output_type": "stream",
     "text": [
      "0: 640x640 2 Fire-Smoke-Sodium-Trays, 3734.4ms\n",
      "Speed: 7.0ms preprocess, 3734.4ms inference, 9.0ms postprocess per image at shape (1, 3, 640, 640)\n",
      "\n"
     ]
    },
    {
     "name": "stdout",
     "output_type": "stream",
     "text": [
      "Mask identified for the frame...\n",
      "Inferencing Frame 2872...\n"
     ]
    },
    {
     "name": "stderr",
     "output_type": "stream",
     "text": [
      "0: 640x640 3 Fire-Smoke-Sodium-Trays, 3827.4ms\n",
      "Speed: 6.0ms preprocess, 3827.4ms inference, 13.0ms postprocess per image at shape (1, 3, 640, 640)\n",
      "\n"
     ]
    },
    {
     "name": "stdout",
     "output_type": "stream",
     "text": [
      "Mask identified for the frame...\n",
      "Inferencing Frame 2873...\n"
     ]
    },
    {
     "name": "stderr",
     "output_type": "stream",
     "text": [
      "0: 640x640 4 Fire-Smoke-Sodium-Trays, 3929.5ms\n",
      "Speed: 6.0ms preprocess, 3929.5ms inference, 17.1ms postprocess per image at shape (1, 3, 640, 640)\n",
      "\n"
     ]
    },
    {
     "name": "stdout",
     "output_type": "stream",
     "text": [
      "Mask identified for the frame...\n",
      "Inferencing Frame 2874...\n"
     ]
    },
    {
     "name": "stderr",
     "output_type": "stream",
     "text": [
      "0: 640x640 5 Fire-Smoke-Sodium-Trays, 3834.4ms\n",
      "Speed: 6.1ms preprocess, 3834.4ms inference, 18.0ms postprocess per image at shape (1, 3, 640, 640)\n",
      "\n"
     ]
    },
    {
     "name": "stdout",
     "output_type": "stream",
     "text": [
      "Mask identified for the frame...\n",
      "Inferencing Frame 2875...\n"
     ]
    },
    {
     "name": "stderr",
     "output_type": "stream",
     "text": [
      "0: 640x640 3 Fire-Smoke-Sodium-Trays, 4022.6ms\n",
      "Speed: 6.0ms preprocess, 4022.6ms inference, 28.0ms postprocess per image at shape (1, 3, 640, 640)\n",
      "\n"
     ]
    },
    {
     "name": "stdout",
     "output_type": "stream",
     "text": [
      "Mask identified for the frame...\n",
      "Inferencing Frame 2876...\n"
     ]
    },
    {
     "name": "stderr",
     "output_type": "stream",
     "text": [
      "0: 640x640 3 Fire-Smoke-Sodium-Trays, 3885.5ms\n",
      "Speed: 6.1ms preprocess, 3885.5ms inference, 12.0ms postprocess per image at shape (1, 3, 640, 640)\n",
      "\n"
     ]
    },
    {
     "name": "stdout",
     "output_type": "stream",
     "text": [
      "Mask identified for the frame...\n",
      "Inferencing Frame 2877...\n"
     ]
    },
    {
     "name": "stderr",
     "output_type": "stream",
     "text": [
      "0: 640x640 4 Fire-Smoke-Sodium-Trays, 3820.5ms\n",
      "Speed: 6.0ms preprocess, 3820.5ms inference, 19.0ms postprocess per image at shape (1, 3, 640, 640)\n",
      "\n"
     ]
    },
    {
     "name": "stdout",
     "output_type": "stream",
     "text": [
      "Mask identified for the frame...\n",
      "Inferencing Frame 2878...\n"
     ]
    },
    {
     "name": "stderr",
     "output_type": "stream",
     "text": [
      "0: 640x640 4 Fire-Smoke-Sodium-Trays, 3727.4ms\n",
      "Speed: 6.0ms preprocess, 3727.4ms inference, 15.0ms postprocess per image at shape (1, 3, 640, 640)\n",
      "\n"
     ]
    },
    {
     "name": "stdout",
     "output_type": "stream",
     "text": [
      "Mask identified for the frame...\n",
      "Inferencing Frame 2879...\n"
     ]
    },
    {
     "name": "stderr",
     "output_type": "stream",
     "text": [
      "0: 640x640 4 Fire-Smoke-Sodium-Trays, 4070.6ms\n",
      "Speed: 6.1ms preprocess, 4070.6ms inference, 16.0ms postprocess per image at shape (1, 3, 640, 640)\n",
      "\n"
     ]
    },
    {
     "name": "stdout",
     "output_type": "stream",
     "text": [
      "Mask identified for the frame...\n",
      "Inferencing Frame 2880...\n"
     ]
    },
    {
     "name": "stderr",
     "output_type": "stream",
     "text": [
      "0: 640x640 3 Fire-Smoke-Sodium-Trays, 3950.6ms\n",
      "Speed: 6.0ms preprocess, 3950.6ms inference, 12.0ms postprocess per image at shape (1, 3, 640, 640)\n",
      "\n"
     ]
    },
    {
     "name": "stdout",
     "output_type": "stream",
     "text": [
      "Mask identified for the frame...\n",
      "Inferencing Frame 2881...\n"
     ]
    },
    {
     "name": "stderr",
     "output_type": "stream",
     "text": [
      "0: 640x640 3 Fire-Smoke-Sodium-Trays, 4059.7ms\n",
      "Speed: 6.0ms preprocess, 4059.7ms inference, 16.0ms postprocess per image at shape (1, 3, 640, 640)\n",
      "\n"
     ]
    },
    {
     "name": "stdout",
     "output_type": "stream",
     "text": [
      "Mask identified for the frame...\n",
      "Inferencing Frame 2882...\n"
     ]
    },
    {
     "name": "stderr",
     "output_type": "stream",
     "text": [
      "0: 640x640 3 Fire-Smoke-Sodium-Trays, 4028.6ms\n",
      "Speed: 6.0ms preprocess, 4028.6ms inference, 12.0ms postprocess per image at shape (1, 3, 640, 640)\n",
      "\n"
     ]
    },
    {
     "name": "stdout",
     "output_type": "stream",
     "text": [
      "Mask identified for the frame...\n",
      "Inferencing Frame 2883...\n"
     ]
    },
    {
     "name": "stderr",
     "output_type": "stream",
     "text": [
      "0: 640x640 3 Fire-Smoke-Sodium-Trays, 4022.7ms\n",
      "Speed: 6.0ms preprocess, 4022.7ms inference, 18.0ms postprocess per image at shape (1, 3, 640, 640)\n",
      "\n"
     ]
    },
    {
     "name": "stdout",
     "output_type": "stream",
     "text": [
      "Mask identified for the frame...\n",
      "Inferencing Frame 2884...\n"
     ]
    },
    {
     "name": "stderr",
     "output_type": "stream",
     "text": [
      "0: 640x640 3 Fire-Smoke-Sodium-Trays, 3926.6ms\n",
      "Speed: 6.0ms preprocess, 3926.6ms inference, 56.0ms postprocess per image at shape (1, 3, 640, 640)\n",
      "\n"
     ]
    },
    {
     "name": "stdout",
     "output_type": "stream",
     "text": [
      "Mask identified for the frame...\n",
      "Inferencing Frame 2885...\n"
     ]
    },
    {
     "name": "stderr",
     "output_type": "stream",
     "text": [
      "0: 640x640 3 Fire-Smoke-Sodium-Trays, 3704.3ms\n",
      "Speed: 7.0ms preprocess, 3704.3ms inference, 17.1ms postprocess per image at shape (1, 3, 640, 640)\n",
      "\n"
     ]
    },
    {
     "name": "stdout",
     "output_type": "stream",
     "text": [
      "Mask identified for the frame...\n",
      "Inferencing Frame 2886...\n"
     ]
    },
    {
     "name": "stderr",
     "output_type": "stream",
     "text": [
      "0: 640x640 5 Fire-Smoke-Sodium-Trays, 3902.5ms\n",
      "Speed: 6.0ms preprocess, 3902.5ms inference, 18.0ms postprocess per image at shape (1, 3, 640, 640)\n",
      "\n"
     ]
    },
    {
     "name": "stdout",
     "output_type": "stream",
     "text": [
      "Mask identified for the frame...\n",
      "Inferencing Frame 2887...\n"
     ]
    },
    {
     "name": "stderr",
     "output_type": "stream",
     "text": [
      "0: 640x640 4 Fire-Smoke-Sodium-Trays, 3669.3ms\n",
      "Speed: 6.0ms preprocess, 3669.3ms inference, 18.0ms postprocess per image at shape (1, 3, 640, 640)\n",
      "\n"
     ]
    },
    {
     "name": "stdout",
     "output_type": "stream",
     "text": [
      "Mask identified for the frame...\n",
      "Inferencing Frame 2888...\n"
     ]
    },
    {
     "name": "stderr",
     "output_type": "stream",
     "text": [
      "0: 640x640 4 Fire-Smoke-Sodium-Trays, 3963.6ms\n",
      "Speed: 6.0ms preprocess, 3963.6ms inference, 15.0ms postprocess per image at shape (1, 3, 640, 640)\n",
      "\n"
     ]
    },
    {
     "name": "stdout",
     "output_type": "stream",
     "text": [
      "Mask identified for the frame...\n",
      "Inferencing Frame 2889...\n"
     ]
    },
    {
     "name": "stderr",
     "output_type": "stream",
     "text": [
      "0: 640x640 4 Fire-Smoke-Sodium-Trays, 3729.4ms\n",
      "Speed: 6.0ms preprocess, 3729.4ms inference, 22.0ms postprocess per image at shape (1, 3, 640, 640)\n",
      "\n"
     ]
    },
    {
     "name": "stdout",
     "output_type": "stream",
     "text": [
      "Mask identified for the frame...\n",
      "Inferencing Frame 2890...\n"
     ]
    },
    {
     "name": "stderr",
     "output_type": "stream",
     "text": [
      "0: 640x640 2 Fires, 4 Fire-Smoke-Sodium-Trays, 4012.6ms\n",
      "Speed: 6.0ms preprocess, 4012.6ms inference, 21.0ms postprocess per image at shape (1, 3, 640, 640)\n",
      "\n"
     ]
    },
    {
     "name": "stdout",
     "output_type": "stream",
     "text": [
      "Mask identified for the frame...\n",
      "Inferencing Frame 2891...\n"
     ]
    },
    {
     "name": "stderr",
     "output_type": "stream",
     "text": [
      "0: 640x640 4 Fire-Smoke-Sodium-Trays, 4008.6ms\n",
      "Speed: 7.0ms preprocess, 4008.6ms inference, 14.0ms postprocess per image at shape (1, 3, 640, 640)\n",
      "\n"
     ]
    },
    {
     "name": "stdout",
     "output_type": "stream",
     "text": [
      "Mask identified for the frame...\n",
      "Inferencing Frame 2892...\n"
     ]
    },
    {
     "name": "stderr",
     "output_type": "stream",
     "text": [
      "0: 640x640 3 Fire-Smoke-Sodium-Trays, 3843.5ms\n",
      "Speed: 6.0ms preprocess, 3843.5ms inference, 11.0ms postprocess per image at shape (1, 3, 640, 640)\n",
      "\n"
     ]
    },
    {
     "name": "stdout",
     "output_type": "stream",
     "text": [
      "Mask identified for the frame...\n",
      "Inferencing Frame 2893...\n"
     ]
    },
    {
     "name": "stderr",
     "output_type": "stream",
     "text": [
      "0: 640x640 3 Fire-Smoke-Sodium-Trays, 3936.5ms\n",
      "Speed: 7.0ms preprocess, 3936.5ms inference, 12.0ms postprocess per image at shape (1, 3, 640, 640)\n",
      "\n"
     ]
    },
    {
     "name": "stdout",
     "output_type": "stream",
     "text": [
      "Mask identified for the frame...\n",
      "Inferencing Frame 2894...\n"
     ]
    },
    {
     "name": "stderr",
     "output_type": "stream",
     "text": [
      "0: 640x640 3 Fire-Smoke-Sodium-Trays, 4163.8ms\n",
      "Speed: 7.0ms preprocess, 4163.8ms inference, 13.0ms postprocess per image at shape (1, 3, 640, 640)\n",
      "\n"
     ]
    },
    {
     "name": "stdout",
     "output_type": "stream",
     "text": [
      "Mask identified for the frame...\n",
      "Inferencing Frame 2895...\n"
     ]
    },
    {
     "name": "stderr",
     "output_type": "stream",
     "text": [
      "0: 640x640 2 Fire-Smoke-Sodium-Trays, 3925.6ms\n",
      "Speed: 6.0ms preprocess, 3925.6ms inference, 13.0ms postprocess per image at shape (1, 3, 640, 640)\n",
      "\n"
     ]
    },
    {
     "name": "stdout",
     "output_type": "stream",
     "text": [
      "Mask identified for the frame...\n",
      "Inferencing Frame 2896...\n"
     ]
    },
    {
     "name": "stderr",
     "output_type": "stream",
     "text": [
      "0: 640x640 3 Fire-Smoke-Sodium-Trays, 3871.5ms\n",
      "Speed: 6.0ms preprocess, 3871.5ms inference, 13.0ms postprocess per image at shape (1, 3, 640, 640)\n",
      "\n"
     ]
    },
    {
     "name": "stdout",
     "output_type": "stream",
     "text": [
      "Mask identified for the frame...\n",
      "Inferencing Frame 2897...\n"
     ]
    },
    {
     "name": "stderr",
     "output_type": "stream",
     "text": [
      "0: 640x640 4 Fire-Smoke-Sodium-Trays, 3644.3ms\n",
      "Speed: 6.0ms preprocess, 3644.3ms inference, 15.0ms postprocess per image at shape (1, 3, 640, 640)\n",
      "\n"
     ]
    },
    {
     "name": "stdout",
     "output_type": "stream",
     "text": [
      "Mask identified for the frame...\n",
      "Inferencing Frame 2898...\n"
     ]
    },
    {
     "name": "stderr",
     "output_type": "stream",
     "text": [
      "0: 640x640 4 Fire-Smoke-Sodium-Trays, 4093.7ms\n",
      "Speed: 6.0ms preprocess, 4093.7ms inference, 21.1ms postprocess per image at shape (1, 3, 640, 640)\n",
      "\n"
     ]
    },
    {
     "name": "stdout",
     "output_type": "stream",
     "text": [
      "Mask identified for the frame...\n",
      "Inferencing Frame 2899...\n"
     ]
    },
    {
     "name": "stderr",
     "output_type": "stream",
     "text": [
      "0: 640x640 4 Fire-Smoke-Sodium-Trays, 3833.4ms\n",
      "Speed: 10.0ms preprocess, 3833.4ms inference, 19.0ms postprocess per image at shape (1, 3, 640, 640)\n",
      "\n"
     ]
    },
    {
     "name": "stdout",
     "output_type": "stream",
     "text": [
      "Mask identified for the frame...\n",
      "Inferencing Frame 2900...\n"
     ]
    },
    {
     "name": "stderr",
     "output_type": "stream",
     "text": [
      "0: 640x640 3 Fire-Smoke-Sodium-Trays, 3789.4ms\n",
      "Speed: 7.1ms preprocess, 3789.4ms inference, 15.0ms postprocess per image at shape (1, 3, 640, 640)\n",
      "\n"
     ]
    },
    {
     "name": "stdout",
     "output_type": "stream",
     "text": [
      "Mask identified for the frame...\n",
      "Inferencing Frame 2901...\n"
     ]
    },
    {
     "name": "stderr",
     "output_type": "stream",
     "text": [
      "0: 640x640 3 Fire-Smoke-Sodium-Trays, 3815.5ms\n",
      "Speed: 6.0ms preprocess, 3815.5ms inference, 12.0ms postprocess per image at shape (1, 3, 640, 640)\n",
      "\n"
     ]
    },
    {
     "name": "stdout",
     "output_type": "stream",
     "text": [
      "Mask identified for the frame...\n",
      "Inferencing Frame 2902...\n"
     ]
    },
    {
     "name": "stderr",
     "output_type": "stream",
     "text": [
      "0: 640x640 3 Fire-Smoke-Sodium-Trays, 3750.3ms\n",
      "Speed: 7.1ms preprocess, 3750.3ms inference, 13.0ms postprocess per image at shape (1, 3, 640, 640)\n",
      "\n"
     ]
    },
    {
     "name": "stdout",
     "output_type": "stream",
     "text": [
      "Mask identified for the frame...\n",
      "Inferencing Frame 2903...\n"
     ]
    },
    {
     "name": "stderr",
     "output_type": "stream",
     "text": [
      "0: 640x640 3 Fire-Smoke-Sodium-Trays, 3839.5ms\n",
      "Speed: 10.0ms preprocess, 3839.5ms inference, 12.0ms postprocess per image at shape (1, 3, 640, 640)\n",
      "\n"
     ]
    },
    {
     "name": "stdout",
     "output_type": "stream",
     "text": [
      "Mask identified for the frame...\n",
      "Inferencing Frame 2904...\n"
     ]
    },
    {
     "name": "stderr",
     "output_type": "stream",
     "text": [
      "0: 640x640 4 Fire-Smoke-Sodium-Trays, 3851.5ms\n",
      "Speed: 6.0ms preprocess, 3851.5ms inference, 17.1ms postprocess per image at shape (1, 3, 640, 640)\n",
      "\n"
     ]
    },
    {
     "name": "stdout",
     "output_type": "stream",
     "text": [
      "Mask identified for the frame...\n",
      "Inferencing Frame 2905...\n"
     ]
    },
    {
     "name": "stderr",
     "output_type": "stream",
     "text": [
      "0: 640x640 4 Fire-Smoke-Sodium-Trays, 3915.5ms\n",
      "Speed: 7.1ms preprocess, 3915.5ms inference, 21.0ms postprocess per image at shape (1, 3, 640, 640)\n",
      "\n"
     ]
    },
    {
     "name": "stdout",
     "output_type": "stream",
     "text": [
      "Mask identified for the frame...\n",
      "Inferencing Frame 2906...\n"
     ]
    },
    {
     "name": "stderr",
     "output_type": "stream",
     "text": [
      "0: 640x640 4 Fire-Smoke-Sodium-Trays, 4043.6ms\n",
      "Speed: 7.1ms preprocess, 4043.6ms inference, 15.0ms postprocess per image at shape (1, 3, 640, 640)\n",
      "\n"
     ]
    },
    {
     "name": "stdout",
     "output_type": "stream",
     "text": [
      "Mask identified for the frame...\n",
      "Inferencing Frame 2907...\n"
     ]
    },
    {
     "name": "stderr",
     "output_type": "stream",
     "text": [
      "0: 640x640 4 Fire-Smoke-Sodium-Trays, 3807.4ms\n",
      "Speed: 7.1ms preprocess, 3807.4ms inference, 19.0ms postprocess per image at shape (1, 3, 640, 640)\n",
      "\n"
     ]
    },
    {
     "name": "stdout",
     "output_type": "stream",
     "text": [
      "Mask identified for the frame...\n",
      "Inferencing Frame 2908...\n"
     ]
    },
    {
     "name": "stderr",
     "output_type": "stream",
     "text": [
      "0: 640x640 5 Fire-Smoke-Sodium-Trays, 3797.4ms\n",
      "Speed: 6.0ms preprocess, 3797.4ms inference, 30.1ms postprocess per image at shape (1, 3, 640, 640)\n",
      "\n"
     ]
    },
    {
     "name": "stdout",
     "output_type": "stream",
     "text": [
      "Mask identified for the frame...\n",
      "Inferencing Frame 2909...\n"
     ]
    },
    {
     "name": "stderr",
     "output_type": "stream",
     "text": [
      "0: 640x640 4 Fire-Smoke-Sodium-Trays, 4085.6ms\n",
      "Speed: 7.1ms preprocess, 4085.6ms inference, 24.0ms postprocess per image at shape (1, 3, 640, 640)\n",
      "\n"
     ]
    },
    {
     "name": "stdout",
     "output_type": "stream",
     "text": [
      "Mask identified for the frame...\n",
      "Inferencing Frame 2910...\n"
     ]
    },
    {
     "name": "stderr",
     "output_type": "stream",
     "text": [
      "0: 640x640 5 Fire-Smoke-Sodium-Trays, 4027.7ms\n",
      "Speed: 7.0ms preprocess, 4027.7ms inference, 23.0ms postprocess per image at shape (1, 3, 640, 640)\n",
      "\n"
     ]
    },
    {
     "name": "stdout",
     "output_type": "stream",
     "text": [
      "Mask identified for the frame...\n",
      "Inferencing Frame 2911...\n"
     ]
    },
    {
     "name": "stderr",
     "output_type": "stream",
     "text": [
      "0: 640x640 6 Fire-Smoke-Sodium-Trays, 4035.6ms\n",
      "Speed: 6.0ms preprocess, 4035.6ms inference, 30.0ms postprocess per image at shape (1, 3, 640, 640)\n",
      "\n"
     ]
    },
    {
     "name": "stdout",
     "output_type": "stream",
     "text": [
      "Mask identified for the frame...\n",
      "Inferencing Frame 2912...\n"
     ]
    },
    {
     "name": "stderr",
     "output_type": "stream",
     "text": [
      "0: 640x640 3 Fire-Smoke-Sodium-Trays, 4195.8ms\n",
      "Speed: 8.0ms preprocess, 4195.8ms inference, 12.0ms postprocess per image at shape (1, 3, 640, 640)\n",
      "\n"
     ]
    },
    {
     "name": "stdout",
     "output_type": "stream",
     "text": [
      "Mask identified for the frame...\n",
      "Inferencing Frame 2913...\n"
     ]
    },
    {
     "name": "stderr",
     "output_type": "stream",
     "text": [
      "0: 640x640 4 Fire-Smoke-Sodium-Trays, 4160.7ms\n",
      "Speed: 6.0ms preprocess, 4160.7ms inference, 18.0ms postprocess per image at shape (1, 3, 640, 640)\n",
      "\n"
     ]
    },
    {
     "name": "stdout",
     "output_type": "stream",
     "text": [
      "Mask identified for the frame...\n",
      "Inferencing Frame 2914...\n"
     ]
    },
    {
     "name": "stderr",
     "output_type": "stream",
     "text": [
      "0: 640x640 5 Fire-Smoke-Sodium-Trays, 4005.6ms\n",
      "Speed: 7.0ms preprocess, 4005.6ms inference, 18.0ms postprocess per image at shape (1, 3, 640, 640)\n",
      "\n"
     ]
    },
    {
     "name": "stdout",
     "output_type": "stream",
     "text": [
      "Mask identified for the frame...\n",
      "Inferencing Frame 2915...\n"
     ]
    },
    {
     "name": "stderr",
     "output_type": "stream",
     "text": [
      "0: 640x640 6 Fire-Smoke-Sodium-Trays, 4010.7ms\n",
      "Speed: 6.0ms preprocess, 4010.7ms inference, 27.0ms postprocess per image at shape (1, 3, 640, 640)\n",
      "\n"
     ]
    },
    {
     "name": "stdout",
     "output_type": "stream",
     "text": [
      "Mask identified for the frame...\n",
      "Inferencing Frame 2916...\n"
     ]
    },
    {
     "name": "stderr",
     "output_type": "stream",
     "text": [
      "0: 640x640 3 Fire-Smoke-Sodium-Trays, 4065.7ms\n",
      "Speed: 6.1ms preprocess, 4065.7ms inference, 11.9ms postprocess per image at shape (1, 3, 640, 640)\n",
      "\n"
     ]
    },
    {
     "name": "stdout",
     "output_type": "stream",
     "text": [
      "Mask identified for the frame...\n",
      "Inferencing Frame 2917...\n"
     ]
    },
    {
     "name": "stderr",
     "output_type": "stream",
     "text": [
      "0: 640x640 3 Fire-Smoke-Sodium-Trays, 3961.6ms\n",
      "Speed: 6.0ms preprocess, 3961.6ms inference, 15.0ms postprocess per image at shape (1, 3, 640, 640)\n",
      "\n"
     ]
    },
    {
     "name": "stdout",
     "output_type": "stream",
     "text": [
      "Mask identified for the frame...\n",
      "Inferencing Frame 2918...\n"
     ]
    },
    {
     "name": "stderr",
     "output_type": "stream",
     "text": [
      "0: 640x640 3 Fire-Smoke-Sodium-Trays, 4056.7ms\n",
      "Speed: 6.0ms preprocess, 4056.7ms inference, 12.0ms postprocess per image at shape (1, 3, 640, 640)\n",
      "\n"
     ]
    },
    {
     "name": "stdout",
     "output_type": "stream",
     "text": [
      "Mask identified for the frame...\n",
      "Inferencing Frame 2919...\n"
     ]
    },
    {
     "name": "stderr",
     "output_type": "stream",
     "text": [
      "0: 640x640 4 Fire-Smoke-Sodium-Trays, 4135.7ms\n",
      "Speed: 6.0ms preprocess, 4135.7ms inference, 14.0ms postprocess per image at shape (1, 3, 640, 640)\n",
      "\n"
     ]
    },
    {
     "name": "stdout",
     "output_type": "stream",
     "text": [
      "Mask identified for the frame...\n",
      "Inferencing Frame 2920...\n"
     ]
    },
    {
     "name": "stderr",
     "output_type": "stream",
     "text": [
      "0: 640x640 5 Fire-Smoke-Sodium-Trays, 3742.3ms\n",
      "Speed: 6.1ms preprocess, 3742.3ms inference, 18.0ms postprocess per image at shape (1, 3, 640, 640)\n",
      "\n"
     ]
    },
    {
     "name": "stdout",
     "output_type": "stream",
     "text": [
      "Mask identified for the frame...\n",
      "Inferencing Frame 2921...\n"
     ]
    },
    {
     "name": "stderr",
     "output_type": "stream",
     "text": [
      "0: 640x640 9 Fire-Smoke-Sodium-Trays, 4157.8ms\n",
      "Speed: 6.1ms preprocess, 4157.8ms inference, 34.0ms postprocess per image at shape (1, 3, 640, 640)\n",
      "\n"
     ]
    },
    {
     "name": "stdout",
     "output_type": "stream",
     "text": [
      "Mask identified for the frame...\n",
      "Inferencing Frame 2922...\n"
     ]
    },
    {
     "name": "stderr",
     "output_type": "stream",
     "text": [
      "0: 640x640 4 Fire-Smoke-Sodium-Trays, 3856.4ms\n",
      "Speed: 7.0ms preprocess, 3856.4ms inference, 15.0ms postprocess per image at shape (1, 3, 640, 640)\n",
      "\n"
     ]
    },
    {
     "name": "stdout",
     "output_type": "stream",
     "text": [
      "Mask identified for the frame...\n",
      "Inferencing Frame 2923...\n"
     ]
    },
    {
     "name": "stderr",
     "output_type": "stream",
     "text": [
      "0: 640x640 2 Fire-Smoke-Sodium-Trays, 3859.5ms\n",
      "Speed: 6.0ms preprocess, 3859.5ms inference, 9.0ms postprocess per image at shape (1, 3, 640, 640)\n",
      "\n"
     ]
    },
    {
     "name": "stdout",
     "output_type": "stream",
     "text": [
      "Mask identified for the frame...\n",
      "Inferencing Frame 2924...\n"
     ]
    },
    {
     "name": "stderr",
     "output_type": "stream",
     "text": [
      "0: 640x640 3 Fire-Smoke-Sodium-Trays, 4219.8ms\n",
      "Speed: 6.0ms preprocess, 4219.8ms inference, 11.0ms postprocess per image at shape (1, 3, 640, 640)\n",
      "\n"
     ]
    },
    {
     "name": "stdout",
     "output_type": "stream",
     "text": [
      "Mask identified for the frame...\n",
      "Inferencing Frame 2925...\n"
     ]
    },
    {
     "name": "stderr",
     "output_type": "stream",
     "text": [
      "0: 640x640 1 Fire-Smoke-Sodium-Tray, 4047.6ms\n",
      "Speed: 6.1ms preprocess, 4047.6ms inference, 6.0ms postprocess per image at shape (1, 3, 640, 640)\n",
      "\n"
     ]
    },
    {
     "name": "stdout",
     "output_type": "stream",
     "text": [
      "Mask identified for the frame...\n",
      "Inferencing Frame 2926...\n"
     ]
    },
    {
     "name": "stderr",
     "output_type": "stream",
     "text": [
      "0: 640x640 3 Fire-Smoke-Sodium-Trays, 4160.8ms\n",
      "Speed: 7.0ms preprocess, 4160.8ms inference, 12.0ms postprocess per image at shape (1, 3, 640, 640)\n",
      "\n"
     ]
    },
    {
     "name": "stdout",
     "output_type": "stream",
     "text": [
      "Mask identified for the frame...\n",
      "Inferencing Frame 2927...\n"
     ]
    },
    {
     "name": "stderr",
     "output_type": "stream",
     "text": [
      "0: 640x640 3 Fire-Smoke-Sodium-Trays, 3793.4ms\n",
      "Speed: 6.0ms preprocess, 3793.4ms inference, 14.0ms postprocess per image at shape (1, 3, 640, 640)\n",
      "\n"
     ]
    },
    {
     "name": "stdout",
     "output_type": "stream",
     "text": [
      "Mask identified for the frame...\n",
      "Inferencing Frame 2928...\n"
     ]
    },
    {
     "name": "stderr",
     "output_type": "stream",
     "text": [
      "0: 640x640 3 Fire-Smoke-Sodium-Trays, 3962.6ms\n",
      "Speed: 6.0ms preprocess, 3962.6ms inference, 12.0ms postprocess per image at shape (1, 3, 640, 640)\n",
      "\n"
     ]
    },
    {
     "name": "stdout",
     "output_type": "stream",
     "text": [
      "Mask identified for the frame...\n",
      "Inferencing Frame 2929...\n"
     ]
    },
    {
     "name": "stderr",
     "output_type": "stream",
     "text": [
      "0: 640x640 1 Fire-Smoke-Sodium-Tray, 3940.5ms\n",
      "Speed: 7.1ms preprocess, 3940.5ms inference, 5.0ms postprocess per image at shape (1, 3, 640, 640)\n",
      "\n"
     ]
    },
    {
     "name": "stdout",
     "output_type": "stream",
     "text": [
      "Mask identified for the frame...\n",
      "Inferencing Frame 2930...\n"
     ]
    },
    {
     "name": "stderr",
     "output_type": "stream",
     "text": [
      "0: 640x640 3 Fire-Smoke-Sodium-Trays, 3963.6ms\n",
      "Speed: 7.1ms preprocess, 3963.6ms inference, 12.0ms postprocess per image at shape (1, 3, 640, 640)\n",
      "\n"
     ]
    },
    {
     "name": "stdout",
     "output_type": "stream",
     "text": [
      "Mask identified for the frame...\n",
      "Inferencing Frame 2931...\n"
     ]
    },
    {
     "name": "stderr",
     "output_type": "stream",
     "text": [
      "0: 640x640 2 Fire-Smoke-Sodium-Trays, 3723.4ms\n",
      "Speed: 6.0ms preprocess, 3723.4ms inference, 12.0ms postprocess per image at shape (1, 3, 640, 640)\n",
      "\n"
     ]
    },
    {
     "name": "stdout",
     "output_type": "stream",
     "text": [
      "Mask identified for the frame...\n",
      "Inferencing Frame 2932...\n"
     ]
    },
    {
     "name": "stderr",
     "output_type": "stream",
     "text": [
      "0: 640x640 2 Fire-Smoke-Sodium-Trays, 3844.5ms\n",
      "Speed: 7.0ms preprocess, 3844.5ms inference, 12.0ms postprocess per image at shape (1, 3, 640, 640)\n",
      "\n"
     ]
    },
    {
     "name": "stdout",
     "output_type": "stream",
     "text": [
      "Mask identified for the frame...\n",
      "Inferencing Frame 2933...\n"
     ]
    },
    {
     "name": "stderr",
     "output_type": "stream",
     "text": [
      "0: 640x640 2 Fire-Smoke-Sodium-Trays, 3921.5ms\n",
      "Speed: 6.0ms preprocess, 3921.5ms inference, 8.0ms postprocess per image at shape (1, 3, 640, 640)\n",
      "\n"
     ]
    },
    {
     "name": "stdout",
     "output_type": "stream",
     "text": [
      "Mask identified for the frame...\n",
      "Inferencing Frame 2934...\n"
     ]
    },
    {
     "name": "stderr",
     "output_type": "stream",
     "text": [
      "0: 640x640 2 Fire-Smoke-Sodium-Trays, 3930.6ms\n",
      "Speed: 6.0ms preprocess, 3930.6ms inference, 9.0ms postprocess per image at shape (1, 3, 640, 640)\n",
      "\n"
     ]
    },
    {
     "name": "stdout",
     "output_type": "stream",
     "text": [
      "Mask identified for the frame...\n",
      "Inferencing Frame 2935...\n"
     ]
    },
    {
     "name": "stderr",
     "output_type": "stream",
     "text": [
      "0: 640x640 2 Fire-Smoke-Sodium-Trays, 3905.6ms\n",
      "Speed: 7.0ms preprocess, 3905.6ms inference, 14.0ms postprocess per image at shape (1, 3, 640, 640)\n",
      "\n"
     ]
    },
    {
     "name": "stdout",
     "output_type": "stream",
     "text": [
      "Mask identified for the frame...\n",
      "Inferencing Frame 2936...\n"
     ]
    },
    {
     "name": "stderr",
     "output_type": "stream",
     "text": [
      "0: 640x640 2 Fire-Smoke-Sodium-Trays, 4067.7ms\n",
      "Speed: 6.0ms preprocess, 4067.7ms inference, 7.9ms postprocess per image at shape (1, 3, 640, 640)\n",
      "\n"
     ]
    },
    {
     "name": "stdout",
     "output_type": "stream",
     "text": [
      "Mask identified for the frame...\n",
      "Inferencing Frame 2937...\n"
     ]
    },
    {
     "name": "stderr",
     "output_type": "stream",
     "text": [
      "0: 640x640 4 Fire-Smoke-Sodium-Trays, 3706.3ms\n",
      "Speed: 7.1ms preprocess, 3706.3ms inference, 16.0ms postprocess per image at shape (1, 3, 640, 640)\n",
      "\n"
     ]
    },
    {
     "name": "stdout",
     "output_type": "stream",
     "text": [
      "Mask identified for the frame...\n",
      "Inferencing Frame 2938...\n"
     ]
    },
    {
     "name": "stderr",
     "output_type": "stream",
     "text": [
      "0: 640x640 3 Fire-Smoke-Sodium-Trays, 3820.5ms\n",
      "Speed: 6.0ms preprocess, 3820.5ms inference, 19.0ms postprocess per image at shape (1, 3, 640, 640)\n",
      "\n"
     ]
    },
    {
     "name": "stdout",
     "output_type": "stream",
     "text": [
      "Mask identified for the frame...\n",
      "Inferencing Frame 2939...\n"
     ]
    },
    {
     "name": "stderr",
     "output_type": "stream",
     "text": [
      "0: 640x640 4 Fire-Smoke-Sodium-Trays, 4285.8ms\n",
      "Speed: 7.1ms preprocess, 4285.8ms inference, 24.0ms postprocess per image at shape (1, 3, 640, 640)\n",
      "\n"
     ]
    },
    {
     "name": "stdout",
     "output_type": "stream",
     "text": [
      "Mask identified for the frame...\n",
      "Inferencing Frame 2940...\n"
     ]
    },
    {
     "name": "stderr",
     "output_type": "stream",
     "text": [
      "0: 640x640 5 Fire-Smoke-Sodium-Trays, 3698.3ms\n",
      "Speed: 7.0ms preprocess, 3698.3ms inference, 24.0ms postprocess per image at shape (1, 3, 640, 640)\n",
      "\n"
     ]
    },
    {
     "name": "stdout",
     "output_type": "stream",
     "text": [
      "Mask identified for the frame...\n",
      "Inferencing Frame 2941...\n"
     ]
    },
    {
     "name": "stderr",
     "output_type": "stream",
     "text": [
      "0: 640x640 4 Fire-Smoke-Sodium-Trays, 3847.5ms\n",
      "Speed: 7.0ms preprocess, 3847.5ms inference, 17.0ms postprocess per image at shape (1, 3, 640, 640)\n",
      "\n"
     ]
    },
    {
     "name": "stdout",
     "output_type": "stream",
     "text": [
      "Mask identified for the frame...\n",
      "Inferencing Frame 2942...\n"
     ]
    },
    {
     "name": "stderr",
     "output_type": "stream",
     "text": [
      "0: 640x640 4 Fire-Smoke-Sodium-Trays, 4032.6ms\n",
      "Speed: 6.0ms preprocess, 4032.6ms inference, 15.0ms postprocess per image at shape (1, 3, 640, 640)\n",
      "\n"
     ]
    },
    {
     "name": "stdout",
     "output_type": "stream",
     "text": [
      "Mask identified for the frame...\n",
      "Inferencing Frame 2943...\n"
     ]
    },
    {
     "name": "stderr",
     "output_type": "stream",
     "text": [
      "0: 640x640 2 Fire-Smoke-Sodium-Trays, 3766.4ms\n",
      "Speed: 6.0ms preprocess, 3766.4ms inference, 8.0ms postprocess per image at shape (1, 3, 640, 640)\n",
      "\n"
     ]
    },
    {
     "name": "stdout",
     "output_type": "stream",
     "text": [
      "Mask identified for the frame...\n",
      "Inferencing Frame 2944...\n"
     ]
    },
    {
     "name": "stderr",
     "output_type": "stream",
     "text": [
      "0: 640x640 2 Fire-Smoke-Sodium-Trays, 4036.6ms\n",
      "Speed: 6.0ms preprocess, 4036.6ms inference, 9.0ms postprocess per image at shape (1, 3, 640, 640)\n",
      "\n"
     ]
    },
    {
     "name": "stdout",
     "output_type": "stream",
     "text": [
      "Mask identified for the frame...\n",
      "Inferencing Frame 2945...\n"
     ]
    },
    {
     "name": "stderr",
     "output_type": "stream",
     "text": [
      "0: 640x640 1 Fire-Smoke-Sodium-Tray, 3817.4ms\n",
      "Speed: 6.0ms preprocess, 3817.4ms inference, 6.0ms postprocess per image at shape (1, 3, 640, 640)\n",
      "\n"
     ]
    },
    {
     "name": "stdout",
     "output_type": "stream",
     "text": [
      "Mask identified for the frame...\n",
      "Inferencing Frame 2946...\n"
     ]
    },
    {
     "name": "stderr",
     "output_type": "stream",
     "text": [
      "0: 640x640 1 Fire-Smoke-Sodium-Tray, 3815.4ms\n",
      "Speed: 6.0ms preprocess, 3815.4ms inference, 6.0ms postprocess per image at shape (1, 3, 640, 640)\n",
      "\n"
     ]
    },
    {
     "name": "stdout",
     "output_type": "stream",
     "text": [
      "Mask identified for the frame...\n",
      "Inferencing Frame 2947...\n"
     ]
    },
    {
     "name": "stderr",
     "output_type": "stream",
     "text": [
      "0: 640x640 2 Fire-Smoke-Sodium-Trays, 3680.3ms\n",
      "Speed: 6.0ms preprocess, 3680.3ms inference, 9.0ms postprocess per image at shape (1, 3, 640, 640)\n",
      "\n"
     ]
    },
    {
     "name": "stdout",
     "output_type": "stream",
     "text": [
      "Mask identified for the frame...\n",
      "Inferencing Frame 2948...\n"
     ]
    },
    {
     "name": "stderr",
     "output_type": "stream",
     "text": [
      "0: 640x640 1 Fire-Smoke-Sodium-Tray, 3706.3ms\n",
      "Speed: 6.0ms preprocess, 3706.3ms inference, 6.0ms postprocess per image at shape (1, 3, 640, 640)\n",
      "\n"
     ]
    },
    {
     "name": "stdout",
     "output_type": "stream",
     "text": [
      "Mask identified for the frame...\n",
      "Inferencing Frame 2949...\n"
     ]
    },
    {
     "name": "stderr",
     "output_type": "stream",
     "text": [
      "0: 640x640 2 Fire-Smoke-Sodium-Trays, 3961.6ms\n",
      "Speed: 6.0ms preprocess, 3961.6ms inference, 8.0ms postprocess per image at shape (1, 3, 640, 640)\n",
      "\n"
     ]
    },
    {
     "name": "stdout",
     "output_type": "stream",
     "text": [
      "Mask identified for the frame...\n",
      "Inferencing Frame 2950...\n"
     ]
    },
    {
     "name": "stderr",
     "output_type": "stream",
     "text": [
      "0: 640x640 2 Fire-Smoke-Sodium-Trays, 3859.5ms\n",
      "Speed: 6.0ms preprocess, 3859.5ms inference, 9.0ms postprocess per image at shape (1, 3, 640, 640)\n",
      "\n"
     ]
    },
    {
     "name": "stdout",
     "output_type": "stream",
     "text": [
      "Mask identified for the frame...\n",
      "Inferencing Frame 2951...\n"
     ]
    },
    {
     "name": "stderr",
     "output_type": "stream",
     "text": [
      "0: 640x640 1 Fire-Smoke-Sodium-Tray, 3840.4ms\n",
      "Speed: 7.1ms preprocess, 3840.4ms inference, 7.0ms postprocess per image at shape (1, 3, 640, 640)\n",
      "\n"
     ]
    },
    {
     "name": "stdout",
     "output_type": "stream",
     "text": [
      "Mask identified for the frame...\n",
      "Inferencing Frame 2952...\n"
     ]
    },
    {
     "name": "stderr",
     "output_type": "stream",
     "text": [
      "0: 640x640 3 Fire-Smoke-Sodium-Trays, 4144.7ms\n",
      "Speed: 6.0ms preprocess, 4144.7ms inference, 12.0ms postprocess per image at shape (1, 3, 640, 640)\n",
      "\n"
     ]
    },
    {
     "name": "stdout",
     "output_type": "stream",
     "text": [
      "Mask identified for the frame...\n",
      "Inferencing Frame 2953...\n"
     ]
    },
    {
     "name": "stderr",
     "output_type": "stream",
     "text": [
      "0: 640x640 2 Fire-Smoke-Sodium-Trays, 3980.6ms\n",
      "Speed: 6.0ms preprocess, 3980.6ms inference, 15.0ms postprocess per image at shape (1, 3, 640, 640)\n",
      "\n"
     ]
    },
    {
     "name": "stdout",
     "output_type": "stream",
     "text": [
      "Mask identified for the frame...\n",
      "Inferencing Frame 2954...\n"
     ]
    },
    {
     "name": "stderr",
     "output_type": "stream",
     "text": [
      "0: 640x640 3 Fire-Smoke-Sodium-Trays, 3995.6ms\n",
      "Speed: 8.0ms preprocess, 3995.6ms inference, 17.0ms postprocess per image at shape (1, 3, 640, 640)\n",
      "\n"
     ]
    },
    {
     "name": "stdout",
     "output_type": "stream",
     "text": [
      "Mask identified for the frame...\n",
      "Inferencing Frame 2955...\n"
     ]
    },
    {
     "name": "stderr",
     "output_type": "stream",
     "text": [
      "0: 640x640 2 Fire-Smoke-Sodium-Trays, 4244.9ms\n",
      "Speed: 7.0ms preprocess, 4244.9ms inference, 12.0ms postprocess per image at shape (1, 3, 640, 640)\n",
      "\n"
     ]
    },
    {
     "name": "stdout",
     "output_type": "stream",
     "text": [
      "Mask identified for the frame...\n",
      "Inferencing Frame 2956...\n"
     ]
    },
    {
     "name": "stderr",
     "output_type": "stream",
     "text": [
      "0: 640x640 2 Fire-Smoke-Sodium-Trays, 4118.7ms\n",
      "Speed: 6.0ms preprocess, 4118.7ms inference, 9.0ms postprocess per image at shape (1, 3, 640, 640)\n",
      "\n"
     ]
    },
    {
     "name": "stdout",
     "output_type": "stream",
     "text": [
      "Mask identified for the frame...\n",
      "Inferencing Frame 2957...\n"
     ]
    },
    {
     "name": "stderr",
     "output_type": "stream",
     "text": [
      "0: 640x640 1 Fire-Smoke-Sodium-Tray, 4146.7ms\n",
      "Speed: 6.0ms preprocess, 4146.7ms inference, 6.0ms postprocess per image at shape (1, 3, 640, 640)\n",
      "\n"
     ]
    },
    {
     "name": "stdout",
     "output_type": "stream",
     "text": [
      "Mask identified for the frame...\n",
      "Inferencing Frame 2958...\n"
     ]
    },
    {
     "name": "stderr",
     "output_type": "stream",
     "text": [
      "0: 640x640 2 Fire-Smoke-Sodium-Trays, 3704.3ms\n",
      "Speed: 7.1ms preprocess, 3704.3ms inference, 13.1ms postprocess per image at shape (1, 3, 640, 640)\n",
      "\n"
     ]
    },
    {
     "name": "stdout",
     "output_type": "stream",
     "text": [
      "Mask identified for the frame...\n",
      "Inferencing Frame 2959...\n"
     ]
    },
    {
     "name": "stderr",
     "output_type": "stream",
     "text": [
      "0: 640x640 2 Fire-Smoke-Sodium-Trays, 3982.6ms\n",
      "Speed: 6.0ms preprocess, 3982.6ms inference, 13.0ms postprocess per image at shape (1, 3, 640, 640)\n",
      "\n"
     ]
    },
    {
     "name": "stdout",
     "output_type": "stream",
     "text": [
      "Mask identified for the frame...\n",
      "Inferencing Frame 2960...\n"
     ]
    },
    {
     "name": "stderr",
     "output_type": "stream",
     "text": [
      "0: 640x640 4 Fire-Smoke-Sodium-Trays, 3949.6ms\n",
      "Speed: 6.0ms preprocess, 3949.6ms inference, 20.0ms postprocess per image at shape (1, 3, 640, 640)\n",
      "\n"
     ]
    },
    {
     "name": "stdout",
     "output_type": "stream",
     "text": [
      "Mask identified for the frame...\n",
      "Inferencing Frame 2961...\n"
     ]
    },
    {
     "name": "stderr",
     "output_type": "stream",
     "text": [
      "0: 640x640 2 Fire-Smoke-Sodium-Trays, 3855.4ms\n",
      "Speed: 7.1ms preprocess, 3855.4ms inference, 9.0ms postprocess per image at shape (1, 3, 640, 640)\n",
      "\n"
     ]
    },
    {
     "name": "stdout",
     "output_type": "stream",
     "text": [
      "Mask identified for the frame...\n",
      "Inferencing Frame 2962...\n"
     ]
    },
    {
     "name": "stderr",
     "output_type": "stream",
     "text": [
      "0: 640x640 1 Fire-Smoke-Sodium-Tray, 3857.5ms\n",
      "Speed: 7.0ms preprocess, 3857.5ms inference, 6.0ms postprocess per image at shape (1, 3, 640, 640)\n",
      "\n"
     ]
    },
    {
     "name": "stdout",
     "output_type": "stream",
     "text": [
      "Mask identified for the frame...\n",
      "Inferencing Frame 2963...\n"
     ]
    },
    {
     "name": "stderr",
     "output_type": "stream",
     "text": [
      "0: 640x640 1 Fire-Smoke-Sodium-Tray, 3807.4ms\n",
      "Speed: 6.0ms preprocess, 3807.4ms inference, 6.0ms postprocess per image at shape (1, 3, 640, 640)\n",
      "\n"
     ]
    },
    {
     "name": "stdout",
     "output_type": "stream",
     "text": [
      "Mask identified for the frame...\n",
      "Inferencing Frame 2964...\n"
     ]
    },
    {
     "name": "stderr",
     "output_type": "stream",
     "text": [
      "0: 640x640 1 Fire-Smoke-Sodium-Tray, 3947.6ms\n",
      "Speed: 6.0ms preprocess, 3947.6ms inference, 6.0ms postprocess per image at shape (1, 3, 640, 640)\n",
      "\n"
     ]
    },
    {
     "name": "stdout",
     "output_type": "stream",
     "text": [
      "Mask identified for the frame...\n",
      "Inferencing Frame 2965...\n"
     ]
    },
    {
     "name": "stderr",
     "output_type": "stream",
     "text": [
      "0: 640x640 1 Fire-Smoke-Sodium-Tray, 3910.5ms\n",
      "Speed: 9.0ms preprocess, 3910.5ms inference, 6.0ms postprocess per image at shape (1, 3, 640, 640)\n",
      "\n"
     ]
    },
    {
     "name": "stdout",
     "output_type": "stream",
     "text": [
      "Mask identified for the frame...\n",
      "Inferencing Frame 2966...\n"
     ]
    },
    {
     "name": "stderr",
     "output_type": "stream",
     "text": [
      "0: 640x640 1 Fire-Smoke-Sodium-Tray, 3731.4ms\n",
      "Speed: 6.0ms preprocess, 3731.4ms inference, 9.0ms postprocess per image at shape (1, 3, 640, 640)\n",
      "\n"
     ]
    },
    {
     "name": "stdout",
     "output_type": "stream",
     "text": [
      "Mask identified for the frame...\n",
      "Inferencing Frame 2967...\n"
     ]
    },
    {
     "name": "stderr",
     "output_type": "stream",
     "text": [
      "0: 640x640 2 Fire-Smoke-Sodium-Trays, 4072.7ms\n",
      "Speed: 6.0ms preprocess, 4072.7ms inference, 11.0ms postprocess per image at shape (1, 3, 640, 640)\n",
      "\n"
     ]
    },
    {
     "name": "stdout",
     "output_type": "stream",
     "text": [
      "Mask identified for the frame...\n",
      "Inferencing Frame 2968...\n"
     ]
    },
    {
     "name": "stderr",
     "output_type": "stream",
     "text": [
      "0: 640x640 1 Fire-Smoke-Sodium-Tray, 3757.3ms\n",
      "Speed: 6.0ms preprocess, 3757.3ms inference, 6.0ms postprocess per image at shape (1, 3, 640, 640)\n",
      "\n"
     ]
    },
    {
     "name": "stdout",
     "output_type": "stream",
     "text": [
      "Mask identified for the frame...\n",
      "Inferencing Frame 2969...\n"
     ]
    },
    {
     "name": "stderr",
     "output_type": "stream",
     "text": [
      "0: 640x640 1 Fire-Smoke-Sodium-Tray, 4061.7ms\n",
      "Speed: 7.0ms preprocess, 4061.7ms inference, 6.0ms postprocess per image at shape (1, 3, 640, 640)\n",
      "\n"
     ]
    },
    {
     "name": "stdout",
     "output_type": "stream",
     "text": [
      "Mask identified for the frame...\n",
      "Inferencing Frame 2970...\n"
     ]
    },
    {
     "name": "stderr",
     "output_type": "stream",
     "text": [
      "0: 640x640 1 Fire-Smoke-Sodium-Tray, 4266.8ms\n",
      "Speed: 7.0ms preprocess, 4266.8ms inference, 6.0ms postprocess per image at shape (1, 3, 640, 640)\n",
      "\n"
     ]
    },
    {
     "name": "stdout",
     "output_type": "stream",
     "text": [
      "Mask identified for the frame...\n",
      "Inferencing Frame 2971...\n"
     ]
    },
    {
     "name": "stderr",
     "output_type": "stream",
     "text": [
      "0: 640x640 1 Fire-Smoke-Sodium-Tray, 3770.4ms\n",
      "Speed: 6.0ms preprocess, 3770.4ms inference, 6.0ms postprocess per image at shape (1, 3, 640, 640)\n",
      "\n"
     ]
    },
    {
     "name": "stdout",
     "output_type": "stream",
     "text": [
      "Mask identified for the frame...\n",
      "Inferencing Frame 2972...\n"
     ]
    },
    {
     "name": "stderr",
     "output_type": "stream",
     "text": [
      "0: 640x640 1 Fire-Smoke-Sodium-Tray, 3979.6ms\n",
      "Speed: 6.0ms preprocess, 3979.6ms inference, 7.0ms postprocess per image at shape (1, 3, 640, 640)\n",
      "\n"
     ]
    },
    {
     "name": "stdout",
     "output_type": "stream",
     "text": [
      "Mask identified for the frame...\n",
      "Inferencing Frame 2973...\n"
     ]
    },
    {
     "name": "stderr",
     "output_type": "stream",
     "text": [
      "0: 640x640 1 Fire-Smoke-Sodium-Tray, 4002.7ms\n",
      "Speed: 6.0ms preprocess, 4002.7ms inference, 7.9ms postprocess per image at shape (1, 3, 640, 640)\n",
      "\n"
     ]
    },
    {
     "name": "stdout",
     "output_type": "stream",
     "text": [
      "Mask identified for the frame...\n",
      "Inferencing Frame 2974...\n"
     ]
    },
    {
     "name": "stderr",
     "output_type": "stream",
     "text": [
      "0: 640x640 4 Fire-Smoke-Sodium-Trays, 3751.4ms\n",
      "Speed: 6.0ms preprocess, 3751.4ms inference, 16.0ms postprocess per image at shape (1, 3, 640, 640)\n",
      "\n"
     ]
    },
    {
     "name": "stdout",
     "output_type": "stream",
     "text": [
      "Mask identified for the frame...\n",
      "Inferencing Frame 2975...\n"
     ]
    },
    {
     "name": "stderr",
     "output_type": "stream",
     "text": [
      "0: 640x640 2 Fire-Smoke-Sodium-Trays, 3963.6ms\n",
      "Speed: 5.0ms preprocess, 3963.6ms inference, 17.0ms postprocess per image at shape (1, 3, 640, 640)\n",
      "\n"
     ]
    },
    {
     "name": "stdout",
     "output_type": "stream",
     "text": [
      "Mask identified for the frame...\n",
      "Inferencing Frame 2976...\n"
     ]
    },
    {
     "name": "stderr",
     "output_type": "stream",
     "text": [
      "0: 640x640 1 Fire-Smoke-Sodium-Tray, 3697.3ms\n",
      "Speed: 7.1ms preprocess, 3697.3ms inference, 6.0ms postprocess per image at shape (1, 3, 640, 640)\n",
      "\n"
     ]
    },
    {
     "name": "stdout",
     "output_type": "stream",
     "text": [
      "Mask identified for the frame...\n",
      "Inferencing Frame 2977...\n"
     ]
    },
    {
     "name": "stderr",
     "output_type": "stream",
     "text": [
      "0: 640x640 1 Fire-Smoke-Sodium-Tray, 3870.5ms\n",
      "Speed: 6.0ms preprocess, 3870.5ms inference, 6.0ms postprocess per image at shape (1, 3, 640, 640)\n",
      "\n"
     ]
    },
    {
     "name": "stdout",
     "output_type": "stream",
     "text": [
      "Mask identified for the frame...\n",
      "Inferencing Frame 2978...\n"
     ]
    },
    {
     "name": "stderr",
     "output_type": "stream",
     "text": [
      "0: 640x640 1 Fire-Smoke-Sodium-Tray, 3780.4ms\n",
      "Speed: 7.1ms preprocess, 3780.4ms inference, 7.0ms postprocess per image at shape (1, 3, 640, 640)\n",
      "\n"
     ]
    },
    {
     "name": "stdout",
     "output_type": "stream",
     "text": [
      "Mask identified for the frame...\n",
      "Inferencing Frame 2979...\n"
     ]
    },
    {
     "name": "stderr",
     "output_type": "stream",
     "text": [
      "0: 640x640 1 Fire-Smoke-Sodium-Tray, 3873.5ms\n",
      "Speed: 6.0ms preprocess, 3873.5ms inference, 6.0ms postprocess per image at shape (1, 3, 640, 640)\n",
      "\n"
     ]
    },
    {
     "name": "stdout",
     "output_type": "stream",
     "text": [
      "Mask identified for the frame...\n",
      "Inferencing Frame 2980...\n"
     ]
    },
    {
     "name": "stderr",
     "output_type": "stream",
     "text": [
      "0: 640x640 1 Fire-Smoke-Sodium-Tray, 4050.6ms\n",
      "Speed: 5.0ms preprocess, 4050.6ms inference, 6.0ms postprocess per image at shape (1, 3, 640, 640)\n",
      "\n"
     ]
    },
    {
     "name": "stdout",
     "output_type": "stream",
     "text": [
      "Mask identified for the frame...\n",
      "Inferencing Frame 2981...\n"
     ]
    },
    {
     "name": "stderr",
     "output_type": "stream",
     "text": [
      "0: 640x640 1 Fire-Smoke-Sodium-Tray, 3789.4ms\n",
      "Speed: 7.1ms preprocess, 3789.4ms inference, 6.0ms postprocess per image at shape (1, 3, 640, 640)\n",
      "\n"
     ]
    },
    {
     "name": "stdout",
     "output_type": "stream",
     "text": [
      "Mask identified for the frame...\n",
      "Inferencing Frame 2982...\n"
     ]
    },
    {
     "name": "stderr",
     "output_type": "stream",
     "text": [
      "0: 640x640 1 Fire-Smoke-Sodium-Tray, 3914.5ms\n",
      "Speed: 7.0ms preprocess, 3914.5ms inference, 11.0ms postprocess per image at shape (1, 3, 640, 640)\n",
      "\n"
     ]
    },
    {
     "name": "stdout",
     "output_type": "stream",
     "text": [
      "Mask identified for the frame...\n",
      "Inferencing Frame 2983...\n"
     ]
    },
    {
     "name": "stderr",
     "output_type": "stream",
     "text": [
      "0: 640x640 1 Fire-Smoke-Sodium-Tray, 3767.4ms\n",
      "Speed: 6.0ms preprocess, 3767.4ms inference, 6.0ms postprocess per image at shape (1, 3, 640, 640)\n",
      "\n"
     ]
    },
    {
     "name": "stdout",
     "output_type": "stream",
     "text": [
      "Mask identified for the frame...\n",
      "Inferencing Frame 2984...\n"
     ]
    },
    {
     "name": "stderr",
     "output_type": "stream",
     "text": [
      "0: 640x640 2 Fire-Smoke-Sodium-Trays, 3920.6ms\n",
      "Speed: 6.0ms preprocess, 3920.6ms inference, 13.0ms postprocess per image at shape (1, 3, 640, 640)\n",
      "\n"
     ]
    },
    {
     "name": "stdout",
     "output_type": "stream",
     "text": [
      "Mask identified for the frame...\n",
      "Inferencing Frame 2985...\n"
     ]
    },
    {
     "name": "stderr",
     "output_type": "stream",
     "text": [
      "0: 640x640 1 Fire-Smoke-Sodium-Tray, 4171.8ms\n",
      "Speed: 6.0ms preprocess, 4171.8ms inference, 6.1ms postprocess per image at shape (1, 3, 640, 640)\n",
      "\n"
     ]
    },
    {
     "name": "stdout",
     "output_type": "stream",
     "text": [
      "Mask identified for the frame...\n",
      "Inferencing Frame 2986...\n"
     ]
    },
    {
     "name": "stderr",
     "output_type": "stream",
     "text": [
      "0: 640x640 1 Fire-Smoke-Sodium-Tray, 4238.8ms\n",
      "Speed: 6.0ms preprocess, 4238.8ms inference, 7.1ms postprocess per image at shape (1, 3, 640, 640)\n",
      "\n"
     ]
    },
    {
     "name": "stdout",
     "output_type": "stream",
     "text": [
      "Mask identified for the frame...\n",
      "Inferencing Frame 2987...\n"
     ]
    },
    {
     "name": "stderr",
     "output_type": "stream",
     "text": [
      "0: 640x640 2 Fire-Smoke-Sodium-Trays, 4040.6ms\n",
      "Speed: 6.0ms preprocess, 4040.6ms inference, 13.1ms postprocess per image at shape (1, 3, 640, 640)\n",
      "\n"
     ]
    },
    {
     "name": "stdout",
     "output_type": "stream",
     "text": [
      "Mask identified for the frame...\n",
      "Inferencing Frame 2988...\n"
     ]
    },
    {
     "name": "stderr",
     "output_type": "stream",
     "text": [
      "0: 640x640 1 Fire-Smoke-Sodium-Tray, 3889.5ms\n",
      "Speed: 7.1ms preprocess, 3889.5ms inference, 6.0ms postprocess per image at shape (1, 3, 640, 640)\n",
      "\n"
     ]
    },
    {
     "name": "stdout",
     "output_type": "stream",
     "text": [
      "Mask identified for the frame...\n",
      "Inferencing Frame 2989...\n"
     ]
    },
    {
     "name": "stderr",
     "output_type": "stream",
     "text": [
      "0: 640x640 1 Fire-Smoke-Sodium-Tray, 3723.4ms\n",
      "Speed: 7.0ms preprocess, 3723.4ms inference, 6.0ms postprocess per image at shape (1, 3, 640, 640)\n",
      "\n"
     ]
    },
    {
     "name": "stdout",
     "output_type": "stream",
     "text": [
      "Mask identified for the frame...\n",
      "Inferencing Frame 2990...\n"
     ]
    },
    {
     "name": "stderr",
     "output_type": "stream",
     "text": [
      "0: 640x640 1 Fire-Smoke-Sodium-Tray, 4077.7ms\n",
      "Speed: 6.0ms preprocess, 4077.7ms inference, 9.1ms postprocess per image at shape (1, 3, 640, 640)\n",
      "\n"
     ]
    },
    {
     "name": "stdout",
     "output_type": "stream",
     "text": [
      "Mask identified for the frame...\n",
      "Inferencing Frame 2991...\n"
     ]
    },
    {
     "name": "stderr",
     "output_type": "stream",
     "text": [
      "0: 640x640 1 Fire-Smoke-Sodium-Tray, 3844.5ms\n",
      "Speed: 6.0ms preprocess, 3844.5ms inference, 5.0ms postprocess per image at shape (1, 3, 640, 640)\n",
      "\n"
     ]
    },
    {
     "name": "stdout",
     "output_type": "stream",
     "text": [
      "Mask identified for the frame...\n",
      "Inferencing Frame 2992...\n"
     ]
    },
    {
     "name": "stderr",
     "output_type": "stream",
     "text": [
      "0: 640x640 1 Fire-Smoke-Sodium-Tray, 3817.4ms\n",
      "Speed: 6.0ms preprocess, 3817.4ms inference, 5.0ms postprocess per image at shape (1, 3, 640, 640)\n",
      "\n"
     ]
    },
    {
     "name": "stdout",
     "output_type": "stream",
     "text": [
      "Mask identified for the frame...\n",
      "Inferencing Frame 2993...\n"
     ]
    },
    {
     "name": "stderr",
     "output_type": "stream",
     "text": [
      "0: 640x640 1 Fire-Smoke-Sodium-Tray, 3756.4ms\n",
      "Speed: 6.0ms preprocess, 3756.4ms inference, 6.0ms postprocess per image at shape (1, 3, 640, 640)\n",
      "\n"
     ]
    },
    {
     "name": "stdout",
     "output_type": "stream",
     "text": [
      "Mask identified for the frame...\n",
      "Inferencing Frame 2994...\n"
     ]
    },
    {
     "name": "stderr",
     "output_type": "stream",
     "text": [
      "0: 640x640 1 Fire-Smoke-Sodium-Tray, 3796.5ms\n",
      "Speed: 6.0ms preprocess, 3796.5ms inference, 7.0ms postprocess per image at shape (1, 3, 640, 640)\n",
      "\n"
     ]
    },
    {
     "name": "stdout",
     "output_type": "stream",
     "text": [
      "Mask identified for the frame...\n",
      "Inferencing Frame 2995...\n"
     ]
    },
    {
     "name": "stderr",
     "output_type": "stream",
     "text": [
      "0: 640x640 1 Fire-Smoke-Sodium-Tray, 3743.4ms\n",
      "Speed: 7.0ms preprocess, 3743.4ms inference, 5.0ms postprocess per image at shape (1, 3, 640, 640)\n",
      "\n"
     ]
    },
    {
     "name": "stdout",
     "output_type": "stream",
     "text": [
      "Mask identified for the frame...\n",
      "Inferencing Frame 2996...\n"
     ]
    },
    {
     "name": "stderr",
     "output_type": "stream",
     "text": [
      "0: 640x640 1 Fire-Smoke-Sodium-Tray, 3835.5ms\n",
      "Speed: 6.0ms preprocess, 3835.5ms inference, 5.9ms postprocess per image at shape (1, 3, 640, 640)\n",
      "\n"
     ]
    },
    {
     "name": "stdout",
     "output_type": "stream",
     "text": [
      "Mask identified for the frame...\n",
      "Inferencing Frame 2997...\n"
     ]
    },
    {
     "name": "stderr",
     "output_type": "stream",
     "text": [
      "0: 640x640 1 Fire-Smoke-Sodium-Tray, 3754.4ms\n",
      "Speed: 6.0ms preprocess, 3754.4ms inference, 6.0ms postprocess per image at shape (1, 3, 640, 640)\n",
      "\n"
     ]
    },
    {
     "name": "stdout",
     "output_type": "stream",
     "text": [
      "Mask identified for the frame...\n",
      "Inferencing Frame 2998...\n"
     ]
    },
    {
     "name": "stderr",
     "output_type": "stream",
     "text": [
      "0: 640x640 (no detections), 4068.7ms\n",
      "Speed: 6.0ms preprocess, 4068.7ms inference, 0.0ms postprocess per image at shape (1, 3, 640, 640)\n",
      "\n"
     ]
    },
    {
     "name": "stdout",
     "output_type": "stream",
     "text": [
      "Inferencing Frame 2999...\n"
     ]
    },
    {
     "name": "stderr",
     "output_type": "stream",
     "text": [
      "0: 640x640 1 Fire-Smoke-Sodium-Tray, 3780.4ms\n",
      "Speed: 6.0ms preprocess, 3780.4ms inference, 8.1ms postprocess per image at shape (1, 3, 640, 640)\n",
      "\n"
     ]
    },
    {
     "name": "stdout",
     "output_type": "stream",
     "text": [
      "Mask identified for the frame...\n",
      "Inferencing Frame 3000...\n"
     ]
    },
    {
     "name": "stderr",
     "output_type": "stream",
     "text": [
      "0: 640x640 1 Fire-Smoke-Sodium-Tray, 4114.7ms\n",
      "Speed: 6.0ms preprocess, 4114.7ms inference, 5.0ms postprocess per image at shape (1, 3, 640, 640)\n",
      "\n"
     ]
    },
    {
     "name": "stdout",
     "output_type": "stream",
     "text": [
      "Mask identified for the frame...\n",
      "Inferencing Frame 3001...\n"
     ]
    },
    {
     "name": "stderr",
     "output_type": "stream",
     "text": [
      "0: 640x640 1 Fire-Smoke-Sodium-Tray, 3823.4ms\n",
      "Speed: 7.0ms preprocess, 3823.4ms inference, 5.0ms postprocess per image at shape (1, 3, 640, 640)\n",
      "\n"
     ]
    },
    {
     "name": "stdout",
     "output_type": "stream",
     "text": [
      "Mask identified for the frame...\n",
      "Inferencing Frame 3002...\n"
     ]
    },
    {
     "name": "stderr",
     "output_type": "stream",
     "text": [
      "0: 640x640 1 Fire-Smoke-Sodium-Tray, 3804.5ms\n",
      "Speed: 7.0ms preprocess, 3804.5ms inference, 4.9ms postprocess per image at shape (1, 3, 640, 640)\n",
      "\n"
     ]
    },
    {
     "name": "stdout",
     "output_type": "stream",
     "text": [
      "Mask identified for the frame...\n",
      "Inferencing Frame 3003...\n"
     ]
    },
    {
     "name": "stderr",
     "output_type": "stream",
     "text": [
      "0: 640x640 1 Fire-Smoke-Sodium-Tray, 3926.5ms\n",
      "Speed: 7.1ms preprocess, 3926.5ms inference, 6.0ms postprocess per image at shape (1, 3, 640, 640)\n",
      "\n"
     ]
    },
    {
     "name": "stdout",
     "output_type": "stream",
     "text": [
      "Mask identified for the frame...\n",
      "Inferencing Frame 3004...\n"
     ]
    },
    {
     "name": "stderr",
     "output_type": "stream",
     "text": [
      "0: 640x640 1 Fire-Smoke-Sodium-Tray, 3786.4ms\n",
      "Speed: 6.0ms preprocess, 3786.4ms inference, 8.0ms postprocess per image at shape (1, 3, 640, 640)\n",
      "\n"
     ]
    },
    {
     "name": "stdout",
     "output_type": "stream",
     "text": [
      "Mask identified for the frame...\n",
      "Inferencing Frame 3005...\n"
     ]
    },
    {
     "name": "stderr",
     "output_type": "stream",
     "text": [
      "0: 640x640 1 Fire-Smoke-Sodium-Tray, 3722.4ms\n",
      "Speed: 7.0ms preprocess, 3722.4ms inference, 7.0ms postprocess per image at shape (1, 3, 640, 640)\n",
      "\n"
     ]
    },
    {
     "name": "stdout",
     "output_type": "stream",
     "text": [
      "Mask identified for the frame...\n",
      "Inferencing Frame 3006...\n"
     ]
    },
    {
     "name": "stderr",
     "output_type": "stream",
     "text": [
      "0: 640x640 1 Fire-Smoke-Sodium-Tray, 3950.6ms\n",
      "Speed: 7.0ms preprocess, 3950.6ms inference, 6.0ms postprocess per image at shape (1, 3, 640, 640)\n",
      "\n"
     ]
    },
    {
     "name": "stdout",
     "output_type": "stream",
     "text": [
      "Mask identified for the frame...\n",
      "Inferencing Frame 3007...\n"
     ]
    },
    {
     "name": "stderr",
     "output_type": "stream",
     "text": [
      "0: 640x640 1 Fire-Smoke-Sodium-Tray, 3741.4ms\n",
      "Speed: 6.0ms preprocess, 3741.4ms inference, 13.0ms postprocess per image at shape (1, 3, 640, 640)\n",
      "\n"
     ]
    },
    {
     "name": "stdout",
     "output_type": "stream",
     "text": [
      "Mask identified for the frame...\n",
      "Inferencing Frame 3008...\n"
     ]
    },
    {
     "name": "stderr",
     "output_type": "stream",
     "text": [
      "0: 640x640 2 Fire-Smoke-Sodium-Trays, 4032.6ms\n",
      "Speed: 7.0ms preprocess, 4032.6ms inference, 9.0ms postprocess per image at shape (1, 3, 640, 640)\n",
      "\n"
     ]
    },
    {
     "name": "stdout",
     "output_type": "stream",
     "text": [
      "Mask identified for the frame...\n",
      "Inferencing Frame 3009...\n"
     ]
    },
    {
     "name": "stderr",
     "output_type": "stream",
     "text": [
      "0: 640x640 1 Fire-Smoke-Sodium-Tray, 3818.4ms\n",
      "Speed: 7.1ms preprocess, 3818.4ms inference, 6.0ms postprocess per image at shape (1, 3, 640, 640)\n",
      "\n"
     ]
    },
    {
     "name": "stdout",
     "output_type": "stream",
     "text": [
      "Mask identified for the frame...\n",
      "Inferencing Frame 3010...\n"
     ]
    },
    {
     "name": "stderr",
     "output_type": "stream",
     "text": [
      "0: 640x640 1 Fire-Smoke-Sodium-Tray, 3721.4ms\n",
      "Speed: 6.0ms preprocess, 3721.4ms inference, 6.0ms postprocess per image at shape (1, 3, 640, 640)\n",
      "\n"
     ]
    },
    {
     "name": "stdout",
     "output_type": "stream",
     "text": [
      "Mask identified for the frame...\n",
      "Inferencing Frame 3011...\n"
     ]
    },
    {
     "name": "stderr",
     "output_type": "stream",
     "text": [
      "0: 640x640 1 Fire-Smoke-Sodium-Tray, 3938.5ms\n",
      "Speed: 7.0ms preprocess, 3938.5ms inference, 6.0ms postprocess per image at shape (1, 3, 640, 640)\n",
      "\n"
     ]
    },
    {
     "name": "stdout",
     "output_type": "stream",
     "text": [
      "Mask identified for the frame...\n",
      "Inferencing Frame 3012...\n"
     ]
    },
    {
     "name": "stderr",
     "output_type": "stream",
     "text": [
      "0: 640x640 1 Fire-Smoke-Sodium-Tray, 3812.5ms\n",
      "Speed: 6.0ms preprocess, 3812.5ms inference, 9.0ms postprocess per image at shape (1, 3, 640, 640)\n",
      "\n"
     ]
    },
    {
     "name": "stdout",
     "output_type": "stream",
     "text": [
      "Mask identified for the frame...\n",
      "Inferencing Frame 3013...\n"
     ]
    },
    {
     "name": "stderr",
     "output_type": "stream",
     "text": [
      "0: 640x640 1 Fire-Smoke-Sodium-Tray, 3748.4ms\n",
      "Speed: 7.0ms preprocess, 3748.4ms inference, 8.9ms postprocess per image at shape (1, 3, 640, 640)\n",
      "\n"
     ]
    },
    {
     "name": "stdout",
     "output_type": "stream",
     "text": [
      "Mask identified for the frame...\n",
      "Inferencing Frame 3014...\n"
     ]
    },
    {
     "name": "stderr",
     "output_type": "stream",
     "text": [
      "0: 640x640 1 Fire-Smoke-Sodium-Tray, 3999.6ms\n",
      "Speed: 7.0ms preprocess, 3999.6ms inference, 8.0ms postprocess per image at shape (1, 3, 640, 640)\n",
      "\n"
     ]
    },
    {
     "name": "stdout",
     "output_type": "stream",
     "text": [
      "Mask identified for the frame...\n",
      "Inferencing Frame 3015...\n"
     ]
    },
    {
     "name": "stderr",
     "output_type": "stream",
     "text": [
      "0: 640x640 1 Fire-Smoke-Sodium-Tray, 3937.5ms\n",
      "Speed: 5.0ms preprocess, 3937.5ms inference, 7.0ms postprocess per image at shape (1, 3, 640, 640)\n",
      "\n"
     ]
    },
    {
     "name": "stdout",
     "output_type": "stream",
     "text": [
      "Mask identified for the frame...\n",
      "Inferencing Frame 3016...\n"
     ]
    },
    {
     "name": "stderr",
     "output_type": "stream",
     "text": [
      "0: 640x640 1 Fire-Smoke-Sodium-Tray, 3877.5ms\n",
      "Speed: 7.0ms preprocess, 3877.5ms inference, 5.0ms postprocess per image at shape (1, 3, 640, 640)\n",
      "\n"
     ]
    },
    {
     "name": "stdout",
     "output_type": "stream",
     "text": [
      "Mask identified for the frame...\n",
      "Inferencing Frame 3017...\n"
     ]
    },
    {
     "name": "stderr",
     "output_type": "stream",
     "text": [
      "0: 640x640 1 Fire-Smoke-Sodium-Tray, 4275.9ms\n",
      "Speed: 5.0ms preprocess, 4275.9ms inference, 6.0ms postprocess per image at shape (1, 3, 640, 640)\n",
      "\n"
     ]
    },
    {
     "name": "stdout",
     "output_type": "stream",
     "text": [
      "Mask identified for the frame...\n",
      "Inferencing Frame 3018...\n"
     ]
    },
    {
     "name": "stderr",
     "output_type": "stream",
     "text": [
      "0: 640x640 1 Fire-Smoke-Sodium-Tray, 3843.5ms\n",
      "Speed: 6.0ms preprocess, 3843.5ms inference, 9.0ms postprocess per image at shape (1, 3, 640, 640)\n",
      "\n"
     ]
    },
    {
     "name": "stdout",
     "output_type": "stream",
     "text": [
      "Mask identified for the frame...\n",
      "Inferencing Frame 3019...\n"
     ]
    },
    {
     "name": "stderr",
     "output_type": "stream",
     "text": [
      "0: 640x640 2 Fire-Smoke-Sodium-Trays, 3863.5ms\n",
      "Speed: 7.0ms preprocess, 3863.5ms inference, 13.0ms postprocess per image at shape (1, 3, 640, 640)\n",
      "\n"
     ]
    },
    {
     "name": "stdout",
     "output_type": "stream",
     "text": [
      "Mask identified for the frame...\n",
      "Inferencing Frame 3020...\n"
     ]
    },
    {
     "name": "stderr",
     "output_type": "stream",
     "text": [
      "0: 640x640 1 Fire-Smoke-Sodium-Tray, 3791.4ms\n",
      "Speed: 6.0ms preprocess, 3791.4ms inference, 6.0ms postprocess per image at shape (1, 3, 640, 640)\n",
      "\n"
     ]
    },
    {
     "name": "stdout",
     "output_type": "stream",
     "text": [
      "Mask identified for the frame...\n",
      "Inferencing Frame 3021...\n"
     ]
    },
    {
     "name": "stderr",
     "output_type": "stream",
     "text": [
      "0: 640x640 1 Fire-Smoke-Sodium-Tray, 4023.6ms\n",
      "Speed: 6.0ms preprocess, 4023.6ms inference, 7.0ms postprocess per image at shape (1, 3, 640, 640)\n",
      "\n"
     ]
    },
    {
     "name": "stdout",
     "output_type": "stream",
     "text": [
      "Mask identified for the frame...\n",
      "Inferencing Frame 3022...\n"
     ]
    },
    {
     "name": "stderr",
     "output_type": "stream",
     "text": [
      "0: 640x640 1 Fire-Smoke-Sodium-Tray, 4516.1ms\n",
      "Speed: 6.0ms preprocess, 4516.1ms inference, 9.0ms postprocess per image at shape (1, 3, 640, 640)\n",
      "\n"
     ]
    },
    {
     "name": "stdout",
     "output_type": "stream",
     "text": [
      "Mask identified for the frame...\n",
      "Inferencing Frame 3023...\n"
     ]
    },
    {
     "name": "stderr",
     "output_type": "stream",
     "text": [
      "0: 640x640 1 Fire-Smoke-Sodium-Tray, 3811.4ms\n",
      "Speed: 8.0ms preprocess, 3811.4ms inference, 5.0ms postprocess per image at shape (1, 3, 640, 640)\n",
      "\n"
     ]
    },
    {
     "name": "stdout",
     "output_type": "stream",
     "text": [
      "Mask identified for the frame...\n",
      "Inferencing Frame 3024...\n"
     ]
    },
    {
     "name": "stderr",
     "output_type": "stream",
     "text": [
      "0: 640x640 1 Fire-Smoke-Sodium-Tray, 3801.4ms\n",
      "Speed: 6.0ms preprocess, 3801.4ms inference, 6.0ms postprocess per image at shape (1, 3, 640, 640)\n",
      "\n"
     ]
    },
    {
     "name": "stdout",
     "output_type": "stream",
     "text": [
      "Mask identified for the frame...\n",
      "Inferencing Frame 3025...\n"
     ]
    },
    {
     "name": "stderr",
     "output_type": "stream",
     "text": [
      "0: 640x640 1 Fire-Smoke-Sodium-Tray, 3862.5ms\n",
      "Speed: 7.0ms preprocess, 3862.5ms inference, 5.0ms postprocess per image at shape (1, 3, 640, 640)\n",
      "\n"
     ]
    },
    {
     "name": "stdout",
     "output_type": "stream",
     "text": [
      "Mask identified for the frame...\n",
      "Inferencing Frame 3026...\n"
     ]
    },
    {
     "name": "stderr",
     "output_type": "stream",
     "text": [
      "0: 640x640 1 Fire-Smoke-Sodium-Tray, 3925.6ms\n",
      "Speed: 7.0ms preprocess, 3925.6ms inference, 9.0ms postprocess per image at shape (1, 3, 640, 640)\n",
      "\n"
     ]
    },
    {
     "name": "stdout",
     "output_type": "stream",
     "text": [
      "Mask identified for the frame...\n",
      "Inferencing Frame 3027...\n"
     ]
    },
    {
     "name": "stderr",
     "output_type": "stream",
     "text": [
      "0: 640x640 1 Fire-Smoke-Sodium-Tray, 3955.6ms\n",
      "Speed: 7.0ms preprocess, 3955.6ms inference, 5.0ms postprocess per image at shape (1, 3, 640, 640)\n",
      "\n"
     ]
    },
    {
     "name": "stdout",
     "output_type": "stream",
     "text": [
      "Mask identified for the frame...\n",
      "Inferencing Frame 3028...\n"
     ]
    },
    {
     "name": "stderr",
     "output_type": "stream",
     "text": [
      "0: 640x640 1 Fire-Smoke-Sodium-Tray, 3886.5ms\n",
      "Speed: 7.0ms preprocess, 3886.5ms inference, 18.0ms postprocess per image at shape (1, 3, 640, 640)\n",
      "\n"
     ]
    },
    {
     "name": "stdout",
     "output_type": "stream",
     "text": [
      "Mask identified for the frame...\n",
      "Inferencing Frame 3029...\n"
     ]
    },
    {
     "name": "stderr",
     "output_type": "stream",
     "text": [
      "0: 640x640 1 Fire-Smoke-Sodium-Tray, 4114.7ms\n",
      "Speed: 6.0ms preprocess, 4114.7ms inference, 6.0ms postprocess per image at shape (1, 3, 640, 640)\n",
      "\n"
     ]
    },
    {
     "name": "stdout",
     "output_type": "stream",
     "text": [
      "Mask identified for the frame...\n",
      "Inferencing Frame 3030...\n"
     ]
    },
    {
     "name": "stderr",
     "output_type": "stream",
     "text": [
      "0: 640x640 1 Fire-Smoke-Sodium-Tray, 3734.4ms\n",
      "Speed: 6.0ms preprocess, 3734.4ms inference, 9.0ms postprocess per image at shape (1, 3, 640, 640)\n",
      "\n"
     ]
    },
    {
     "name": "stdout",
     "output_type": "stream",
     "text": [
      "Mask identified for the frame...\n",
      "Inferencing Frame 3031...\n"
     ]
    },
    {
     "name": "stderr",
     "output_type": "stream",
     "text": [
      "0: 640x640 3 Fire-Smoke-Sodium-Trays, 4210.8ms\n",
      "Speed: 6.0ms preprocess, 4210.8ms inference, 13.0ms postprocess per image at shape (1, 3, 640, 640)\n",
      "\n"
     ]
    },
    {
     "name": "stdout",
     "output_type": "stream",
     "text": [
      "Mask identified for the frame...\n",
      "Inferencing Frame 3032...\n"
     ]
    },
    {
     "name": "stderr",
     "output_type": "stream",
     "text": [
      "0: 640x640 1 Fire-Smoke-Sodium-Tray, 3782.4ms\n",
      "Speed: 5.0ms preprocess, 3782.4ms inference, 6.0ms postprocess per image at shape (1, 3, 640, 640)\n",
      "\n"
     ]
    },
    {
     "name": "stdout",
     "output_type": "stream",
     "text": [
      "Mask identified for the frame...\n",
      "Inferencing Frame 3033...\n"
     ]
    },
    {
     "name": "stderr",
     "output_type": "stream",
     "text": [
      "0: 640x640 1 Fire-Smoke-Sodium-Tray, 3791.5ms\n",
      "Speed: 6.0ms preprocess, 3791.5ms inference, 9.0ms postprocess per image at shape (1, 3, 640, 640)\n",
      "\n"
     ]
    },
    {
     "name": "stdout",
     "output_type": "stream",
     "text": [
      "Mask identified for the frame...\n",
      "Inferencing Frame 3034...\n"
     ]
    },
    {
     "name": "stderr",
     "output_type": "stream",
     "text": [
      "0: 640x640 1 Fire-Smoke-Sodium-Tray, 3956.5ms\n",
      "Speed: 7.0ms preprocess, 3956.5ms inference, 6.0ms postprocess per image at shape (1, 3, 640, 640)\n",
      "\n"
     ]
    },
    {
     "name": "stdout",
     "output_type": "stream",
     "text": [
      "Mask identified for the frame...\n",
      "Inferencing Frame 3035...\n"
     ]
    },
    {
     "name": "stderr",
     "output_type": "stream",
     "text": [
      "0: 640x640 2 Fire-Smoke-Sodium-Trays, 3937.6ms\n",
      "Speed: 6.0ms preprocess, 3937.6ms inference, 10.0ms postprocess per image at shape (1, 3, 640, 640)\n",
      "\n"
     ]
    },
    {
     "name": "stdout",
     "output_type": "stream",
     "text": [
      "Mask identified for the frame...\n",
      "Inferencing Frame 3036...\n"
     ]
    },
    {
     "name": "stderr",
     "output_type": "stream",
     "text": [
      "0: 640x640 1 Fire-Smoke-Sodium-Tray, 3946.5ms\n",
      "Speed: 7.0ms preprocess, 3946.5ms inference, 5.0ms postprocess per image at shape (1, 3, 640, 640)\n",
      "\n"
     ]
    },
    {
     "name": "stdout",
     "output_type": "stream",
     "text": [
      "Mask identified for the frame...\n",
      "Inferencing Frame 3037...\n"
     ]
    },
    {
     "name": "stderr",
     "output_type": "stream",
     "text": [
      "0: 640x640 2 Fire-Smoke-Sodium-Trays, 3974.6ms\n",
      "Speed: 6.0ms preprocess, 3974.6ms inference, 10.0ms postprocess per image at shape (1, 3, 640, 640)\n",
      "\n"
     ]
    },
    {
     "name": "stdout",
     "output_type": "stream",
     "text": [
      "Mask identified for the frame...\n",
      "Inferencing Frame 3038...\n"
     ]
    },
    {
     "name": "stderr",
     "output_type": "stream",
     "text": [
      "0: 640x640 3 Fire-Smoke-Sodium-Trays, 3842.5ms\n",
      "Speed: 6.0ms preprocess, 3842.5ms inference, 15.0ms postprocess per image at shape (1, 3, 640, 640)\n",
      "\n"
     ]
    },
    {
     "name": "stdout",
     "output_type": "stream",
     "text": [
      "Mask identified for the frame...\n",
      "Inferencing Frame 3039...\n"
     ]
    },
    {
     "name": "stderr",
     "output_type": "stream",
     "text": [
      "0: 640x640 1 Fire-Smoke-Sodium-Tray, 3882.5ms\n",
      "Speed: 6.0ms preprocess, 3882.5ms inference, 8.0ms postprocess per image at shape (1, 3, 640, 640)\n",
      "\n"
     ]
    },
    {
     "name": "stdout",
     "output_type": "stream",
     "text": [
      "Mask identified for the frame...\n",
      "Inferencing Frame 3040...\n"
     ]
    },
    {
     "name": "stderr",
     "output_type": "stream",
     "text": [
      "0: 640x640 1 Fire-Smoke-Sodium-Tray, 3902.5ms\n",
      "Speed: 7.0ms preprocess, 3902.5ms inference, 6.0ms postprocess per image at shape (1, 3, 640, 640)\n",
      "\n"
     ]
    },
    {
     "name": "stdout",
     "output_type": "stream",
     "text": [
      "Mask identified for the frame...\n",
      "Inferencing Frame 3041...\n"
     ]
    },
    {
     "name": "stderr",
     "output_type": "stream",
     "text": [
      "0: 640x640 1 Fire-Smoke-Sodium-Tray, 3832.5ms\n",
      "Speed: 6.0ms preprocess, 3832.5ms inference, 8.0ms postprocess per image at shape (1, 3, 640, 640)\n",
      "\n"
     ]
    },
    {
     "name": "stdout",
     "output_type": "stream",
     "text": [
      "Mask identified for the frame...\n",
      "Inferencing Frame 3042...\n"
     ]
    },
    {
     "name": "stderr",
     "output_type": "stream",
     "text": [
      "0: 640x640 1 Fire-Smoke-Sodium-Tray, 4037.6ms\n",
      "Speed: 8.0ms preprocess, 4037.6ms inference, 6.0ms postprocess per image at shape (1, 3, 640, 640)\n",
      "\n"
     ]
    },
    {
     "name": "stdout",
     "output_type": "stream",
     "text": [
      "Mask identified for the frame...\n",
      "Inferencing Frame 3043...\n"
     ]
    },
    {
     "name": "stderr",
     "output_type": "stream",
     "text": [
      "0: 640x640 1 Fire-Smoke-Sodium-Tray, 3902.5ms\n",
      "Speed: 6.1ms preprocess, 3902.5ms inference, 6.0ms postprocess per image at shape (1, 3, 640, 640)\n",
      "\n"
     ]
    },
    {
     "name": "stdout",
     "output_type": "stream",
     "text": [
      "Mask identified for the frame...\n",
      "Inferencing Frame 3044...\n"
     ]
    },
    {
     "name": "stderr",
     "output_type": "stream",
     "text": [
      "0: 640x640 1 Fire-Smoke-Sodium-Tray, 3970.6ms\n",
      "Speed: 6.0ms preprocess, 3970.6ms inference, 8.0ms postprocess per image at shape (1, 3, 640, 640)\n",
      "\n"
     ]
    },
    {
     "name": "stdout",
     "output_type": "stream",
     "text": [
      "Mask identified for the frame...\n",
      "Inferencing Frame 3045...\n"
     ]
    },
    {
     "name": "stderr",
     "output_type": "stream",
     "text": [
      "0: 640x640 1 Fire-Smoke-Sodium-Tray, 3902.5ms\n",
      "Speed: 6.0ms preprocess, 3902.5ms inference, 7.0ms postprocess per image at shape (1, 3, 640, 640)\n",
      "\n"
     ]
    },
    {
     "name": "stdout",
     "output_type": "stream",
     "text": [
      "Mask identified for the frame...\n",
      "Inferencing Frame 3046...\n"
     ]
    },
    {
     "name": "stderr",
     "output_type": "stream",
     "text": [
      "0: 640x640 2 Fire-Smoke-Sodium-Trays, 4264.8ms\n",
      "Speed: 7.0ms preprocess, 4264.8ms inference, 9.0ms postprocess per image at shape (1, 3, 640, 640)\n",
      "\n"
     ]
    },
    {
     "name": "stdout",
     "output_type": "stream",
     "text": [
      "Mask identified for the frame...\n",
      "Inferencing Frame 3047...\n"
     ]
    },
    {
     "name": "stderr",
     "output_type": "stream",
     "text": [
      "0: 640x640 1 Fire-Smoke-Sodium-Tray, 3859.5ms\n",
      "Speed: 6.0ms preprocess, 3859.5ms inference, 7.1ms postprocess per image at shape (1, 3, 640, 640)\n",
      "\n"
     ]
    },
    {
     "name": "stdout",
     "output_type": "stream",
     "text": [
      "Mask identified for the frame...\n",
      "Inferencing Frame 3048...\n"
     ]
    },
    {
     "name": "stderr",
     "output_type": "stream",
     "text": [
      "0: 640x640 1 Fire-Smoke-Sodium-Tray, 3815.4ms\n",
      "Speed: 7.0ms preprocess, 3815.4ms inference, 6.0ms postprocess per image at shape (1, 3, 640, 640)\n",
      "\n"
     ]
    },
    {
     "name": "stdout",
     "output_type": "stream",
     "text": [
      "Mask identified for the frame...\n",
      "Inferencing Frame 3049...\n"
     ]
    },
    {
     "name": "stderr",
     "output_type": "stream",
     "text": [
      "0: 640x640 1 Fire-Smoke-Sodium-Tray, 4019.6ms\n",
      "Speed: 7.0ms preprocess, 4019.6ms inference, 6.0ms postprocess per image at shape (1, 3, 640, 640)\n",
      "\n"
     ]
    },
    {
     "name": "stdout",
     "output_type": "stream",
     "text": [
      "Mask identified for the frame...\n",
      "Inferencing Frame 3050...\n"
     ]
    },
    {
     "name": "stderr",
     "output_type": "stream",
     "text": [
      "0: 640x640 1 Fire-Smoke-Sodium-Tray, 3953.6ms\n",
      "Speed: 6.0ms preprocess, 3953.6ms inference, 6.0ms postprocess per image at shape (1, 3, 640, 640)\n",
      "\n"
     ]
    },
    {
     "name": "stdout",
     "output_type": "stream",
     "text": [
      "Mask identified for the frame...\n",
      "Inferencing Frame 3051...\n"
     ]
    },
    {
     "name": "stderr",
     "output_type": "stream",
     "text": [
      "0: 640x640 1 Fire-Smoke-Sodium-Tray, 3789.4ms\n",
      "Speed: 6.0ms preprocess, 3789.4ms inference, 6.0ms postprocess per image at shape (1, 3, 640, 640)\n",
      "\n"
     ]
    },
    {
     "name": "stdout",
     "output_type": "stream",
     "text": [
      "Mask identified for the frame...\n",
      "Inferencing Frame 3052...\n"
     ]
    },
    {
     "name": "stderr",
     "output_type": "stream",
     "text": [
      "0: 640x640 1 Fire-Smoke-Sodium-Tray, 4150.7ms\n",
      "Speed: 7.0ms preprocess, 4150.7ms inference, 10.0ms postprocess per image at shape (1, 3, 640, 640)\n",
      "\n"
     ]
    },
    {
     "name": "stdout",
     "output_type": "stream",
     "text": [
      "Mask identified for the frame...\n",
      "Inferencing Frame 3053...\n"
     ]
    },
    {
     "name": "stderr",
     "output_type": "stream",
     "text": [
      "0: 640x640 1 Fire-Smoke-Sodium-Tray, 3987.6ms\n",
      "Speed: 8.0ms preprocess, 3987.6ms inference, 5.0ms postprocess per image at shape (1, 3, 640, 640)\n",
      "\n"
     ]
    },
    {
     "name": "stdout",
     "output_type": "stream",
     "text": [
      "Mask identified for the frame...\n",
      "Inferencing Frame 3054...\n"
     ]
    },
    {
     "name": "stderr",
     "output_type": "stream",
     "text": [
      "0: 640x640 1 Fire-Smoke-Sodium-Tray, 3829.4ms\n",
      "Speed: 6.1ms preprocess, 3829.4ms inference, 6.0ms postprocess per image at shape (1, 3, 640, 640)\n",
      "\n"
     ]
    },
    {
     "name": "stdout",
     "output_type": "stream",
     "text": [
      "Mask identified for the frame...\n",
      "Inferencing Frame 3055...\n"
     ]
    },
    {
     "name": "stderr",
     "output_type": "stream",
     "text": [
      "0: 640x640 1 Fire-Smoke-Sodium-Tray, 3793.4ms\n",
      "Speed: 6.0ms preprocess, 3793.4ms inference, 10.0ms postprocess per image at shape (1, 3, 640, 640)\n",
      "\n"
     ]
    },
    {
     "name": "stdout",
     "output_type": "stream",
     "text": [
      "Mask identified for the frame...\n",
      "Inferencing Frame 3056...\n"
     ]
    },
    {
     "name": "stderr",
     "output_type": "stream",
     "text": [
      "0: 640x640 1 Fire-Smoke-Sodium-Tray, 3897.5ms\n",
      "Speed: 6.0ms preprocess, 3897.5ms inference, 8.1ms postprocess per image at shape (1, 3, 640, 640)\n",
      "\n"
     ]
    },
    {
     "name": "stdout",
     "output_type": "stream",
     "text": [
      "Mask identified for the frame...\n",
      "Inferencing Frame 3057...\n"
     ]
    },
    {
     "name": "stderr",
     "output_type": "stream",
     "text": [
      "0: 640x640 1 Fire-Smoke-Sodium-Tray, 3962.5ms\n",
      "Speed: 7.1ms preprocess, 3962.5ms inference, 6.0ms postprocess per image at shape (1, 3, 640, 640)\n",
      "\n"
     ]
    },
    {
     "name": "stdout",
     "output_type": "stream",
     "text": [
      "Mask identified for the frame...\n",
      "Inferencing Frame 3058...\n"
     ]
    },
    {
     "name": "stderr",
     "output_type": "stream",
     "text": [
      "0: 640x640 1 Fire-Smoke-Sodium-Tray, 4091.7ms\n",
      "Speed: 7.1ms preprocess, 4091.7ms inference, 7.0ms postprocess per image at shape (1, 3, 640, 640)\n",
      "\n"
     ]
    },
    {
     "name": "stdout",
     "output_type": "stream",
     "text": [
      "Mask identified for the frame...\n",
      "Inferencing Frame 3059...\n"
     ]
    },
    {
     "name": "stderr",
     "output_type": "stream",
     "text": [
      "0: 640x640 (no detections), 4136.7ms\n",
      "Speed: 7.1ms preprocess, 4136.7ms inference, 1.0ms postprocess per image at shape (1, 3, 640, 640)\n",
      "\n"
     ]
    },
    {
     "name": "stdout",
     "output_type": "stream",
     "text": [
      "Inferencing Frame 3060...\n"
     ]
    },
    {
     "name": "stderr",
     "output_type": "stream",
     "text": [
      "0: 640x640 (no detections), 4453.0ms\n",
      "Speed: 6.0ms preprocess, 4453.0ms inference, 1.0ms postprocess per image at shape (1, 3, 640, 640)\n",
      "\n"
     ]
    },
    {
     "name": "stdout",
     "output_type": "stream",
     "text": [
      "Inferencing Frame 3061...\n"
     ]
    },
    {
     "name": "stderr",
     "output_type": "stream",
     "text": [
      "0: 640x640 (no detections), 4361.9ms\n",
      "Speed: 6.0ms preprocess, 4361.9ms inference, 1.0ms postprocess per image at shape (1, 3, 640, 640)\n",
      "\n"
     ]
    },
    {
     "name": "stdout",
     "output_type": "stream",
     "text": [
      "Inferencing Frame 3062...\n"
     ]
    },
    {
     "name": "stderr",
     "output_type": "stream",
     "text": [
      "0: 640x640 (no detections), 4053.7ms\n",
      "Speed: 7.0ms preprocess, 4053.7ms inference, 1.0ms postprocess per image at shape (1, 3, 640, 640)\n",
      "\n"
     ]
    },
    {
     "name": "stdout",
     "output_type": "stream",
     "text": [
      "Inferencing Frame 3063...\n"
     ]
    },
    {
     "name": "stderr",
     "output_type": "stream",
     "text": [
      "0: 640x640 (no detections), 3988.6ms\n",
      "Speed: 6.0ms preprocess, 3988.6ms inference, 1.0ms postprocess per image at shape (1, 3, 640, 640)\n",
      "\n"
     ]
    },
    {
     "name": "stdout",
     "output_type": "stream",
     "text": [
      "Inferencing Frame 3064...\n"
     ]
    },
    {
     "name": "stderr",
     "output_type": "stream",
     "text": [
      "0: 640x640 1 Fire-Smoke-Sodium-Tray, 4121.7ms\n",
      "Speed: 6.0ms preprocess, 4121.7ms inference, 5.0ms postprocess per image at shape (1, 3, 640, 640)\n",
      "\n"
     ]
    },
    {
     "name": "stdout",
     "output_type": "stream",
     "text": [
      "Mask identified for the frame...\n",
      "Inferencing Frame 3065...\n"
     ]
    },
    {
     "name": "stderr",
     "output_type": "stream",
     "text": [
      "0: 640x640 2 Fire-Smoke-Sodium-Trays, 4010.6ms\n",
      "Speed: 6.0ms preprocess, 4010.6ms inference, 9.0ms postprocess per image at shape (1, 3, 640, 640)\n",
      "\n"
     ]
    },
    {
     "name": "stdout",
     "output_type": "stream",
     "text": [
      "Mask identified for the frame...\n",
      "Inferencing Frame 3066...\n"
     ]
    },
    {
     "name": "stderr",
     "output_type": "stream",
     "text": [
      "0: 640x640 2 Fire-Smoke-Sodium-Trays, 4089.7ms\n",
      "Speed: 105.1ms preprocess, 4089.7ms inference, 13.0ms postprocess per image at shape (1, 3, 640, 640)\n",
      "\n"
     ]
    },
    {
     "name": "stdout",
     "output_type": "stream",
     "text": [
      "Mask identified for the frame...\n",
      "Inferencing Frame 3067...\n"
     ]
    },
    {
     "name": "stderr",
     "output_type": "stream",
     "text": [
      "0: 640x640 2 Fire-Smoke-Sodium-Trays, 4079.7ms\n",
      "Speed: 6.0ms preprocess, 4079.7ms inference, 9.0ms postprocess per image at shape (1, 3, 640, 640)\n",
      "\n"
     ]
    },
    {
     "name": "stdout",
     "output_type": "stream",
     "text": [
      "Mask identified for the frame...\n",
      "Inferencing Frame 3068...\n"
     ]
    },
    {
     "name": "stderr",
     "output_type": "stream",
     "text": [
      "0: 640x640 1 Fire-Smoke-Sodium-Tray, 3824.4ms\n",
      "Speed: 6.0ms preprocess, 3824.4ms inference, 6.0ms postprocess per image at shape (1, 3, 640, 640)\n",
      "\n"
     ]
    },
    {
     "name": "stdout",
     "output_type": "stream",
     "text": [
      "Mask identified for the frame...\n",
      "Inferencing Frame 3069...\n"
     ]
    },
    {
     "name": "stderr",
     "output_type": "stream",
     "text": [
      "0: 640x640 1 Fire-Smoke-Sodium-Tray, 3902.5ms\n",
      "Speed: 6.0ms preprocess, 3902.5ms inference, 7.0ms postprocess per image at shape (1, 3, 640, 640)\n",
      "\n"
     ]
    },
    {
     "name": "stdout",
     "output_type": "stream",
     "text": [
      "Mask identified for the frame...\n",
      "Inferencing Frame 3070...\n"
     ]
    },
    {
     "name": "stderr",
     "output_type": "stream",
     "text": [
      "0: 640x640 1 Fire-Smoke-Sodium-Tray, 3992.6ms\n",
      "Speed: 7.1ms preprocess, 3992.6ms inference, 8.0ms postprocess per image at shape (1, 3, 640, 640)\n",
      "\n"
     ]
    },
    {
     "name": "stdout",
     "output_type": "stream",
     "text": [
      "Mask identified for the frame...\n",
      "Inferencing Frame 3071...\n"
     ]
    },
    {
     "name": "stderr",
     "output_type": "stream",
     "text": [
      "0: 640x640 1 Fire-Smoke-Sodium-Tray, 3949.6ms\n",
      "Speed: 7.1ms preprocess, 3949.6ms inference, 8.0ms postprocess per image at shape (1, 3, 640, 640)\n",
      "\n"
     ]
    },
    {
     "name": "stdout",
     "output_type": "stream",
     "text": [
      "Mask identified for the frame...\n",
      "Inferencing Frame 3072...\n"
     ]
    },
    {
     "name": "stderr",
     "output_type": "stream",
     "text": [
      "0: 640x640 1 Fire-Smoke-Sodium-Tray, 4122.7ms\n",
      "Speed: 7.0ms preprocess, 4122.7ms inference, 8.0ms postprocess per image at shape (1, 3, 640, 640)\n",
      "\n"
     ]
    },
    {
     "name": "stdout",
     "output_type": "stream",
     "text": [
      "Mask identified for the frame...\n",
      "Inferencing Frame 3073...\n"
     ]
    },
    {
     "name": "stderr",
     "output_type": "stream",
     "text": [
      "0: 640x640 1 Fire-Smoke-Sodium-Tray, 3904.5ms\n",
      "Speed: 6.0ms preprocess, 3904.5ms inference, 9.0ms postprocess per image at shape (1, 3, 640, 640)\n",
      "\n"
     ]
    },
    {
     "name": "stdout",
     "output_type": "stream",
     "text": [
      "Mask identified for the frame...\n",
      "Inferencing Frame 3074...\n"
     ]
    },
    {
     "name": "stderr",
     "output_type": "stream",
     "text": [
      "0: 640x640 1 Fire-Smoke-Sodium-Tray, 4020.6ms\n",
      "Speed: 7.0ms preprocess, 4020.6ms inference, 5.0ms postprocess per image at shape (1, 3, 640, 640)\n",
      "\n"
     ]
    },
    {
     "name": "stdout",
     "output_type": "stream",
     "text": [
      "Mask identified for the frame...\n",
      "Inferencing Frame 3075...\n"
     ]
    },
    {
     "name": "stderr",
     "output_type": "stream",
     "text": [
      "0: 640x640 1 Fire-Smoke-Sodium-Tray, 4212.8ms\n",
      "Speed: 8.0ms preprocess, 4212.8ms inference, 6.0ms postprocess per image at shape (1, 3, 640, 640)\n",
      "\n"
     ]
    },
    {
     "name": "stdout",
     "output_type": "stream",
     "text": [
      "Mask identified for the frame...\n",
      "Inferencing Frame 3076...\n"
     ]
    },
    {
     "name": "stderr",
     "output_type": "stream",
     "text": [
      "0: 640x640 1 Fire-Smoke-Sodium-Tray, 4064.7ms\n",
      "Speed: 6.0ms preprocess, 4064.7ms inference, 6.0ms postprocess per image at shape (1, 3, 640, 640)\n",
      "\n"
     ]
    },
    {
     "name": "stdout",
     "output_type": "stream",
     "text": [
      "Mask identified for the frame...\n",
      "Inferencing Frame 3077...\n"
     ]
    },
    {
     "name": "stderr",
     "output_type": "stream",
     "text": [
      "0: 640x640 1 Fire-Smoke-Sodium-Tray, 3888.5ms\n",
      "Speed: 6.0ms preprocess, 3888.5ms inference, 6.0ms postprocess per image at shape (1, 3, 640, 640)\n",
      "\n"
     ]
    },
    {
     "name": "stdout",
     "output_type": "stream",
     "text": [
      "Mask identified for the frame...\n",
      "Inferencing Frame 3078...\n"
     ]
    },
    {
     "name": "stderr",
     "output_type": "stream",
     "text": [
      "0: 640x640 (no detections), 3842.5ms\n",
      "Speed: 6.0ms preprocess, 3842.5ms inference, 1.0ms postprocess per image at shape (1, 3, 640, 640)\n",
      "\n"
     ]
    },
    {
     "name": "stdout",
     "output_type": "stream",
     "text": [
      "Inferencing Frame 3079...\n"
     ]
    },
    {
     "name": "stderr",
     "output_type": "stream",
     "text": [
      "0: 640x640 2 Fire-Smoke-Sodium-Trays, 4226.8ms\n",
      "Speed: 6.0ms preprocess, 4226.8ms inference, 9.0ms postprocess per image at shape (1, 3, 640, 640)\n",
      "\n"
     ]
    },
    {
     "name": "stdout",
     "output_type": "stream",
     "text": [
      "Mask identified for the frame...\n",
      "Inferencing Frame 3080...\n"
     ]
    },
    {
     "name": "stderr",
     "output_type": "stream",
     "text": [
      "0: 640x640 1 Fire-Smoke-Sodium-Tray, 4128.7ms\n",
      "Speed: 6.0ms preprocess, 4128.7ms inference, 7.0ms postprocess per image at shape (1, 3, 640, 640)\n",
      "\n"
     ]
    },
    {
     "name": "stdout",
     "output_type": "stream",
     "text": [
      "Mask identified for the frame...\n",
      "Inferencing Frame 3081...\n"
     ]
    },
    {
     "name": "stderr",
     "output_type": "stream",
     "text": [
      "0: 640x640 1 Fire-Smoke-Sodium-Tray, 4261.8ms\n",
      "Speed: 6.0ms preprocess, 4261.8ms inference, 6.0ms postprocess per image at shape (1, 3, 640, 640)\n",
      "\n"
     ]
    },
    {
     "name": "stdout",
     "output_type": "stream",
     "text": [
      "Mask identified for the frame...\n",
      "Inferencing Frame 3082...\n"
     ]
    },
    {
     "name": "stderr",
     "output_type": "stream",
     "text": [
      "0: 640x640 1 Fire-Smoke-Sodium-Tray, 4739.2ms\n",
      "Speed: 7.1ms preprocess, 4739.2ms inference, 9.0ms postprocess per image at shape (1, 3, 640, 640)\n",
      "\n"
     ]
    },
    {
     "name": "stdout",
     "output_type": "stream",
     "text": [
      "Mask identified for the frame...\n",
      "Inferencing Frame 3083...\n"
     ]
    },
    {
     "name": "stderr",
     "output_type": "stream",
     "text": [
      "0: 640x640 1 Fire-Smoke-Sodium-Tray, 4018.6ms\n",
      "Speed: 6.0ms preprocess, 4018.6ms inference, 7.0ms postprocess per image at shape (1, 3, 640, 640)\n",
      "\n"
     ]
    },
    {
     "name": "stdout",
     "output_type": "stream",
     "text": [
      "Mask identified for the frame...\n",
      "Inferencing Frame 3084...\n"
     ]
    },
    {
     "name": "stderr",
     "output_type": "stream",
     "text": [
      "0: 640x640 1 Fire-Smoke-Sodium-Tray, 3997.6ms\n",
      "Speed: 7.1ms preprocess, 3997.6ms inference, 9.0ms postprocess per image at shape (1, 3, 640, 640)\n",
      "\n"
     ]
    },
    {
     "name": "stdout",
     "output_type": "stream",
     "text": [
      "Mask identified for the frame...\n",
      "Inferencing Frame 3085...\n"
     ]
    },
    {
     "name": "stderr",
     "output_type": "stream",
     "text": [
      "0: 640x640 1 Fire-Smoke-Sodium-Tray, 4050.6ms\n",
      "Speed: 7.0ms preprocess, 4050.6ms inference, 7.0ms postprocess per image at shape (1, 3, 640, 640)\n",
      "\n"
     ]
    },
    {
     "name": "stdout",
     "output_type": "stream",
     "text": [
      "Mask identified for the frame...\n",
      "Inferencing Frame 3086...\n"
     ]
    },
    {
     "name": "stderr",
     "output_type": "stream",
     "text": [
      "0: 640x640 1 Fire-Smoke-Sodium-Tray, 4140.7ms\n",
      "Speed: 7.0ms preprocess, 4140.7ms inference, 7.0ms postprocess per image at shape (1, 3, 640, 640)\n",
      "\n"
     ]
    },
    {
     "name": "stdout",
     "output_type": "stream",
     "text": [
      "Mask identified for the frame...\n",
      "Inferencing Frame 3087...\n"
     ]
    },
    {
     "name": "stderr",
     "output_type": "stream",
     "text": [
      "0: 640x640 1 Fire-Smoke-Sodium-Tray, 4035.7ms\n",
      "Speed: 6.0ms preprocess, 4035.7ms inference, 8.0ms postprocess per image at shape (1, 3, 640, 640)\n",
      "\n"
     ]
    },
    {
     "name": "stdout",
     "output_type": "stream",
     "text": [
      "Mask identified for the frame...\n",
      "Inferencing Frame 3088...\n"
     ]
    },
    {
     "name": "stderr",
     "output_type": "stream",
     "text": [
      "0: 640x640 (no detections), 3722.4ms\n",
      "Speed: 6.0ms preprocess, 3722.4ms inference, 1.0ms postprocess per image at shape (1, 3, 640, 640)\n",
      "\n"
     ]
    },
    {
     "name": "stdout",
     "output_type": "stream",
     "text": [
      "Inferencing Frame 3089...\n"
     ]
    },
    {
     "name": "stderr",
     "output_type": "stream",
     "text": [
      "0: 640x640 1 Fire-Smoke-Sodium-Tray, 4037.6ms\n",
      "Speed: 6.0ms preprocess, 4037.6ms inference, 6.0ms postprocess per image at shape (1, 3, 640, 640)\n",
      "\n"
     ]
    },
    {
     "name": "stdout",
     "output_type": "stream",
     "text": [
      "Mask identified for the frame...\n",
      "Inferencing Frame 3090...\n"
     ]
    },
    {
     "name": "stderr",
     "output_type": "stream",
     "text": [
      "0: 640x640 1 Fire-Smoke-Sodium-Tray, 3904.5ms\n",
      "Speed: 6.0ms preprocess, 3904.5ms inference, 6.0ms postprocess per image at shape (1, 3, 640, 640)\n",
      "\n"
     ]
    },
    {
     "name": "stdout",
     "output_type": "stream",
     "text": [
      "Mask identified for the frame...\n",
      "Inferencing Frame 3091...\n"
     ]
    },
    {
     "name": "stderr",
     "output_type": "stream",
     "text": [
      "0: 640x640 1 Fire-Smoke-Sodium-Tray, 3823.4ms\n",
      "Speed: 7.1ms preprocess, 3823.4ms inference, 5.0ms postprocess per image at shape (1, 3, 640, 640)\n",
      "\n"
     ]
    },
    {
     "name": "stdout",
     "output_type": "stream",
     "text": [
      "Mask identified for the frame...\n",
      "Inferencing Frame 3092...\n"
     ]
    },
    {
     "name": "stderr",
     "output_type": "stream",
     "text": [
      "0: 640x640 1 Fire-Smoke-Sodium-Tray, 3975.6ms\n",
      "Speed: 8.0ms preprocess, 3975.6ms inference, 6.0ms postprocess per image at shape (1, 3, 640, 640)\n",
      "\n"
     ]
    },
    {
     "name": "stdout",
     "output_type": "stream",
     "text": [
      "Mask identified for the frame...\n",
      "Inferencing Frame 3093...\n"
     ]
    },
    {
     "name": "stderr",
     "output_type": "stream",
     "text": [
      "0: 640x640 1 Fire-Smoke-Sodium-Tray, 4054.7ms\n",
      "Speed: 6.0ms preprocess, 4054.7ms inference, 7.0ms postprocess per image at shape (1, 3, 640, 640)\n",
      "\n"
     ]
    },
    {
     "name": "stdout",
     "output_type": "stream",
     "text": [
      "Mask identified for the frame...\n",
      "Inferencing Frame 3094...\n"
     ]
    },
    {
     "name": "stderr",
     "output_type": "stream",
     "text": [
      "0: 640x640 12 Fires, 4200.8ms\n",
      "Speed: 6.0ms preprocess, 4200.8ms inference, 47.0ms postprocess per image at shape (1, 3, 640, 640)\n",
      "\n"
     ]
    },
    {
     "name": "stdout",
     "output_type": "stream",
     "text": [
      "Mask identified for the frame...\n",
      "Inferencing Frame 3095...\n"
     ]
    },
    {
     "name": "stderr",
     "output_type": "stream",
     "text": [
      "0: 640x640 1 Fire-Smoke-Sodium-Tray, 4269.8ms\n",
      "Speed: 6.0ms preprocess, 4269.8ms inference, 9.0ms postprocess per image at shape (1, 3, 640, 640)\n",
      "\n"
     ]
    },
    {
     "name": "stdout",
     "output_type": "stream",
     "text": [
      "Mask identified for the frame...\n",
      "Inferencing Frame 3096...\n"
     ]
    },
    {
     "name": "stderr",
     "output_type": "stream",
     "text": [
      "0: 640x640 1 Fire-Smoke-Sodium-Tray, 4162.7ms\n",
      "Speed: 6.0ms preprocess, 4162.7ms inference, 9.0ms postprocess per image at shape (1, 3, 640, 640)\n",
      "\n"
     ]
    },
    {
     "name": "stdout",
     "output_type": "stream",
     "text": [
      "Mask identified for the frame...\n",
      "Inferencing Frame 3097...\n"
     ]
    },
    {
     "name": "stderr",
     "output_type": "stream",
     "text": [
      "0: 640x640 1 Fire-Smoke-Sodium-Tray, 4205.7ms\n",
      "Speed: 7.1ms preprocess, 4205.7ms inference, 5.0ms postprocess per image at shape (1, 3, 640, 640)\n",
      "\n"
     ]
    },
    {
     "name": "stdout",
     "output_type": "stream",
     "text": [
      "Mask identified for the frame...\n",
      "Inferencing Frame 3098...\n"
     ]
    },
    {
     "name": "stderr",
     "output_type": "stream",
     "text": [
      "0: 640x640 1 Fire-Smoke-Sodium-Tray, 3834.4ms\n",
      "Speed: 7.1ms preprocess, 3834.4ms inference, 6.0ms postprocess per image at shape (1, 3, 640, 640)\n",
      "\n"
     ]
    },
    {
     "name": "stdout",
     "output_type": "stream",
     "text": [
      "Mask identified for the frame...\n",
      "Inferencing Frame 3099...\n"
     ]
    },
    {
     "name": "stderr",
     "output_type": "stream",
     "text": [
      "0: 640x640 1 Fire-Smoke-Sodium-Tray, 4013.6ms\n",
      "Speed: 6.0ms preprocess, 4013.6ms inference, 6.0ms postprocess per image at shape (1, 3, 640, 640)\n",
      "\n"
     ]
    },
    {
     "name": "stdout",
     "output_type": "stream",
     "text": [
      "Mask identified for the frame...\n",
      "Inferencing Frame 3100...\n"
     ]
    },
    {
     "name": "stderr",
     "output_type": "stream",
     "text": [
      "0: 640x640 1 Fire-Smoke-Sodium-Tray, 3968.6ms\n",
      "Speed: 7.0ms preprocess, 3968.6ms inference, 8.0ms postprocess per image at shape (1, 3, 640, 640)\n",
      "\n"
     ]
    },
    {
     "name": "stdout",
     "output_type": "stream",
     "text": [
      "Mask identified for the frame...\n",
      "Inferencing Frame 3101...\n"
     ]
    },
    {
     "name": "stderr",
     "output_type": "stream",
     "text": [
      "0: 640x640 1 Fire-Smoke-Sodium-Tray, 3950.5ms\n",
      "Speed: 7.1ms preprocess, 3950.5ms inference, 5.0ms postprocess per image at shape (1, 3, 640, 640)\n",
      "\n"
     ]
    },
    {
     "name": "stdout",
     "output_type": "stream",
     "text": [
      "Mask identified for the frame...\n",
      "Inferencing Frame 3102...\n"
     ]
    },
    {
     "name": "stderr",
     "output_type": "stream",
     "text": [
      "0: 640x640 1 Fire-Smoke-Sodium-Tray, 3844.5ms\n",
      "Speed: 6.0ms preprocess, 3844.5ms inference, 8.0ms postprocess per image at shape (1, 3, 640, 640)\n",
      "\n"
     ]
    },
    {
     "name": "stdout",
     "output_type": "stream",
     "text": [
      "Mask identified for the frame...\n",
      "Inferencing Frame 3103...\n"
     ]
    },
    {
     "name": "stderr",
     "output_type": "stream",
     "text": [
      "0: 640x640 1 Fire-Smoke-Sodium-Tray, 3918.5ms\n",
      "Speed: 5.0ms preprocess, 3918.5ms inference, 9.0ms postprocess per image at shape (1, 3, 640, 640)\n",
      "\n"
     ]
    },
    {
     "name": "stdout",
     "output_type": "stream",
     "text": [
      "Mask identified for the frame...\n",
      "Inferencing Frame 3104...\n"
     ]
    },
    {
     "name": "stderr",
     "output_type": "stream",
     "text": [
      "0: 640x640 3 Fire-Smoke-Sodium-Trays, 4115.7ms\n",
      "Speed: 8.0ms preprocess, 4115.7ms inference, 17.0ms postprocess per image at shape (1, 3, 640, 640)\n",
      "\n"
     ]
    },
    {
     "name": "stdout",
     "output_type": "stream",
     "text": [
      "Mask identified for the frame...\n",
      "Inferencing Frame 3105...\n"
     ]
    },
    {
     "name": "stderr",
     "output_type": "stream",
     "text": [
      "0: 640x640 2 Fire-Smoke-Sodium-Trays, 4253.8ms\n",
      "Speed: 8.0ms preprocess, 4253.8ms inference, 9.1ms postprocess per image at shape (1, 3, 640, 640)\n",
      "\n"
     ]
    },
    {
     "name": "stdout",
     "output_type": "stream",
     "text": [
      "Mask identified for the frame...\n",
      "Inferencing Frame 3106...\n"
     ]
    },
    {
     "name": "stderr",
     "output_type": "stream",
     "text": [
      "0: 640x640 1 Fire-Smoke-Sodium-Tray, 3859.5ms\n",
      "Speed: 6.0ms preprocess, 3859.5ms inference, 6.0ms postprocess per image at shape (1, 3, 640, 640)\n",
      "\n"
     ]
    },
    {
     "name": "stdout",
     "output_type": "stream",
     "text": [
      "Mask identified for the frame...\n",
      "Inferencing Frame 3107...\n"
     ]
    },
    {
     "name": "stderr",
     "output_type": "stream",
     "text": [
      "0: 640x640 3 Fire-Smoke-Sodium-Trays, 3718.4ms\n",
      "Speed: 6.0ms preprocess, 3718.4ms inference, 12.0ms postprocess per image at shape (1, 3, 640, 640)\n",
      "\n"
     ]
    },
    {
     "name": "stdout",
     "output_type": "stream",
     "text": [
      "Mask identified for the frame...\n",
      "Inferencing Frame 3108...\n"
     ]
    },
    {
     "name": "stderr",
     "output_type": "stream",
     "text": [
      "0: 640x640 2 Fire-Smoke-Sodium-Trays, 3719.4ms\n",
      "Speed: 8.0ms preprocess, 3719.4ms inference, 10.0ms postprocess per image at shape (1, 3, 640, 640)\n",
      "\n"
     ]
    },
    {
     "name": "stdout",
     "output_type": "stream",
     "text": [
      "Mask identified for the frame...\n",
      "Inferencing Frame 3109...\n"
     ]
    },
    {
     "name": "stderr",
     "output_type": "stream",
     "text": [
      "0: 640x640 1 Fire-Smoke-Sodium-Tray, 3885.5ms\n",
      "Speed: 6.0ms preprocess, 3885.5ms inference, 6.0ms postprocess per image at shape (1, 3, 640, 640)\n",
      "\n"
     ]
    },
    {
     "name": "stdout",
     "output_type": "stream",
     "text": [
      "Mask identified for the frame...\n",
      "Inferencing Frame 3110...\n"
     ]
    },
    {
     "name": "stderr",
     "output_type": "stream",
     "text": [
      "0: 640x640 2 Fire-Smoke-Sodium-Trays, 3971.6ms\n",
      "Speed: 6.0ms preprocess, 3971.6ms inference, 9.0ms postprocess per image at shape (1, 3, 640, 640)\n",
      "\n"
     ]
    },
    {
     "name": "stdout",
     "output_type": "stream",
     "text": [
      "Mask identified for the frame...\n",
      "Inferencing Frame 3111...\n"
     ]
    },
    {
     "name": "stderr",
     "output_type": "stream",
     "text": [
      "0: 640x640 2 Fire-Smoke-Sodium-Trays, 3639.3ms\n",
      "Speed: 6.0ms preprocess, 3639.3ms inference, 9.0ms postprocess per image at shape (1, 3, 640, 640)\n",
      "\n"
     ]
    },
    {
     "name": "stdout",
     "output_type": "stream",
     "text": [
      "Mask identified for the frame...\n",
      "Inferencing Frame 3112...\n"
     ]
    },
    {
     "name": "stderr",
     "output_type": "stream",
     "text": [
      "0: 640x640 1 Fire-Smoke-Sodium-Tray, 4235.8ms\n",
      "Speed: 6.0ms preprocess, 4235.8ms inference, 6.0ms postprocess per image at shape (1, 3, 640, 640)\n",
      "\n"
     ]
    },
    {
     "name": "stdout",
     "output_type": "stream",
     "text": [
      "Mask identified for the frame...\n",
      "Inferencing Frame 3113...\n"
     ]
    },
    {
     "name": "stderr",
     "output_type": "stream",
     "text": [
      "0: 640x640 1 Fire-Smoke-Sodium-Tray, 3842.4ms\n",
      "Speed: 7.1ms preprocess, 3842.4ms inference, 5.0ms postprocess per image at shape (1, 3, 640, 640)\n",
      "\n"
     ]
    },
    {
     "name": "stdout",
     "output_type": "stream",
     "text": [
      "Mask identified for the frame...\n",
      "Inferencing Frame 3114...\n"
     ]
    },
    {
     "name": "stderr",
     "output_type": "stream",
     "text": [
      "0: 640x640 1 Fire-Smoke-Sodium-Tray, 3813.4ms\n",
      "Speed: 6.0ms preprocess, 3813.4ms inference, 6.0ms postprocess per image at shape (1, 3, 640, 640)\n",
      "\n"
     ]
    },
    {
     "name": "stdout",
     "output_type": "stream",
     "text": [
      "Mask identified for the frame...\n",
      "Inferencing Frame 3115...\n"
     ]
    },
    {
     "name": "stderr",
     "output_type": "stream",
     "text": [
      "0: 640x640 1 Fire-Smoke-Sodium-Tray, 3828.4ms\n",
      "Speed: 6.1ms preprocess, 3828.4ms inference, 8.0ms postprocess per image at shape (1, 3, 640, 640)\n",
      "\n"
     ]
    },
    {
     "name": "stdout",
     "output_type": "stream",
     "text": [
      "Mask identified for the frame...\n",
      "Inferencing Frame 3116...\n"
     ]
    },
    {
     "name": "stderr",
     "output_type": "stream",
     "text": [
      "0: 640x640 1 Fire-Smoke-Sodium-Tray, 3760.4ms\n",
      "Speed: 6.0ms preprocess, 3760.4ms inference, 6.0ms postprocess per image at shape (1, 3, 640, 640)\n",
      "\n"
     ]
    },
    {
     "name": "stdout",
     "output_type": "stream",
     "text": [
      "Mask identified for the frame...\n",
      "Inferencing Frame 3117...\n"
     ]
    },
    {
     "name": "stderr",
     "output_type": "stream",
     "text": [
      "0: 640x640 1 Fire-Smoke-Sodium-Tray, 4014.6ms\n",
      "Speed: 6.0ms preprocess, 4014.6ms inference, 5.0ms postprocess per image at shape (1, 3, 640, 640)\n",
      "\n"
     ]
    },
    {
     "name": "stdout",
     "output_type": "stream",
     "text": [
      "Mask identified for the frame...\n",
      "Inferencing Frame 3118...\n"
     ]
    },
    {
     "name": "stderr",
     "output_type": "stream",
     "text": [
      "0: 640x640 3 Fire-Smoke-Sodium-Trays, 3916.5ms\n",
      "Speed: 7.0ms preprocess, 3916.5ms inference, 12.0ms postprocess per image at shape (1, 3, 640, 640)\n",
      "\n"
     ]
    },
    {
     "name": "stdout",
     "output_type": "stream",
     "text": [
      "Mask identified for the frame...\n",
      "Inferencing Frame 3119...\n"
     ]
    },
    {
     "name": "stderr",
     "output_type": "stream",
     "text": [
      "0: 640x640 1 Fire-Smoke-Sodium-Tray, 3762.4ms\n",
      "Speed: 6.0ms preprocess, 3762.4ms inference, 6.0ms postprocess per image at shape (1, 3, 640, 640)\n",
      "\n"
     ]
    },
    {
     "name": "stdout",
     "output_type": "stream",
     "text": [
      "Mask identified for the frame...\n",
      "Inferencing Frame 3120...\n"
     ]
    },
    {
     "name": "stderr",
     "output_type": "stream",
     "text": [
      "0: 640x640 1 Fire-Smoke-Sodium-Tray, 4524.1ms\n",
      "Speed: 6.0ms preprocess, 4524.1ms inference, 6.1ms postprocess per image at shape (1, 3, 640, 640)\n",
      "\n"
     ]
    },
    {
     "name": "stdout",
     "output_type": "stream",
     "text": [
      "Mask identified for the frame...\n",
      "Inferencing Frame 3121...\n"
     ]
    },
    {
     "name": "stderr",
     "output_type": "stream",
     "text": [
      "0: 640x640 1 Fire-Smoke-Sodium-Tray, 4043.6ms\n",
      "Speed: 6.0ms preprocess, 4043.6ms inference, 6.0ms postprocess per image at shape (1, 3, 640, 640)\n",
      "\n"
     ]
    },
    {
     "name": "stdout",
     "output_type": "stream",
     "text": [
      "Mask identified for the frame...\n",
      "Inferencing Frame 3122...\n"
     ]
    },
    {
     "name": "stderr",
     "output_type": "stream",
     "text": [
      "0: 640x640 1 Fire-Smoke-Sodium-Tray, 4096.7ms\n",
      "Speed: 6.0ms preprocess, 4096.7ms inference, 9.0ms postprocess per image at shape (1, 3, 640, 640)\n",
      "\n"
     ]
    },
    {
     "name": "stdout",
     "output_type": "stream",
     "text": [
      "Mask identified for the frame...\n",
      "Inferencing Frame 3123...\n"
     ]
    },
    {
     "name": "stderr",
     "output_type": "stream",
     "text": [
      "0: 640x640 1 Fire-Smoke-Sodium-Tray, 3875.6ms\n",
      "Speed: 6.0ms preprocess, 3875.6ms inference, 5.9ms postprocess per image at shape (1, 3, 640, 640)\n",
      "\n"
     ]
    },
    {
     "name": "stdout",
     "output_type": "stream",
     "text": [
      "Mask identified for the frame...\n",
      "Inferencing Frame 3124...\n"
     ]
    },
    {
     "name": "stderr",
     "output_type": "stream",
     "text": [
      "0: 640x640 1 Fire-Smoke-Sodium-Tray, 3925.5ms\n",
      "Speed: 7.1ms preprocess, 3925.5ms inference, 6.0ms postprocess per image at shape (1, 3, 640, 640)\n",
      "\n"
     ]
    },
    {
     "name": "stdout",
     "output_type": "stream",
     "text": [
      "Mask identified for the frame...\n",
      "Inferencing Frame 3125...\n"
     ]
    },
    {
     "name": "stderr",
     "output_type": "stream",
     "text": [
      "0: 640x640 1 Fire-Smoke-Sodium-Tray, 3870.5ms\n",
      "Speed: 6.0ms preprocess, 3870.5ms inference, 9.0ms postprocess per image at shape (1, 3, 640, 640)\n",
      "\n"
     ]
    },
    {
     "name": "stdout",
     "output_type": "stream",
     "text": [
      "Mask identified for the frame...\n",
      "Inferencing Frame 3126...\n"
     ]
    },
    {
     "name": "stderr",
     "output_type": "stream",
     "text": [
      "0: 640x640 1 Fire-Smoke-Sodium-Tray, 3776.4ms\n",
      "Speed: 7.1ms preprocess, 3776.4ms inference, 9.0ms postprocess per image at shape (1, 3, 640, 640)\n",
      "\n"
     ]
    },
    {
     "name": "stdout",
     "output_type": "stream",
     "text": [
      "Mask identified for the frame...\n",
      "Inferencing Frame 3127...\n"
     ]
    },
    {
     "name": "stderr",
     "output_type": "stream",
     "text": [
      "0: 640x640 1 Fire-Smoke-Sodium-Tray, 3855.5ms\n",
      "Speed: 7.0ms preprocess, 3855.5ms inference, 6.0ms postprocess per image at shape (1, 3, 640, 640)\n",
      "\n"
     ]
    },
    {
     "name": "stdout",
     "output_type": "stream",
     "text": [
      "Mask identified for the frame...\n",
      "Inferencing Frame 3128...\n"
     ]
    },
    {
     "name": "stderr",
     "output_type": "stream",
     "text": [
      "0: 640x640 1 Fire-Smoke-Sodium-Tray, 4129.7ms\n",
      "Speed: 7.0ms preprocess, 4129.7ms inference, 9.0ms postprocess per image at shape (1, 3, 640, 640)\n",
      "\n"
     ]
    },
    {
     "name": "stdout",
     "output_type": "stream",
     "text": [
      "Mask identified for the frame...\n",
      "Inferencing Frame 3129...\n"
     ]
    },
    {
     "name": "stderr",
     "output_type": "stream",
     "text": [
      "0: 640x640 1 Fire-Smoke-Sodium-Tray, 4034.6ms\n",
      "Speed: 9.0ms preprocess, 4034.6ms inference, 6.0ms postprocess per image at shape (1, 3, 640, 640)\n",
      "\n"
     ]
    },
    {
     "name": "stdout",
     "output_type": "stream",
     "text": [
      "Mask identified for the frame...\n",
      "Inferencing Frame 3130...\n"
     ]
    },
    {
     "name": "stderr",
     "output_type": "stream",
     "text": [
      "0: 640x640 1 Fire-Smoke-Sodium-Tray, 3793.4ms\n",
      "Speed: 6.1ms preprocess, 3793.4ms inference, 5.0ms postprocess per image at shape (1, 3, 640, 640)\n",
      "\n"
     ]
    },
    {
     "name": "stdout",
     "output_type": "stream",
     "text": [
      "Mask identified for the frame...\n",
      "Inferencing Frame 3131...\n"
     ]
    },
    {
     "name": "stderr",
     "output_type": "stream",
     "text": [
      "0: 640x640 (no detections), 3861.5ms\n",
      "Speed: 6.0ms preprocess, 3861.5ms inference, 1.0ms postprocess per image at shape (1, 3, 640, 640)\n",
      "\n"
     ]
    },
    {
     "name": "stdout",
     "output_type": "stream",
     "text": [
      "Inferencing Frame 3132...\n"
     ]
    },
    {
     "name": "stderr",
     "output_type": "stream",
     "text": [
      "0: 640x640 (no detections), 3876.5ms\n",
      "Speed: 6.0ms preprocess, 3876.5ms inference, 1.0ms postprocess per image at shape (1, 3, 640, 640)\n",
      "\n"
     ]
    },
    {
     "name": "stdout",
     "output_type": "stream",
     "text": [
      "Inferencing Frame 3133...\n"
     ]
    },
    {
     "name": "stderr",
     "output_type": "stream",
     "text": [
      "0: 640x640 5 Fires, 3930.6ms\n",
      "Speed: 6.0ms preprocess, 3930.6ms inference, 24.0ms postprocess per image at shape (1, 3, 640, 640)\n",
      "\n"
     ]
    },
    {
     "name": "stdout",
     "output_type": "stream",
     "text": [
      "Mask identified for the frame...\n",
      "Inferencing Frame 3134...\n"
     ]
    },
    {
     "name": "stderr",
     "output_type": "stream",
     "text": [
      "0: 640x640 (no detections), 3981.5ms\n",
      "Speed: 7.1ms preprocess, 3981.5ms inference, 1.0ms postprocess per image at shape (1, 3, 640, 640)\n",
      "\n"
     ]
    },
    {
     "name": "stdout",
     "output_type": "stream",
     "text": [
      "Inferencing Frame 3135...\n"
     ]
    },
    {
     "name": "stderr",
     "output_type": "stream",
     "text": [
      "0: 640x640 1 Fire-Smoke-Sodium-Tray, 4524.1ms\n",
      "Speed: 6.0ms preprocess, 4524.1ms inference, 6.0ms postprocess per image at shape (1, 3, 640, 640)\n",
      "\n"
     ]
    },
    {
     "name": "stdout",
     "output_type": "stream",
     "text": [
      "Mask identified for the frame...\n",
      "Inferencing Frame 3136...\n"
     ]
    },
    {
     "name": "stderr",
     "output_type": "stream",
     "text": [
      "0: 640x640 1 Fire-Smoke-Sodium-Tray, 3754.4ms\n",
      "Speed: 7.0ms preprocess, 3754.4ms inference, 8.0ms postprocess per image at shape (1, 3, 640, 640)\n",
      "\n"
     ]
    },
    {
     "name": "stdout",
     "output_type": "stream",
     "text": [
      "Mask identified for the frame...\n",
      "Inferencing Frame 3137...\n"
     ]
    },
    {
     "name": "stderr",
     "output_type": "stream",
     "text": [
      "0: 640x640 1 Fire-Smoke-Sodium-Tray, 3912.5ms\n",
      "Speed: 7.1ms preprocess, 3912.5ms inference, 5.0ms postprocess per image at shape (1, 3, 640, 640)\n",
      "\n"
     ]
    },
    {
     "name": "stdout",
     "output_type": "stream",
     "text": [
      "Mask identified for the frame...\n",
      "Inferencing Frame 3138...\n"
     ]
    },
    {
     "name": "stderr",
     "output_type": "stream",
     "text": [
      "0: 640x640 (no detections), 3779.5ms\n",
      "Speed: 6.0ms preprocess, 3779.5ms inference, 1.0ms postprocess per image at shape (1, 3, 640, 640)\n",
      "\n"
     ]
    },
    {
     "name": "stdout",
     "output_type": "stream",
     "text": [
      "Inferencing Frame 3139...\n"
     ]
    },
    {
     "name": "stderr",
     "output_type": "stream",
     "text": [
      "0: 640x640 (no detections), 3817.4ms\n",
      "Speed: 6.0ms preprocess, 3817.4ms inference, 1.0ms postprocess per image at shape (1, 3, 640, 640)\n",
      "\n"
     ]
    },
    {
     "name": "stdout",
     "output_type": "stream",
     "text": [
      "Inferencing Frame 3140...\n"
     ]
    },
    {
     "name": "stderr",
     "output_type": "stream",
     "text": [
      "0: 640x640 (no detections), 3876.6ms\n",
      "Speed: 7.0ms preprocess, 3876.6ms inference, 1.0ms postprocess per image at shape (1, 3, 640, 640)\n",
      "\n"
     ]
    },
    {
     "name": "stdout",
     "output_type": "stream",
     "text": [
      "Inferencing Frame 3141...\n"
     ]
    },
    {
     "name": "stderr",
     "output_type": "stream",
     "text": [
      "0: 640x640 1 Fire-Smoke-Sodium-Tray, 4064.7ms\n",
      "Speed: 6.0ms preprocess, 4064.7ms inference, 5.0ms postprocess per image at shape (1, 3, 640, 640)\n",
      "\n"
     ]
    },
    {
     "name": "stdout",
     "output_type": "stream",
     "text": [
      "Mask identified for the frame...\n",
      "Inferencing Frame 3142...\n"
     ]
    },
    {
     "name": "stderr",
     "output_type": "stream",
     "text": [
      "0: 640x640 2 Fire-Smoke-Sodium-Trays, 3657.3ms\n",
      "Speed: 7.0ms preprocess, 3657.3ms inference, 11.0ms postprocess per image at shape (1, 3, 640, 640)\n",
      "\n"
     ]
    },
    {
     "name": "stdout",
     "output_type": "stream",
     "text": [
      "Mask identified for the frame...\n",
      "Inferencing Frame 3143...\n"
     ]
    },
    {
     "name": "stderr",
     "output_type": "stream",
     "text": [
      "0: 640x640 (no detections), 3975.6ms\n",
      "Speed: 6.0ms preprocess, 3975.6ms inference, 1.0ms postprocess per image at shape (1, 3, 640, 640)\n",
      "\n"
     ]
    },
    {
     "name": "stdout",
     "output_type": "stream",
     "text": [
      "Inferencing Frame 3144...\n"
     ]
    },
    {
     "name": "stderr",
     "output_type": "stream",
     "text": [
      "0: 640x640 (no detections), 3868.5ms\n",
      "Speed: 7.0ms preprocess, 3868.5ms inference, 1.0ms postprocess per image at shape (1, 3, 640, 640)\n",
      "\n"
     ]
    },
    {
     "name": "stdout",
     "output_type": "stream",
     "text": [
      "Inferencing Frame 3145...\n"
     ]
    },
    {
     "name": "stderr",
     "output_type": "stream",
     "text": [
      "0: 640x640 (no detections), 3870.5ms\n",
      "Speed: 6.0ms preprocess, 3870.5ms inference, 0.0ms postprocess per image at shape (1, 3, 640, 640)\n",
      "\n"
     ]
    },
    {
     "name": "stdout",
     "output_type": "stream",
     "text": [
      "Inferencing Frame 3146...\n"
     ]
    },
    {
     "name": "stderr",
     "output_type": "stream",
     "text": [
      "0: 640x640 (no detections), 3775.4ms\n",
      "Speed: 7.0ms preprocess, 3775.4ms inference, 1.0ms postprocess per image at shape (1, 3, 640, 640)\n",
      "\n"
     ]
    },
    {
     "name": "stdout",
     "output_type": "stream",
     "text": [
      "Inferencing Frame 3147...\n"
     ]
    },
    {
     "name": "stderr",
     "output_type": "stream",
     "text": [
      "0: 640x640 1 Fire-Smoke-Sodium-Tray, 3851.5ms\n",
      "Speed: 6.0ms preprocess, 3851.5ms inference, 6.0ms postprocess per image at shape (1, 3, 640, 640)\n",
      "\n"
     ]
    },
    {
     "name": "stdout",
     "output_type": "stream",
     "text": [
      "Mask identified for the frame...\n",
      "Inferencing Frame 3148...\n"
     ]
    },
    {
     "name": "stderr",
     "output_type": "stream",
     "text": [
      "0: 640x640 (no detections), 4125.7ms\n",
      "Speed: 6.0ms preprocess, 4125.7ms inference, 1.0ms postprocess per image at shape (1, 3, 640, 640)\n",
      "\n"
     ]
    },
    {
     "name": "stdout",
     "output_type": "stream",
     "text": [
      "Inferencing Frame 3149...\n"
     ]
    },
    {
     "name": "stderr",
     "output_type": "stream",
     "text": [
      "0: 640x640 (no detections), 3786.4ms\n",
      "Speed: 6.0ms preprocess, 3786.4ms inference, 0.0ms postprocess per image at shape (1, 3, 640, 640)\n",
      "\n"
     ]
    },
    {
     "name": "stdout",
     "output_type": "stream",
     "text": [
      "Inferencing Frame 3150...\n"
     ]
    },
    {
     "name": "stderr",
     "output_type": "stream",
     "text": [
      "0: 640x640 (no detections), 4139.7ms\n",
      "Speed: 6.0ms preprocess, 4139.7ms inference, 1.0ms postprocess per image at shape (1, 3, 640, 640)\n",
      "\n"
     ]
    },
    {
     "name": "stdout",
     "output_type": "stream",
     "text": [
      "Inferencing Frame 3151...\n"
     ]
    },
    {
     "name": "stderr",
     "output_type": "stream",
     "text": [
      "0: 640x640 (no detections), 4171.8ms\n",
      "Speed: 7.0ms preprocess, 4171.8ms inference, 1.0ms postprocess per image at shape (1, 3, 640, 640)\n",
      "\n"
     ]
    },
    {
     "name": "stdout",
     "output_type": "stream",
     "text": [
      "Inferencing Frame 3152...\n"
     ]
    },
    {
     "name": "stderr",
     "output_type": "stream",
     "text": [
      "0: 640x640 1 Fire-Smoke-Sodium-Tray, 3867.5ms\n",
      "Speed: 6.0ms preprocess, 3867.5ms inference, 6.0ms postprocess per image at shape (1, 3, 640, 640)\n",
      "\n"
     ]
    },
    {
     "name": "stdout",
     "output_type": "stream",
     "text": [
      "Mask identified for the frame...\n",
      "Inferencing Frame 3153...\n"
     ]
    },
    {
     "name": "stderr",
     "output_type": "stream",
     "text": [
      "0: 640x640 1 Fire-Smoke-Sodium-Tray, 3838.5ms\n",
      "Speed: 6.0ms preprocess, 3838.5ms inference, 5.0ms postprocess per image at shape (1, 3, 640, 640)\n",
      "\n"
     ]
    },
    {
     "name": "stdout",
     "output_type": "stream",
     "text": [
      "Mask identified for the frame...\n",
      "Inferencing Frame 3154...\n"
     ]
    },
    {
     "name": "stderr",
     "output_type": "stream",
     "text": [
      "0: 640x640 1 Fire-Smoke-Sodium-Tray, 3787.4ms\n",
      "Speed: 6.0ms preprocess, 3787.4ms inference, 5.0ms postprocess per image at shape (1, 3, 640, 640)\n",
      "\n"
     ]
    },
    {
     "name": "stdout",
     "output_type": "stream",
     "text": [
      "Mask identified for the frame...\n",
      "Inferencing Frame 3155...\n"
     ]
    },
    {
     "name": "stderr",
     "output_type": "stream",
     "text": [
      "0: 640x640 1 Fire-Smoke-Sodium-Tray, 3958.6ms\n",
      "Speed: 6.0ms preprocess, 3958.6ms inference, 6.0ms postprocess per image at shape (1, 3, 640, 640)\n",
      "\n"
     ]
    },
    {
     "name": "stdout",
     "output_type": "stream",
     "text": [
      "Mask identified for the frame...\n",
      "Inferencing Frame 3156...\n"
     ]
    },
    {
     "name": "stderr",
     "output_type": "stream",
     "text": [
      "0: 640x640 1 Fire-Smoke-Sodium-Tray, 3942.5ms\n",
      "Speed: 6.0ms preprocess, 3942.5ms inference, 6.0ms postprocess per image at shape (1, 3, 640, 640)\n",
      "\n"
     ]
    },
    {
     "name": "stdout",
     "output_type": "stream",
     "text": [
      "Mask identified for the frame...\n",
      "Inferencing Frame 3157...\n"
     ]
    },
    {
     "name": "stderr",
     "output_type": "stream",
     "text": [
      "0: 640x640 (no detections), 3745.4ms\n",
      "Speed: 7.0ms preprocess, 3745.4ms inference, 1.0ms postprocess per image at shape (1, 3, 640, 640)\n",
      "\n"
     ]
    },
    {
     "name": "stdout",
     "output_type": "stream",
     "text": [
      "Inferencing Frame 3158...\n"
     ]
    },
    {
     "name": "stderr",
     "output_type": "stream",
     "text": [
      "0: 640x640 (no detections), 3871.4ms\n",
      "Speed: 6.1ms preprocess, 3871.4ms inference, 1.0ms postprocess per image at shape (1, 3, 640, 640)\n",
      "\n"
     ]
    },
    {
     "name": "stdout",
     "output_type": "stream",
     "text": [
      "Inferencing Frame 3159...\n"
     ]
    },
    {
     "name": "stderr",
     "output_type": "stream",
     "text": [
      "0: 640x640 1 Fire-Smoke-Sodium-Tray, 4178.8ms\n",
      "Speed: 6.0ms preprocess, 4178.8ms inference, 6.0ms postprocess per image at shape (1, 3, 640, 640)\n",
      "\n"
     ]
    },
    {
     "name": "stdout",
     "output_type": "stream",
     "text": [
      "Mask identified for the frame...\n",
      "Inferencing Frame 3160...\n"
     ]
    },
    {
     "name": "stderr",
     "output_type": "stream",
     "text": [
      "0: 640x640 1 Fire-Smoke-Sodium-Tray, 3785.4ms\n",
      "Speed: 5.0ms preprocess, 3785.4ms inference, 5.0ms postprocess per image at shape (1, 3, 640, 640)\n",
      "\n"
     ]
    },
    {
     "name": "stdout",
     "output_type": "stream",
     "text": [
      "Mask identified for the frame...\n",
      "Inferencing Frame 3161...\n"
     ]
    },
    {
     "name": "stderr",
     "output_type": "stream",
     "text": [
      "0: 640x640 (no detections), 3732.4ms\n",
      "Speed: 6.0ms preprocess, 3732.4ms inference, 1.0ms postprocess per image at shape (1, 3, 640, 640)\n",
      "\n"
     ]
    },
    {
     "name": "stdout",
     "output_type": "stream",
     "text": [
      "Inferencing Frame 3162...\n"
     ]
    },
    {
     "name": "stderr",
     "output_type": "stream",
     "text": [
      "0: 640x640 2 Fire-Smoke-Sodium-Trays, 3778.4ms\n",
      "Speed: 7.0ms preprocess, 3778.4ms inference, 10.0ms postprocess per image at shape (1, 3, 640, 640)\n",
      "\n"
     ]
    },
    {
     "name": "stdout",
     "output_type": "stream",
     "text": [
      "Mask identified for the frame...\n",
      "Inferencing Frame 3163...\n"
     ]
    },
    {
     "name": "stderr",
     "output_type": "stream",
     "text": [
      "0: 640x640 1 Fire-Smoke-Sodium-Tray, 3891.5ms\n",
      "Speed: 6.0ms preprocess, 3891.5ms inference, 6.0ms postprocess per image at shape (1, 3, 640, 640)\n",
      "\n"
     ]
    },
    {
     "name": "stdout",
     "output_type": "stream",
     "text": [
      "Mask identified for the frame...\n",
      "Inferencing Frame 3164...\n"
     ]
    },
    {
     "name": "stderr",
     "output_type": "stream",
     "text": [
      "0: 640x640 1 Fire, 1 Fire-Smoke-Sodium-Tray, 4145.7ms\n",
      "Speed: 6.0ms preprocess, 4145.7ms inference, 9.0ms postprocess per image at shape (1, 3, 640, 640)\n",
      "\n"
     ]
    },
    {
     "name": "stdout",
     "output_type": "stream",
     "text": [
      "Mask identified for the frame...\n",
      "Inferencing Frame 3165...\n"
     ]
    },
    {
     "name": "stderr",
     "output_type": "stream",
     "text": [
      "0: 640x640 2 Fire-Smoke-Sodium-Trays, 3969.6ms\n",
      "Speed: 6.0ms preprocess, 3969.6ms inference, 14.0ms postprocess per image at shape (1, 3, 640, 640)\n",
      "\n"
     ]
    },
    {
     "name": "stdout",
     "output_type": "stream",
     "text": [
      "Mask identified for the frame...\n",
      "Inferencing Frame 3166...\n"
     ]
    },
    {
     "name": "stderr",
     "output_type": "stream",
     "text": [
      "0: 640x640 2 Fire-Smoke-Sodium-Trays, 4189.8ms\n",
      "Speed: 7.0ms preprocess, 4189.8ms inference, 8.0ms postprocess per image at shape (1, 3, 640, 640)\n",
      "\n"
     ]
    },
    {
     "name": "stdout",
     "output_type": "stream",
     "text": [
      "Mask identified for the frame...\n",
      "Inferencing Frame 3167...\n"
     ]
    },
    {
     "name": "stderr",
     "output_type": "stream",
     "text": [
      "0: 640x640 1 Fire-Smoke-Sodium-Tray, 3743.4ms\n",
      "Speed: 6.0ms preprocess, 3743.4ms inference, 5.0ms postprocess per image at shape (1, 3, 640, 640)\n",
      "\n"
     ]
    },
    {
     "name": "stdout",
     "output_type": "stream",
     "text": [
      "Mask identified for the frame...\n",
      "Inferencing Frame 3168...\n"
     ]
    },
    {
     "name": "stderr",
     "output_type": "stream",
     "text": [
      "0: 640x640 1 Fire-Smoke-Sodium-Tray, 3831.5ms\n",
      "Speed: 6.0ms preprocess, 3831.5ms inference, 6.0ms postprocess per image at shape (1, 3, 640, 640)\n",
      "\n"
     ]
    },
    {
     "name": "stdout",
     "output_type": "stream",
     "text": [
      "Mask identified for the frame...\n",
      "Inferencing Frame 3169...\n"
     ]
    },
    {
     "name": "stderr",
     "output_type": "stream",
     "text": [
      "0: 640x640 2 Fire-Smoke-Sodium-Trays, 3850.5ms\n",
      "Speed: 14.0ms preprocess, 3850.5ms inference, 14.0ms postprocess per image at shape (1, 3, 640, 640)\n",
      "\n"
     ]
    },
    {
     "name": "stdout",
     "output_type": "stream",
     "text": [
      "Mask identified for the frame...\n",
      "Inferencing Frame 3170...\n"
     ]
    },
    {
     "name": "stderr",
     "output_type": "stream",
     "text": [
      "0: 640x640 1 Fire-Smoke-Sodium-Tray, 3811.4ms\n",
      "Speed: 6.0ms preprocess, 3811.4ms inference, 6.0ms postprocess per image at shape (1, 3, 640, 640)\n",
      "\n"
     ]
    },
    {
     "name": "stdout",
     "output_type": "stream",
     "text": [
      "Mask identified for the frame...\n",
      "Inferencing Frame 3171...\n"
     ]
    },
    {
     "name": "stderr",
     "output_type": "stream",
     "text": [
      "0: 640x640 1 Fire-Smoke-Sodium-Tray, 3979.6ms\n",
      "Speed: 6.0ms preprocess, 3979.6ms inference, 5.0ms postprocess per image at shape (1, 3, 640, 640)\n",
      "\n"
     ]
    },
    {
     "name": "stdout",
     "output_type": "stream",
     "text": [
      "Mask identified for the frame...\n",
      "Inferencing Frame 3172...\n"
     ]
    },
    {
     "name": "stderr",
     "output_type": "stream",
     "text": [
      "0: 640x640 1 Fire-Smoke-Sodium-Tray, 3955.6ms\n",
      "Speed: 7.0ms preprocess, 3955.6ms inference, 6.0ms postprocess per image at shape (1, 3, 640, 640)\n",
      "\n"
     ]
    },
    {
     "name": "stdout",
     "output_type": "stream",
     "text": [
      "Mask identified for the frame...\n",
      "Inferencing Frame 3173...\n"
     ]
    },
    {
     "name": "stderr",
     "output_type": "stream",
     "text": [
      "0: 640x640 1 Fire-Smoke-Sodium-Tray, 3726.4ms\n",
      "Speed: 13.0ms preprocess, 3726.4ms inference, 6.0ms postprocess per image at shape (1, 3, 640, 640)\n",
      "\n"
     ]
    },
    {
     "name": "stdout",
     "output_type": "stream",
     "text": [
      "Mask identified for the frame...\n",
      "Inferencing Frame 3174...\n"
     ]
    },
    {
     "name": "stderr",
     "output_type": "stream",
     "text": [
      "0: 640x640 1 Fire-Smoke-Sodium-Tray, 3998.6ms\n",
      "Speed: 7.0ms preprocess, 3998.6ms inference, 7.0ms postprocess per image at shape (1, 3, 640, 640)\n",
      "\n"
     ]
    },
    {
     "name": "stdout",
     "output_type": "stream",
     "text": [
      "Mask identified for the frame...\n",
      "Inferencing Frame 3175...\n"
     ]
    },
    {
     "name": "stderr",
     "output_type": "stream",
     "text": [
      "0: 640x640 1 Fire-Smoke-Sodium-Tray, 3803.4ms\n",
      "Speed: 6.0ms preprocess, 3803.4ms inference, 8.1ms postprocess per image at shape (1, 3, 640, 640)\n",
      "\n"
     ]
    },
    {
     "name": "stdout",
     "output_type": "stream",
     "text": [
      "Mask identified for the frame...\n",
      "Inferencing Frame 3176...\n"
     ]
    },
    {
     "name": "stderr",
     "output_type": "stream",
     "text": [
      "0: 640x640 1 Fire-Smoke-Sodium-Tray, 3843.5ms\n",
      "Speed: 6.0ms preprocess, 3843.5ms inference, 6.0ms postprocess per image at shape (1, 3, 640, 640)\n",
      "\n"
     ]
    },
    {
     "name": "stdout",
     "output_type": "stream",
     "text": [
      "Mask identified for the frame...\n",
      "Inferencing Frame 3177...\n"
     ]
    },
    {
     "name": "stderr",
     "output_type": "stream",
     "text": [
      "0: 640x640 1 Fire-Smoke-Sodium-Tray, 4033.6ms\n",
      "Speed: 7.0ms preprocess, 4033.6ms inference, 6.0ms postprocess per image at shape (1, 3, 640, 640)\n",
      "\n"
     ]
    },
    {
     "name": "stdout",
     "output_type": "stream",
     "text": [
      "Mask identified for the frame...\n",
      "Inferencing Frame 3178...\n"
     ]
    },
    {
     "name": "stderr",
     "output_type": "stream",
     "text": [
      "0: 640x640 (no detections), 3758.4ms\n",
      "Speed: 6.0ms preprocess, 3758.4ms inference, 1.0ms postprocess per image at shape (1, 3, 640, 640)\n",
      "\n"
     ]
    },
    {
     "name": "stdout",
     "output_type": "stream",
     "text": [
      "Inferencing Frame 3179...\n"
     ]
    },
    {
     "name": "stderr",
     "output_type": "stream",
     "text": [
      "0: 640x640 1 Fire-Smoke-Sodium-Tray, 4048.7ms\n",
      "Speed: 7.0ms preprocess, 4048.7ms inference, 5.0ms postprocess per image at shape (1, 3, 640, 640)\n",
      "\n"
     ]
    },
    {
     "name": "stdout",
     "output_type": "stream",
     "text": [
      "Mask identified for the frame...\n",
      "Inferencing Frame 3180...\n"
     ]
    },
    {
     "name": "stderr",
     "output_type": "stream",
     "text": [
      "0: 640x640 1 Fire-Smoke-Sodium-Tray, 3797.4ms\n",
      "Speed: 6.0ms preprocess, 3797.4ms inference, 5.0ms postprocess per image at shape (1, 3, 640, 640)\n",
      "\n"
     ]
    },
    {
     "name": "stdout",
     "output_type": "stream",
     "text": [
      "Mask identified for the frame...\n",
      "Inferencing Frame 3181...\n"
     ]
    },
    {
     "name": "stderr",
     "output_type": "stream",
     "text": [
      "0: 640x640 (no detections), 4251.8ms\n",
      "Speed: 6.0ms preprocess, 4251.8ms inference, 1.0ms postprocess per image at shape (1, 3, 640, 640)\n",
      "\n"
     ]
    },
    {
     "name": "stdout",
     "output_type": "stream",
     "text": [
      "Inferencing Frame 3182...\n"
     ]
    },
    {
     "name": "stderr",
     "output_type": "stream",
     "text": [
      "0: 640x640 (no detections), 4019.6ms\n",
      "Speed: 6.0ms preprocess, 4019.6ms inference, 1.0ms postprocess per image at shape (1, 3, 640, 640)\n",
      "\n"
     ]
    },
    {
     "name": "stdout",
     "output_type": "stream",
     "text": [
      "Inferencing Frame 3183...\n"
     ]
    },
    {
     "name": "stderr",
     "output_type": "stream",
     "text": [
      "0: 640x640 (no detections), 3859.5ms\n",
      "Speed: 6.0ms preprocess, 3859.5ms inference, 1.0ms postprocess per image at shape (1, 3, 640, 640)\n",
      "\n"
     ]
    },
    {
     "name": "stdout",
     "output_type": "stream",
     "text": [
      "Inferencing Frame 3184...\n"
     ]
    },
    {
     "name": "stderr",
     "output_type": "stream",
     "text": [
      "0: 640x640 1 Fire-Smoke-Sodium-Tray, 3729.4ms\n",
      "Speed: 6.0ms preprocess, 3729.4ms inference, 6.0ms postprocess per image at shape (1, 3, 640, 640)\n",
      "\n"
     ]
    },
    {
     "name": "stdout",
     "output_type": "stream",
     "text": [
      "Mask identified for the frame...\n",
      "Inferencing Frame 3185...\n"
     ]
    },
    {
     "name": "stderr",
     "output_type": "stream",
     "text": [
      "0: 640x640 (no detections), 3765.4ms\n",
      "Speed: 6.0ms preprocess, 3765.4ms inference, 0.0ms postprocess per image at shape (1, 3, 640, 640)\n",
      "\n"
     ]
    },
    {
     "name": "stdout",
     "output_type": "stream",
     "text": [
      "Inferencing Frame 3186...\n"
     ]
    },
    {
     "name": "stderr",
     "output_type": "stream",
     "text": [
      "0: 640x640 (no detections), 4166.8ms\n",
      "Speed: 7.0ms preprocess, 4166.8ms inference, 1.0ms postprocess per image at shape (1, 3, 640, 640)\n",
      "\n"
     ]
    },
    {
     "name": "stdout",
     "output_type": "stream",
     "text": [
      "Inferencing Frame 3187...\n"
     ]
    },
    {
     "name": "stderr",
     "output_type": "stream",
     "text": [
      "0: 640x640 (no detections), 4422.0ms\n",
      "Speed: 6.0ms preprocess, 4422.0ms inference, 1.0ms postprocess per image at shape (1, 3, 640, 640)\n",
      "\n"
     ]
    },
    {
     "name": "stdout",
     "output_type": "stream",
     "text": [
      "Inferencing Frame 3188...\n"
     ]
    },
    {
     "name": "stderr",
     "output_type": "stream",
     "text": [
      "0: 640x640 1 Fire-Smoke-Sodium-Tray, 3801.4ms\n",
      "Speed: 7.1ms preprocess, 3801.4ms inference, 8.0ms postprocess per image at shape (1, 3, 640, 640)\n",
      "\n"
     ]
    },
    {
     "name": "stdout",
     "output_type": "stream",
     "text": [
      "Mask identified for the frame...\n",
      "Inferencing Frame 3189...\n"
     ]
    },
    {
     "name": "stderr",
     "output_type": "stream",
     "text": [
      "0: 640x640 (no detections), 4141.7ms\n",
      "Speed: 6.0ms preprocess, 4141.7ms inference, 0.0ms postprocess per image at shape (1, 3, 640, 640)\n",
      "\n"
     ]
    },
    {
     "name": "stdout",
     "output_type": "stream",
     "text": [
      "Inferencing Frame 3190...\n"
     ]
    },
    {
     "name": "stderr",
     "output_type": "stream",
     "text": [
      "0: 640x640 (no detections), 3754.4ms\n",
      "Speed: 6.0ms preprocess, 3754.4ms inference, 1.0ms postprocess per image at shape (1, 3, 640, 640)\n",
      "\n"
     ]
    },
    {
     "name": "stdout",
     "output_type": "stream",
     "text": [
      "Inferencing Frame 3191...\n"
     ]
    },
    {
     "name": "stderr",
     "output_type": "stream",
     "text": [
      "0: 640x640 (no detections), 3746.4ms\n",
      "Speed: 6.0ms preprocess, 3746.4ms inference, 1.0ms postprocess per image at shape (1, 3, 640, 640)\n",
      "\n"
     ]
    },
    {
     "name": "stdout",
     "output_type": "stream",
     "text": [
      "Inferencing Frame 3192...\n"
     ]
    },
    {
     "name": "stderr",
     "output_type": "stream",
     "text": [
      "0: 640x640 (no detections), 3797.4ms\n",
      "Speed: 21.0ms preprocess, 3797.4ms inference, 0.0ms postprocess per image at shape (1, 3, 640, 640)\n",
      "\n"
     ]
    },
    {
     "name": "stdout",
     "output_type": "stream",
     "text": [
      "Inferencing Frame 3193...\n"
     ]
    },
    {
     "name": "stderr",
     "output_type": "stream",
     "text": [
      "0: 640x640 (no detections), 3757.4ms\n",
      "Speed: 6.0ms preprocess, 3757.4ms inference, 1.0ms postprocess per image at shape (1, 3, 640, 640)\n",
      "\n"
     ]
    },
    {
     "name": "stdout",
     "output_type": "stream",
     "text": [
      "Inferencing Frame 3194...\n"
     ]
    },
    {
     "name": "stderr",
     "output_type": "stream",
     "text": [
      "0: 640x640 (no detections), 3870.5ms\n",
      "Speed: 6.0ms preprocess, 3870.5ms inference, 1.0ms postprocess per image at shape (1, 3, 640, 640)\n",
      "\n"
     ]
    },
    {
     "name": "stdout",
     "output_type": "stream",
     "text": [
      "Inferencing Frame 3195...\n"
     ]
    },
    {
     "name": "stderr",
     "output_type": "stream",
     "text": [
      "0: 640x640 1 Fire-Smoke-Sodium-Tray, 4032.6ms\n",
      "Speed: 7.1ms preprocess, 4032.6ms inference, 8.0ms postprocess per image at shape (1, 3, 640, 640)\n",
      "\n"
     ]
    },
    {
     "name": "stdout",
     "output_type": "stream",
     "text": [
      "Mask identified for the frame...\n",
      "Inferencing Frame 3196...\n"
     ]
    },
    {
     "name": "stderr",
     "output_type": "stream",
     "text": [
      "0: 640x640 2 Fire-Smoke-Sodium-Trays, 4310.9ms\n",
      "Speed: 6.0ms preprocess, 4310.9ms inference, 9.0ms postprocess per image at shape (1, 3, 640, 640)\n",
      "\n"
     ]
    },
    {
     "name": "stdout",
     "output_type": "stream",
     "text": [
      "Mask identified for the frame...\n",
      "Inferencing Frame 3197...\n"
     ]
    },
    {
     "name": "stderr",
     "output_type": "stream",
     "text": [
      "0: 640x640 1 Fire-Smoke-Sodium-Tray, 3987.6ms\n",
      "Speed: 6.0ms preprocess, 3987.6ms inference, 6.0ms postprocess per image at shape (1, 3, 640, 640)\n",
      "\n"
     ]
    },
    {
     "name": "stdout",
     "output_type": "stream",
     "text": [
      "Mask identified for the frame...\n",
      "Inferencing Frame 3198...\n"
     ]
    },
    {
     "name": "stderr",
     "output_type": "stream",
     "text": [
      "0: 640x640 3 Fire-Smoke-Sodium-Trays, 3799.4ms\n",
      "Speed: 18.0ms preprocess, 3799.4ms inference, 12.0ms postprocess per image at shape (1, 3, 640, 640)\n",
      "\n"
     ]
    },
    {
     "name": "stdout",
     "output_type": "stream",
     "text": [
      "Mask identified for the frame...\n",
      "Inferencing Frame 3199...\n"
     ]
    },
    {
     "name": "stderr",
     "output_type": "stream",
     "text": [
      "0: 640x640 1 Fire-Smoke-Sodium-Tray, 3747.4ms\n",
      "Speed: 6.0ms preprocess, 3747.4ms inference, 5.0ms postprocess per image at shape (1, 3, 640, 640)\n",
      "\n"
     ]
    },
    {
     "name": "stdout",
     "output_type": "stream",
     "text": [
      "Mask identified for the frame...\n",
      "Inferencing Frame 3200...\n"
     ]
    },
    {
     "name": "stderr",
     "output_type": "stream",
     "text": [
      "0: 640x640 (no detections), 3833.4ms\n",
      "Speed: 6.0ms preprocess, 3833.4ms inference, 1.0ms postprocess per image at shape (1, 3, 640, 640)\n",
      "\n"
     ]
    },
    {
     "name": "stdout",
     "output_type": "stream",
     "text": [
      "Inferencing Frame 3201...\n"
     ]
    },
    {
     "name": "stderr",
     "output_type": "stream",
     "text": [
      "0: 640x640 1 Fire-Smoke-Sodium-Tray, 3782.4ms\n",
      "Speed: 7.0ms preprocess, 3782.4ms inference, 8.0ms postprocess per image at shape (1, 3, 640, 640)\n",
      "\n"
     ]
    },
    {
     "name": "stdout",
     "output_type": "stream",
     "text": [
      "Mask identified for the frame...\n",
      "Inferencing Frame 3202...\n"
     ]
    },
    {
     "name": "stderr",
     "output_type": "stream",
     "text": [
      "0: 640x640 1 Fire-Smoke-Sodium-Tray, 4065.7ms\n",
      "Speed: 7.0ms preprocess, 4065.7ms inference, 5.0ms postprocess per image at shape (1, 3, 640, 640)\n",
      "\n"
     ]
    },
    {
     "name": "stdout",
     "output_type": "stream",
     "text": [
      "Mask identified for the frame...\n",
      "Inferencing Frame 3203...\n"
     ]
    },
    {
     "name": "stderr",
     "output_type": "stream",
     "text": [
      "0: 640x640 (no detections), 3875.5ms\n",
      "Speed: 7.0ms preprocess, 3875.5ms inference, 1.0ms postprocess per image at shape (1, 3, 640, 640)\n",
      "\n"
     ]
    },
    {
     "name": "stdout",
     "output_type": "stream",
     "text": [
      "Inferencing Frame 3204...\n"
     ]
    },
    {
     "name": "stderr",
     "output_type": "stream",
     "text": [
      "0: 640x640 1 Fire-Smoke-Sodium-Tray, 3819.4ms\n",
      "Speed: 7.0ms preprocess, 3819.4ms inference, 9.1ms postprocess per image at shape (1, 3, 640, 640)\n",
      "\n"
     ]
    },
    {
     "name": "stdout",
     "output_type": "stream",
     "text": [
      "Mask identified for the frame...\n",
      "Inferencing Frame 3205...\n"
     ]
    },
    {
     "name": "stderr",
     "output_type": "stream",
     "text": [
      "0: 640x640 (no detections), 3989.5ms\n",
      "Speed: 7.1ms preprocess, 3989.5ms inference, 0.0ms postprocess per image at shape (1, 3, 640, 640)\n",
      "\n"
     ]
    },
    {
     "name": "stdout",
     "output_type": "stream",
     "text": [
      "Inferencing Frame 3206...\n"
     ]
    },
    {
     "name": "stderr",
     "output_type": "stream",
     "text": [
      "0: 640x640 (no detections), 3837.5ms\n",
      "Speed: 6.0ms preprocess, 3837.5ms inference, 0.0ms postprocess per image at shape (1, 3, 640, 640)\n",
      "\n"
     ]
    },
    {
     "name": "stdout",
     "output_type": "stream",
     "text": [
      "Inferencing Frame 3207...\n"
     ]
    },
    {
     "name": "stderr",
     "output_type": "stream",
     "text": [
      "0: 640x640 1 Fire-Smoke-Sodium-Tray, 4226.8ms\n",
      "Speed: 6.0ms preprocess, 4226.8ms inference, 6.0ms postprocess per image at shape (1, 3, 640, 640)\n",
      "\n"
     ]
    },
    {
     "name": "stdout",
     "output_type": "stream",
     "text": [
      "Mask identified for the frame...\n",
      "Inferencing Frame 3208...\n"
     ]
    },
    {
     "name": "stderr",
     "output_type": "stream",
     "text": [
      "0: 640x640 1 Fire-Smoke-Sodium-Tray, 3818.4ms\n",
      "Speed: 6.0ms preprocess, 3818.4ms inference, 5.0ms postprocess per image at shape (1, 3, 640, 640)\n",
      "\n"
     ]
    },
    {
     "name": "stdout",
     "output_type": "stream",
     "text": [
      "Mask identified for the frame...\n",
      "Inferencing Frame 3209...\n"
     ]
    },
    {
     "name": "stderr",
     "output_type": "stream",
     "text": [
      "0: 640x640 (no detections), 3822.4ms\n",
      "Speed: 6.0ms preprocess, 3822.4ms inference, 1.0ms postprocess per image at shape (1, 3, 640, 640)\n",
      "\n"
     ]
    },
    {
     "name": "stdout",
     "output_type": "stream",
     "text": [
      "Inferencing Frame 3210...\n"
     ]
    },
    {
     "name": "stderr",
     "output_type": "stream",
     "text": [
      "0: 640x640 1 Fire-Smoke-Sodium-Tray, 3929.5ms\n",
      "Speed: 6.0ms preprocess, 3929.5ms inference, 5.0ms postprocess per image at shape (1, 3, 640, 640)\n",
      "\n"
     ]
    },
    {
     "name": "stdout",
     "output_type": "stream",
     "text": [
      "Mask identified for the frame...\n",
      "Inferencing Frame 3211...\n"
     ]
    },
    {
     "name": "stderr",
     "output_type": "stream",
     "text": [
      "0: 640x640 1 Fire-Smoke-Sodium-Tray, 4131.7ms\n",
      "Speed: 7.0ms preprocess, 4131.7ms inference, 9.1ms postprocess per image at shape (1, 3, 640, 640)\n",
      "\n"
     ]
    },
    {
     "name": "stdout",
     "output_type": "stream",
     "text": [
      "Mask identified for the frame...\n",
      "Inferencing Frame 3212...\n"
     ]
    },
    {
     "name": "stderr",
     "output_type": "stream",
     "text": [
      "0: 640x640 (no detections), 3802.4ms\n",
      "Speed: 6.0ms preprocess, 3802.4ms inference, 1.0ms postprocess per image at shape (1, 3, 640, 640)\n",
      "\n"
     ]
    },
    {
     "name": "stdout",
     "output_type": "stream",
     "text": [
      "Inferencing Frame 3213...\n"
     ]
    },
    {
     "name": "stderr",
     "output_type": "stream",
     "text": [
      "0: 640x640 (no detections), 3987.6ms\n",
      "Speed: 6.0ms preprocess, 3987.6ms inference, 0.0ms postprocess per image at shape (1, 3, 640, 640)\n",
      "\n"
     ]
    },
    {
     "name": "stdout",
     "output_type": "stream",
     "text": [
      "Inferencing Frame 3214...\n"
     ]
    },
    {
     "name": "stderr",
     "output_type": "stream",
     "text": [
      "0: 640x640 1 Fire-Smoke-Sodium-Tray, 3868.5ms\n",
      "Speed: 5.0ms preprocess, 3868.5ms inference, 6.0ms postprocess per image at shape (1, 3, 640, 640)\n",
      "\n"
     ]
    },
    {
     "name": "stdout",
     "output_type": "stream",
     "text": [
      "Mask identified for the frame...\n",
      "Inferencing Frame 3215...\n"
     ]
    },
    {
     "name": "stderr",
     "output_type": "stream",
     "text": [
      "0: 640x640 1 Fire-Smoke-Sodium-Tray, 3725.3ms\n",
      "Speed: 7.1ms preprocess, 3725.3ms inference, 6.0ms postprocess per image at shape (1, 3, 640, 640)\n",
      "\n"
     ]
    },
    {
     "name": "stdout",
     "output_type": "stream",
     "text": [
      "Mask identified for the frame...\n",
      "Inferencing Frame 3216...\n"
     ]
    },
    {
     "name": "stderr",
     "output_type": "stream",
     "text": [
      "0: 640x640 1 Fire-Smoke-Sodium-Tray, 3806.5ms\n",
      "Speed: 6.0ms preprocess, 3806.5ms inference, 6.0ms postprocess per image at shape (1, 3, 640, 640)\n",
      "\n"
     ]
    },
    {
     "name": "stdout",
     "output_type": "stream",
     "text": [
      "Mask identified for the frame...\n",
      "Inferencing Frame 3217...\n"
     ]
    },
    {
     "name": "stderr",
     "output_type": "stream",
     "text": [
      "0: 640x640 1 Fire-Smoke-Sodium-Tray, 4012.7ms\n",
      "Speed: 6.0ms preprocess, 4012.7ms inference, 8.0ms postprocess per image at shape (1, 3, 640, 640)\n",
      "\n"
     ]
    },
    {
     "name": "stdout",
     "output_type": "stream",
     "text": [
      "Mask identified for the frame...\n",
      "Inferencing Frame 3218...\n"
     ]
    },
    {
     "name": "stderr",
     "output_type": "stream",
     "text": [
      "0: 640x640 1 Fire-Smoke-Sodium-Tray, 3897.5ms\n",
      "Speed: 7.0ms preprocess, 3897.5ms inference, 6.0ms postprocess per image at shape (1, 3, 640, 640)\n",
      "\n"
     ]
    },
    {
     "name": "stdout",
     "output_type": "stream",
     "text": [
      "Mask identified for the frame...\n",
      "Inferencing Frame 3219...\n"
     ]
    },
    {
     "name": "stderr",
     "output_type": "stream",
     "text": [
      "0: 640x640 2 Fire-Smoke-Sodium-Trays, 3776.4ms\n",
      "Speed: 7.1ms preprocess, 3776.4ms inference, 8.0ms postprocess per image at shape (1, 3, 640, 640)\n",
      "\n"
     ]
    },
    {
     "name": "stdout",
     "output_type": "stream",
     "text": [
      "Mask identified for the frame...\n",
      "Inferencing Frame 3220...\n"
     ]
    },
    {
     "name": "stderr",
     "output_type": "stream",
     "text": [
      "0: 640x640 1 Fire-Smoke-Sodium-Tray, 3795.4ms\n",
      "Speed: 6.0ms preprocess, 3795.4ms inference, 10.0ms postprocess per image at shape (1, 3, 640, 640)\n",
      "\n"
     ]
    },
    {
     "name": "stdout",
     "output_type": "stream",
     "text": [
      "Mask identified for the frame...\n",
      "Inferencing Frame 3221...\n"
     ]
    },
    {
     "name": "stderr",
     "output_type": "stream",
     "text": [
      "0: 640x640 1 Fire-Smoke-Sodium-Tray, 3999.6ms\n",
      "Speed: 10.0ms preprocess, 3999.6ms inference, 5.0ms postprocess per image at shape (1, 3, 640, 640)\n",
      "\n"
     ]
    },
    {
     "name": "stdout",
     "output_type": "stream",
     "text": [
      "Mask identified for the frame...\n",
      "Inferencing Frame 3222...\n"
     ]
    },
    {
     "name": "stderr",
     "output_type": "stream",
     "text": [
      "0: 640x640 1 Fire-Smoke-Sodium-Tray, 3684.3ms\n",
      "Speed: 6.0ms preprocess, 3684.3ms inference, 6.0ms postprocess per image at shape (1, 3, 640, 640)\n",
      "\n"
     ]
    },
    {
     "name": "stdout",
     "output_type": "stream",
     "text": [
      "Mask identified for the frame...\n",
      "Inferencing Frame 3223...\n"
     ]
    },
    {
     "name": "stderr",
     "output_type": "stream",
     "text": [
      "0: 640x640 1 Fire-Smoke-Sodium-Tray, 3732.3ms\n",
      "Speed: 7.1ms preprocess, 3732.3ms inference, 6.0ms postprocess per image at shape (1, 3, 640, 640)\n",
      "\n"
     ]
    },
    {
     "name": "stdout",
     "output_type": "stream",
     "text": [
      "Mask identified for the frame...\n",
      "Inferencing Frame 3224...\n"
     ]
    },
    {
     "name": "stderr",
     "output_type": "stream",
     "text": [
      "0: 640x640 (no detections), 3918.5ms\n",
      "Speed: 6.0ms preprocess, 3918.5ms inference, 1.0ms postprocess per image at shape (1, 3, 640, 640)\n",
      "\n"
     ]
    },
    {
     "name": "stdout",
     "output_type": "stream",
     "text": [
      "Inferencing Frame 3225...\n"
     ]
    },
    {
     "name": "stderr",
     "output_type": "stream",
     "text": [
      "0: 640x640 1 Fire-Smoke-Sodium-Tray, 4069.7ms\n",
      "Speed: 6.0ms preprocess, 4069.7ms inference, 6.0ms postprocess per image at shape (1, 3, 640, 640)\n",
      "\n"
     ]
    },
    {
     "name": "stdout",
     "output_type": "stream",
     "text": [
      "Mask identified for the frame...\n",
      "Inferencing Frame 3226...\n"
     ]
    },
    {
     "name": "stderr",
     "output_type": "stream",
     "text": [
      "0: 640x640 (no detections), 4116.7ms\n",
      "Speed: 6.0ms preprocess, 4116.7ms inference, 1.0ms postprocess per image at shape (1, 3, 640, 640)\n",
      "\n"
     ]
    },
    {
     "name": "stdout",
     "output_type": "stream",
     "text": [
      "Inferencing Frame 3227...\n"
     ]
    },
    {
     "name": "stderr",
     "output_type": "stream",
     "text": [
      "0: 640x640 2 Fire-Smoke-Sodium-Trays, 4025.6ms\n",
      "Speed: 6.0ms preprocess, 4025.6ms inference, 12.0ms postprocess per image at shape (1, 3, 640, 640)\n",
      "\n"
     ]
    },
    {
     "name": "stdout",
     "output_type": "stream",
     "text": [
      "Mask identified for the frame...\n",
      "Inferencing Frame 3228...\n"
     ]
    },
    {
     "name": "stderr",
     "output_type": "stream",
     "text": [
      "0: 640x640 1 Fire-Smoke-Sodium-Tray, 4059.7ms\n",
      "Speed: 6.0ms preprocess, 4059.7ms inference, 7.0ms postprocess per image at shape (1, 3, 640, 640)\n",
      "\n"
     ]
    },
    {
     "name": "stdout",
     "output_type": "stream",
     "text": [
      "Mask identified for the frame...\n",
      "Inferencing Frame 3229...\n"
     ]
    },
    {
     "name": "stderr",
     "output_type": "stream",
     "text": [
      "0: 640x640 3 Fire-Smoke-Sodium-Trays, 3752.4ms\n",
      "Speed: 6.0ms preprocess, 3752.4ms inference, 12.0ms postprocess per image at shape (1, 3, 640, 640)\n",
      "\n"
     ]
    },
    {
     "name": "stdout",
     "output_type": "stream",
     "text": [
      "Mask identified for the frame...\n",
      "Inferencing Frame 3230...\n"
     ]
    },
    {
     "name": "stderr",
     "output_type": "stream",
     "text": [
      "0: 640x640 2 Fire-Smoke-Sodium-Trays, 3834.5ms\n",
      "Speed: 7.1ms preprocess, 3834.5ms inference, 14.0ms postprocess per image at shape (1, 3, 640, 640)\n",
      "\n"
     ]
    },
    {
     "name": "stdout",
     "output_type": "stream",
     "text": [
      "Mask identified for the frame...\n",
      "Inferencing Frame 3231...\n"
     ]
    },
    {
     "name": "stderr",
     "output_type": "stream",
     "text": [
      "0: 640x640 1 Fire-Smoke-Sodium-Tray, 3837.5ms\n",
      "Speed: 7.1ms preprocess, 3837.5ms inference, 7.0ms postprocess per image at shape (1, 3, 640, 640)\n",
      "\n"
     ]
    },
    {
     "name": "stdout",
     "output_type": "stream",
     "text": [
      "Mask identified for the frame...\n",
      "Inferencing Frame 3232...\n"
     ]
    },
    {
     "name": "stderr",
     "output_type": "stream",
     "text": [
      "0: 640x640 3 Fire-Smoke-Sodium-Trays, 3867.5ms\n",
      "Speed: 6.0ms preprocess, 3867.5ms inference, 14.1ms postprocess per image at shape (1, 3, 640, 640)\n",
      "\n"
     ]
    },
    {
     "name": "stdout",
     "output_type": "stream",
     "text": [
      "Mask identified for the frame...\n",
      "Inferencing Frame 3233...\n"
     ]
    },
    {
     "name": "stderr",
     "output_type": "stream",
     "text": [
      "0: 640x640 1 Fire-Smoke-Sodium-Tray, 3931.5ms\n",
      "Speed: 6.0ms preprocess, 3931.5ms inference, 6.0ms postprocess per image at shape (1, 3, 640, 640)\n",
      "\n"
     ]
    },
    {
     "name": "stdout",
     "output_type": "stream",
     "text": [
      "Mask identified for the frame...\n",
      "Inferencing Frame 3234...\n"
     ]
    },
    {
     "name": "stderr",
     "output_type": "stream",
     "text": [
      "0: 640x640 2 Fire-Smoke-Sodium-Trays, 3782.4ms\n",
      "Speed: 6.0ms preprocess, 3782.4ms inference, 10.1ms postprocess per image at shape (1, 3, 640, 640)\n",
      "\n"
     ]
    },
    {
     "name": "stdout",
     "output_type": "stream",
     "text": [
      "Mask identified for the frame...\n",
      "Inferencing Frame 3235...\n"
     ]
    },
    {
     "name": "stderr",
     "output_type": "stream",
     "text": [
      "0: 640x640 1 Fire-Smoke-Sodium-Tray, 3714.3ms\n",
      "Speed: 6.0ms preprocess, 3714.3ms inference, 6.0ms postprocess per image at shape (1, 3, 640, 640)\n",
      "\n"
     ]
    },
    {
     "name": "stdout",
     "output_type": "stream",
     "text": [
      "Mask identified for the frame...\n",
      "Inferencing Frame 3236...\n"
     ]
    },
    {
     "name": "stderr",
     "output_type": "stream",
     "text": [
      "0: 640x640 1 Fire-Smoke-Sodium-Tray, 3945.6ms\n",
      "Speed: 7.0ms preprocess, 3945.6ms inference, 5.0ms postprocess per image at shape (1, 3, 640, 640)\n",
      "\n"
     ]
    },
    {
     "name": "stdout",
     "output_type": "stream",
     "text": [
      "Mask identified for the frame...\n",
      "Inferencing Frame 3237...\n"
     ]
    },
    {
     "name": "stderr",
     "output_type": "stream",
     "text": [
      "0: 640x640 2 Fire-Smoke-Sodium-Trays, 3832.5ms\n",
      "Speed: 17.0ms preprocess, 3832.5ms inference, 9.0ms postprocess per image at shape (1, 3, 640, 640)\n",
      "\n"
     ]
    },
    {
     "name": "stdout",
     "output_type": "stream",
     "text": [
      "Mask identified for the frame...\n",
      "Inferencing Frame 3238...\n"
     ]
    },
    {
     "name": "stderr",
     "output_type": "stream",
     "text": [
      "0: 640x640 2 Fire-Smoke-Sodium-Trays, 3901.5ms\n",
      "Speed: 8.0ms preprocess, 3901.5ms inference, 9.0ms postprocess per image at shape (1, 3, 640, 640)\n",
      "\n"
     ]
    },
    {
     "name": "stdout",
     "output_type": "stream",
     "text": [
      "Mask identified for the frame...\n",
      "Inferencing Frame 3239...\n"
     ]
    },
    {
     "name": "stderr",
     "output_type": "stream",
     "text": [
      "0: 640x640 1 Fire-Smoke-Sodium-Tray, 3886.5ms\n",
      "Speed: 6.0ms preprocess, 3886.5ms inference, 6.0ms postprocess per image at shape (1, 3, 640, 640)\n",
      "\n"
     ]
    },
    {
     "name": "stdout",
     "output_type": "stream",
     "text": [
      "Mask identified for the frame...\n",
      "Inferencing Frame 3240...\n"
     ]
    },
    {
     "name": "stderr",
     "output_type": "stream",
     "text": [
      "0: 640x640 2 Fire-Smoke-Sodium-Trays, 3754.4ms\n",
      "Speed: 6.0ms preprocess, 3754.4ms inference, 13.0ms postprocess per image at shape (1, 3, 640, 640)\n",
      "\n"
     ]
    },
    {
     "name": "stdout",
     "output_type": "stream",
     "text": [
      "Mask identified for the frame...\n",
      "Inferencing Frame 3241...\n"
     ]
    },
    {
     "name": "stderr",
     "output_type": "stream",
     "text": [
      "0: 640x640 1 Fire-Smoke-Sodium-Tray, 4023.6ms\n",
      "Speed: 9.0ms preprocess, 4023.6ms inference, 5.0ms postprocess per image at shape (1, 3, 640, 640)\n",
      "\n"
     ]
    },
    {
     "name": "stdout",
     "output_type": "stream",
     "text": [
      "Mask identified for the frame...\n",
      "Inferencing Frame 3242...\n"
     ]
    },
    {
     "name": "stderr",
     "output_type": "stream",
     "text": [
      "0: 640x640 2 Fire-Smoke-Sodium-Trays, 4330.9ms\n",
      "Speed: 6.0ms preprocess, 4330.9ms inference, 12.0ms postprocess per image at shape (1, 3, 640, 640)\n",
      "\n"
     ]
    },
    {
     "name": "stdout",
     "output_type": "stream",
     "text": [
      "Mask identified for the frame...\n",
      "Inferencing Frame 3243...\n"
     ]
    },
    {
     "name": "stderr",
     "output_type": "stream",
     "text": [
      "0: 640x640 (no detections), 3802.4ms\n",
      "Speed: 6.0ms preprocess, 3802.4ms inference, 1.0ms postprocess per image at shape (1, 3, 640, 640)\n",
      "\n"
     ]
    },
    {
     "name": "stdout",
     "output_type": "stream",
     "text": [
      "Inferencing Frame 3244...\n"
     ]
    },
    {
     "name": "stderr",
     "output_type": "stream",
     "text": [
      "0: 640x640 3 Fire-Smoke-Sodium-Trays, 4046.7ms\n",
      "Speed: 7.0ms preprocess, 4046.7ms inference, 12.0ms postprocess per image at shape (1, 3, 640, 640)\n",
      "\n"
     ]
    },
    {
     "name": "stdout",
     "output_type": "stream",
     "text": [
      "Mask identified for the frame...\n",
      "Inferencing Frame 3245...\n"
     ]
    },
    {
     "name": "stderr",
     "output_type": "stream",
     "text": [
      "0: 640x640 2 Fire-Smoke-Sodium-Trays, 3982.6ms\n",
      "Speed: 6.0ms preprocess, 3982.6ms inference, 8.0ms postprocess per image at shape (1, 3, 640, 640)\n",
      "\n"
     ]
    },
    {
     "name": "stdout",
     "output_type": "stream",
     "text": [
      "Mask identified for the frame...\n",
      "Inferencing Frame 3246...\n"
     ]
    },
    {
     "name": "stderr",
     "output_type": "stream",
     "text": [
      "0: 640x640 1 Fire-Smoke-Sodium-Tray, 3772.5ms\n",
      "Speed: 6.0ms preprocess, 3772.5ms inference, 5.9ms postprocess per image at shape (1, 3, 640, 640)\n",
      "\n"
     ]
    },
    {
     "name": "stdout",
     "output_type": "stream",
     "text": [
      "Mask identified for the frame...\n",
      "Inferencing Frame 3247...\n"
     ]
    },
    {
     "name": "stderr",
     "output_type": "stream",
     "text": [
      "0: 640x640 1 Fire-Smoke-Sodium-Tray, 3824.4ms\n",
      "Speed: 7.0ms preprocess, 3824.4ms inference, 7.0ms postprocess per image at shape (1, 3, 640, 640)\n",
      "\n"
     ]
    },
    {
     "name": "stdout",
     "output_type": "stream",
     "text": [
      "Mask identified for the frame...\n",
      "Inferencing Frame 3248...\n"
     ]
    },
    {
     "name": "stderr",
     "output_type": "stream",
     "text": [
      "0: 640x640 2 Fire-Smoke-Sodium-Trays, 4242.8ms\n",
      "Speed: 7.0ms preprocess, 4242.8ms inference, 14.0ms postprocess per image at shape (1, 3, 640, 640)\n",
      "\n"
     ]
    },
    {
     "name": "stdout",
     "output_type": "stream",
     "text": [
      "Mask identified for the frame...\n",
      "Inferencing Frame 3249...\n"
     ]
    },
    {
     "name": "stderr",
     "output_type": "stream",
     "text": [
      "0: 640x640 1 Fire-Smoke-Sodium-Tray, 3942.5ms\n",
      "Speed: 6.0ms preprocess, 3942.5ms inference, 6.0ms postprocess per image at shape (1, 3, 640, 640)\n",
      "\n"
     ]
    },
    {
     "name": "stdout",
     "output_type": "stream",
     "text": [
      "Mask identified for the frame...\n",
      "Inferencing Frame 3250...\n"
     ]
    },
    {
     "name": "stderr",
     "output_type": "stream",
     "text": [
      "0: 640x640 1 Fire-Smoke-Sodium-Tray, 3694.3ms\n",
      "Speed: 7.0ms preprocess, 3694.3ms inference, 6.0ms postprocess per image at shape (1, 3, 640, 640)\n",
      "\n"
     ]
    },
    {
     "name": "stdout",
     "output_type": "stream",
     "text": [
      "Mask identified for the frame...\n",
      "Inferencing Frame 3251...\n"
     ]
    },
    {
     "name": "stderr",
     "output_type": "stream",
     "text": [
      "0: 640x640 1 Fire-Smoke-Sodium-Tray, 4048.7ms\n",
      "Speed: 6.0ms preprocess, 4048.7ms inference, 7.0ms postprocess per image at shape (1, 3, 640, 640)\n",
      "\n"
     ]
    },
    {
     "name": "stdout",
     "output_type": "stream",
     "text": [
      "Mask identified for the frame...\n",
      "Inferencing Frame 3252...\n"
     ]
    },
    {
     "name": "stderr",
     "output_type": "stream",
     "text": [
      "0: 640x640 1 Fire-Smoke-Sodium-Tray, 3838.5ms\n",
      "Speed: 6.0ms preprocess, 3838.5ms inference, 5.0ms postprocess per image at shape (1, 3, 640, 640)\n",
      "\n"
     ]
    },
    {
     "name": "stdout",
     "output_type": "stream",
     "text": [
      "Mask identified for the frame...\n",
      "Inferencing Frame 3253...\n"
     ]
    },
    {
     "name": "stderr",
     "output_type": "stream",
     "text": [
      "0: 640x640 1 Fire-Smoke-Sodium-Tray, 3763.4ms\n",
      "Speed: 8.0ms preprocess, 3763.4ms inference, 6.0ms postprocess per image at shape (1, 3, 640, 640)\n",
      "\n"
     ]
    },
    {
     "name": "stdout",
     "output_type": "stream",
     "text": [
      "Mask identified for the frame...\n",
      "Inferencing Frame 3254...\n"
     ]
    },
    {
     "name": "stderr",
     "output_type": "stream",
     "text": [
      "0: 640x640 1 Fire-Smoke-Sodium-Tray, 3703.4ms\n",
      "Speed: 7.0ms preprocess, 3703.4ms inference, 6.0ms postprocess per image at shape (1, 3, 640, 640)\n",
      "\n"
     ]
    },
    {
     "name": "stdout",
     "output_type": "stream",
     "text": [
      "Mask identified for the frame...\n",
      "Inferencing Frame 3255...\n"
     ]
    },
    {
     "name": "stderr",
     "output_type": "stream",
     "text": [
      "0: 640x640 1 Fire-Smoke-Sodium-Tray, 3721.4ms\n",
      "Speed: 20.0ms preprocess, 3721.4ms inference, 6.0ms postprocess per image at shape (1, 3, 640, 640)\n",
      "\n"
     ]
    },
    {
     "name": "stdout",
     "output_type": "stream",
     "text": [
      "Mask identified for the frame...\n",
      "Inferencing Frame 3256...\n"
     ]
    },
    {
     "name": "stderr",
     "output_type": "stream",
     "text": [
      "0: 640x640 1 Fire-Smoke-Sodium-Tray, 4071.7ms\n",
      "Speed: 7.0ms preprocess, 4071.7ms inference, 5.0ms postprocess per image at shape (1, 3, 640, 640)\n",
      "\n"
     ]
    },
    {
     "name": "stdout",
     "output_type": "stream",
     "text": [
      "Mask identified for the frame...\n",
      "Inferencing Frame 3257...\n"
     ]
    },
    {
     "name": "stderr",
     "output_type": "stream",
     "text": [
      "0: 640x640 2 Fire-Smoke-Sodium-Trays, 4412.0ms\n",
      "Speed: 6.0ms preprocess, 4412.0ms inference, 9.0ms postprocess per image at shape (1, 3, 640, 640)\n",
      "\n"
     ]
    },
    {
     "name": "stdout",
     "output_type": "stream",
     "text": [
      "Mask identified for the frame...\n",
      "Inferencing Frame 3258...\n"
     ]
    },
    {
     "name": "stderr",
     "output_type": "stream",
     "text": [
      "0: 640x640 1 Fire-Smoke-Sodium-Tray, 3918.6ms\n",
      "Speed: 6.0ms preprocess, 3918.6ms inference, 7.9ms postprocess per image at shape (1, 3, 640, 640)\n",
      "\n"
     ]
    },
    {
     "name": "stdout",
     "output_type": "stream",
     "text": [
      "Mask identified for the frame...\n",
      "Inferencing Frame 3259...\n"
     ]
    },
    {
     "name": "stderr",
     "output_type": "stream",
     "text": [
      "0: 640x640 1 Fire-Smoke-Sodium-Tray, 4021.6ms\n",
      "Speed: 6.0ms preprocess, 4021.6ms inference, 6.0ms postprocess per image at shape (1, 3, 640, 640)\n",
      "\n"
     ]
    },
    {
     "name": "stdout",
     "output_type": "stream",
     "text": [
      "Mask identified for the frame...\n",
      "Inferencing Frame 3260...\n"
     ]
    },
    {
     "name": "stderr",
     "output_type": "stream",
     "text": [
      "0: 640x640 2 Fire-Smoke-Sodium-Trays, 3745.4ms\n",
      "Speed: 7.0ms preprocess, 3745.4ms inference, 8.0ms postprocess per image at shape (1, 3, 640, 640)\n",
      "\n"
     ]
    },
    {
     "name": "stdout",
     "output_type": "stream",
     "text": [
      "Mask identified for the frame...\n",
      "Inferencing Frame 3261...\n"
     ]
    },
    {
     "name": "stderr",
     "output_type": "stream",
     "text": [
      "0: 640x640 2 Fire-Smoke-Sodium-Trays, 3828.5ms\n",
      "Speed: 6.0ms preprocess, 3828.5ms inference, 10.0ms postprocess per image at shape (1, 3, 640, 640)\n",
      "\n"
     ]
    },
    {
     "name": "stdout",
     "output_type": "stream",
     "text": [
      "Mask identified for the frame...\n",
      "Inferencing Frame 3262...\n"
     ]
    },
    {
     "name": "stderr",
     "output_type": "stream",
     "text": [
      "0: 640x640 2 Fire-Smoke-Sodium-Trays, 3807.4ms\n",
      "Speed: 7.1ms preprocess, 3807.4ms inference, 12.0ms postprocess per image at shape (1, 3, 640, 640)\n",
      "\n"
     ]
    },
    {
     "name": "stdout",
     "output_type": "stream",
     "text": [
      "Mask identified for the frame...\n",
      "Inferencing Frame 3263...\n"
     ]
    },
    {
     "name": "stderr",
     "output_type": "stream",
     "text": [
      "0: 640x640 3 Fire-Smoke-Sodium-Trays, 3769.4ms\n",
      "Speed: 6.0ms preprocess, 3769.4ms inference, 12.0ms postprocess per image at shape (1, 3, 640, 640)\n",
      "\n"
     ]
    },
    {
     "name": "stdout",
     "output_type": "stream",
     "text": [
      "Mask identified for the frame...\n",
      "Inferencing Frame 3264...\n"
     ]
    },
    {
     "name": "stderr",
     "output_type": "stream",
     "text": [
      "0: 640x640 2 Fire-Smoke-Sodium-Trays, 3982.6ms\n",
      "Speed: 7.0ms preprocess, 3982.6ms inference, 8.0ms postprocess per image at shape (1, 3, 640, 640)\n",
      "\n"
     ]
    },
    {
     "name": "stdout",
     "output_type": "stream",
     "text": [
      "Mask identified for the frame...\n",
      "Inferencing Frame 3265...\n"
     ]
    },
    {
     "name": "stderr",
     "output_type": "stream",
     "text": [
      "0: 640x640 2 Fire-Smoke-Sodium-Trays, 3847.5ms\n",
      "Speed: 6.0ms preprocess, 3847.5ms inference, 11.0ms postprocess per image at shape (1, 3, 640, 640)\n",
      "\n"
     ]
    },
    {
     "name": "stdout",
     "output_type": "stream",
     "text": [
      "Mask identified for the frame...\n",
      "Inferencing Frame 3266...\n"
     ]
    },
    {
     "name": "stderr",
     "output_type": "stream",
     "text": [
      "0: 640x640 2 Fire-Smoke-Sodium-Trays, 3812.4ms\n",
      "Speed: 7.1ms preprocess, 3812.4ms inference, 14.1ms postprocess per image at shape (1, 3, 640, 640)\n",
      "\n"
     ]
    },
    {
     "name": "stdout",
     "output_type": "stream",
     "text": [
      "Mask identified for the frame...\n",
      "Inferencing Frame 3267...\n"
     ]
    },
    {
     "name": "stderr",
     "output_type": "stream",
     "text": [
      "0: 640x640 1 Fire-Smoke-Sodium-Tray, 4042.7ms\n",
      "Speed: 6.0ms preprocess, 4042.7ms inference, 5.9ms postprocess per image at shape (1, 3, 640, 640)\n",
      "\n"
     ]
    },
    {
     "name": "stdout",
     "output_type": "stream",
     "text": [
      "Mask identified for the frame...\n",
      "Inferencing Frame 3268...\n"
     ]
    },
    {
     "name": "stderr",
     "output_type": "stream",
     "text": [
      "0: 640x640 2 Fire-Smoke-Sodium-Trays, 3812.4ms\n",
      "Speed: 6.0ms preprocess, 3812.4ms inference, 12.0ms postprocess per image at shape (1, 3, 640, 640)\n",
      "\n"
     ]
    },
    {
     "name": "stdout",
     "output_type": "stream",
     "text": [
      "Mask identified for the frame...\n",
      "Inferencing Frame 3269...\n"
     ]
    },
    {
     "name": "stderr",
     "output_type": "stream",
     "text": [
      "0: 640x640 2 Fire-Smoke-Sodium-Trays, 3873.5ms\n",
      "Speed: 6.0ms preprocess, 3873.5ms inference, 8.0ms postprocess per image at shape (1, 3, 640, 640)\n",
      "\n"
     ]
    },
    {
     "name": "stdout",
     "output_type": "stream",
     "text": [
      "Mask identified for the frame...\n",
      "Inferencing Frame 3270...\n"
     ]
    },
    {
     "name": "stderr",
     "output_type": "stream",
     "text": [
      "0: 640x640 1 Fire-Smoke-Sodium-Tray, 3844.5ms\n",
      "Speed: 6.0ms preprocess, 3844.5ms inference, 6.1ms postprocess per image at shape (1, 3, 640, 640)\n",
      "\n"
     ]
    },
    {
     "name": "stdout",
     "output_type": "stream",
     "text": [
      "Mask identified for the frame...\n",
      "Inferencing Frame 3271...\n"
     ]
    },
    {
     "name": "stderr",
     "output_type": "stream",
     "text": [
      "0: 640x640 1 Fire-Smoke-Sodium-Tray, 4317.9ms\n",
      "Speed: 7.0ms preprocess, 4317.9ms inference, 5.0ms postprocess per image at shape (1, 3, 640, 640)\n",
      "\n"
     ]
    },
    {
     "name": "stdout",
     "output_type": "stream",
     "text": [
      "Mask identified for the frame...\n",
      "Inferencing Frame 3272...\n"
     ]
    },
    {
     "name": "stderr",
     "output_type": "stream",
     "text": [
      "0: 640x640 2 Fire-Smoke-Sodium-Trays, 4416.0ms\n",
      "Speed: 6.0ms preprocess, 4416.0ms inference, 9.0ms postprocess per image at shape (1, 3, 640, 640)\n",
      "\n"
     ]
    },
    {
     "name": "stdout",
     "output_type": "stream",
     "text": [
      "Mask identified for the frame...\n",
      "Inferencing Frame 3273...\n"
     ]
    },
    {
     "name": "stderr",
     "output_type": "stream",
     "text": [
      "0: 640x640 2 Fire-Smoke-Sodium-Trays, 3846.5ms\n",
      "Speed: 6.0ms preprocess, 3846.5ms inference, 11.0ms postprocess per image at shape (1, 3, 640, 640)\n",
      "\n"
     ]
    },
    {
     "name": "stdout",
     "output_type": "stream",
     "text": [
      "Mask identified for the frame...\n",
      "Inferencing Frame 3274...\n"
     ]
    },
    {
     "name": "stderr",
     "output_type": "stream",
     "text": [
      "0: 640x640 1 Fire-Smoke-Sodium-Tray, 4113.7ms\n",
      "Speed: 6.0ms preprocess, 4113.7ms inference, 6.0ms postprocess per image at shape (1, 3, 640, 640)\n",
      "\n"
     ]
    },
    {
     "name": "stdout",
     "output_type": "stream",
     "text": [
      "Mask identified for the frame...\n",
      "Inferencing Frame 3275...\n"
     ]
    },
    {
     "name": "stderr",
     "output_type": "stream",
     "text": [
      "0: 640x640 1 Fire-Smoke-Sodium-Tray, 3848.5ms\n",
      "Speed: 6.0ms preprocess, 3848.5ms inference, 8.0ms postprocess per image at shape (1, 3, 640, 640)\n",
      "\n"
     ]
    },
    {
     "name": "stdout",
     "output_type": "stream",
     "text": [
      "Mask identified for the frame...\n",
      "Inferencing Frame 3276...\n"
     ]
    },
    {
     "name": "stderr",
     "output_type": "stream",
     "text": [
      "0: 640x640 3 Fire-Smoke-Sodium-Trays, 3878.5ms\n",
      "Speed: 7.0ms preprocess, 3878.5ms inference, 12.0ms postprocess per image at shape (1, 3, 640, 640)\n",
      "\n"
     ]
    },
    {
     "name": "stdout",
     "output_type": "stream",
     "text": [
      "Mask identified for the frame...\n",
      "Inferencing Frame 3277...\n"
     ]
    },
    {
     "name": "stderr",
     "output_type": "stream",
     "text": [
      "0: 640x640 3 Fire-Smoke-Sodium-Trays, 3731.4ms\n",
      "Speed: 6.0ms preprocess, 3731.4ms inference, 17.0ms postprocess per image at shape (1, 3, 640, 640)\n",
      "\n"
     ]
    },
    {
     "name": "stdout",
     "output_type": "stream",
     "text": [
      "Mask identified for the frame...\n",
      "Inferencing Frame 3278...\n"
     ]
    },
    {
     "name": "stderr",
     "output_type": "stream",
     "text": [
      "0: 640x640 1 Fire-Smoke-Sodium-Tray, 4197.8ms\n",
      "Speed: 6.0ms preprocess, 4197.8ms inference, 6.0ms postprocess per image at shape (1, 3, 640, 640)\n",
      "\n"
     ]
    },
    {
     "name": "stdout",
     "output_type": "stream",
     "text": [
      "Mask identified for the frame...\n",
      "Inferencing Frame 3279...\n"
     ]
    },
    {
     "name": "stderr",
     "output_type": "stream",
     "text": [
      "0: 640x640 2 Fire-Smoke-Sodium-Trays, 4000.5ms\n",
      "Speed: 6.1ms preprocess, 4000.5ms inference, 9.0ms postprocess per image at shape (1, 3, 640, 640)\n",
      "\n"
     ]
    },
    {
     "name": "stdout",
     "output_type": "stream",
     "text": [
      "Mask identified for the frame...\n",
      "Inferencing Frame 3280...\n"
     ]
    },
    {
     "name": "stderr",
     "output_type": "stream",
     "text": [
      "0: 640x640 2 Fire-Smoke-Sodium-Trays, 3897.5ms\n",
      "Speed: 6.0ms preprocess, 3897.5ms inference, 8.0ms postprocess per image at shape (1, 3, 640, 640)\n",
      "\n"
     ]
    },
    {
     "name": "stdout",
     "output_type": "stream",
     "text": [
      "Mask identified for the frame...\n",
      "Inferencing Frame 3281...\n"
     ]
    },
    {
     "name": "stderr",
     "output_type": "stream",
     "text": [
      "0: 640x640 3 Fire-Smoke-Sodium-Trays, 3808.4ms\n",
      "Speed: 6.0ms preprocess, 3808.4ms inference, 12.0ms postprocess per image at shape (1, 3, 640, 640)\n",
      "\n"
     ]
    },
    {
     "name": "stdout",
     "output_type": "stream",
     "text": [
      "Mask identified for the frame...\n",
      "Inferencing Frame 3282...\n"
     ]
    },
    {
     "name": "stderr",
     "output_type": "stream",
     "text": [
      "0: 640x640 1 Fire-Smoke-Sodium-Tray, 4007.6ms\n",
      "Speed: 7.0ms preprocess, 4007.6ms inference, 8.0ms postprocess per image at shape (1, 3, 640, 640)\n",
      "\n"
     ]
    },
    {
     "name": "stdout",
     "output_type": "stream",
     "text": [
      "Mask identified for the frame...\n",
      "Inferencing Frame 3283...\n"
     ]
    },
    {
     "name": "stderr",
     "output_type": "stream",
     "text": [
      "0: 640x640 4 Fire-Smoke-Sodium-Trays, 3848.5ms\n",
      "Speed: 6.0ms preprocess, 3848.5ms inference, 21.1ms postprocess per image at shape (1, 3, 640, 640)\n",
      "\n"
     ]
    },
    {
     "name": "stdout",
     "output_type": "stream",
     "text": [
      "Mask identified for the frame...\n",
      "Inferencing Frame 3284...\n"
     ]
    },
    {
     "name": "stderr",
     "output_type": "stream",
     "text": [
      "0: 640x640 1 Fire-Smoke-Sodium-Tray, 3744.3ms\n",
      "Speed: 7.1ms preprocess, 3744.3ms inference, 6.0ms postprocess per image at shape (1, 3, 640, 640)\n",
      "\n"
     ]
    },
    {
     "name": "stdout",
     "output_type": "stream",
     "text": [
      "Mask identified for the frame...\n",
      "Inferencing Frame 3285...\n"
     ]
    },
    {
     "name": "stderr",
     "output_type": "stream",
     "text": [
      "0: 640x640 1 Fire-Smoke-Sodium-Tray, 3747.4ms\n",
      "Speed: 6.0ms preprocess, 3747.4ms inference, 6.0ms postprocess per image at shape (1, 3, 640, 640)\n",
      "\n"
     ]
    },
    {
     "name": "stdout",
     "output_type": "stream",
     "text": [
      "Mask identified for the frame...\n",
      "Inferencing Frame 3286...\n"
     ]
    },
    {
     "name": "stderr",
     "output_type": "stream",
     "text": [
      "0: 640x640 3 Fire-Smoke-Sodium-Trays, 3892.5ms\n",
      "Speed: 6.0ms preprocess, 3892.5ms inference, 12.0ms postprocess per image at shape (1, 3, 640, 640)\n",
      "\n"
     ]
    },
    {
     "name": "stdout",
     "output_type": "stream",
     "text": [
      "Mask identified for the frame...\n",
      "Inferencing Frame 3287...\n"
     ]
    },
    {
     "name": "stderr",
     "output_type": "stream",
     "text": [
      "0: 640x640 2 Fire-Smoke-Sodium-Trays, 4430.0ms\n",
      "Speed: 7.0ms preprocess, 4430.0ms inference, 8.0ms postprocess per image at shape (1, 3, 640, 640)\n",
      "\n"
     ]
    },
    {
     "name": "stdout",
     "output_type": "stream",
     "text": [
      "Mask identified for the frame...\n",
      "Inferencing Frame 3288...\n"
     ]
    },
    {
     "name": "stderr",
     "output_type": "stream",
     "text": [
      "0: 640x640 1 Fire-Smoke-Sodium-Tray, 3798.4ms\n",
      "Speed: 7.0ms preprocess, 3798.4ms inference, 5.0ms postprocess per image at shape (1, 3, 640, 640)\n",
      "\n"
     ]
    },
    {
     "name": "stdout",
     "output_type": "stream",
     "text": [
      "Mask identified for the frame...\n",
      "Inferencing Frame 3289...\n"
     ]
    },
    {
     "name": "stderr",
     "output_type": "stream",
     "text": [
      "0: 640x640 (no detections), 3993.6ms\n",
      "Speed: 6.0ms preprocess, 3993.6ms inference, 0.0ms postprocess per image at shape (1, 3, 640, 640)\n",
      "\n"
     ]
    },
    {
     "name": "stdout",
     "output_type": "stream",
     "text": [
      "Inferencing Frame 3290...\n"
     ]
    },
    {
     "name": "stderr",
     "output_type": "stream",
     "text": [
      "0: 640x640 1 Fire-Smoke-Sodium-Tray, 4078.6ms\n",
      "Speed: 7.1ms preprocess, 4078.6ms inference, 5.0ms postprocess per image at shape (1, 3, 640, 640)\n",
      "\n"
     ]
    },
    {
     "name": "stdout",
     "output_type": "stream",
     "text": [
      "Mask identified for the frame...\n",
      "Inferencing Frame 3291...\n"
     ]
    },
    {
     "name": "stderr",
     "output_type": "stream",
     "text": [
      "0: 640x640 1 Fire-Smoke-Sodium-Tray, 3781.4ms\n",
      "Speed: 6.0ms preprocess, 3781.4ms inference, 6.0ms postprocess per image at shape (1, 3, 640, 640)\n",
      "\n"
     ]
    },
    {
     "name": "stdout",
     "output_type": "stream",
     "text": [
      "Mask identified for the frame...\n",
      "Inferencing Frame 3292...\n"
     ]
    },
    {
     "name": "stderr",
     "output_type": "stream",
     "text": [
      "0: 640x640 1 Fire-Smoke-Sodium-Tray, 3752.4ms\n",
      "Speed: 7.1ms preprocess, 3752.4ms inference, 7.9ms postprocess per image at shape (1, 3, 640, 640)\n",
      "\n"
     ]
    },
    {
     "name": "stdout",
     "output_type": "stream",
     "text": [
      "Mask identified for the frame...\n",
      "Inferencing Frame 3293...\n"
     ]
    },
    {
     "name": "stderr",
     "output_type": "stream",
     "text": [
      "0: 640x640 1 Fire-Smoke-Sodium-Tray, 3906.5ms\n",
      "Speed: 7.1ms preprocess, 3906.5ms inference, 8.0ms postprocess per image at shape (1, 3, 640, 640)\n",
      "\n"
     ]
    },
    {
     "name": "stdout",
     "output_type": "stream",
     "text": [
      "Mask identified for the frame...\n",
      "Inferencing Frame 3294...\n"
     ]
    },
    {
     "name": "stderr",
     "output_type": "stream",
     "text": [
      "0: 640x640 2 Fire-Smoke-Sodium-Trays, 3877.5ms\n",
      "Speed: 7.1ms preprocess, 3877.5ms inference, 11.0ms postprocess per image at shape (1, 3, 640, 640)\n",
      "\n"
     ]
    },
    {
     "name": "stdout",
     "output_type": "stream",
     "text": [
      "Mask identified for the frame...\n",
      "Inferencing Frame 3295...\n"
     ]
    },
    {
     "name": "stderr",
     "output_type": "stream",
     "text": [
      "0: 640x640 1 Fire-Smoke-Sodium-Tray, 3965.6ms\n",
      "Speed: 7.0ms preprocess, 3965.6ms inference, 6.0ms postprocess per image at shape (1, 3, 640, 640)\n",
      "\n"
     ]
    },
    {
     "name": "stdout",
     "output_type": "stream",
     "text": [
      "Mask identified for the frame...\n",
      "Inferencing Frame 3296...\n"
     ]
    },
    {
     "name": "stderr",
     "output_type": "stream",
     "text": [
      "0: 640x640 2 Fire-Smoke-Sodium-Trays, 3796.5ms\n",
      "Speed: 6.0ms preprocess, 3796.5ms inference, 9.0ms postprocess per image at shape (1, 3, 640, 640)\n",
      "\n"
     ]
    },
    {
     "name": "stdout",
     "output_type": "stream",
     "text": [
      "Mask identified for the frame...\n",
      "Inferencing Frame 3297...\n"
     ]
    },
    {
     "name": "stderr",
     "output_type": "stream",
     "text": [
      "0: 640x640 1 Fire-Smoke-Sodium-Tray, 3835.5ms\n",
      "Speed: 6.0ms preprocess, 3835.5ms inference, 6.0ms postprocess per image at shape (1, 3, 640, 640)\n",
      "\n"
     ]
    },
    {
     "name": "stdout",
     "output_type": "stream",
     "text": [
      "Mask identified for the frame...\n",
      "Inferencing Frame 3298...\n"
     ]
    },
    {
     "name": "stderr",
     "output_type": "stream",
     "text": [
      "0: 640x640 3 Fire-Smoke-Sodium-Trays, 4070.7ms\n",
      "Speed: 6.0ms preprocess, 4070.7ms inference, 16.0ms postprocess per image at shape (1, 3, 640, 640)\n",
      "\n"
     ]
    },
    {
     "name": "stdout",
     "output_type": "stream",
     "text": [
      "Mask identified for the frame...\n",
      "Inferencing Frame 3299...\n"
     ]
    },
    {
     "name": "stderr",
     "output_type": "stream",
     "text": [
      "0: 640x640 2 Fire-Smoke-Sodium-Trays, 3748.4ms\n",
      "Speed: 7.0ms preprocess, 3748.4ms inference, 13.0ms postprocess per image at shape (1, 3, 640, 640)\n",
      "\n"
     ]
    },
    {
     "name": "stdout",
     "output_type": "stream",
     "text": [
      "Mask identified for the frame...\n",
      "Inferencing Frame 3300...\n"
     ]
    },
    {
     "name": "stderr",
     "output_type": "stream",
     "text": [
      "0: 640x640 1 Fire, 1 Fire-Smoke-Sodium-Tray, 3918.5ms\n",
      "Speed: 7.0ms preprocess, 3918.5ms inference, 8.0ms postprocess per image at shape (1, 3, 640, 640)\n",
      "\n"
     ]
    },
    {
     "name": "stdout",
     "output_type": "stream",
     "text": [
      "Mask identified for the frame...\n",
      "Inferencing Frame 3301...\n"
     ]
    },
    {
     "name": "stderr",
     "output_type": "stream",
     "text": [
      "0: 640x640 3 Fire-Smoke-Sodium-Trays, 3770.4ms\n",
      "Speed: 6.0ms preprocess, 3770.4ms inference, 14.0ms postprocess per image at shape (1, 3, 640, 640)\n",
      "\n"
     ]
    },
    {
     "name": "stdout",
     "output_type": "stream",
     "text": [
      "Mask identified for the frame...\n",
      "Inferencing Frame 3302...\n"
     ]
    },
    {
     "name": "stderr",
     "output_type": "stream",
     "text": [
      "0: 640x640 1 Fire-Smoke-Sodium-Tray, 4263.8ms\n",
      "Speed: 7.0ms preprocess, 4263.8ms inference, 9.0ms postprocess per image at shape (1, 3, 640, 640)\n",
      "\n"
     ]
    },
    {
     "name": "stdout",
     "output_type": "stream",
     "text": [
      "Mask identified for the frame...\n",
      "Inferencing Frame 3303...\n"
     ]
    },
    {
     "name": "stderr",
     "output_type": "stream",
     "text": [
      "0: 640x640 2 Fire-Smoke-Sodium-Trays, 4032.6ms\n",
      "Speed: 7.0ms preprocess, 4032.6ms inference, 9.0ms postprocess per image at shape (1, 3, 640, 640)\n",
      "\n"
     ]
    },
    {
     "name": "stdout",
     "output_type": "stream",
     "text": [
      "Mask identified for the frame...\n",
      "Inferencing Frame 3304...\n"
     ]
    },
    {
     "name": "stderr",
     "output_type": "stream",
     "text": [
      "0: 640x640 1 Fire-Smoke-Sodium-Tray, 3877.5ms\n",
      "Speed: 7.0ms preprocess, 3877.5ms inference, 6.0ms postprocess per image at shape (1, 3, 640, 640)\n",
      "\n"
     ]
    },
    {
     "name": "stdout",
     "output_type": "stream",
     "text": [
      "Mask identified for the frame...\n",
      "Inferencing Frame 3305...\n"
     ]
    },
    {
     "name": "stderr",
     "output_type": "stream",
     "text": [
      "0: 640x640 1 Fire-Smoke-Sodium-Tray, 4018.7ms\n",
      "Speed: 7.0ms preprocess, 4018.7ms inference, 6.0ms postprocess per image at shape (1, 3, 640, 640)\n",
      "\n"
     ]
    },
    {
     "name": "stdout",
     "output_type": "stream",
     "text": [
      "Mask identified for the frame...\n",
      "Inferencing Frame 3306...\n"
     ]
    },
    {
     "name": "stderr",
     "output_type": "stream",
     "text": [
      "0: 640x640 1 Fire-Smoke-Sodium-Tray, 3753.4ms\n",
      "Speed: 6.0ms preprocess, 3753.4ms inference, 7.1ms postprocess per image at shape (1, 3, 640, 640)\n",
      "\n"
     ]
    },
    {
     "name": "stdout",
     "output_type": "stream",
     "text": [
      "Mask identified for the frame...\n",
      "Inferencing Frame 3307...\n"
     ]
    },
    {
     "name": "stderr",
     "output_type": "stream",
     "text": [
      "0: 640x640 1 Fire-Smoke-Sodium-Tray, 4003.6ms\n",
      "Speed: 7.0ms preprocess, 4003.6ms inference, 6.0ms postprocess per image at shape (1, 3, 640, 640)\n",
      "\n"
     ]
    },
    {
     "name": "stdout",
     "output_type": "stream",
     "text": [
      "Mask identified for the frame...\n",
      "Inferencing Frame 3308...\n"
     ]
    },
    {
     "name": "stderr",
     "output_type": "stream",
     "text": [
      "0: 640x640 2 Fire-Smoke-Sodium-Trays, 3895.5ms\n",
      "Speed: 6.0ms preprocess, 3895.5ms inference, 9.0ms postprocess per image at shape (1, 3, 640, 640)\n",
      "\n"
     ]
    },
    {
     "name": "stdout",
     "output_type": "stream",
     "text": [
      "Mask identified for the frame...\n",
      "Inferencing Frame 3309...\n"
     ]
    },
    {
     "name": "stderr",
     "output_type": "stream",
     "text": [
      "0: 640x640 (no detections), 3717.3ms\n",
      "Speed: 6.0ms preprocess, 3717.3ms inference, 1.0ms postprocess per image at shape (1, 3, 640, 640)\n",
      "\n"
     ]
    },
    {
     "name": "stdout",
     "output_type": "stream",
     "text": [
      "Inferencing Frame 3310...\n"
     ]
    },
    {
     "name": "stderr",
     "output_type": "stream",
     "text": [
      "0: 640x640 1 Fire-Smoke-Sodium-Tray, 4157.8ms\n",
      "Speed: 6.0ms preprocess, 4157.8ms inference, 6.0ms postprocess per image at shape (1, 3, 640, 640)\n",
      "\n"
     ]
    },
    {
     "name": "stdout",
     "output_type": "stream",
     "text": [
      "Mask identified for the frame...\n",
      "Inferencing Frame 3311...\n"
     ]
    },
    {
     "name": "stderr",
     "output_type": "stream",
     "text": [
      "0: 640x640 1 Fire-Smoke-Sodium-Tray, 3816.4ms\n",
      "Speed: 6.0ms preprocess, 3816.4ms inference, 6.0ms postprocess per image at shape (1, 3, 640, 640)\n",
      "\n"
     ]
    },
    {
     "name": "stdout",
     "output_type": "stream",
     "text": [
      "Mask identified for the frame...\n",
      "Inferencing Frame 3312...\n"
     ]
    },
    {
     "name": "stderr",
     "output_type": "stream",
     "text": [
      "0: 640x640 2 Fire-Smoke-Sodium-Trays, 3710.3ms\n",
      "Speed: 7.1ms preprocess, 3710.3ms inference, 10.0ms postprocess per image at shape (1, 3, 640, 640)\n",
      "\n"
     ]
    },
    {
     "name": "stdout",
     "output_type": "stream",
     "text": [
      "Mask identified for the frame...\n",
      "Inferencing Frame 3313...\n"
     ]
    },
    {
     "name": "stderr",
     "output_type": "stream",
     "text": [
      "0: 640x640 4 Fire-Smoke-Sodium-Trays, 4722.4ms\n",
      "Speed: 6.0ms preprocess, 4722.4ms inference, 23.0ms postprocess per image at shape (1, 3, 640, 640)\n",
      "\n"
     ]
    },
    {
     "name": "stdout",
     "output_type": "stream",
     "text": [
      "Mask identified for the frame...\n",
      "Inferencing Frame 3314...\n"
     ]
    },
    {
     "name": "stderr",
     "output_type": "stream",
     "text": [
      "0: 640x640 2 Fire-Smoke-Sodium-Trays, 4069.8ms\n",
      "Speed: 6.0ms preprocess, 4069.8ms inference, 8.5ms postprocess per image at shape (1, 3, 640, 640)\n",
      "\n"
     ]
    },
    {
     "name": "stdout",
     "output_type": "stream",
     "text": [
      "Mask identified for the frame...\n",
      "Inferencing Frame 3315...\n"
     ]
    },
    {
     "name": "stderr",
     "output_type": "stream",
     "text": [
      "0: 640x640 1 Fire-Smoke-Sodium-Tray, 3970.4ms\n",
      "Speed: 6.0ms preprocess, 3970.4ms inference, 6.0ms postprocess per image at shape (1, 3, 640, 640)\n",
      "\n"
     ]
    },
    {
     "name": "stdout",
     "output_type": "stream",
     "text": [
      "Mask identified for the frame...\n",
      "Inferencing Frame 3316...\n"
     ]
    },
    {
     "name": "stderr",
     "output_type": "stream",
     "text": [
      "0: 640x640 3 Fire-Smoke-Sodium-Trays, 3933.5ms\n",
      "Speed: 6.0ms preprocess, 3933.5ms inference, 12.0ms postprocess per image at shape (1, 3, 640, 640)\n",
      "\n"
     ]
    },
    {
     "name": "stdout",
     "output_type": "stream",
     "text": [
      "Mask identified for the frame...\n",
      "Inferencing Frame 3317...\n"
     ]
    },
    {
     "name": "stderr",
     "output_type": "stream",
     "text": [
      "0: 640x640 1 Fire-Smoke-Sodium-Tray, 4414.0ms\n",
      "Speed: 6.0ms preprocess, 4414.0ms inference, 6.0ms postprocess per image at shape (1, 3, 640, 640)\n",
      "\n"
     ]
    },
    {
     "name": "stdout",
     "output_type": "stream",
     "text": [
      "Mask identified for the frame...\n",
      "Inferencing Frame 3318...\n"
     ]
    },
    {
     "name": "stderr",
     "output_type": "stream",
     "text": [
      "0: 640x640 1 Fire-Smoke-Sodium-Tray, 3844.5ms\n",
      "Speed: 7.0ms preprocess, 3844.5ms inference, 8.0ms postprocess per image at shape (1, 3, 640, 640)\n",
      "\n"
     ]
    },
    {
     "name": "stdout",
     "output_type": "stream",
     "text": [
      "Mask identified for the frame...\n",
      "Inferencing Frame 3319...\n"
     ]
    },
    {
     "name": "stderr",
     "output_type": "stream",
     "text": [
      "0: 640x640 3 Fire-Smoke-Sodium-Trays, 3812.5ms\n",
      "Speed: 5.0ms preprocess, 3812.5ms inference, 18.0ms postprocess per image at shape (1, 3, 640, 640)\n",
      "\n"
     ]
    },
    {
     "name": "stdout",
     "output_type": "stream",
     "text": [
      "Mask identified for the frame...\n",
      "Inferencing Frame 3320...\n"
     ]
    },
    {
     "name": "stderr",
     "output_type": "stream",
     "text": [
      "0: 640x640 (no detections), 4098.7ms\n",
      "Speed: 6.0ms preprocess, 4098.7ms inference, 1.0ms postprocess per image at shape (1, 3, 640, 640)\n",
      "\n"
     ]
    },
    {
     "name": "stdout",
     "output_type": "stream",
     "text": [
      "Inferencing Frame 3321...\n"
     ]
    },
    {
     "name": "stderr",
     "output_type": "stream",
     "text": [
      "0: 640x640 2 Fire-Smoke-Sodium-Trays, 3790.4ms\n",
      "Speed: 6.0ms preprocess, 3790.4ms inference, 9.0ms postprocess per image at shape (1, 3, 640, 640)\n",
      "\n"
     ]
    },
    {
     "name": "stdout",
     "output_type": "stream",
     "text": [
      "Mask identified for the frame...\n",
      "Inferencing Frame 3322...\n"
     ]
    },
    {
     "name": "stderr",
     "output_type": "stream",
     "text": [
      "0: 640x640 2 Fire-Smoke-Sodium-Trays, 3795.5ms\n",
      "Speed: 6.0ms preprocess, 3795.5ms inference, 7.9ms postprocess per image at shape (1, 3, 640, 640)\n",
      "\n"
     ]
    },
    {
     "name": "stdout",
     "output_type": "stream",
     "text": [
      "Mask identified for the frame...\n",
      "Inferencing Frame 3323...\n"
     ]
    },
    {
     "name": "stderr",
     "output_type": "stream",
     "text": [
      "0: 640x640 (no detections), 3868.5ms\n",
      "Speed: 7.0ms preprocess, 3868.5ms inference, 1.0ms postprocess per image at shape (1, 3, 640, 640)\n",
      "\n"
     ]
    },
    {
     "name": "stdout",
     "output_type": "stream",
     "text": [
      "Inferencing Frame 3324...\n"
     ]
    },
    {
     "name": "stderr",
     "output_type": "stream",
     "text": [
      "0: 640x640 (no detections), 3839.5ms\n",
      "Speed: 6.0ms preprocess, 3839.5ms inference, 1.0ms postprocess per image at shape (1, 3, 640, 640)\n",
      "\n"
     ]
    },
    {
     "name": "stdout",
     "output_type": "stream",
     "text": [
      "Inferencing Frame 3325...\n"
     ]
    },
    {
     "name": "stderr",
     "output_type": "stream",
     "text": [
      "0: 640x640 (no detections), 3851.5ms\n",
      "Speed: 6.0ms preprocess, 3851.5ms inference, 0.0ms postprocess per image at shape (1, 3, 640, 640)\n",
      "\n"
     ]
    },
    {
     "name": "stdout",
     "output_type": "stream",
     "text": [
      "Inferencing Frame 3326...\n"
     ]
    },
    {
     "name": "stderr",
     "output_type": "stream",
     "text": [
      "0: 640x640 (no detections), 3883.5ms\n",
      "Speed: 7.0ms preprocess, 3883.5ms inference, 1.0ms postprocess per image at shape (1, 3, 640, 640)\n",
      "\n"
     ]
    },
    {
     "name": "stdout",
     "output_type": "stream",
     "text": [
      "Inferencing Frame 3327...\n"
     ]
    },
    {
     "name": "stderr",
     "output_type": "stream",
     "text": [
      "0: 640x640 (no detections), 3774.4ms\n",
      "Speed: 6.0ms preprocess, 3774.4ms inference, 1.0ms postprocess per image at shape (1, 3, 640, 640)\n",
      "\n"
     ]
    },
    {
     "name": "stdout",
     "output_type": "stream",
     "text": [
      "Inferencing Frame 3328...\n"
     ]
    },
    {
     "name": "stderr",
     "output_type": "stream",
     "text": [
      "0: 640x640 (no detections), 4066.7ms\n",
      "Speed: 6.0ms preprocess, 4066.7ms inference, 0.0ms postprocess per image at shape (1, 3, 640, 640)\n",
      "\n"
     ]
    },
    {
     "name": "stdout",
     "output_type": "stream",
     "text": [
      "Inferencing Frame 3329...\n"
     ]
    },
    {
     "name": "stderr",
     "output_type": "stream",
     "text": [
      "0: 640x640 1 Fire-Smoke-Sodium-Tray, 3811.4ms\n",
      "Speed: 6.0ms preprocess, 3811.4ms inference, 6.0ms postprocess per image at shape (1, 3, 640, 640)\n",
      "\n"
     ]
    },
    {
     "name": "stdout",
     "output_type": "stream",
     "text": [
      "Mask identified for the frame...\n",
      "Inferencing Frame 3330...\n"
     ]
    },
    {
     "name": "stderr",
     "output_type": "stream",
     "text": [
      "0: 640x640 2 Fire-Smoke-Sodium-Trays, 3717.3ms\n",
      "Speed: 7.0ms preprocess, 3717.3ms inference, 9.0ms postprocess per image at shape (1, 3, 640, 640)\n",
      "\n"
     ]
    },
    {
     "name": "stdout",
     "output_type": "stream",
     "text": [
      "Mask identified for the frame...\n",
      "Inferencing Frame 3331...\n"
     ]
    },
    {
     "name": "stderr",
     "output_type": "stream",
     "text": [
      "0: 640x640 (no detections), 3786.4ms\n",
      "Speed: 7.0ms preprocess, 3786.4ms inference, 1.0ms postprocess per image at shape (1, 3, 640, 640)\n",
      "\n"
     ]
    },
    {
     "name": "stdout",
     "output_type": "stream",
     "text": [
      "Inferencing Frame 3332...\n"
     ]
    },
    {
     "name": "stderr",
     "output_type": "stream",
     "text": [
      "0: 640x640 (no detections), 3816.4ms\n",
      "Speed: 7.0ms preprocess, 3816.4ms inference, 1.0ms postprocess per image at shape (1, 3, 640, 640)\n",
      "\n"
     ]
    },
    {
     "name": "stdout",
     "output_type": "stream",
     "text": [
      "Inferencing Frame 3333...\n"
     ]
    },
    {
     "name": "stderr",
     "output_type": "stream",
     "text": [
      "0: 640x640 1 Fire-Smoke-Sodium-Tray, 4363.9ms\n",
      "Speed: 7.0ms preprocess, 4363.9ms inference, 8.0ms postprocess per image at shape (1, 3, 640, 640)\n",
      "\n"
     ]
    },
    {
     "name": "stdout",
     "output_type": "stream",
     "text": [
      "Mask identified for the frame...\n",
      "Inferencing Frame 3334...\n"
     ]
    },
    {
     "name": "stderr",
     "output_type": "stream",
     "text": [
      "0: 640x640 (no detections), 3880.5ms\n",
      "Speed: 6.0ms preprocess, 3880.5ms inference, 0.0ms postprocess per image at shape (1, 3, 640, 640)\n",
      "\n"
     ]
    },
    {
     "name": "stdout",
     "output_type": "stream",
     "text": [
      "Inferencing Frame 3335...\n"
     ]
    },
    {
     "name": "stderr",
     "output_type": "stream",
     "text": [
      "0: 640x640 1 Fire-Smoke-Sodium-Tray, 3785.4ms\n",
      "Speed: 6.0ms preprocess, 3785.4ms inference, 6.0ms postprocess per image at shape (1, 3, 640, 640)\n",
      "\n"
     ]
    },
    {
     "name": "stdout",
     "output_type": "stream",
     "text": [
      "Mask identified for the frame...\n",
      "Inferencing Frame 3336...\n"
     ]
    },
    {
     "name": "stderr",
     "output_type": "stream",
     "text": [
      "0: 640x640 (no detections), 3982.6ms\n",
      "Speed: 6.0ms preprocess, 3982.6ms inference, 1.0ms postprocess per image at shape (1, 3, 640, 640)\n",
      "\n"
     ]
    },
    {
     "name": "stdout",
     "output_type": "stream",
     "text": [
      "Inferencing Frame 3337...\n"
     ]
    },
    {
     "name": "stderr",
     "output_type": "stream",
     "text": [
      "0: 640x640 (no detections), 3824.4ms\n",
      "Speed: 7.1ms preprocess, 3824.4ms inference, 1.0ms postprocess per image at shape (1, 3, 640, 640)\n",
      "\n"
     ]
    },
    {
     "name": "stdout",
     "output_type": "stream",
     "text": [
      "Inferencing Frame 3338...\n"
     ]
    },
    {
     "name": "stderr",
     "output_type": "stream",
     "text": [
      "0: 640x640 1 Fire-Smoke-Sodium-Tray, 3881.5ms\n",
      "Speed: 6.0ms preprocess, 3881.5ms inference, 6.0ms postprocess per image at shape (1, 3, 640, 640)\n",
      "\n"
     ]
    },
    {
     "name": "stdout",
     "output_type": "stream",
     "text": [
      "Mask identified for the frame...\n",
      "Inferencing Frame 3339...\n"
     ]
    },
    {
     "name": "stderr",
     "output_type": "stream",
     "text": [
      "0: 640x640 (no detections), 3808.4ms\n",
      "Speed: 6.0ms preprocess, 3808.4ms inference, 0.0ms postprocess per image at shape (1, 3, 640, 640)\n",
      "\n"
     ]
    },
    {
     "name": "stdout",
     "output_type": "stream",
     "text": [
      "Inferencing Frame 3340...\n"
     ]
    },
    {
     "name": "stderr",
     "output_type": "stream",
     "text": [
      "0: 640x640 (no detections), 3892.5ms\n",
      "Speed: 7.0ms preprocess, 3892.5ms inference, 1.0ms postprocess per image at shape (1, 3, 640, 640)\n",
      "\n"
     ]
    },
    {
     "name": "stdout",
     "output_type": "stream",
     "text": [
      "Inferencing Frame 3341...\n"
     ]
    },
    {
     "name": "stderr",
     "output_type": "stream",
     "text": [
      "0: 640x640 (no detections), 3959.6ms\n",
      "Speed: 7.0ms preprocess, 3959.6ms inference, 0.0ms postprocess per image at shape (1, 3, 640, 640)\n",
      "\n"
     ]
    },
    {
     "name": "stdout",
     "output_type": "stream",
     "text": [
      "Inferencing Frame 3342...\n"
     ]
    },
    {
     "name": "stderr",
     "output_type": "stream",
     "text": [
      "0: 640x640 (no detections), 3830.5ms\n",
      "Speed: 7.0ms preprocess, 3830.5ms inference, 0.0ms postprocess per image at shape (1, 3, 640, 640)\n",
      "\n"
     ]
    },
    {
     "name": "stdout",
     "output_type": "stream",
     "text": [
      "Inferencing Frame 3343...\n"
     ]
    },
    {
     "name": "stderr",
     "output_type": "stream",
     "text": [
      "0: 640x640 (no detections), 3797.5ms\n",
      "Speed: 6.0ms preprocess, 3797.5ms inference, 1.0ms postprocess per image at shape (1, 3, 640, 640)\n",
      "\n"
     ]
    },
    {
     "name": "stdout",
     "output_type": "stream",
     "text": [
      "Inferencing Frame 3344...\n"
     ]
    },
    {
     "name": "stderr",
     "output_type": "stream",
     "text": [
      "0: 640x640 (no detections), 4019.6ms\n",
      "Speed: 6.1ms preprocess, 4019.6ms inference, 1.0ms postprocess per image at shape (1, 3, 640, 640)\n",
      "\n"
     ]
    },
    {
     "name": "stdout",
     "output_type": "stream",
     "text": [
      "Inferencing Frame 3345...\n"
     ]
    },
    {
     "name": "stderr",
     "output_type": "stream",
     "text": [
      "0: 640x640 (no detections), 3850.5ms\n",
      "Speed: 6.0ms preprocess, 3850.5ms inference, 0.0ms postprocess per image at shape (1, 3, 640, 640)\n",
      "\n"
     ]
    },
    {
     "name": "stdout",
     "output_type": "stream",
     "text": [
      "Inferencing Frame 3346...\n"
     ]
    },
    {
     "name": "stderr",
     "output_type": "stream",
     "text": [
      "0: 640x640 (no detections), 3817.4ms\n",
      "Speed: 6.0ms preprocess, 3817.4ms inference, 1.0ms postprocess per image at shape (1, 3, 640, 640)\n",
      "\n"
     ]
    },
    {
     "name": "stdout",
     "output_type": "stream",
     "text": [
      "Inferencing Frame 3347...\n"
     ]
    },
    {
     "name": "stderr",
     "output_type": "stream",
     "text": [
      "0: 640x640 (no detections), 4189.8ms\n",
      "Speed: 7.0ms preprocess, 4189.8ms inference, 1.0ms postprocess per image at shape (1, 3, 640, 640)\n",
      "\n"
     ]
    },
    {
     "name": "stdout",
     "output_type": "stream",
     "text": [
      "Inferencing Frame 3348...\n"
     ]
    },
    {
     "name": "stderr",
     "output_type": "stream",
     "text": [
      "0: 640x640 (no detections), 4418.0ms\n",
      "Speed: 8.0ms preprocess, 4418.0ms inference, 0.0ms postprocess per image at shape (1, 3, 640, 640)\n",
      "\n"
     ]
    },
    {
     "name": "stdout",
     "output_type": "stream",
     "text": [
      "Inferencing Frame 3349...\n"
     ]
    },
    {
     "name": "stderr",
     "output_type": "stream",
     "text": [
      "0: 640x640 (no detections), 3880.5ms\n",
      "Speed: 7.0ms preprocess, 3880.5ms inference, 1.0ms postprocess per image at shape (1, 3, 640, 640)\n",
      "\n"
     ]
    },
    {
     "name": "stdout",
     "output_type": "stream",
     "text": [
      "Inferencing Frame 3350...\n"
     ]
    },
    {
     "name": "stderr",
     "output_type": "stream",
     "text": [
      "0: 640x640 (no detections), 3761.4ms\n",
      "Speed: 7.0ms preprocess, 3761.4ms inference, 0.0ms postprocess per image at shape (1, 3, 640, 640)\n",
      "\n"
     ]
    },
    {
     "name": "stdout",
     "output_type": "stream",
     "text": [
      "Inferencing Frame 3351...\n"
     ]
    },
    {
     "name": "stderr",
     "output_type": "stream",
     "text": [
      "0: 640x640 (no detections), 3966.6ms\n",
      "Speed: 5.0ms preprocess, 3966.6ms inference, 1.0ms postprocess per image at shape (1, 3, 640, 640)\n",
      "\n"
     ]
    },
    {
     "name": "stdout",
     "output_type": "stream",
     "text": [
      "Inferencing Frame 3352...\n"
     ]
    },
    {
     "name": "stderr",
     "output_type": "stream",
     "text": [
      "0: 640x640 (no detections), 3960.6ms\n",
      "Speed: 7.0ms preprocess, 3960.6ms inference, 1.0ms postprocess per image at shape (1, 3, 640, 640)\n",
      "\n"
     ]
    },
    {
     "name": "stdout",
     "output_type": "stream",
     "text": [
      "Inferencing Frame 3353...\n"
     ]
    },
    {
     "name": "stderr",
     "output_type": "stream",
     "text": [
      "0: 640x640 (no detections), 4429.0ms\n",
      "Speed: 7.0ms preprocess, 4429.0ms inference, 1.0ms postprocess per image at shape (1, 3, 640, 640)\n",
      "\n"
     ]
    },
    {
     "name": "stdout",
     "output_type": "stream",
     "text": [
      "Inferencing Frame 3354...\n"
     ]
    },
    {
     "name": "stderr",
     "output_type": "stream",
     "text": [
      "0: 640x640 (no detections), 3831.5ms\n",
      "Speed: 7.0ms preprocess, 3831.5ms inference, 0.0ms postprocess per image at shape (1, 3, 640, 640)\n",
      "\n"
     ]
    },
    {
     "name": "stdout",
     "output_type": "stream",
     "text": [
      "Inferencing Frame 3355...\n"
     ]
    },
    {
     "name": "stderr",
     "output_type": "stream",
     "text": [
      "0: 640x640 (no detections), 3867.5ms\n",
      "Speed: 6.0ms preprocess, 3867.5ms inference, 1.0ms postprocess per image at shape (1, 3, 640, 640)\n",
      "\n"
     ]
    },
    {
     "name": "stdout",
     "output_type": "stream",
     "text": [
      "Inferencing Frame 3356...\n"
     ]
    },
    {
     "name": "stderr",
     "output_type": "stream",
     "text": [
      "0: 640x640 (no detections), 3986.6ms\n",
      "Speed: 6.0ms preprocess, 3986.6ms inference, 3.0ms postprocess per image at shape (1, 3, 640, 640)\n",
      "\n"
     ]
    },
    {
     "name": "stdout",
     "output_type": "stream",
     "text": [
      "Inferencing Frame 3357...\n"
     ]
    },
    {
     "name": "stderr",
     "output_type": "stream",
     "text": [
      "0: 640x640 (no detections), 3758.4ms\n",
      "Speed: 7.0ms preprocess, 3758.4ms inference, 1.0ms postprocess per image at shape (1, 3, 640, 640)\n",
      "\n"
     ]
    },
    {
     "name": "stdout",
     "output_type": "stream",
     "text": [
      "Inferencing Frame 3358...\n"
     ]
    },
    {
     "name": "stderr",
     "output_type": "stream",
     "text": [
      "0: 640x640 1 Fire, 3835.5ms\n",
      "Speed: 6.0ms preprocess, 3835.5ms inference, 6.0ms postprocess per image at shape (1, 3, 640, 640)\n",
      "\n"
     ]
    },
    {
     "name": "stdout",
     "output_type": "stream",
     "text": [
      "Mask identified for the frame...\n",
      "Inferencing Frame 3359...\n"
     ]
    },
    {
     "name": "stderr",
     "output_type": "stream",
     "text": [
      "0: 640x640 (no detections), 3906.5ms\n",
      "Speed: 6.0ms preprocess, 3906.5ms inference, 1.0ms postprocess per image at shape (1, 3, 640, 640)\n",
      "\n"
     ]
    },
    {
     "name": "stdout",
     "output_type": "stream",
     "text": [
      "Inferencing Frame 3360...\n"
     ]
    },
    {
     "name": "stderr",
     "output_type": "stream",
     "text": [
      "0: 640x640 (no detections), 3753.4ms\n",
      "Speed: 6.0ms preprocess, 3753.4ms inference, 1.0ms postprocess per image at shape (1, 3, 640, 640)\n",
      "\n"
     ]
    },
    {
     "name": "stdout",
     "output_type": "stream",
     "text": [
      "Inferencing Frame 3361...\n"
     ]
    },
    {
     "name": "stderr",
     "output_type": "stream",
     "text": [
      "0: 640x640 (no detections), 3800.5ms\n",
      "Speed: 6.0ms preprocess, 3800.5ms inference, 1.0ms postprocess per image at shape (1, 3, 640, 640)\n",
      "\n"
     ]
    },
    {
     "name": "stdout",
     "output_type": "stream",
     "text": [
      "Inferencing Frame 3362...\n"
     ]
    },
    {
     "name": "stderr",
     "output_type": "stream",
     "text": [
      "0: 640x640 (no detections), 3848.5ms\n",
      "Speed: 7.0ms preprocess, 3848.5ms inference, 0.0ms postprocess per image at shape (1, 3, 640, 640)\n",
      "\n"
     ]
    },
    {
     "name": "stdout",
     "output_type": "stream",
     "text": [
      "Inferencing Frame 3363...\n"
     ]
    },
    {
     "name": "stderr",
     "output_type": "stream",
     "text": [
      "0: 640x640 (no detections), 4363.9ms\n",
      "Speed: 6.0ms preprocess, 4363.9ms inference, 1.0ms postprocess per image at shape (1, 3, 640, 640)\n",
      "\n"
     ]
    },
    {
     "name": "stdout",
     "output_type": "stream",
     "text": [
      "Inferencing Frame 3364...\n"
     ]
    },
    {
     "name": "stderr",
     "output_type": "stream",
     "text": [
      "0: 640x640 (no detections), 3843.5ms\n",
      "Speed: 7.0ms preprocess, 3843.5ms inference, 1.0ms postprocess per image at shape (1, 3, 640, 640)\n",
      "\n"
     ]
    },
    {
     "name": "stdout",
     "output_type": "stream",
     "text": [
      "Inferencing Frame 3365...\n"
     ]
    },
    {
     "name": "stderr",
     "output_type": "stream",
     "text": [
      "0: 640x640 (no detections), 3811.4ms\n",
      "Speed: 7.1ms preprocess, 3811.4ms inference, 1.0ms postprocess per image at shape (1, 3, 640, 640)\n",
      "\n"
     ]
    },
    {
     "name": "stdout",
     "output_type": "stream",
     "text": [
      "Inferencing Frame 3366...\n"
     ]
    },
    {
     "name": "stderr",
     "output_type": "stream",
     "text": [
      "0: 640x640 (no detections), 3750.4ms\n",
      "Speed: 6.0ms preprocess, 3750.4ms inference, 1.0ms postprocess per image at shape (1, 3, 640, 640)\n",
      "\n"
     ]
    },
    {
     "name": "stdout",
     "output_type": "stream",
     "text": [
      "Inferencing Frame 3367...\n"
     ]
    },
    {
     "name": "stderr",
     "output_type": "stream",
     "text": [
      "0: 640x640 (no detections), 3991.6ms\n",
      "Speed: 7.0ms preprocess, 3991.6ms inference, 0.0ms postprocess per image at shape (1, 3, 640, 640)\n",
      "\n"
     ]
    },
    {
     "name": "stdout",
     "output_type": "stream",
     "text": [
      "Inferencing Frame 3368...\n"
     ]
    },
    {
     "name": "stderr",
     "output_type": "stream",
     "text": [
      "0: 640x640 (no detections), 3763.4ms\n",
      "Speed: 6.0ms preprocess, 3763.4ms inference, 1.0ms postprocess per image at shape (1, 3, 640, 640)\n",
      "\n"
     ]
    },
    {
     "name": "stdout",
     "output_type": "stream",
     "text": [
      "Inferencing Frame 3369...\n"
     ]
    },
    {
     "name": "stderr",
     "output_type": "stream",
     "text": [
      "0: 640x640 (no detections), 3893.5ms\n",
      "Speed: 7.0ms preprocess, 3893.5ms inference, 1.0ms postprocess per image at shape (1, 3, 640, 640)\n",
      "\n"
     ]
    },
    {
     "name": "stdout",
     "output_type": "stream",
     "text": [
      "Inferencing Frame 3370...\n"
     ]
    },
    {
     "name": "stderr",
     "output_type": "stream",
     "text": [
      "0: 640x640 (no detections), 3688.3ms\n",
      "Speed: 6.0ms preprocess, 3688.3ms inference, 1.0ms postprocess per image at shape (1, 3, 640, 640)\n",
      "\n"
     ]
    },
    {
     "name": "stdout",
     "output_type": "stream",
     "text": [
      "Inferencing Frame 3371...\n"
     ]
    },
    {
     "name": "stderr",
     "output_type": "stream",
     "text": [
      "0: 640x640 (no detections), 3890.5ms\n",
      "Speed: 8.1ms preprocess, 3890.5ms inference, 1.0ms postprocess per image at shape (1, 3, 640, 640)\n",
      "\n"
     ]
    },
    {
     "name": "stdout",
     "output_type": "stream",
     "text": [
      "Inferencing Frame 3372...\n"
     ]
    },
    {
     "name": "stderr",
     "output_type": "stream",
     "text": [
      "0: 640x640 (no detections), 3978.5ms\n",
      "Speed: 6.0ms preprocess, 3978.5ms inference, 1.0ms postprocess per image at shape (1, 3, 640, 640)\n",
      "\n"
     ]
    },
    {
     "name": "stdout",
     "output_type": "stream",
     "text": [
      "Inferencing Frame 3373...\n"
     ]
    },
    {
     "name": "stderr",
     "output_type": "stream",
     "text": [
      "0: 640x640 (no detections), 3826.4ms\n",
      "Speed: 6.0ms preprocess, 3826.4ms inference, 1.0ms postprocess per image at shape (1, 3, 640, 640)\n",
      "\n"
     ]
    },
    {
     "name": "stdout",
     "output_type": "stream",
     "text": [
      "Inferencing Frame 3374...\n"
     ]
    },
    {
     "name": "stderr",
     "output_type": "stream",
     "text": [
      "0: 640x640 (no detections), 3795.4ms\n",
      "Speed: 7.0ms preprocess, 3795.4ms inference, 1.0ms postprocess per image at shape (1, 3, 640, 640)\n"
     ]
    },
    {
     "name": "stdout",
     "output_type": "stream",
     "text": [
      "Error loading video\n"
     ]
    }
   ],
   "source": [
    "count_frame = 0\n",
    "Frame_list = []\n",
    "Centroid_list = []\n",
    "Area_list = []\n",
    "Countour_list = []\n",
    "h_list = []\n",
    "video = cv.VideoCapture(Directory + \"/\" + VideoFile)\n",
    "while True:\n",
    "    ret, frame = video.read()\n",
    "    if ret:        \n",
    "        count_frame += 1\n",
    "        if count_frame > startFrame and count_frame < endFrame:\n",
    "            print(\"Inferencing Frame \" + str(count_frame) + \" ...\")            \n",
    "            results = InferenceImage(frame, model, width, height, conf, iou)\n",
    "            if results[0].masks is not None:\n",
    "                print(\"Mask identified for the frame ...\")\n",
    "                mask_img = np.any(np.array(results[0].masks[:].data), axis=0)\n",
    "                Centroids, Area, Contours, hierarchies = findCentroid(mask_img)   \n",
    "                Centroid_list.append(Centroids)\n",
    "                Area_list.append(Area)\n",
    "                Frame_list.append(count_frame)\n",
    "                Countour_list.append(Contours)\n",
    "                h_list.append(hierarchies)\n",
    "    else:\n",
    "        print(\"Error loading video\")\n",
    "        break\n",
    "video.release()"
   ]
  },
  {
   "cell_type": "markdown",
   "id": "4df29a20",
   "metadata": {},
   "source": [
    "### Save Output"
   ]
  },
  {
   "cell_type": "code",
   "execution_count": 158,
   "id": "5f6654c1",
   "metadata": {},
   "outputs": [],
   "source": [
    "df_feature = pd.DataFrame({'Frame': Frame_list, 'Centroids': Centroid_list, 'Area': Area_list})\n",
    "df_feature.to_csv(\"FeatureExtracted.csv\", index=False)"
   ]
  },
  {
   "cell_type": "markdown",
   "id": "752f65c3",
   "metadata": {},
   "source": [
    "### Feature Analysis"
   ]
  },
  {
   "cell_type": "code",
   "execution_count": 138,
   "id": "1f993ad4",
   "metadata": {},
   "outputs": [
    {
     "data": {
      "text/plain": [
       "<Axes: ylabel='Frequency'>"
      ]
     },
     "execution_count": 138,
     "metadata": {},
     "output_type": "execute_result"
    },
    {
     "data": {
      "image/png": "[encoded data removed]",
      "text/plain": [
       "<Figure size 640x480 with 1 Axes>"
      ]
     },
     "metadata": {},
     "output_type": "display_data"
    }
   ],
   "source": [
    "df_feature['Centroids'].iloc[:50].apply(len).plot(kind='hist')"
   ]
  },
  {
   "cell_type": "code",
   "execution_count": 140,
   "id": "ffc950fa",
   "metadata": {},
   "outputs": [
    {
     "data": {
      "text/html": [
       "<div>\n",
       "<style scoped>\n",
       "    .dataframe tbody tr th:only-of-type {\n",
       "        vertical-align: middle;\n",
       "    }\n",
       "\n",
       "    .dataframe tbody tr th {\n",
       "        vertical-align: top;\n",
       "    }\n",
       "\n",
       "    .dataframe thead th {\n",
       "        text-align: right;\n",
       "    }\n",
       "</style>\n",
       "<table border=\"1\" class=\"dataframe\">\n",
       "  <thead>\n",
       "    <tr style=\"text-align: right;\">\n",
       "      <th></th>\n",
       "      <th>Frame</th>\n",
       "      <th>Centroids</th>\n",
       "      <th>Area</th>\n",
       "    </tr>\n",
       "  </thead>\n",
       "  <tbody>\n",
       "    <tr>\n",
       "      <th>0</th>\n",
       "      <td>1</td>\n",
       "      <td>[[161, 322]]</td>\n",
       "      <td>[571.0]</td>\n",
       "    </tr>\n",
       "    <tr>\n",
       "      <th>1</th>\n",
       "      <td>2</td>\n",
       "      <td>[[161, 322]]</td>\n",
       "      <td>[579.5]</td>\n",
       "    </tr>\n",
       "    <tr>\n",
       "      <th>2</th>\n",
       "      <td>3</td>\n",
       "      <td>[[163, 321]]</td>\n",
       "      <td>[385.0]</td>\n",
       "    </tr>\n",
       "    <tr>\n",
       "      <th>3</th>\n",
       "      <td>4</td>\n",
       "      <td>[[161, 323]]</td>\n",
       "      <td>[580.0]</td>\n",
       "    </tr>\n",
       "    <tr>\n",
       "      <th>4</th>\n",
       "      <td>5</td>\n",
       "      <td>[[159, 323]]</td>\n",
       "      <td>[685.5]</td>\n",
       "    </tr>\n",
       "    <tr>\n",
       "      <th>...</th>\n",
       "      <td>...</td>\n",
       "      <td>...</td>\n",
       "      <td>...</td>\n",
       "    </tr>\n",
       "    <tr>\n",
       "      <th>95</th>\n",
       "      <td>96</td>\n",
       "      <td>[[194, 336], [203, 325], [177, 269], [171, 292...</td>\n",
       "      <td>[8.5, 6.5, 7.0, 4849.0, 664.0, 461.0]</td>\n",
       "    </tr>\n",
       "    <tr>\n",
       "      <th>96</th>\n",
       "      <td>97</td>\n",
       "      <td>[[247, 270], [169, 292]]</td>\n",
       "      <td>[351.5, 7584.0]</td>\n",
       "    </tr>\n",
       "    <tr>\n",
       "      <th>97</th>\n",
       "      <td>98</td>\n",
       "      <td>[[216, 380], [245, 266], [167, 294], [302, 207]]</td>\n",
       "      <td>[176.5, 534.0, 11725.0, 183.5]</td>\n",
       "    </tr>\n",
       "    <tr>\n",
       "      <th>98</th>\n",
       "      <td>99</td>\n",
       "      <td>[[209, 389], [219, 389], [247, 268], [158, 297...</td>\n",
       "      <td>[30.5, 42.5, 416.0, 12530.5, 614.5]</td>\n",
       "    </tr>\n",
       "    <tr>\n",
       "      <th>99</th>\n",
       "      <td>100</td>\n",
       "      <td>[[245, 266], [159, 284], [298, 195]]</td>\n",
       "      <td>[507.0, 13510.5, 285.5]</td>\n",
       "    </tr>\n",
       "  </tbody>\n",
       "</table>\n",
       "<p>100 rows × 3 columns</p>\n",
       "</div>"
      ],
      "text/plain": [
       "    Frame                                          Centroids  \\\n",
       "0       1                                       [[161, 322]]   \n",
       "1       2                                       [[161, 322]]   \n",
       "2       3                                       [[163, 321]]   \n",
       "3       4                                       [[161, 323]]   \n",
       "4       5                                       [[159, 323]]   \n",
       "..    ...                                                ...   \n",
       "95     96  [[194, 336], [203, 325], [177, 269], [171, 292...   \n",
       "96     97                           [[247, 270], [169, 292]]   \n",
       "97     98   [[216, 380], [245, 266], [167, 294], [302, 207]]   \n",
       "98     99  [[209, 389], [219, 389], [247, 268], [158, 297...   \n",
       "99    100               [[245, 266], [159, 284], [298, 195]]   \n",
       "\n",
       "                                     Area  \n",
       "0                                 [571.0]  \n",
       "1                                 [579.5]  \n",
       "2                                 [385.0]  \n",
       "3                                 [580.0]  \n",
       "4                                 [685.5]  \n",
       "..                                    ...  \n",
       "95  [8.5, 6.5, 7.0, 4849.0, 664.0, 461.0]  \n",
       "96                        [351.5, 7584.0]  \n",
       "97         [176.5, 534.0, 11725.0, 183.5]  \n",
       "98    [30.5, 42.5, 416.0, 12530.5, 614.5]  \n",
       "99                [507.0, 13510.5, 285.5]  \n",
       "\n",
       "[100 rows x 3 columns]"
      ]
     },
     "execution_count": 140,
     "metadata": {},
     "output_type": "execute_result"
    }
   ],
   "source": [
    "df_feature['Centroids'].apply(len).plot(kind='hist')"
   ]
  },
  {
   "cell_type": "code",
   "execution_count": 144,
   "id": "ce3e821c",
   "metadata": {},
   "outputs": [
    {
     "data": {
      "text/plain": [
       "<Axes: >"
      ]
     },
     "execution_count": 144,
     "metadata": {},
     "output_type": "execute_result"
    },
    {
     "data": {
      "image/png": "[encoded data removed]",
      "text/plain": [
       "<Figure size 1200x600 with 1 Axes>"
      ]
     },
     "metadata": {},
     "output_type": "display_data"
    }
   ],
   "source": [
    "plt.figure(figsize=(12,6))\n",
    "df_feature['Centroids'].apply(len).plot()"
   ]
  },
  {
   "cell_type": "code",
   "execution_count": 160,
   "id": "00dc1f88",
   "metadata": {},
   "outputs": [
    {
     "ename": "ValueError",
     "evalue": "setting an array element with a sequence. The requested array has an inhomogeneous shape after 1 dimensions. The detected shape was (573,) + inhomogeneous part.",
     "output_type": "error",
     "traceback": [
      "\u001b[1;31m---------------------------------------------------------------------------\u001b[0m",
      "\u001b[1;31mValueError\u001b[0m                                Traceback (most recent call last)",
      "Cell \u001b[1;32mIn[160], line 1\u001b[0m\n\u001b[1;32m----> 1\u001b[0m np\u001b[38;5;241m.\u001b[39marray(Countour_list)\u001b[38;5;241m.\u001b[39mshape\n",
      "\u001b[1;31mValueError\u001b[0m: setting an array element with a sequence. The requested array has an inhomogeneous shape after 1 dimensions. The detected shape was (573,) + inhomogeneous part."
     ]
    }
   ],
   "source": [
    "np.array(Countour_list).shape\n",
    "            "
   ]
  },
  {
   "cell_type": "code",
   "execution_count": 148,
   "id": "aac0cab7",
   "metadata": {},
   "outputs": [
    {
     "ename": "TypeError",
     "evalue": "unsupported operand type(s) for -: 'list' and 'list'",
     "output_type": "error",
     "traceback": [
      "\u001b[1;31m---------------------------------------------------------------------------\u001b[0m",
      "\u001b[1;31mTypeError\u001b[0m                                 Traceback (most recent call last)",
      "Cell \u001b[1;32mIn[148], line 1\u001b[0m\n\u001b[1;32m----> 1\u001b[0m np\u001b[38;5;241m.\u001b[39mlinalg\u001b[38;5;241m.\u001b[39mnorm([[\u001b[38;5;241m161\u001b[39m, \u001b[38;5;241m322\u001b[39m]] \u001b[38;5;241m-\u001b[39m [[\u001b[38;5;241m161\u001b[39m, \u001b[38;5;241m322\u001b[39m], [\u001b[38;5;241m100\u001b[39m, \u001b[38;5;241m200\u001b[39m]])\n",
      "\u001b[1;31mTypeError\u001b[0m: unsupported operand type(s) for -: 'list' and 'list'"
     ]
    }
   ],
   "source": [
    "np.linalg.norm()"
   ]
  },
  {
   "cell_type": "code",
   "execution_count": 149,
   "id": "22ec24c9",
   "metadata": {},
   "outputs": [],
   "source": [
    "from itertools import product\n",
    "from scipy.spatial import distance\n"
   ]
  },
  {
   "cell_type": "code",
   "execution_count": 153,
   "id": "21aa553c",
   "metadata": {},
   "outputs": [],
   "source": [
    "list1 = [(1, 2), (3, 4), (5, 6)]\n",
    "list2 = [(7, 8), (9, 10), (11, 12), (10,10)]\n",
    "\n",
    "# Find all unique combinations of coordinates between the two lists\n",
    "combinations = list(product(list1, list2))"
   ]
  },
  {
   "cell_type": "code",
   "execution_count": 154,
   "id": "adbaadec",
   "metadata": {},
   "outputs": [
    {
     "data": {
      "text/plain": [
       "[((1, 2), (7, 8)),\n",
       " ((1, 2), (9, 10)),\n",
       " ((1, 2), (11, 12)),\n",
       " ((1, 2), (10, 10)),\n",
       " ((3, 4), (7, 8)),\n",
       " ((3, 4), (9, 10)),\n",
       " ((3, 4), (11, 12)),\n",
       " ((3, 4), (10, 10)),\n",
       " ((5, 6), (7, 8)),\n",
       " ((5, 6), (9, 10)),\n",
       " ((5, 6), (11, 12)),\n",
       " ((5, 6), (10, 10))]"
      ]
     },
     "execution_count": 154,
     "metadata": {},
     "output_type": "execute_result"
    }
   ],
   "source": [
    "combinations"
   ]
  },
  {
   "cell_type": "code",
   "execution_count": 157,
   "id": "c76c03b6",
   "metadata": {},
   "outputs": [
    {
     "name": "stdout",
     "output_type": "stream",
     "text": [
      "0.8387096774193548\n"
     ]
    }
   ],
   "source": [
    "p = 52/65\n",
    "r = 52/59\n",
    "print(2*(p*r)/(p+r))"
   ]
  },
  {
   "cell_type": "code",
   "execution_count": 167,
   "id": "54767325",
   "metadata": {},
   "outputs": [],
   "source": [
    "src_pt = [161, 322]\n",
    "value_list =[]\n",
    "for i in range(len(df_feature)):\n",
    "    centroids = df_feature['Centroids'].iloc[i]\n",
    "    Area = df_feature['Area'].iloc[i]\n",
    "    dist_list = []\n",
    "    for dest_pt in centroids:\n",
    "        dist_list.append(distance.euclidean(src_pt,dest_pt))\n",
    "    value_list.append(Area[np.argmin(dist_list)])"
   ]
  },
  {
   "cell_type": "code",
   "execution_count": 170,
   "id": "24b00870",
   "metadata": {},
   "outputs": [
    {
     "data": {
      "text/plain": [
       "[<matplotlib.lines.Line2D at 0x2beeb7ec2d0>]"
      ]
     },
     "execution_count": 170,
     "metadata": {},
     "output_type": "execute_result"
    },
    {
     "data": {
      "image/png": "[encoded data removed]",
      "text/plain": [
       "<Figure size 1200x600 with 1 Axes>"
      ]
     },
     "metadata": {},
     "output_type": "display_data"
    }
   ],
   "source": [
    "plt.figure(figsize=(12,6))\n",
    "plt.plot(value_list[:50])"
   ]
  },
  {
   "cell_type": "code",
   "execution_count": null,
   "id": "f1c40c5f",
   "metadata": {},
   "outputs": [],
   "source": []
  }
 ],
 "metadata": {
  "kernelspec": {
   "display_name": "Python 3 (ipykernel)",
   "language": "python",
   "name": "python3"
  },
  "language_info": {
   "codemirror_mode": {
    "name": "ipython",
    "version": 3
   },
   "file_extension": ".py",
   "mimetype": "text/x-python",
   "name": "python",
   "nbconvert_exporter": "python",
   "pygments_lexer": "ipython3",
   "version": "3.11.5"
  }
 },
 "nbformat": 4,
 "nbformat_minor": 5
}
